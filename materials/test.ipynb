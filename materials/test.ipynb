{
 "cells": [
  {
   "cell_type": "code",
   "execution_count": 1,
   "id": "c8e2d47e",
   "metadata": {},
   "outputs": [
    {
     "name": "stdout",
     "output_type": "stream",
     "text": [
      "Collecting luigi\n",
      "  Downloading luigi-3.1.0.tar.gz (1.2 MB)\n",
      "Requirement already satisfied: python-dateutil<3,>=2.7.5 in c:\\users\\intelit\\anaconda3\\lib\\site-packages (from luigi) (2.8.1)\n",
      "Requirement already satisfied: tenacity<9,>=8 in c:\\users\\intelit\\anaconda3\\lib\\site-packages (from luigi) (8.0.1)\n",
      "Collecting python-daemon\n",
      "  Downloading python_daemon-2.3.1-py2.py3-none-any.whl (34 kB)\n",
      "Requirement already satisfied: tornado<7,>=5.0 in c:\\users\\intelit\\anaconda3\\lib\\site-packages (from luigi) (6.1)\n",
      "Requirement already satisfied: six>=1.5 in c:\\users\\intelit\\anaconda3\\lib\\site-packages (from python-dateutil<3,>=2.7.5->luigi) (1.15.0)\n",
      "Collecting lockfile>=0.10\n",
      "  Downloading lockfile-0.12.2-py2.py3-none-any.whl (13 kB)\n",
      "Requirement already satisfied: setuptools in c:\\users\\intelit\\anaconda3\\lib\\site-packages (from python-daemon->luigi) (52.0.0.post20210125)\n",
      "Requirement already satisfied: docutils in c:\\users\\intelit\\anaconda3\\lib\\site-packages (from python-daemon->luigi) (0.17)\n",
      "Building wheels for collected packages: luigi\n",
      "  Building wheel for luigi (setup.py): started\n",
      "  Building wheel for luigi (setup.py): finished with status 'done'\n",
      "  Created wheel for luigi: filename=luigi-3.1.0-py3-none-any.whl size=1082149 sha256=aae226824d5e9fb62a9ae8cccc12a55fb474e6ebb07122ba07e50b15e5e8bd17\n",
      "  Stored in directory: c:\\users\\intelit\\appdata\\local\\pip\\cache\\wheels\\cf\\1c\\02\\92a434d134f17b69b6c27383d05d64223cf22fd1fd527ea75a\n",
      "Successfully built luigi\n",
      "Installing collected packages: lockfile, python-daemon, luigi\n",
      "Successfully installed lockfile-0.12.2 luigi-3.1.0 python-daemon-2.3.1\n"
     ]
    }
   ],
   "source": [
    "!pip install luigi"
   ]
  },
  {
   "cell_type": "code",
   "execution_count": 2,
   "id": "d2148f5d",
   "metadata": {},
   "outputs": [
    {
     "name": "stdout",
     "output_type": "stream",
     "text": [
      "^C\n"
     ]
    }
   ],
   "source": [
    "!luigid"
   ]
  },
  {
   "cell_type": "code",
   "execution_count": 4,
   "id": "e8634617",
   "metadata": {},
   "outputs": [],
   "source": [
    "import luigi"
   ]
  },
  {
   "cell_type": "code",
   "execution_count": 5,
   "id": "869f6590",
   "metadata": {},
   "outputs": [],
   "source": [
    "class MyTask(luigi.Task):\n",
    "    \n",
    "    def output(self):\n",
    "        return luigi.LocalTarget(path=\"test.txt\")\n",
    "    \n",
    "    def run(self):\n",
    "        with self.output().open('w') as f:\n",
    "            f.write('d dfdf f gg dew')"
   ]
  },
  {
   "cell_type": "code",
   "execution_count": 6,
   "id": "cee7bb5f",
   "metadata": {},
   "outputs": [
    {
     "name": "stderr",
     "output_type": "stream",
     "text": [
      "DEBUG: Checking if MyTask() is complete\n",
      "INFO: Informed scheduler that task   MyTask__99914b932b   has status   PENDING\n",
      "INFO: Done scheduling tasks\n",
      "INFO: Running Worker with 1 processes\n",
      "DEBUG: Asking scheduler for work...\n",
      "DEBUG: Pending tasks: 1\n",
      "INFO: [pid 5576] Worker Worker(salt=093871810, workers=1, host=IT, username=Intelit, pid=5576) running   MyTask()\n",
      "INFO: [pid 5576] Worker Worker(salt=093871810, workers=1, host=IT, username=Intelit, pid=5576) done      MyTask()\n",
      "DEBUG: 1 running tasks, waiting for next task to finish\n",
      "INFO: Informed scheduler that task   MyTask__99914b932b   has status   DONE\n",
      "DEBUG: Asking scheduler for work...\n",
      "DEBUG: Done\n",
      "DEBUG: There are no more tasks to run at this time\n",
      "INFO: Worker Worker(salt=093871810, workers=1, host=IT, username=Intelit, pid=5576) was stopped. Shutting down Keep-Alive thread\n",
      "INFO: \n",
      "===== Luigi Execution Summary =====\n",
      "\n",
      "Scheduled 1 tasks of which:\n",
      "* 1 ran successfully:\n",
      "    - 1 MyTask()\n",
      "\n",
      "This progress looks :) because there were no failed tasks or missing dependencies\n",
      "\n",
      "===== Luigi Execution Summary =====\n",
      "\n"
     ]
    },
    {
     "data": {
      "text/plain": [
       "True"
      ]
     },
     "execution_count": 6,
     "metadata": {},
     "output_type": "execute_result"
    }
   ],
   "source": [
    "luigi.build([MyTask()])"
   ]
  },
  {
   "cell_type": "code",
   "execution_count": null,
   "id": "dcc18bbb",
   "metadata": {},
   "outputs": [],
   "source": []
  }
 ],
 "metadata": {
  "kernelspec": {
   "display_name": "Python 3",
   "language": "python",
   "name": "python3"
  },
  "language_info": {
   "codemirror_mode": {
    "name": "ipython",
    "version": 3
   },
   "file_extension": ".py",
   "mimetype": "text/x-python",
   "name": "python",
   "nbconvert_exporter": "python",
   "pygments_lexer": "ipython3",
   "version": "3.8.8"
  }
 },
 "nbformat": 4,
 "nbformat_minor": 5
}
