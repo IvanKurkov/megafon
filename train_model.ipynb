{
 "cells": [
  {
   "cell_type": "code",
   "execution_count": 1,
   "id": "f1eccaee",
   "metadata": {},
   "outputs": [],
   "source": [
    "import pandas as pd\n",
    "import numpy as np\n",
    "\n",
    "import dask.dataframe as dd\n",
    "from sklearn.linear_model import LogisticRegression\n",
    "\n",
    "from sklearn.pipeline import Pipeline, make_pipeline, FeatureUnion\n",
    "from sklearn.preprocessing import StandardScaler, OneHotEncoder\n",
    "from sklearn.base import BaseEstimator, TransformerMixin\n",
    "from sklearn.impute import SimpleImputer\n",
    "\n",
    "from sklearn.metrics import f1_score, classification_report\n",
    "from sklearn.feature_selection import SelectFromModel\n",
    "\n",
    "import pickle"
   ]
  },
  {
   "cell_type": "code",
   "execution_count": 2,
   "id": "fd2599c7",
   "metadata": {},
   "outputs": [],
   "source": [
    "from until import ColumnSelector, undersample_df_by_target, run_grid_search, treshold_search, preprocess_data_train, preprocess_data_test, select_type_cols\n"
   ]
  },
  {
   "cell_type": "code",
   "execution_count": 3,
   "id": "d0917664",
   "metadata": {},
   "outputs": [],
   "source": [
    "TRAIN_DATA = 'data/data_train.csv'\n",
    "FEATURES_DATA = 'data/features.csv'\n",
    "RANDOM_STATE = 9"
   ]
  },
  {
   "cell_type": "markdown",
   "id": "b57d98b1",
   "metadata": {},
   "source": [
    "### Подготовка данных"
   ]
  },
  {
   "cell_type": "code",
   "execution_count": 4,
   "id": "e1c383b8",
   "metadata": {},
   "outputs": [],
   "source": [
    "train_df = pd.read_csv(TRAIN_DATA)"
   ]
  },
  {
   "cell_type": "code",
   "execution_count": 5,
   "id": "abd16fbf",
   "metadata": {},
   "outputs": [],
   "source": [
    "train_df['buy_time'] = pd.to_datetime(train_df['buy_time'], unit='s')"
   ]
  },
  {
   "cell_type": "code",
   "execution_count": 6,
   "id": "ead60b28",
   "metadata": {},
   "outputs": [],
   "source": [
    "X_train = undersample_df_by_target(train_df, 'target')"
   ]
  },
  {
   "cell_type": "code",
   "execution_count": 7,
   "id": "5988d550",
   "metadata": {},
   "outputs": [],
   "source": [
    "X_train, true_offers_ids = preprocess_data_train(X_train, FEATURES_DATA)"
   ]
  },
  {
   "cell_type": "code",
   "execution_count": 8,
   "id": "5151b564",
   "metadata": {},
   "outputs": [],
   "source": [
    "with open(\"data/offer_mark.txt\", \"w\") as file:\n",
    "    print(*true_offers_ids, file=file, sep=\"\\n\")"
   ]
  },
  {
   "cell_type": "code",
   "execution_count": 9,
   "id": "57a6f300",
   "metadata": {},
   "outputs": [],
   "source": [
    "y_train = X_train['target']"
   ]
  },
  {
   "cell_type": "code",
   "execution_count": 10,
   "id": "86275b49",
   "metadata": {},
   "outputs": [],
   "source": [
    "X_train = X_train.drop('target', axis = 1)"
   ]
  },
  {
   "cell_type": "code",
   "execution_count": 11,
   "id": "2c313d3b",
   "metadata": {},
   "outputs": [],
   "source": [
    "f_all, f_binary, f_categorical, f_numeric = select_type_cols(X_train)"
   ]
  },
  {
   "cell_type": "markdown",
   "id": "21a80034",
   "metadata": {},
   "source": [
    "### Обучение Модели"
   ]
  },
  {
   "cell_type": "code",
   "execution_count": 12,
   "id": "3e6e6e78",
   "metadata": {},
   "outputs": [],
   "source": [
    "f_prep_pipeline = make_pipeline(\n",
    "    ColumnSelector(columns=f_all),\n",
    "    FeatureUnion(transformer_list=[\n",
    "        (\"numeric_features\", make_pipeline(\n",
    "            ColumnSelector(f_numeric),\n",
    "            SimpleImputer(strategy=\"mean\"),\n",
    "            StandardScaler()\n",
    "        )),\n",
    "        (\"categorical_features\", make_pipeline(\n",
    "            ColumnSelector(f_categorical),\n",
    "            SimpleImputer(strategy=\"most_frequent\"),\n",
    "            OneHotEncoder(handle_unknown='ignore')\n",
    "        )),\n",
    "        (\"boolean_features\", make_pipeline(\n",
    "            ColumnSelector(f_binary),\n",
    "        ))\n",
    "    ])\n",
    ")"
   ]
  },
  {
   "cell_type": "code",
   "execution_count": 13,
   "id": "7c43509a",
   "metadata": {},
   "outputs": [],
   "source": [
    "lg_fs_pipe = make_pipeline(\n",
    "    f_prep_pipeline,\n",
    "    SelectFromModel(LogisticRegression(penalty='l1', random_state=RANDOM_STATE, solver='liblinear'), max_features = 29),\n",
    "    LogisticRegression(random_state=RANDOM_STATE)\n",
    ")"
   ]
  },
  {
   "cell_type": "code",
   "execution_count": 14,
   "id": "fa2526c4",
   "metadata": {},
   "outputs": [
    {
     "name": "stderr",
     "output_type": "stream",
     "text": [
      "C:\\Users\\user\\AppData\\Roaming\\Python\\Python39\\site-packages\\sklearn\\linear_model\\_logistic.py:444: ConvergenceWarning: lbfgs failed to converge (status=1):\n",
      "STOP: TOTAL NO. of ITERATIONS REACHED LIMIT.\n",
      "\n",
      "Increase the number of iterations (max_iter) or scale the data as shown in:\n",
      "    https://scikit-learn.org/stable/modules/preprocessing.html\n",
      "Please also refer to the documentation for alternative solver options:\n",
      "    https://scikit-learn.org/stable/modules/linear_model.html#logistic-regression\n",
      "  n_iter_i = _check_optimize_result(\n"
     ]
    },
    {
     "data": {
      "text/html": [
       "<style>#sk-container-id-1 {color: black;background-color: white;}#sk-container-id-1 pre{padding: 0;}#sk-container-id-1 div.sk-toggleable {background-color: white;}#sk-container-id-1 label.sk-toggleable__label {cursor: pointer;display: block;width: 100%;margin-bottom: 0;padding: 0.3em;box-sizing: border-box;text-align: center;}#sk-container-id-1 label.sk-toggleable__label-arrow:before {content: \"▸\";float: left;margin-right: 0.25em;color: #696969;}#sk-container-id-1 label.sk-toggleable__label-arrow:hover:before {color: black;}#sk-container-id-1 div.sk-estimator:hover label.sk-toggleable__label-arrow:before {color: black;}#sk-container-id-1 div.sk-toggleable__content {max-height: 0;max-width: 0;overflow: hidden;text-align: left;background-color: #f0f8ff;}#sk-container-id-1 div.sk-toggleable__content pre {margin: 0.2em;color: black;border-radius: 0.25em;background-color: #f0f8ff;}#sk-container-id-1 input.sk-toggleable__control:checked~div.sk-toggleable__content {max-height: 200px;max-width: 100%;overflow: auto;}#sk-container-id-1 input.sk-toggleable__control:checked~label.sk-toggleable__label-arrow:before {content: \"▾\";}#sk-container-id-1 div.sk-estimator input.sk-toggleable__control:checked~label.sk-toggleable__label {background-color: #d4ebff;}#sk-container-id-1 div.sk-label input.sk-toggleable__control:checked~label.sk-toggleable__label {background-color: #d4ebff;}#sk-container-id-1 input.sk-hidden--visually {border: 0;clip: rect(1px 1px 1px 1px);clip: rect(1px, 1px, 1px, 1px);height: 1px;margin: -1px;overflow: hidden;padding: 0;position: absolute;width: 1px;}#sk-container-id-1 div.sk-estimator {font-family: monospace;background-color: #f0f8ff;border: 1px dotted black;border-radius: 0.25em;box-sizing: border-box;margin-bottom: 0.5em;}#sk-container-id-1 div.sk-estimator:hover {background-color: #d4ebff;}#sk-container-id-1 div.sk-parallel-item::after {content: \"\";width: 100%;border-bottom: 1px solid gray;flex-grow: 1;}#sk-container-id-1 div.sk-label:hover label.sk-toggleable__label {background-color: #d4ebff;}#sk-container-id-1 div.sk-serial::before {content: \"\";position: absolute;border-left: 1px solid gray;box-sizing: border-box;top: 0;bottom: 0;left: 50%;z-index: 0;}#sk-container-id-1 div.sk-serial {display: flex;flex-direction: column;align-items: center;background-color: white;padding-right: 0.2em;padding-left: 0.2em;position: relative;}#sk-container-id-1 div.sk-item {position: relative;z-index: 1;}#sk-container-id-1 div.sk-parallel {display: flex;align-items: stretch;justify-content: center;background-color: white;position: relative;}#sk-container-id-1 div.sk-item::before, #sk-container-id-1 div.sk-parallel-item::before {content: \"\";position: absolute;border-left: 1px solid gray;box-sizing: border-box;top: 0;bottom: 0;left: 50%;z-index: -1;}#sk-container-id-1 div.sk-parallel-item {display: flex;flex-direction: column;z-index: 1;position: relative;background-color: white;}#sk-container-id-1 div.sk-parallel-item:first-child::after {align-self: flex-end;width: 50%;}#sk-container-id-1 div.sk-parallel-item:last-child::after {align-self: flex-start;width: 50%;}#sk-container-id-1 div.sk-parallel-item:only-child::after {width: 0;}#sk-container-id-1 div.sk-dashed-wrapped {border: 1px dashed gray;margin: 0 0.4em 0.5em 0.4em;box-sizing: border-box;padding-bottom: 0.4em;background-color: white;}#sk-container-id-1 div.sk-label label {font-family: monospace;font-weight: bold;display: inline-block;line-height: 1.2em;}#sk-container-id-1 div.sk-label-container {text-align: center;}#sk-container-id-1 div.sk-container {/* jupyter's `normalize.less` sets `[hidden] { display: none; }` but bootstrap.min.css set `[hidden] { display: none !important; }` so we also need the `!important` here to be able to override the default hidden behavior on the sphinx rendered scikit-learn.org. See: https://github.com/scikit-learn/scikit-learn/issues/21755 */display: inline-block !important;position: relative;}#sk-container-id-1 div.sk-text-repr-fallback {display: none;}</style><div id=\"sk-container-id-1\" class=\"sk-top-container\"><div class=\"sk-text-repr-fallback\"><pre>Pipeline(steps=[(&#x27;pipeline&#x27;,\n",
       "                 Pipeline(steps=[(&#x27;columnselector&#x27;,\n",
       "                                  ColumnSelector(columns=[&#x27;147&#x27;, &#x27;45&#x27;, &#x27;220&#x27;,\n",
       "                                                          &#x27;184&#x27;, &#x27;52&#x27;, &#x27;241&#x27;,\n",
       "                                                          &#x27;204&#x27;, &#x27;191&#x27;, &#x27;193&#x27;,\n",
       "                                                          &#x27;137&#x27;, &#x27;6&#x27;, &#x27;vas_id&#x27;,\n",
       "                                                          &#x27;71&#x27;, &#x27;192&#x27;, &#x27;83&#x27;,\n",
       "                                                          &#x27;148&#x27;, &#x27;3&#x27;, &#x27;44&#x27;,\n",
       "                                                          &#x27;102&#x27;, &#x27;172&#x27;, &#x27;122&#x27;,\n",
       "                                                          &#x27;144&#x27;, &#x27;131&#x27;, &#x27;247&#x27;,\n",
       "                                                          &#x27;223&#x27;, &#x27;228&#x27;, &#x27;182&#x27;,\n",
       "                                                          &#x27;72&#x27;, &#x27;242&#x27;, &#x27;237&#x27;, ...])),\n",
       "                                 (&#x27;featureunion&#x27;,\n",
       "                                  FeatureUnion(transformer_list=[(&#x27;numeric_features&#x27;,\n",
       "                                                                  Pipeline(steps=[(...\n",
       "                                                                                  (&#x27;onehotencoder&#x27;,\n",
       "                                                                                   OneHotEncoder(handle_unknown=&#x27;ignore&#x27;))])),\n",
       "                                                                 (&#x27;boolean_features&#x27;,\n",
       "                                                                  Pipeline(steps=[(&#x27;columnselector&#x27;,\n",
       "                                                                                   ColumnSelector(columns=[&#x27;not_first_offer&#x27;]))]))]))])),\n",
       "                (&#x27;selectfrommodel&#x27;,\n",
       "                 SelectFromModel(estimator=LogisticRegression(penalty=&#x27;l1&#x27;,\n",
       "                                                              random_state=9,\n",
       "                                                              solver=&#x27;liblinear&#x27;),\n",
       "                                 max_features=29)),\n",
       "                (&#x27;logisticregression&#x27;, LogisticRegression(random_state=9))])</pre><b>In a Jupyter environment, please rerun this cell to show the HTML representation or trust the notebook. <br />On GitHub, the HTML representation is unable to render, please try loading this page with nbviewer.org.</b></div><div class=\"sk-container\" hidden><div class=\"sk-item sk-dashed-wrapped\"><div class=\"sk-label-container\"><div class=\"sk-label sk-toggleable\"><input class=\"sk-toggleable__control sk-hidden--visually\" id=\"sk-estimator-id-1\" type=\"checkbox\" ><label for=\"sk-estimator-id-1\" class=\"sk-toggleable__label sk-toggleable__label-arrow\">Pipeline</label><div class=\"sk-toggleable__content\"><pre>Pipeline(steps=[(&#x27;pipeline&#x27;,\n",
       "                 Pipeline(steps=[(&#x27;columnselector&#x27;,\n",
       "                                  ColumnSelector(columns=[&#x27;147&#x27;, &#x27;45&#x27;, &#x27;220&#x27;,\n",
       "                                                          &#x27;184&#x27;, &#x27;52&#x27;, &#x27;241&#x27;,\n",
       "                                                          &#x27;204&#x27;, &#x27;191&#x27;, &#x27;193&#x27;,\n",
       "                                                          &#x27;137&#x27;, &#x27;6&#x27;, &#x27;vas_id&#x27;,\n",
       "                                                          &#x27;71&#x27;, &#x27;192&#x27;, &#x27;83&#x27;,\n",
       "                                                          &#x27;148&#x27;, &#x27;3&#x27;, &#x27;44&#x27;,\n",
       "                                                          &#x27;102&#x27;, &#x27;172&#x27;, &#x27;122&#x27;,\n",
       "                                                          &#x27;144&#x27;, &#x27;131&#x27;, &#x27;247&#x27;,\n",
       "                                                          &#x27;223&#x27;, &#x27;228&#x27;, &#x27;182&#x27;,\n",
       "                                                          &#x27;72&#x27;, &#x27;242&#x27;, &#x27;237&#x27;, ...])),\n",
       "                                 (&#x27;featureunion&#x27;,\n",
       "                                  FeatureUnion(transformer_list=[(&#x27;numeric_features&#x27;,\n",
       "                                                                  Pipeline(steps=[(...\n",
       "                                                                                  (&#x27;onehotencoder&#x27;,\n",
       "                                                                                   OneHotEncoder(handle_unknown=&#x27;ignore&#x27;))])),\n",
       "                                                                 (&#x27;boolean_features&#x27;,\n",
       "                                                                  Pipeline(steps=[(&#x27;columnselector&#x27;,\n",
       "                                                                                   ColumnSelector(columns=[&#x27;not_first_offer&#x27;]))]))]))])),\n",
       "                (&#x27;selectfrommodel&#x27;,\n",
       "                 SelectFromModel(estimator=LogisticRegression(penalty=&#x27;l1&#x27;,\n",
       "                                                              random_state=9,\n",
       "                                                              solver=&#x27;liblinear&#x27;),\n",
       "                                 max_features=29)),\n",
       "                (&#x27;logisticregression&#x27;, LogisticRegression(random_state=9))])</pre></div></div></div><div class=\"sk-serial\"><div class=\"sk-item\"><div class=\"sk-label-container\"><div class=\"sk-label sk-toggleable\"><input class=\"sk-toggleable__control sk-hidden--visually\" id=\"sk-estimator-id-2\" type=\"checkbox\" ><label for=\"sk-estimator-id-2\" class=\"sk-toggleable__label sk-toggleable__label-arrow\">pipeline: Pipeline</label><div class=\"sk-toggleable__content\"><pre>Pipeline(steps=[(&#x27;columnselector&#x27;,\n",
       "                 ColumnSelector(columns=[&#x27;147&#x27;, &#x27;45&#x27;, &#x27;220&#x27;, &#x27;184&#x27;, &#x27;52&#x27;, &#x27;241&#x27;,\n",
       "                                         &#x27;204&#x27;, &#x27;191&#x27;, &#x27;193&#x27;, &#x27;137&#x27;, &#x27;6&#x27;,\n",
       "                                         &#x27;vas_id&#x27;, &#x27;71&#x27;, &#x27;192&#x27;, &#x27;83&#x27;, &#x27;148&#x27;,\n",
       "                                         &#x27;3&#x27;, &#x27;44&#x27;, &#x27;102&#x27;, &#x27;172&#x27;, &#x27;122&#x27;, &#x27;144&#x27;,\n",
       "                                         &#x27;131&#x27;, &#x27;247&#x27;, &#x27;223&#x27;, &#x27;228&#x27;, &#x27;182&#x27;,\n",
       "                                         &#x27;72&#x27;, &#x27;242&#x27;, &#x27;237&#x27;, ...])),\n",
       "                (&#x27;featureunion&#x27;,\n",
       "                 FeatureUnion(transformer_list=[(&#x27;numeric_features&#x27;,\n",
       "                                                 Pipeline(steps=[(&#x27;columnselector&#x27;,\n",
       "                                                                  ColumnSelec...\n",
       "                                                                                          &#x27;197&#x27;,\n",
       "                                                                                          &#x27;17&#x27;,\n",
       "                                                                                          &#x27;vas_id&#x27;,\n",
       "                                                                                          &#x27;199&#x27;,\n",
       "                                                                                          &#x27;15&#x27;,\n",
       "                                                                                          &#x27;192&#x27;,\n",
       "                                                                                          &#x27;155&#x27;,\n",
       "                                                                                          &#x27;212&#x27;,\n",
       "                                                                                          &#x27;27&#x27;,\n",
       "                                                                                          &#x27;131&#x27;,\n",
       "                                                                                          &#x27;200&#x27;,\n",
       "                                                                                          &#x27;65&#x27;,\n",
       "                                                                                          &#x27;84&#x27;,\n",
       "                                                                                          &#x27;221&#x27;,\n",
       "                                                                                          &#x27;31&#x27;,\n",
       "                                                                                          &#x27;214&#x27;,\n",
       "                                                                                          &#x27;154&#x27;,\n",
       "                                                                                          &#x27;179&#x27;,\n",
       "                                                                                          &#x27;23&#x27;,\n",
       "                                                                                          &#x27;35&#x27;,\n",
       "                                                                                          &#x27;132&#x27;, ...])),\n",
       "                                                                 (&#x27;simpleimputer&#x27;,\n",
       "                                                                  SimpleImputer(strategy=&#x27;most_frequent&#x27;)),\n",
       "                                                                 (&#x27;onehotencoder&#x27;,\n",
       "                                                                  OneHotEncoder(handle_unknown=&#x27;ignore&#x27;))])),\n",
       "                                                (&#x27;boolean_features&#x27;,\n",
       "                                                 Pipeline(steps=[(&#x27;columnselector&#x27;,\n",
       "                                                                  ColumnSelector(columns=[&#x27;not_first_offer&#x27;]))]))]))])</pre></div></div></div><div class=\"sk-serial\"><div class=\"sk-item\"><div class=\"sk-estimator sk-toggleable\"><input class=\"sk-toggleable__control sk-hidden--visually\" id=\"sk-estimator-id-3\" type=\"checkbox\" ><label for=\"sk-estimator-id-3\" class=\"sk-toggleable__label sk-toggleable__label-arrow\">ColumnSelector</label><div class=\"sk-toggleable__content\"><pre>ColumnSelector(columns=[&#x27;147&#x27;, &#x27;45&#x27;, &#x27;220&#x27;, &#x27;184&#x27;, &#x27;52&#x27;, &#x27;241&#x27;, &#x27;204&#x27;, &#x27;191&#x27;,\n",
       "                        &#x27;193&#x27;, &#x27;137&#x27;, &#x27;6&#x27;, &#x27;vas_id&#x27;, &#x27;71&#x27;, &#x27;192&#x27;, &#x27;83&#x27;, &#x27;148&#x27;,\n",
       "                        &#x27;3&#x27;, &#x27;44&#x27;, &#x27;102&#x27;, &#x27;172&#x27;, &#x27;122&#x27;, &#x27;144&#x27;, &#x27;131&#x27;, &#x27;247&#x27;,\n",
       "                        &#x27;223&#x27;, &#x27;228&#x27;, &#x27;182&#x27;, &#x27;72&#x27;, &#x27;242&#x27;, &#x27;237&#x27;, ...])</pre></div></div></div><div class=\"sk-item sk-dashed-wrapped\"><div class=\"sk-label-container\"><div class=\"sk-label sk-toggleable\"><input class=\"sk-toggleable__control sk-hidden--visually\" id=\"sk-estimator-id-4\" type=\"checkbox\" ><label for=\"sk-estimator-id-4\" class=\"sk-toggleable__label sk-toggleable__label-arrow\">featureunion: FeatureUnion</label><div class=\"sk-toggleable__content\"><pre>FeatureUnion(transformer_list=[(&#x27;numeric_features&#x27;,\n",
       "                                Pipeline(steps=[(&#x27;columnselector&#x27;,\n",
       "                                                 ColumnSelector(columns=[&#x27;147&#x27;,\n",
       "                                                                         &#x27;45&#x27;,\n",
       "                                                                         &#x27;184&#x27;,\n",
       "                                                                         &#x27;52&#x27;,\n",
       "                                                                         &#x27;241&#x27;,\n",
       "                                                                         &#x27;191&#x27;,\n",
       "                                                                         &#x27;137&#x27;,\n",
       "                                                                         &#x27;6&#x27;,\n",
       "                                                                         &#x27;71&#x27;,\n",
       "                                                                         &#x27;83&#x27;,\n",
       "                                                                         &#x27;148&#x27;,\n",
       "                                                                         &#x27;3&#x27;,\n",
       "                                                                         &#x27;44&#x27;,\n",
       "                                                                         &#x27;102&#x27;,\n",
       "                                                                         &#x27;172&#x27;,\n",
       "                                                                         &#x27;122&#x27;,\n",
       "                                                                         &#x27;144&#x27;,\n",
       "                                                                         &#x27;247&#x27;,\n",
       "                                                                         &#x27;223&#x27;,\n",
       "                                                                         &#x27;228&#x27;,\n",
       "                                                                         &#x27;182&#x27;,\n",
       "                                                                         &#x27;72&#x27;,\n",
       "                                                                         &#x27;242&#x27;,\n",
       "                                                                         &#x27;237&#x27;,\n",
       "                                                                         &#x27;93&#x27;,\n",
       "                                                                         &#x27;106&#x27;,\n",
       "                                                                         &#x27;224&#x27;,\n",
       "                                                                         &#x27;226&#x27;,\n",
       "                                                                         &#x27;61&#x27;,\n",
       "                                                                         &#x27;50&#x27;, ...])),\n",
       "                                                (&#x27;simpleimputer&#x27;,\n",
       "                                                 SimpleImputer()),\n",
       "                                                (&#x27;standardscaler&#x27;,\n",
       "                                                 StandardScaler(...\n",
       "                                                                         &#x27;206&#x27;,\n",
       "                                                                         &#x27;197&#x27;,\n",
       "                                                                         &#x27;17&#x27;,\n",
       "                                                                         &#x27;vas_id&#x27;,\n",
       "                                                                         &#x27;199&#x27;,\n",
       "                                                                         &#x27;15&#x27;,\n",
       "                                                                         &#x27;192&#x27;,\n",
       "                                                                         &#x27;155&#x27;,\n",
       "                                                                         &#x27;212&#x27;,\n",
       "                                                                         &#x27;27&#x27;,\n",
       "                                                                         &#x27;131&#x27;,\n",
       "                                                                         &#x27;200&#x27;,\n",
       "                                                                         &#x27;65&#x27;,\n",
       "                                                                         &#x27;84&#x27;,\n",
       "                                                                         &#x27;221&#x27;,\n",
       "                                                                         &#x27;31&#x27;,\n",
       "                                                                         &#x27;214&#x27;,\n",
       "                                                                         &#x27;154&#x27;,\n",
       "                                                                         &#x27;179&#x27;,\n",
       "                                                                         &#x27;23&#x27;,\n",
       "                                                                         &#x27;35&#x27;,\n",
       "                                                                         &#x27;132&#x27;, ...])),\n",
       "                                                (&#x27;simpleimputer&#x27;,\n",
       "                                                 SimpleImputer(strategy=&#x27;most_frequent&#x27;)),\n",
       "                                                (&#x27;onehotencoder&#x27;,\n",
       "                                                 OneHotEncoder(handle_unknown=&#x27;ignore&#x27;))])),\n",
       "                               (&#x27;boolean_features&#x27;,\n",
       "                                Pipeline(steps=[(&#x27;columnselector&#x27;,\n",
       "                                                 ColumnSelector(columns=[&#x27;not_first_offer&#x27;]))]))])</pre></div></div></div><div class=\"sk-parallel\"><div class=\"sk-parallel-item\"><div class=\"sk-item\"><div class=\"sk-label-container\"><div class=\"sk-label sk-toggleable\"><label>numeric_features</label></div></div><div class=\"sk-serial\"><div class=\"sk-item\"><div class=\"sk-serial\"><div class=\"sk-item\"><div class=\"sk-estimator sk-toggleable\"><input class=\"sk-toggleable__control sk-hidden--visually\" id=\"sk-estimator-id-5\" type=\"checkbox\" ><label for=\"sk-estimator-id-5\" class=\"sk-toggleable__label sk-toggleable__label-arrow\">ColumnSelector</label><div class=\"sk-toggleable__content\"><pre>ColumnSelector(columns=[&#x27;147&#x27;, &#x27;45&#x27;, &#x27;184&#x27;, &#x27;52&#x27;, &#x27;241&#x27;, &#x27;191&#x27;, &#x27;137&#x27;, &#x27;6&#x27;,\n",
       "                        &#x27;71&#x27;, &#x27;83&#x27;, &#x27;148&#x27;, &#x27;3&#x27;, &#x27;44&#x27;, &#x27;102&#x27;, &#x27;172&#x27;, &#x27;122&#x27;,\n",
       "                        &#x27;144&#x27;, &#x27;247&#x27;, &#x27;223&#x27;, &#x27;228&#x27;, &#x27;182&#x27;, &#x27;72&#x27;, &#x27;242&#x27;, &#x27;237&#x27;,\n",
       "                        &#x27;93&#x27;, &#x27;106&#x27;, &#x27;224&#x27;, &#x27;226&#x27;, &#x27;61&#x27;, &#x27;50&#x27;, ...])</pre></div></div></div><div class=\"sk-item\"><div class=\"sk-estimator sk-toggleable\"><input class=\"sk-toggleable__control sk-hidden--visually\" id=\"sk-estimator-id-6\" type=\"checkbox\" ><label for=\"sk-estimator-id-6\" class=\"sk-toggleable__label sk-toggleable__label-arrow\">SimpleImputer</label><div class=\"sk-toggleable__content\"><pre>SimpleImputer()</pre></div></div></div><div class=\"sk-item\"><div class=\"sk-estimator sk-toggleable\"><input class=\"sk-toggleable__control sk-hidden--visually\" id=\"sk-estimator-id-7\" type=\"checkbox\" ><label for=\"sk-estimator-id-7\" class=\"sk-toggleable__label sk-toggleable__label-arrow\">StandardScaler</label><div class=\"sk-toggleable__content\"><pre>StandardScaler()</pre></div></div></div></div></div></div></div></div><div class=\"sk-parallel-item\"><div class=\"sk-item\"><div class=\"sk-label-container\"><div class=\"sk-label sk-toggleable\"><label>categorical_features</label></div></div><div class=\"sk-serial\"><div class=\"sk-item\"><div class=\"sk-serial\"><div class=\"sk-item\"><div class=\"sk-estimator sk-toggleable\"><input class=\"sk-toggleable__control sk-hidden--visually\" id=\"sk-estimator-id-8\" type=\"checkbox\" ><label for=\"sk-estimator-id-8\" class=\"sk-toggleable__label sk-toggleable__label-arrow\">ColumnSelector</label><div class=\"sk-toggleable__content\"><pre>ColumnSelector(columns=[&#x27;220&#x27;, &#x27;194&#x27;, &#x27;198&#x27;, &#x27;201&#x27;, &#x27;177&#x27;, &#x27;204&#x27;, &#x27;193&#x27;, &#x27;195&#x27;,\n",
       "                        &#x27;206&#x27;, &#x27;197&#x27;, &#x27;17&#x27;, &#x27;vas_id&#x27;, &#x27;199&#x27;, &#x27;15&#x27;, &#x27;192&#x27;, &#x27;155&#x27;,\n",
       "                        &#x27;212&#x27;, &#x27;27&#x27;, &#x27;131&#x27;, &#x27;200&#x27;, &#x27;65&#x27;, &#x27;84&#x27;, &#x27;221&#x27;, &#x27;31&#x27;,\n",
       "                        &#x27;214&#x27;, &#x27;154&#x27;, &#x27;179&#x27;, &#x27;23&#x27;, &#x27;35&#x27;, &#x27;132&#x27;, ...])</pre></div></div></div><div class=\"sk-item\"><div class=\"sk-estimator sk-toggleable\"><input class=\"sk-toggleable__control sk-hidden--visually\" id=\"sk-estimator-id-9\" type=\"checkbox\" ><label for=\"sk-estimator-id-9\" class=\"sk-toggleable__label sk-toggleable__label-arrow\">SimpleImputer</label><div class=\"sk-toggleable__content\"><pre>SimpleImputer(strategy=&#x27;most_frequent&#x27;)</pre></div></div></div><div class=\"sk-item\"><div class=\"sk-estimator sk-toggleable\"><input class=\"sk-toggleable__control sk-hidden--visually\" id=\"sk-estimator-id-10\" type=\"checkbox\" ><label for=\"sk-estimator-id-10\" class=\"sk-toggleable__label sk-toggleable__label-arrow\">OneHotEncoder</label><div class=\"sk-toggleable__content\"><pre>OneHotEncoder(handle_unknown=&#x27;ignore&#x27;)</pre></div></div></div></div></div></div></div></div><div class=\"sk-parallel-item\"><div class=\"sk-item\"><div class=\"sk-label-container\"><div class=\"sk-label sk-toggleable\"><label>boolean_features</label></div></div><div class=\"sk-serial\"><div class=\"sk-item\"><div class=\"sk-serial\"><div class=\"sk-item\"><div class=\"sk-estimator sk-toggleable\"><input class=\"sk-toggleable__control sk-hidden--visually\" id=\"sk-estimator-id-11\" type=\"checkbox\" ><label for=\"sk-estimator-id-11\" class=\"sk-toggleable__label sk-toggleable__label-arrow\">ColumnSelector</label><div class=\"sk-toggleable__content\"><pre>ColumnSelector(columns=[&#x27;not_first_offer&#x27;])</pre></div></div></div></div></div></div></div></div></div></div></div></div><div class=\"sk-item sk-dashed-wrapped\"><div class=\"sk-label-container\"><div class=\"sk-label sk-toggleable\"><input class=\"sk-toggleable__control sk-hidden--visually\" id=\"sk-estimator-id-12\" type=\"checkbox\" ><label for=\"sk-estimator-id-12\" class=\"sk-toggleable__label sk-toggleable__label-arrow\">selectfrommodel: SelectFromModel</label><div class=\"sk-toggleable__content\"><pre>SelectFromModel(estimator=LogisticRegression(penalty=&#x27;l1&#x27;, random_state=9,\n",
       "                                             solver=&#x27;liblinear&#x27;),\n",
       "                max_features=29)</pre></div></div></div><div class=\"sk-parallel\"><div class=\"sk-parallel-item\"><div class=\"sk-item\"><div class=\"sk-label-container\"><div class=\"sk-label sk-toggleable\"><input class=\"sk-toggleable__control sk-hidden--visually\" id=\"sk-estimator-id-13\" type=\"checkbox\" ><label for=\"sk-estimator-id-13\" class=\"sk-toggleable__label sk-toggleable__label-arrow\">estimator: LogisticRegression</label><div class=\"sk-toggleable__content\"><pre>LogisticRegression(penalty=&#x27;l1&#x27;, random_state=9, solver=&#x27;liblinear&#x27;)</pre></div></div></div><div class=\"sk-serial\"><div class=\"sk-item\"><div class=\"sk-estimator sk-toggleable\"><input class=\"sk-toggleable__control sk-hidden--visually\" id=\"sk-estimator-id-14\" type=\"checkbox\" ><label for=\"sk-estimator-id-14\" class=\"sk-toggleable__label sk-toggleable__label-arrow\">LogisticRegression</label><div class=\"sk-toggleable__content\"><pre>LogisticRegression(penalty=&#x27;l1&#x27;, random_state=9, solver=&#x27;liblinear&#x27;)</pre></div></div></div></div></div></div></div></div><div class=\"sk-item\"><div class=\"sk-estimator sk-toggleable\"><input class=\"sk-toggleable__control sk-hidden--visually\" id=\"sk-estimator-id-15\" type=\"checkbox\" ><label for=\"sk-estimator-id-15\" class=\"sk-toggleable__label sk-toggleable__label-arrow\">LogisticRegression</label><div class=\"sk-toggleable__content\"><pre>LogisticRegression(random_state=9)</pre></div></div></div></div></div></div></div>"
      ],
      "text/plain": [
       "Pipeline(steps=[('pipeline',\n",
       "                 Pipeline(steps=[('columnselector',\n",
       "                                  ColumnSelector(columns=['147', '45', '220',\n",
       "                                                          '184', '52', '241',\n",
       "                                                          '204', '191', '193',\n",
       "                                                          '137', '6', 'vas_id',\n",
       "                                                          '71', '192', '83',\n",
       "                                                          '148', '3', '44',\n",
       "                                                          '102', '172', '122',\n",
       "                                                          '144', '131', '247',\n",
       "                                                          '223', '228', '182',\n",
       "                                                          '72', '242', '237', ...])),\n",
       "                                 ('featureunion',\n",
       "                                  FeatureUnion(transformer_list=[('numeric_features',\n",
       "                                                                  Pipeline(steps=[(...\n",
       "                                                                                  ('onehotencoder',\n",
       "                                                                                   OneHotEncoder(handle_unknown='ignore'))])),\n",
       "                                                                 ('boolean_features',\n",
       "                                                                  Pipeline(steps=[('columnselector',\n",
       "                                                                                   ColumnSelector(columns=['not_first_offer']))]))]))])),\n",
       "                ('selectfrommodel',\n",
       "                 SelectFromModel(estimator=LogisticRegression(penalty='l1',\n",
       "                                                              random_state=9,\n",
       "                                                              solver='liblinear'),\n",
       "                                 max_features=29)),\n",
       "                ('logisticregression', LogisticRegression(random_state=9))])"
      ]
     },
     "execution_count": 14,
     "metadata": {},
     "output_type": "execute_result"
    }
   ],
   "source": [
    "lg_fs_pipe.fit(X_train, y_train)"
   ]
  },
  {
   "cell_type": "code",
   "execution_count": 15,
   "id": "8007548b",
   "metadata": {},
   "outputs": [],
   "source": [
    "with open('data/lg_fs_model.pickle', 'wb') as f:\n",
    "    pickle.dump(lg_fs_pipe, f, protocol=pickle.HIGHEST_PROTOCOL)"
   ]
  },
  {
   "cell_type": "code",
   "execution_count": 16,
   "id": "3692ff50",
   "metadata": {},
   "outputs": [],
   "source": [
    "preds_proba_train = lg_fs_pipe.predict_proba(X_train)"
   ]
  },
  {
   "cell_type": "code",
   "execution_count": 17,
   "id": "1d67ee34",
   "metadata": {},
   "outputs": [
    {
     "name": "stdout",
     "output_type": "stream",
     "text": [
      "Лучшая отсечка : 0.3684210526315789, Метрика F1_macro: 0.8884277923102544\n",
      "================================================================================\n",
      "              precision    recall  f1-score   support\n",
      "\n",
      "         0.0       0.91      0.87      0.89     60186\n",
      "         1.0       0.87      0.91      0.89     60186\n",
      "\n",
      "    accuracy                           0.89    120372\n",
      "   macro avg       0.89      0.89      0.89    120372\n",
      "weighted avg       0.89      0.89      0.89    120372\n",
      "\n"
     ]
    }
   ],
   "source": [
    "treshold_search(y_train, preds_proba_train)"
   ]
  },
  {
   "cell_type": "code",
   "execution_count": null,
   "id": "28cba626",
   "metadata": {},
   "outputs": [],
   "source": []
  },
  {
   "cell_type": "code",
   "execution_count": null,
   "id": "102c616f",
   "metadata": {},
   "outputs": [],
   "source": []
  }
 ],
 "metadata": {
  "kernelspec": {
   "display_name": "Python 3 (ipykernel)",
   "language": "python",
   "name": "python3"
  },
  "language_info": {
   "codemirror_mode": {
    "name": "ipython",
    "version": 3
   },
   "file_extension": ".py",
   "mimetype": "text/x-python",
   "name": "python",
   "nbconvert_exporter": "python",
   "pygments_lexer": "ipython3",
   "version": "3.9.7"
  }
 },
 "nbformat": 4,
 "nbformat_minor": 5
}
