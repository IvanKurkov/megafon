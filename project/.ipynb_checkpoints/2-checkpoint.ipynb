{
 "cells": [
  {
   "cell_type": "markdown",
   "id": "69a8da89",
   "metadata": {},
   "source": [
    "У нас появился запрос из отдела продаж и маркетинга. Как вы знаете «МегаФон»\n",
    "предлагает обширный набор различных услуг своим абонентам. При этом разным\n",
    "пользователям интересны разные услуги. Поэтому необходимо построить\n",
    "алгоритм, который для каждой пары пользователь-услуга определит вероятность\n",
    "подключения услуги."
   ]
  },
  {
   "cell_type": "markdown",
   "id": "125303d3",
   "metadata": {},
   "source": [
    "### Данные"
   ]
  },
  {
   "cell_type": "markdown",
   "id": "ba2f3287",
   "metadata": {},
   "source": [
    "В качестве исходных данных вам будет доступна информация об отклике\n",
    "абонентов на предложение подключения одной из услуг. Каждому пользователю\n",
    "может быть сделано несколько предложений в разное время, каждое из которых он\n",
    "может или принять, или отклонить.\n",
    "\n",
    "Отдельным набором данных будет являться нормализованный\n",
    "анонимизированный набор признаков, характеризующий профиль потребления\n",
    "абонента. Эти данные привязаны к определенному времени, поскольку профиль\n",
    "абонента может меняться с течением времени.\n",
    "\n",
    "Данные train и test разбиты по периодам – на train доступно 4 месяцев, а на test\n",
    "отложен последующий месяц.\n",
    "\n",
    "Итого, в качестве входных данных будут представлены:"
   ]
  },
  {
   "cell_type": "markdown",
   "id": "ccfdc576",
   "metadata": {},
   "source": [
    " - data_train.csv: id, vas_id, buy_time, target\n",
    " - features.csv.zip: id, <feature_list>"
   ]
  },
  {
   "cell_type": "markdown",
   "id": "e5d61193",
   "metadata": {},
   "source": [
    "И тестовый набор:\n",
    "\n",
    "- data_test.csv: id, vas_id, buy_time\n",
    "    target - целевая переменная, где 1 означает подключение услуги, 0 - абонент\n",
    "    не подключил услугу соответственно.\n",
    "    \n",
    "    buy_time - время покупки, представлено в формате timestamp, для работы с\n",
    "    этим столбцом понадобится функция datetime.fromtimestamp из модуля\n",
    "    datetime.\n",
    "    \n",
    "    id - идентификатор абонента\n",
    "    \n",
    "    vas_id - подключаемая услуга"
   ]
  },
  {
   "cell_type": "markdown",
   "id": "57321240",
   "metadata": {},
   "source": [
    "Примечание: Размер файла features.csv в распакованном виде весит 20 гб, для\n",
    "работы с ним можно воспользоваться pandas.read_csv, либо можно воспользоваться\n",
    "библиотекой Dask."
   ]
  },
  {
   "cell_type": "markdown",
   "id": "87daf352",
   "metadata": {},
   "source": [
    "### Метрика"
   ]
  },
  {
   "cell_type": "markdown",
   "id": "be08abbc",
   "metadata": {},
   "source": [
    "Скоринг будет осуществляться функцией f1, невзвешенным образом, как например\n",
    "делает функция sklearn.metrics.f1_score(…, average=’macro’)"
   ]
  },
  {
   "cell_type": "markdown",
   "id": "610860bf",
   "metadata": {},
   "source": [
    "### Формат представления результата"
   ]
  },
  {
   "cell_type": "markdown",
   "id": "d2a4b94e",
   "metadata": {},
   "source": [
    "1. Работающая модель в формате pickle, которая принимает файл data_test.csv\n",
    "из корневой папки и записывает в эту же папку файл answers_test.csv. В этом\n",
    "файле должны находится 4 столбца: buy_time, id, vas_id и target. Target можно\n",
    "записать как вероятность подключения услуги.\n",
    "2. Код модели можно представить в виде jupyter-ноутбука.\n",
    " \n",
    "3. Презентация в формате .pdf, в которой необходимо отразить:\n",
    "\n",
    " - Информация о модели, ее параметрах, особенностях и основных результатах.\n",
    " \n",
    " - Обоснование выбора модели и ее сравнение с альтернативами.\n",
    " \n",
    " - Принцип составления индивидуальных предложений для выбранных абонентов.\n",
    "\n",
    "Рекомендуемое количество слайдов – 5 – 10.\n",
    "Файл answers_test.csv с результатами работы модели, презентацию, ноутбуки и\n",
    "резюме необходимо прикрепить ко второму уроку “курсовой проект”"
   ]
  },
  {
   "cell_type": "code",
   "execution_count": null,
   "id": "8d91e5a1",
   "metadata": {},
   "outputs": [],
   "source": [
    "import pandas as pd\n",
    "import numpy as np\n",
    "import matplotlib.pyplot as plt\n",
    "import seaborn as sns\n",
    "import dask.dataframe as dd\n",
    "\n",
    "from sklearn.model_selection import train_test_split\n",
    "from sklearn.model_selection import GridSearchCV\n",
    "from sklearn.ensemble import RandomForestClassifier\n",
    "from sklearn.linear_model import LogisticRegression\n",
    "from xgboost import XGBClassifier\n",
    "from lightgbm import LGBMClassifier\n",
    "\n",
    "from sklearn.pipeline import Pipeline, make_pipeline, FeatureUnion\n",
    "from sklearn.preprocessing import StandardScaler, OneHotEncoder\n",
    "from sklearn.base import BaseEstimator, TransformerMixin\n",
    "from sklearn.impute import SimpleImputer\n",
    "\n",
    "from sklearn.metrics import recall_score, precision_score, roc_auc_score, accuracy_score, f1_score, precision_recall_curve, classification_report\n",
    "\n",
    "from sklearn.feature_selection import SelectFromModel, GenericUnivariateSelect, mutual_info_classif"
   ]
  },
  {
   "cell_type": "code",
   "execution_count": null,
   "id": "e16903b0",
   "metadata": {},
   "outputs": [],
   "source": [
    "from until import undersample_df_by_target, run_grid_search, treshold_search, preprocess_data_train, preprocess_data_test, select_type_cols\n"
   ]
  },
  {
   "cell_type": "code",
   "execution_count": null,
   "id": "e5a5fff9",
   "metadata": {},
   "outputs": [],
   "source": [
    "TRAIN_DATA = 'data/data_train.csv'\n",
    "TEST_DATA = 'data/data_train.csv'\n",
    "FEATURES_DATA = 'data/features.csv'\n",
    "RANDOM_STATE = 9"
   ]
  },
  {
   "cell_type": "code",
   "execution_count": null,
   "id": "3b579766",
   "metadata": {},
   "outputs": [],
   "source": [
    "train_df = pd.read_csv(TRAIN_DATA)"
   ]
  },
  {
   "cell_type": "code",
   "execution_count": null,
   "id": "ecfab90c",
   "metadata": {},
   "outputs": [],
   "source": [
    "train_df.head(2)"
   ]
  },
  {
   "cell_type": "markdown",
   "id": "6a8245a9",
   "metadata": {},
   "source": [
    "##### Сперва достанем данные из временной метки, и посмотрим распределение целевого признака в разрезе остальных признаков."
   ]
  },
  {
   "cell_type": "code",
   "execution_count": null,
   "id": "765689e5",
   "metadata": {},
   "outputs": [],
   "source": [
    "train_df = train_df.drop('Unnamed: 0', axis=1)"
   ]
  },
  {
   "cell_type": "code",
   "execution_count": null,
   "id": "133f1694",
   "metadata": {},
   "outputs": [],
   "source": [
    "train_df['buy_time'] = pd.to_datetime(train_df['buy_time'], unit='s') "
   ]
  },
  {
   "cell_type": "code",
   "execution_count": null,
   "id": "b077c6a4",
   "metadata": {},
   "outputs": [],
   "source": [
    "train_df['monthday'] = train_df['buy_time'].dt.day\n",
    "train_df['month'] = train_df['buy_time'].dt.month"
   ]
  },
  {
   "cell_type": "markdown",
   "id": "7ea511f8",
   "metadata": {},
   "source": [
    "- В процессе выяснил, что все звонки были в воскресенье в 21 час. По этому нет смысла добавлять день недели и время звонка. (А жаль, мне кажется было бы полезно)"
   ]
  },
  {
   "cell_type": "code",
   "execution_count": null,
   "id": "027f2e17",
   "metadata": {},
   "outputs": [],
   "source": [
    "train_df.head(2)"
   ]
  },
  {
   "cell_type": "code",
   "execution_count": null,
   "id": "ee315923",
   "metadata": {},
   "outputs": [],
   "source": [
    "train_df = train_df.sort_values('buy_time')"
   ]
  },
  {
   "cell_type": "code",
   "execution_count": null,
   "id": "b9ba623f",
   "metadata": {},
   "outputs": [],
   "source": [
    "train_df['not_first_offer'] = train_df.duplicated('id').astype(int)"
   ]
  },
  {
   "cell_type": "markdown",
   "id": "aa4d9b9b",
   "metadata": {},
   "source": [
    "- Выделим пользователей, которым делали предложения больше 1 раза."
   ]
  },
  {
   "cell_type": "markdown",
   "id": "a86f9c66",
   "metadata": {},
   "source": [
    "##### Целевая переменная"
   ]
  },
  {
   "cell_type": "code",
   "execution_count": null,
   "id": "1446cf32",
   "metadata": {},
   "outputs": [],
   "source": [
    "plt.figure(figsize=(8, 5))\n",
    "\n",
    "sns.countplot(x='target', data=train_df)\n",
    "\n",
    "plt.title('Target variable distribution')\n",
    "plt.show()"
   ]
  },
  {
   "cell_type": "markdown",
   "id": "075ce26e",
   "metadata": {},
   "source": [
    "- Таргет имеет сильный дисбаланс"
   ]
  },
  {
   "cell_type": "code",
   "execution_count": null,
   "id": "e4714587",
   "metadata": {},
   "outputs": [],
   "source": [
    "plt.figure(figsize=(10, 8))\n",
    "\n",
    "sns.countplot(x=\"vas_id\", hue='target', data=train_df)\n",
    "plt.title('vas_id grouped by target variable')\n",
    "plt.legend(title='Target', loc='upper right')\n",
    "\n",
    "plt.show()"
   ]
  },
  {
   "cell_type": "markdown",
   "id": "2d7dc668",
   "metadata": {},
   "source": [
    "- Видим, что на услугу \"6\" положительный отклик, относительно отрицательного, на много выше остальных. Также \"4\" услуга имеет больший спрос. "
   ]
  },
  {
   "cell_type": "code",
   "execution_count": null,
   "id": "c2889627",
   "metadata": {},
   "outputs": [],
   "source": [
    "plt.figure(figsize=(10, 8))\n",
    "\n",
    "sns.countplot(x=\"monthday\", hue='target', data=train_df)\n",
    "plt.title('monthday grouped by target variable')\n",
    "plt.legend(title='Target', loc='upper right')\n",
    "\n",
    "plt.show()"
   ]
  },
  {
   "cell_type": "markdown",
   "id": "e584b17d",
   "metadata": {},
   "source": [
    "- Наблюдается сильный прекос отклика в положительную сторону в середине месяца, может это период зарплаты, когда люди более лояльны к новым покупкам. Ну и в целом видно, что в это время пик предложений, видимо маркетинг тоже пришел к выводу, что лучше звонить в эти дни. "
   ]
  },
  {
   "cell_type": "code",
   "execution_count": null,
   "id": "0b3722f7",
   "metadata": {},
   "outputs": [],
   "source": [
    "plt.figure(figsize=(10, 8))\n",
    "\n",
    "sns.countplot(x=\"not_first_offer\", hue='target', data=train_df)\n",
    "plt.title('not_first_offer grouped by target variable')\n",
    "plt.legend(title='Target', loc='upper right')\n",
    "\n",
    "plt.show()"
   ]
  },
  {
   "cell_type": "markdown",
   "id": "643fd780",
   "metadata": {},
   "source": [
    "- Интересно, что те, кому звонили не в первый раз, имеют явный перекос в сторону положительного отклика. "
   ]
  },
  {
   "cell_type": "code",
   "execution_count": null,
   "id": "20755650",
   "metadata": {},
   "outputs": [],
   "source": [
    "plt.figure(figsize=(10, 8))\n",
    "\n",
    "sns.countplot(x=\"month\", hue='target', data=train_df)\n",
    "plt.title('month grouped by target variable')\n",
    "plt.legend(title='Target', loc='upper right')\n",
    "\n",
    "plt.show()"
   ]
  },
  {
   "cell_type": "markdown",
   "id": "f82828df",
   "metadata": {},
   "source": [
    "- Видно, что в Ноябре \\ Декабре имеется явное увеличение положительных откликов. В декабре большое количество предложений, возможно предлагали новогоднюю акцию или старались закрыть план за год."
   ]
  },
  {
   "cell_type": "code",
   "execution_count": null,
   "id": "7c62e4eb",
   "metadata": {},
   "outputs": [],
   "source": [
    "sample = train_df.loc[(train_df['not_first_offer'] == 1) & (train_df['monthday'].isin([16, 17, 18, 19, 20]))]"
   ]
  },
  {
   "cell_type": "code",
   "execution_count": null,
   "id": "e3afc34e",
   "metadata": {},
   "outputs": [],
   "source": [
    "sample['target'].value_counts(normalize=True)"
   ]
  },
  {
   "cell_type": "code",
   "execution_count": null,
   "id": "56f5856d",
   "metadata": {
    "scrolled": true
   },
   "outputs": [],
   "source": [
    "plt.figure(figsize=(10, 8))\n",
    "\n",
    "sns.countplot(x=\"vas_id\", hue='target', data=sample)\n",
    "plt.title('vas_id grouped by target variable')\n",
    "plt.legend(title='Target', loc='upper right')\n",
    "\n",
    "plt.show()"
   ]
  },
  {
   "cell_type": "markdown",
   "id": "891ee251",
   "metadata": {},
   "source": [
    "##### Из приведенных выше данных, можно сделать предположение: \"Всегда нужно звонить повторно, звонить стоит в середине месяца\". При этом не чаще раза в месяц, и предлагать разные услуги. Даже без дополнительных описательных характеристик пользователя, мы видим, что вероятность положительного отклика на любую услугу в этих рамках много выше. "
   ]
  },
  {
   "cell_type": "markdown",
   "id": "079e5df7",
   "metadata": {},
   "source": [
    "#### Посмотрим описательные характеристики"
   ]
  },
  {
   "cell_type": "code",
   "execution_count": null,
   "id": "3f25e432",
   "metadata": {},
   "outputs": [],
   "source": [
    "features_df = dd.read_csv(FEATURES_DATA, sep='\\t')"
   ]
  },
  {
   "cell_type": "code",
   "execution_count": null,
   "id": "a6ea15b3",
   "metadata": {},
   "outputs": [],
   "source": [
    "features_df.head()"
   ]
  },
  {
   "cell_type": "code",
   "execution_count": null,
   "id": "94ca0b85",
   "metadata": {},
   "outputs": [],
   "source": [
    "features_df = features_df.drop('Unnamed: 0', axis=1)"
   ]
  },
  {
   "cell_type": "markdown",
   "id": "f5654642",
   "metadata": {},
   "source": [
    "- Чтобы смерджить описательные фичи, возьмем из них только те id, которые есть в трейн датасете."
   ]
  },
  {
   "cell_type": "code",
   "execution_count": null,
   "id": "2f491b33",
   "metadata": {},
   "outputs": [],
   "source": [
    "train_list_index = list(train_df['id'].unique())"
   ]
  },
  {
   "cell_type": "code",
   "execution_count": null,
   "id": "b57156eb",
   "metadata": {},
   "outputs": [],
   "source": [
    "features_df = features_df.loc[features_df['id'].isin(train_list_index)].compute()"
   ]
  },
  {
   "cell_type": "markdown",
   "id": "0075373c",
   "metadata": {},
   "source": [
    "- Т.к. имеются дубликаты ИД в описательном датасете, подразумевается, что со временем предпочтения менялись берем ближайшую по времени информацию. Если данных не будет, будет nan который мы обработаем в пайплайне заполнив на какую-нибудь статистику."
   ]
  },
  {
   "cell_type": "code",
   "execution_count": null,
   "id": "9ae06585",
   "metadata": {},
   "outputs": [],
   "source": [
    "features_df['buy_time'] = pd.to_datetime(features_df['buy_time'], unit='s')"
   ]
  },
  {
   "cell_type": "code",
   "execution_count": null,
   "id": "06cdda27",
   "metadata": {},
   "outputs": [],
   "source": [
    "features_df = features_df.sort_values(by=\"buy_time\")"
   ]
  },
  {
   "cell_type": "code",
   "execution_count": null,
   "id": "e58b5bed",
   "metadata": {},
   "outputs": [],
   "source": [
    "train_data = pd.merge_asof(train_df, features_df, on='buy_time', by='id', direction='nearest')"
   ]
  },
  {
   "cell_type": "markdown",
   "id": "2e2fdeb5",
   "metadata": {},
   "source": [
    "- Проверим, совпадают ли значения"
   ]
  },
  {
   "cell_type": "code",
   "execution_count": null,
   "id": "55ab9fd8",
   "metadata": {},
   "outputs": [],
   "source": [
    "import random\n",
    "\n",
    "rid = random.choice(train_list_index)\n",
    "print(rid)\n",
    "features_df.loc[features_df['id'] == rid]\n"
   ]
  },
  {
   "cell_type": "code",
   "execution_count": 34,
   "id": "ae1d6c5a",
   "metadata": {},
   "outputs": [
    {
     "data": {
      "text/html": [
       "<div>\n",
       "<style scoped>\n",
       "    .dataframe tbody tr th:only-of-type {\n",
       "        vertical-align: middle;\n",
       "    }\n",
       "\n",
       "    .dataframe tbody tr th {\n",
       "        vertical-align: top;\n",
       "    }\n",
       "\n",
       "    .dataframe thead th {\n",
       "        text-align: right;\n",
       "    }\n",
       "</style>\n",
       "<table border=\"1\" class=\"dataframe\">\n",
       "  <thead>\n",
       "    <tr style=\"text-align: right;\">\n",
       "      <th></th>\n",
       "      <th>id</th>\n",
       "      <th>vas_id</th>\n",
       "      <th>buy_time</th>\n",
       "      <th>target</th>\n",
       "      <th>monthday</th>\n",
       "      <th>month</th>\n",
       "      <th>not_first_offer</th>\n",
       "      <th>0</th>\n",
       "      <th>1</th>\n",
       "      <th>2</th>\n",
       "      <th>...</th>\n",
       "      <th>243</th>\n",
       "      <th>244</th>\n",
       "      <th>245</th>\n",
       "      <th>246</th>\n",
       "      <th>247</th>\n",
       "      <th>248</th>\n",
       "      <th>249</th>\n",
       "      <th>250</th>\n",
       "      <th>251</th>\n",
       "      <th>252</th>\n",
       "    </tr>\n",
       "  </thead>\n",
       "  <tbody>\n",
       "    <tr>\n",
       "      <th>663749</th>\n",
       "      <td>224359</td>\n",
       "      <td>2.0</td>\n",
       "      <td>2018-12-16 21:00:00</td>\n",
       "      <td>0.0</td>\n",
       "      <td>16</td>\n",
       "      <td>12</td>\n",
       "      <td>0</td>\n",
       "      <td>245.580029</td>\n",
       "      <td>-65.799112</td>\n",
       "      <td>257.059214</td>\n",
       "      <td>...</td>\n",
       "      <td>-710.373846</td>\n",
       "      <td>-376.770792</td>\n",
       "      <td>-25.996269</td>\n",
       "      <td>-37.630448</td>\n",
       "      <td>-241.747724</td>\n",
       "      <td>-4.832889</td>\n",
       "      <td>-0.694428</td>\n",
       "      <td>8.824067</td>\n",
       "      <td>-0.45614</td>\n",
       "      <td>0.0</td>\n",
       "    </tr>\n",
       "  </tbody>\n",
       "</table>\n",
       "<p>1 rows × 260 columns</p>\n",
       "</div>"
      ],
      "text/plain": [
       "            id  vas_id            buy_time  target  monthday  month  \\\n",
       "663749  224359     2.0 2018-12-16 21:00:00     0.0        16     12   \n",
       "\n",
       "        not_first_offer           0          1           2  ...         243  \\\n",
       "663749                0  245.580029 -65.799112  257.059214  ... -710.373846   \n",
       "\n",
       "               244        245        246         247       248       249  \\\n",
       "663749 -376.770792 -25.996269 -37.630448 -241.747724 -4.832889 -0.694428   \n",
       "\n",
       "             250      251  252  \n",
       "663749  8.824067 -0.45614  0.0  \n",
       "\n",
       "[1 rows x 260 columns]"
      ]
     },
     "execution_count": 34,
     "metadata": {},
     "output_type": "execute_result"
    }
   ],
   "source": [
    "train_data.loc[train_data['id'] == rid]"
   ]
  },
  {
   "cell_type": "code",
   "execution_count": null,
   "id": "baa9e82a",
   "metadata": {},
   "outputs": [],
   "source": []
  },
  {
   "cell_type": "code",
   "execution_count": 35,
   "id": "37b7f4b1",
   "metadata": {},
   "outputs": [],
   "source": [
    "train_data.drop(['id', 'buy_time', 'month'], axis=1, inplace=True)"
   ]
  },
  {
   "cell_type": "code",
   "execution_count": 36,
   "id": "29f8ba74",
   "metadata": {},
   "outputs": [
    {
     "name": "stdout",
     "output_type": "stream",
     "text": [
      "ID уникален?  True\n",
      "Есть ли дубли в строках? 732\n",
      "Сколько процент признаков могут принимать null-значениями? 0%\n"
     ]
    }
   ],
   "source": [
    "print(\"ID уникален? \", train_data.index.is_unique)\n",
    "print(\"Есть ли дубли в строках?\", train_data.duplicated().sum())\n",
    "print(\"Сколько процент признаков могут принимать null-значениями? %d%%\" % float((train_data.isnull().sum() > 0).sum()/train_data.shape[1]*100))"
   ]
  },
  {
   "cell_type": "code",
   "execution_count": 37,
   "id": "9269e042",
   "metadata": {},
   "outputs": [],
   "source": [
    "train_data.drop_duplicates(inplace=True)"
   ]
  },
  {
   "cell_type": "code",
   "execution_count": 38,
   "id": "5e1abec9",
   "metadata": {},
   "outputs": [
    {
     "data": {
      "text/plain": [
       "0.0    770747\n",
       "1.0     60174\n",
       "Name: target, dtype: int64"
      ]
     },
     "execution_count": 38,
     "metadata": {},
     "output_type": "execute_result"
    }
   ],
   "source": [
    "train_data['target'].value_counts()"
   ]
  },
  {
   "cell_type": "markdown",
   "id": "055c1dbd",
   "metadata": {},
   "source": [
    "- Посмотрим на корреляцию между целевой и остальными признаками. "
   ]
  },
  {
   "cell_type": "code",
   "execution_count": 39,
   "id": "98b64c94",
   "metadata": {},
   "outputs": [],
   "source": [
    "corr_matrix = train_data.corr()[['target']]"
   ]
  },
  {
   "cell_type": "code",
   "execution_count": 40,
   "id": "aa4bebdb",
   "metadata": {},
   "outputs": [
    {
     "data": {
      "text/plain": [
       "1"
      ]
     },
     "execution_count": 40,
     "metadata": {},
     "output_type": "execute_result"
    }
   ],
   "source": [
    "corr_matrix.loc[abs(corr_matrix['target']) > 0.3].shape[0] - 1"
   ]
  },
  {
   "cell_type": "code",
   "execution_count": 41,
   "id": "1bde0782",
   "metadata": {},
   "outputs": [
    {
     "data": {
      "text/plain": [
       "2"
      ]
     },
     "execution_count": 41,
     "metadata": {},
     "output_type": "execute_result"
    }
   ],
   "source": [
    "corr_matrix.loc[abs(corr_matrix['target']) > 0.2].shape[0] - 1"
   ]
  },
  {
   "cell_type": "code",
   "execution_count": 42,
   "id": "567a85f0",
   "metadata": {},
   "outputs": [
    {
     "data": {
      "text/plain": [
       "2"
      ]
     },
     "execution_count": 42,
     "metadata": {},
     "output_type": "execute_result"
    }
   ],
   "source": [
    "corr_matrix.loc[abs(corr_matrix['target']) > 0.1].shape[0] - 1"
   ]
  },
  {
   "cell_type": "code",
   "execution_count": 43,
   "id": "a92b4aff",
   "metadata": {},
   "outputs": [
    {
     "data": {
      "text/plain": [
       "2"
      ]
     },
     "execution_count": 43,
     "metadata": {},
     "output_type": "execute_result"
    }
   ],
   "source": [
    "corr_matrix.loc[abs(corr_matrix['target']) > 0.05].shape[0] - 1"
   ]
  },
  {
   "cell_type": "code",
   "execution_count": 44,
   "id": "f631c748",
   "metadata": {},
   "outputs": [
    {
     "data": {
      "text/plain": [
       "2"
      ]
     },
     "execution_count": 44,
     "metadata": {},
     "output_type": "execute_result"
    }
   ],
   "source": [
    "corr_matrix.loc[abs(corr_matrix['target']) > 0.01].shape[0] - 1"
   ]
  },
  {
   "cell_type": "code",
   "execution_count": 45,
   "id": "77a1b5fd",
   "metadata": {},
   "outputs": [
    {
     "data": {
      "text/html": [
       "<div>\n",
       "<style scoped>\n",
       "    .dataframe tbody tr th:only-of-type {\n",
       "        vertical-align: middle;\n",
       "    }\n",
       "\n",
       "    .dataframe tbody tr th {\n",
       "        vertical-align: top;\n",
       "    }\n",
       "\n",
       "    .dataframe thead th {\n",
       "        text-align: right;\n",
       "    }\n",
       "</style>\n",
       "<table border=\"1\" class=\"dataframe\">\n",
       "  <thead>\n",
       "    <tr style=\"text-align: right;\">\n",
       "      <th></th>\n",
       "      <th>target</th>\n",
       "    </tr>\n",
       "  </thead>\n",
       "  <tbody>\n",
       "    <tr>\n",
       "      <th>vas_id</th>\n",
       "      <td>0.262972</td>\n",
       "    </tr>\n",
       "    <tr>\n",
       "      <th>target</th>\n",
       "      <td>1.000000</td>\n",
       "    </tr>\n",
       "    <tr>\n",
       "      <th>monthday</th>\n",
       "      <td>0.007250</td>\n",
       "    </tr>\n",
       "    <tr>\n",
       "      <th>not_first_offer</th>\n",
       "      <td>0.372296</td>\n",
       "    </tr>\n",
       "    <tr>\n",
       "      <th>0</th>\n",
       "      <td>0.001181</td>\n",
       "    </tr>\n",
       "    <tr>\n",
       "      <th>...</th>\n",
       "      <td>...</td>\n",
       "    </tr>\n",
       "    <tr>\n",
       "      <th>241</th>\n",
       "      <td>-0.004290</td>\n",
       "    </tr>\n",
       "    <tr>\n",
       "      <th>243</th>\n",
       "      <td>-0.001036</td>\n",
       "    </tr>\n",
       "    <tr>\n",
       "      <th>245</th>\n",
       "      <td>0.003425</td>\n",
       "    </tr>\n",
       "    <tr>\n",
       "      <th>247</th>\n",
       "      <td>-0.001163</td>\n",
       "    </tr>\n",
       "    <tr>\n",
       "      <th>248</th>\n",
       "      <td>-0.001394</td>\n",
       "    </tr>\n",
       "  </tbody>\n",
       "</table>\n",
       "<p>115 rows × 1 columns</p>\n",
       "</div>"
      ],
      "text/plain": [
       "                   target\n",
       "vas_id           0.262972\n",
       "target           1.000000\n",
       "monthday         0.007250\n",
       "not_first_offer  0.372296\n",
       "0                0.001181\n",
       "...                   ...\n",
       "241             -0.004290\n",
       "243             -0.001036\n",
       "245              0.003425\n",
       "247             -0.001163\n",
       "248             -0.001394\n",
       "\n",
       "[115 rows x 1 columns]"
      ]
     },
     "execution_count": 45,
     "metadata": {},
     "output_type": "execute_result"
    }
   ],
   "source": [
    "corr_matrix.loc[abs(corr_matrix['target']) > 0.001]"
   ]
  },
  {
   "cell_type": "markdown",
   "id": "c0ed60cd",
   "metadata": {},
   "source": [
    " - Очень слабая корреляция. Либо связь не линейная т.к. имеются по сути категориальные признаки, либо просто признаки бесполезные. "
   ]
  },
  {
   "cell_type": "markdown",
   "id": "f57f829d",
   "metadata": {},
   "source": [
    "### Подготовим данные, разобьем на трейн\\тест по времени."
   ]
  },
  {
   "cell_type": "code",
   "execution_count": 46,
   "id": "0cec6573",
   "metadata": {},
   "outputs": [],
   "source": [
    "train_df = pd.read_csv(TRAIN_DATA)"
   ]
  },
  {
   "cell_type": "markdown",
   "id": "39b67fe3",
   "metadata": {},
   "source": [
    "- Разделим на трейн\\тест. Берем половину последнего месяца."
   ]
  },
  {
   "cell_type": "code",
   "execution_count": 47,
   "id": "cd1b7490",
   "metadata": {},
   "outputs": [],
   "source": [
    "train_df['buy_time'] = pd.to_datetime(train_df['buy_time'], unit='s')"
   ]
  },
  {
   "cell_type": "code",
   "execution_count": 48,
   "id": "dd96debf",
   "metadata": {},
   "outputs": [],
   "source": [
    "new_train_df = train_df.loc[~((train_df['buy_time'].dt.month == 12) & (train_df['buy_time'].dt.day > 10))]"
   ]
  },
  {
   "cell_type": "code",
   "execution_count": 49,
   "id": "40c4e078",
   "metadata": {},
   "outputs": [],
   "source": [
    "valid_df = train_df.loc[((train_df['buy_time'].dt.month == 12) & (train_df['buy_time'].dt.day > 10))]"
   ]
  },
  {
   "cell_type": "markdown",
   "id": "4bb747da",
   "metadata": {},
   "source": [
    "- Сделаем балансировку андерсемплингом так как данных много"
   ]
  },
  {
   "cell_type": "code",
   "execution_count": 50,
   "id": "5ab23960",
   "metadata": {},
   "outputs": [],
   "source": [
    "X_train = undersample_df_by_target(new_train_df, 'target')"
   ]
  },
  {
   "cell_type": "code",
   "execution_count": 51,
   "id": "97bb0fce",
   "metadata": {},
   "outputs": [],
   "source": [
    "X_train, true_offers_ids = preprocess_data_train(X_train, FEATURES_DATA)"
   ]
  },
  {
   "cell_type": "code",
   "execution_count": 52,
   "id": "99d4fbbd",
   "metadata": {},
   "outputs": [],
   "source": [
    "y_train = X_train['target']"
   ]
  },
  {
   "cell_type": "code",
   "execution_count": 53,
   "id": "1a26175b",
   "metadata": {},
   "outputs": [],
   "source": [
    "X_train = X_train.drop('target', axis = 1)"
   ]
  },
  {
   "cell_type": "code",
   "execution_count": 54,
   "id": "f2305aa9",
   "metadata": {},
   "outputs": [
    {
     "data": {
      "text/plain": [
       "1.0    45094\n",
       "0.0    45094\n",
       "Name: target, dtype: int64"
      ]
     },
     "execution_count": 54,
     "metadata": {},
     "output_type": "execute_result"
    }
   ],
   "source": [
    "y_train.value_counts()"
   ]
  },
  {
   "cell_type": "code",
   "execution_count": 55,
   "id": "6426feed",
   "metadata": {},
   "outputs": [
    {
     "name": "stderr",
     "output_type": "stream",
     "text": [
      "C:\\Users\\user\\AppData\\Local\\Temp/ipykernel_18520/2783419716.py:2: SettingWithCopyWarning: \n",
      "A value is trying to be set on a copy of a slice from a DataFrame.\n",
      "Try using .loc[row_indexer,col_indexer] = value instead\n",
      "\n",
      "See the caveats in the documentation: https://pandas.pydata.org/pandas-docs/stable/user_guide/indexing.html#returning-a-view-versus-a-copy\n",
      "  prep_data_df['buy_time'] = pd.to_datetime(prep_data_df['buy_time'], unit='s')\n"
     ]
    }
   ],
   "source": [
    "valid_df = preprocess_data_test(valid_df, FEATURES_DATA, true_offers_ids)"
   ]
  },
  {
   "cell_type": "code",
   "execution_count": 56,
   "id": "88d83adb",
   "metadata": {},
   "outputs": [],
   "source": [
    "y_test = valid_df['target']"
   ]
  },
  {
   "cell_type": "code",
   "execution_count": 57,
   "id": "17fee4d8",
   "metadata": {},
   "outputs": [],
   "source": [
    "X_test = valid_df.drop('target', axis = 1)"
   ]
  },
  {
   "cell_type": "code",
   "execution_count": 58,
   "id": "ee1fc517",
   "metadata": {},
   "outputs": [
    {
     "data": {
      "text/plain": [
       "0.0    178557\n",
       "1.0     15083\n",
       "Name: target, dtype: int64"
      ]
     },
     "execution_count": 58,
     "metadata": {},
     "output_type": "execute_result"
    }
   ],
   "source": [
    "y_test.value_counts()"
   ]
  },
  {
   "cell_type": "markdown",
   "id": "596c13a5",
   "metadata": {},
   "source": [
    "- И так, для начала сделаем Бейзлайн, оценив, что мы можем получить."
   ]
  },
  {
   "cell_type": "code",
   "execution_count": 60,
   "id": "d17c4216",
   "metadata": {},
   "outputs": [],
   "source": [
    "rf = RandomForestClassifier()"
   ]
  },
  {
   "cell_type": "code",
   "execution_count": 61,
   "id": "fe56c071",
   "metadata": {},
   "outputs": [],
   "source": [
    "step_imputer = SimpleImputer(strategy=\"mean\")"
   ]
  },
  {
   "cell_type": "code",
   "execution_count": 62,
   "id": "7223d827",
   "metadata": {},
   "outputs": [],
   "source": [
    "baseline = Pipeline([\n",
    "    ('imuter', step_imputer),\n",
    "    ('model', rf)\n",
    "])"
   ]
  },
  {
   "cell_type": "code",
   "execution_count": 63,
   "id": "4f28f04b",
   "metadata": {},
   "outputs": [
    {
     "data": {
      "text/html": [
       "<style>#sk-container-id-1 {color: black;background-color: white;}#sk-container-id-1 pre{padding: 0;}#sk-container-id-1 div.sk-toggleable {background-color: white;}#sk-container-id-1 label.sk-toggleable__label {cursor: pointer;display: block;width: 100%;margin-bottom: 0;padding: 0.3em;box-sizing: border-box;text-align: center;}#sk-container-id-1 label.sk-toggleable__label-arrow:before {content: \"▸\";float: left;margin-right: 0.25em;color: #696969;}#sk-container-id-1 label.sk-toggleable__label-arrow:hover:before {color: black;}#sk-container-id-1 div.sk-estimator:hover label.sk-toggleable__label-arrow:before {color: black;}#sk-container-id-1 div.sk-toggleable__content {max-height: 0;max-width: 0;overflow: hidden;text-align: left;background-color: #f0f8ff;}#sk-container-id-1 div.sk-toggleable__content pre {margin: 0.2em;color: black;border-radius: 0.25em;background-color: #f0f8ff;}#sk-container-id-1 input.sk-toggleable__control:checked~div.sk-toggleable__content {max-height: 200px;max-width: 100%;overflow: auto;}#sk-container-id-1 input.sk-toggleable__control:checked~label.sk-toggleable__label-arrow:before {content: \"▾\";}#sk-container-id-1 div.sk-estimator input.sk-toggleable__control:checked~label.sk-toggleable__label {background-color: #d4ebff;}#sk-container-id-1 div.sk-label input.sk-toggleable__control:checked~label.sk-toggleable__label {background-color: #d4ebff;}#sk-container-id-1 input.sk-hidden--visually {border: 0;clip: rect(1px 1px 1px 1px);clip: rect(1px, 1px, 1px, 1px);height: 1px;margin: -1px;overflow: hidden;padding: 0;position: absolute;width: 1px;}#sk-container-id-1 div.sk-estimator {font-family: monospace;background-color: #f0f8ff;border: 1px dotted black;border-radius: 0.25em;box-sizing: border-box;margin-bottom: 0.5em;}#sk-container-id-1 div.sk-estimator:hover {background-color: #d4ebff;}#sk-container-id-1 div.sk-parallel-item::after {content: \"\";width: 100%;border-bottom: 1px solid gray;flex-grow: 1;}#sk-container-id-1 div.sk-label:hover label.sk-toggleable__label {background-color: #d4ebff;}#sk-container-id-1 div.sk-serial::before {content: \"\";position: absolute;border-left: 1px solid gray;box-sizing: border-box;top: 0;bottom: 0;left: 50%;z-index: 0;}#sk-container-id-1 div.sk-serial {display: flex;flex-direction: column;align-items: center;background-color: white;padding-right: 0.2em;padding-left: 0.2em;position: relative;}#sk-container-id-1 div.sk-item {position: relative;z-index: 1;}#sk-container-id-1 div.sk-parallel {display: flex;align-items: stretch;justify-content: center;background-color: white;position: relative;}#sk-container-id-1 div.sk-item::before, #sk-container-id-1 div.sk-parallel-item::before {content: \"\";position: absolute;border-left: 1px solid gray;box-sizing: border-box;top: 0;bottom: 0;left: 50%;z-index: -1;}#sk-container-id-1 div.sk-parallel-item {display: flex;flex-direction: column;z-index: 1;position: relative;background-color: white;}#sk-container-id-1 div.sk-parallel-item:first-child::after {align-self: flex-end;width: 50%;}#sk-container-id-1 div.sk-parallel-item:last-child::after {align-self: flex-start;width: 50%;}#sk-container-id-1 div.sk-parallel-item:only-child::after {width: 0;}#sk-container-id-1 div.sk-dashed-wrapped {border: 1px dashed gray;margin: 0 0.4em 0.5em 0.4em;box-sizing: border-box;padding-bottom: 0.4em;background-color: white;}#sk-container-id-1 div.sk-label label {font-family: monospace;font-weight: bold;display: inline-block;line-height: 1.2em;}#sk-container-id-1 div.sk-label-container {text-align: center;}#sk-container-id-1 div.sk-container {/* jupyter's `normalize.less` sets `[hidden] { display: none; }` but bootstrap.min.css set `[hidden] { display: none !important; }` so we also need the `!important` here to be able to override the default hidden behavior on the sphinx rendered scikit-learn.org. See: https://github.com/scikit-learn/scikit-learn/issues/21755 */display: inline-block !important;position: relative;}#sk-container-id-1 div.sk-text-repr-fallback {display: none;}</style><div id=\"sk-container-id-1\" class=\"sk-top-container\"><div class=\"sk-text-repr-fallback\"><pre>Pipeline(steps=[(&#x27;imuter&#x27;, SimpleImputer()),\n",
       "                (&#x27;model&#x27;, RandomForestClassifier())])</pre><b>In a Jupyter environment, please rerun this cell to show the HTML representation or trust the notebook. <br />On GitHub, the HTML representation is unable to render, please try loading this page with nbviewer.org.</b></div><div class=\"sk-container\" hidden><div class=\"sk-item sk-dashed-wrapped\"><div class=\"sk-label-container\"><div class=\"sk-label sk-toggleable\"><input class=\"sk-toggleable__control sk-hidden--visually\" id=\"sk-estimator-id-1\" type=\"checkbox\" ><label for=\"sk-estimator-id-1\" class=\"sk-toggleable__label sk-toggleable__label-arrow\">Pipeline</label><div class=\"sk-toggleable__content\"><pre>Pipeline(steps=[(&#x27;imuter&#x27;, SimpleImputer()),\n",
       "                (&#x27;model&#x27;, RandomForestClassifier())])</pre></div></div></div><div class=\"sk-serial\"><div class=\"sk-item\"><div class=\"sk-estimator sk-toggleable\"><input class=\"sk-toggleable__control sk-hidden--visually\" id=\"sk-estimator-id-2\" type=\"checkbox\" ><label for=\"sk-estimator-id-2\" class=\"sk-toggleable__label sk-toggleable__label-arrow\">SimpleImputer</label><div class=\"sk-toggleable__content\"><pre>SimpleImputer()</pre></div></div></div><div class=\"sk-item\"><div class=\"sk-estimator sk-toggleable\"><input class=\"sk-toggleable__control sk-hidden--visually\" id=\"sk-estimator-id-3\" type=\"checkbox\" ><label for=\"sk-estimator-id-3\" class=\"sk-toggleable__label sk-toggleable__label-arrow\">RandomForestClassifier</label><div class=\"sk-toggleable__content\"><pre>RandomForestClassifier()</pre></div></div></div></div></div></div></div>"
      ],
      "text/plain": [
       "Pipeline(steps=[('imuter', SimpleImputer()),\n",
       "                ('model', RandomForestClassifier())])"
      ]
     },
     "execution_count": 63,
     "metadata": {},
     "output_type": "execute_result"
    }
   ],
   "source": [
    "baseline.fit(X_train, y_train)"
   ]
  },
  {
   "cell_type": "code",
   "execution_count": 64,
   "id": "d38bbcaf",
   "metadata": {},
   "outputs": [],
   "source": [
    "preds = baseline.predict(X_test)"
   ]
  },
  {
   "cell_type": "code",
   "execution_count": 65,
   "id": "71742a0c",
   "metadata": {},
   "outputs": [
    {
     "data": {
      "text/plain": [
       "0.5620124324464298"
      ]
     },
     "execution_count": 65,
     "metadata": {},
     "output_type": "execute_result"
    }
   ],
   "source": [
    "f1_score(y_test, preds, average='macro')"
   ]
  },
  {
   "cell_type": "code",
   "execution_count": 66,
   "id": "6dc3d82a",
   "metadata": {},
   "outputs": [
    {
     "name": "stdout",
     "output_type": "stream",
     "text": [
      "              precision    recall  f1-score   support\n",
      "\n",
      "         0.0       1.00      0.66      0.79    178557\n",
      "         1.0       0.20      0.99      0.33     15083\n",
      "\n",
      "    accuracy                           0.69    193640\n",
      "   macro avg       0.60      0.83      0.56    193640\n",
      "weighted avg       0.94      0.69      0.76    193640\n",
      "\n"
     ]
    }
   ],
   "source": [
    "print(classification_report(y_test, preds))"
   ]
  },
  {
   "cell_type": "markdown",
   "id": "8a6f6610",
   "metadata": {},
   "source": [
    "- Весьма не плохой результат для использования данных \"как есть\", F-Score=0.872, F1-macro 0.67"
   ]
  },
  {
   "cell_type": "markdown",
   "id": "dedda60b",
   "metadata": {},
   "source": [
    "==========================================================================================================="
   ]
  },
  {
   "cell_type": "markdown",
   "id": "06266610",
   "metadata": {},
   "source": [
    "#### Попробуем глянуть, что за фичи мы имеем."
   ]
  },
  {
   "cell_type": "code",
   "execution_count": null,
   "id": "347e60a1",
   "metadata": {},
   "outputs": [],
   "source": []
  },
  {
   "cell_type": "markdown",
   "id": "badac509",
   "metadata": {},
   "source": [
    "- И так, соберем списки признаков"
   ]
  },
  {
   "cell_type": "code",
   "execution_count": 67,
   "id": "9dac1c91",
   "metadata": {},
   "outputs": [],
   "source": [
    "f_all, f_binary, f_categorical, f_numeric = select_type_cols(X_train)"
   ]
  },
  {
   "cell_type": "markdown",
   "id": "e16ae897",
   "metadata": {},
   "source": [
    "- Создадим пайплайн для препроцессинга. В нем мы стандартизируем вещественные признаки, что бы попробовать использовать линейную модель, и и сделаем OHE категориальных признаков. Также добавим шаги по автозаполнению пропусков.  "
   ]
  },
  {
   "cell_type": "code",
   "execution_count": 68,
   "id": "4eb39d4e",
   "metadata": {},
   "outputs": [],
   "source": [
    "f_prep_pipeline = make_pipeline(\n",
    "    ColumnSelector(columns=f_all),\n",
    "    FeatureUnion(transformer_list=[\n",
    "        (\"numeric_features\", make_pipeline(\n",
    "            ColumnSelector(f_numeric),\n",
    "            SimpleImputer(strategy=\"mean\"),\n",
    "            StandardScaler()\n",
    "        )),\n",
    "        (\"categorical_features\", make_pipeline(\n",
    "            ColumnSelector(f_categorical),\n",
    "            SimpleImputer(strategy=\"most_frequent\"),\n",
    "            OneHotEncoder(handle_unknown='ignore')\n",
    "        )),\n",
    "        (\"boolean_features\", make_pipeline(\n",
    "            ColumnSelector(f_binary),\n",
    "        ))\n",
    "    ])\n",
    ")"
   ]
  },
  {
   "cell_type": "markdown",
   "id": "8ccfc212",
   "metadata": {},
   "source": [
    "- Попробуем наш бейзлайн на новых фичах. По сути для Леса изменилось только кодирование кат.фич."
   ]
  },
  {
   "cell_type": "code",
   "execution_count": 69,
   "id": "f1000481",
   "metadata": {},
   "outputs": [],
   "source": [
    "rf_pipe = make_pipeline(\n",
    "    f_prep_pipeline,\n",
    "    RandomForestClassifier(random_state=RANDOM_STATE)\n",
    ")"
   ]
  },
  {
   "cell_type": "code",
   "execution_count": 70,
   "id": "04e1b349",
   "metadata": {},
   "outputs": [
    {
     "data": {
      "text/html": [
       "<style>#sk-container-id-2 {color: black;background-color: white;}#sk-container-id-2 pre{padding: 0;}#sk-container-id-2 div.sk-toggleable {background-color: white;}#sk-container-id-2 label.sk-toggleable__label {cursor: pointer;display: block;width: 100%;margin-bottom: 0;padding: 0.3em;box-sizing: border-box;text-align: center;}#sk-container-id-2 label.sk-toggleable__label-arrow:before {content: \"▸\";float: left;margin-right: 0.25em;color: #696969;}#sk-container-id-2 label.sk-toggleable__label-arrow:hover:before {color: black;}#sk-container-id-2 div.sk-estimator:hover label.sk-toggleable__label-arrow:before {color: black;}#sk-container-id-2 div.sk-toggleable__content {max-height: 0;max-width: 0;overflow: hidden;text-align: left;background-color: #f0f8ff;}#sk-container-id-2 div.sk-toggleable__content pre {margin: 0.2em;color: black;border-radius: 0.25em;background-color: #f0f8ff;}#sk-container-id-2 input.sk-toggleable__control:checked~div.sk-toggleable__content {max-height: 200px;max-width: 100%;overflow: auto;}#sk-container-id-2 input.sk-toggleable__control:checked~label.sk-toggleable__label-arrow:before {content: \"▾\";}#sk-container-id-2 div.sk-estimator input.sk-toggleable__control:checked~label.sk-toggleable__label {background-color: #d4ebff;}#sk-container-id-2 div.sk-label input.sk-toggleable__control:checked~label.sk-toggleable__label {background-color: #d4ebff;}#sk-container-id-2 input.sk-hidden--visually {border: 0;clip: rect(1px 1px 1px 1px);clip: rect(1px, 1px, 1px, 1px);height: 1px;margin: -1px;overflow: hidden;padding: 0;position: absolute;width: 1px;}#sk-container-id-2 div.sk-estimator {font-family: monospace;background-color: #f0f8ff;border: 1px dotted black;border-radius: 0.25em;box-sizing: border-box;margin-bottom: 0.5em;}#sk-container-id-2 div.sk-estimator:hover {background-color: #d4ebff;}#sk-container-id-2 div.sk-parallel-item::after {content: \"\";width: 100%;border-bottom: 1px solid gray;flex-grow: 1;}#sk-container-id-2 div.sk-label:hover label.sk-toggleable__label {background-color: #d4ebff;}#sk-container-id-2 div.sk-serial::before {content: \"\";position: absolute;border-left: 1px solid gray;box-sizing: border-box;top: 0;bottom: 0;left: 50%;z-index: 0;}#sk-container-id-2 div.sk-serial {display: flex;flex-direction: column;align-items: center;background-color: white;padding-right: 0.2em;padding-left: 0.2em;position: relative;}#sk-container-id-2 div.sk-item {position: relative;z-index: 1;}#sk-container-id-2 div.sk-parallel {display: flex;align-items: stretch;justify-content: center;background-color: white;position: relative;}#sk-container-id-2 div.sk-item::before, #sk-container-id-2 div.sk-parallel-item::before {content: \"\";position: absolute;border-left: 1px solid gray;box-sizing: border-box;top: 0;bottom: 0;left: 50%;z-index: -1;}#sk-container-id-2 div.sk-parallel-item {display: flex;flex-direction: column;z-index: 1;position: relative;background-color: white;}#sk-container-id-2 div.sk-parallel-item:first-child::after {align-self: flex-end;width: 50%;}#sk-container-id-2 div.sk-parallel-item:last-child::after {align-self: flex-start;width: 50%;}#sk-container-id-2 div.sk-parallel-item:only-child::after {width: 0;}#sk-container-id-2 div.sk-dashed-wrapped {border: 1px dashed gray;margin: 0 0.4em 0.5em 0.4em;box-sizing: border-box;padding-bottom: 0.4em;background-color: white;}#sk-container-id-2 div.sk-label label {font-family: monospace;font-weight: bold;display: inline-block;line-height: 1.2em;}#sk-container-id-2 div.sk-label-container {text-align: center;}#sk-container-id-2 div.sk-container {/* jupyter's `normalize.less` sets `[hidden] { display: none; }` but bootstrap.min.css set `[hidden] { display: none !important; }` so we also need the `!important` here to be able to override the default hidden behavior on the sphinx rendered scikit-learn.org. See: https://github.com/scikit-learn/scikit-learn/issues/21755 */display: inline-block !important;position: relative;}#sk-container-id-2 div.sk-text-repr-fallback {display: none;}</style><div id=\"sk-container-id-2\" class=\"sk-top-container\"><div class=\"sk-text-repr-fallback\"><pre>Pipeline(steps=[(&#x27;pipeline&#x27;,\n",
       "                 Pipeline(steps=[(&#x27;columnselector&#x27;,\n",
       "                                  ColumnSelector(columns=[&#x27;45&#x27;, &#x27;137&#x27;,\n",
       "                                                          &#x27;not_first_offer&#x27;,\n",
       "                                                          &#x27;22&#x27;, &#x27;41&#x27;, &#x27;87&#x27;,\n",
       "                                                          &#x27;119&#x27;, &#x27;248&#x27;, &#x27;241&#x27;,\n",
       "                                                          &#x27;116&#x27;, &#x27;214&#x27;, &#x27;233&#x27;,\n",
       "                                                          &#x27;6&#x27;, &#x27;55&#x27;, &#x27;46&#x27;,\n",
       "                                                          &#x27;187&#x27;, &#x27;91&#x27;, &#x27;95&#x27;,\n",
       "                                                          &#x27;51&#x27;, &#x27;115&#x27;, &#x27;217&#x27;,\n",
       "                                                          &#x27;230&#x27;, &#x27;105&#x27;, &#x27;170&#x27;,\n",
       "                                                          &#x27;172&#x27;, &#x27;179&#x27;, &#x27;70&#x27;,\n",
       "                                                          &#x27;210&#x27;, &#x27;216&#x27;, &#x27;178&#x27;, ...])),\n",
       "                                 (&#x27;featureunion&#x27;,\n",
       "                                  FeatureUnion(transformer_list=[(&#x27;numeric_features&#x27;,\n",
       "                                                                  Pipeline(s...\n",
       "                                                                                                           &#x27;175&#x27;,\n",
       "                                                                                                           &#x27;177&#x27;,\n",
       "                                                                                                           &#x27;95&#x27;,\n",
       "                                                                                                           &#x27;221&#x27;,\n",
       "                                                                                                           &#x27;252&#x27;,\n",
       "                                                                                                           &#x27;192&#x27;,\n",
       "                                                                                                           &#x27;32&#x27;,\n",
       "                                                                                                           &#x27;179&#x27;,\n",
       "                                                                                                           &#x27;70&#x27;, ...])),\n",
       "                                                                                  (&#x27;simpleimputer&#x27;,\n",
       "                                                                                   SimpleImputer(strategy=&#x27;most_frequent&#x27;)),\n",
       "                                                                                  (&#x27;onehotencoder&#x27;,\n",
       "                                                                                   OneHotEncoder(handle_unknown=&#x27;ignore&#x27;))])),\n",
       "                                                                 (&#x27;boolean_features&#x27;,\n",
       "                                                                  Pipeline(steps=[(&#x27;columnselector&#x27;,\n",
       "                                                                                   ColumnSelector(columns=[&#x27;not_first_offer&#x27;]))]))]))])),\n",
       "                (&#x27;randomforestclassifier&#x27;,\n",
       "                 RandomForestClassifier(random_state=9))])</pre><b>In a Jupyter environment, please rerun this cell to show the HTML representation or trust the notebook. <br />On GitHub, the HTML representation is unable to render, please try loading this page with nbviewer.org.</b></div><div class=\"sk-container\" hidden><div class=\"sk-item sk-dashed-wrapped\"><div class=\"sk-label-container\"><div class=\"sk-label sk-toggleable\"><input class=\"sk-toggleable__control sk-hidden--visually\" id=\"sk-estimator-id-4\" type=\"checkbox\" ><label for=\"sk-estimator-id-4\" class=\"sk-toggleable__label sk-toggleable__label-arrow\">Pipeline</label><div class=\"sk-toggleable__content\"><pre>Pipeline(steps=[(&#x27;pipeline&#x27;,\n",
       "                 Pipeline(steps=[(&#x27;columnselector&#x27;,\n",
       "                                  ColumnSelector(columns=[&#x27;45&#x27;, &#x27;137&#x27;,\n",
       "                                                          &#x27;not_first_offer&#x27;,\n",
       "                                                          &#x27;22&#x27;, &#x27;41&#x27;, &#x27;87&#x27;,\n",
       "                                                          &#x27;119&#x27;, &#x27;248&#x27;, &#x27;241&#x27;,\n",
       "                                                          &#x27;116&#x27;, &#x27;214&#x27;, &#x27;233&#x27;,\n",
       "                                                          &#x27;6&#x27;, &#x27;55&#x27;, &#x27;46&#x27;,\n",
       "                                                          &#x27;187&#x27;, &#x27;91&#x27;, &#x27;95&#x27;,\n",
       "                                                          &#x27;51&#x27;, &#x27;115&#x27;, &#x27;217&#x27;,\n",
       "                                                          &#x27;230&#x27;, &#x27;105&#x27;, &#x27;170&#x27;,\n",
       "                                                          &#x27;172&#x27;, &#x27;179&#x27;, &#x27;70&#x27;,\n",
       "                                                          &#x27;210&#x27;, &#x27;216&#x27;, &#x27;178&#x27;, ...])),\n",
       "                                 (&#x27;featureunion&#x27;,\n",
       "                                  FeatureUnion(transformer_list=[(&#x27;numeric_features&#x27;,\n",
       "                                                                  Pipeline(s...\n",
       "                                                                                                           &#x27;175&#x27;,\n",
       "                                                                                                           &#x27;177&#x27;,\n",
       "                                                                                                           &#x27;95&#x27;,\n",
       "                                                                                                           &#x27;221&#x27;,\n",
       "                                                                                                           &#x27;252&#x27;,\n",
       "                                                                                                           &#x27;192&#x27;,\n",
       "                                                                                                           &#x27;32&#x27;,\n",
       "                                                                                                           &#x27;179&#x27;,\n",
       "                                                                                                           &#x27;70&#x27;, ...])),\n",
       "                                                                                  (&#x27;simpleimputer&#x27;,\n",
       "                                                                                   SimpleImputer(strategy=&#x27;most_frequent&#x27;)),\n",
       "                                                                                  (&#x27;onehotencoder&#x27;,\n",
       "                                                                                   OneHotEncoder(handle_unknown=&#x27;ignore&#x27;))])),\n",
       "                                                                 (&#x27;boolean_features&#x27;,\n",
       "                                                                  Pipeline(steps=[(&#x27;columnselector&#x27;,\n",
       "                                                                                   ColumnSelector(columns=[&#x27;not_first_offer&#x27;]))]))]))])),\n",
       "                (&#x27;randomforestclassifier&#x27;,\n",
       "                 RandomForestClassifier(random_state=9))])</pre></div></div></div><div class=\"sk-serial\"><div class=\"sk-item\"><div class=\"sk-label-container\"><div class=\"sk-label sk-toggleable\"><input class=\"sk-toggleable__control sk-hidden--visually\" id=\"sk-estimator-id-5\" type=\"checkbox\" ><label for=\"sk-estimator-id-5\" class=\"sk-toggleable__label sk-toggleable__label-arrow\">pipeline: Pipeline</label><div class=\"sk-toggleable__content\"><pre>Pipeline(steps=[(&#x27;columnselector&#x27;,\n",
       "                 ColumnSelector(columns=[&#x27;45&#x27;, &#x27;137&#x27;, &#x27;not_first_offer&#x27;, &#x27;22&#x27;,\n",
       "                                         &#x27;41&#x27;, &#x27;87&#x27;, &#x27;119&#x27;, &#x27;248&#x27;, &#x27;241&#x27;, &#x27;116&#x27;,\n",
       "                                         &#x27;214&#x27;, &#x27;233&#x27;, &#x27;6&#x27;, &#x27;55&#x27;, &#x27;46&#x27;, &#x27;187&#x27;,\n",
       "                                         &#x27;91&#x27;, &#x27;95&#x27;, &#x27;51&#x27;, &#x27;115&#x27;, &#x27;217&#x27;, &#x27;230&#x27;,\n",
       "                                         &#x27;105&#x27;, &#x27;170&#x27;, &#x27;172&#x27;, &#x27;179&#x27;, &#x27;70&#x27;,\n",
       "                                         &#x27;210&#x27;, &#x27;216&#x27;, &#x27;178&#x27;, ...])),\n",
       "                (&#x27;featureunion&#x27;,\n",
       "                 FeatureUnion(transformer_list=[(&#x27;numeric_features&#x27;,\n",
       "                                                 Pipeline(steps=[(&#x27;columnselector&#x27;,\n",
       "                                                                  Colu...\n",
       "                                                                                          &#x27;193&#x27;,\n",
       "                                                                                          &#x27;17&#x27;,\n",
       "                                                                                          &#x27;214&#x27;,\n",
       "                                                                                          &#x27;218&#x27;,\n",
       "                                                                                          &#x27;197&#x27;,\n",
       "                                                                                          &#x27;65&#x27;,\n",
       "                                                                                          &#x27;220&#x27;,\n",
       "                                                                                          &#x27;201&#x27;,\n",
       "                                                                                          &#x27;132&#x27;,\n",
       "                                                                                          &#x27;141&#x27;,\n",
       "                                                                                          &#x27;155&#x27;,\n",
       "                                                                                          &#x27;163&#x27;,\n",
       "                                                                                          &#x27;175&#x27;,\n",
       "                                                                                          &#x27;177&#x27;,\n",
       "                                                                                          &#x27;95&#x27;,\n",
       "                                                                                          &#x27;221&#x27;,\n",
       "                                                                                          &#x27;252&#x27;,\n",
       "                                                                                          &#x27;192&#x27;,\n",
       "                                                                                          &#x27;32&#x27;,\n",
       "                                                                                          &#x27;179&#x27;,\n",
       "                                                                                          &#x27;70&#x27;, ...])),\n",
       "                                                                 (&#x27;simpleimputer&#x27;,\n",
       "                                                                  SimpleImputer(strategy=&#x27;most_frequent&#x27;)),\n",
       "                                                                 (&#x27;onehotencoder&#x27;,\n",
       "                                                                  OneHotEncoder(handle_unknown=&#x27;ignore&#x27;))])),\n",
       "                                                (&#x27;boolean_features&#x27;,\n",
       "                                                 Pipeline(steps=[(&#x27;columnselector&#x27;,\n",
       "                                                                  ColumnSelector(columns=[&#x27;not_first_offer&#x27;]))]))]))])</pre></div></div></div><div class=\"sk-serial\"><div class=\"sk-item\"><div class=\"sk-estimator sk-toggleable\"><input class=\"sk-toggleable__control sk-hidden--visually\" id=\"sk-estimator-id-6\" type=\"checkbox\" ><label for=\"sk-estimator-id-6\" class=\"sk-toggleable__label sk-toggleable__label-arrow\">ColumnSelector</label><div class=\"sk-toggleable__content\"><pre>ColumnSelector(columns=[&#x27;45&#x27;, &#x27;137&#x27;, &#x27;not_first_offer&#x27;, &#x27;22&#x27;, &#x27;41&#x27;, &#x27;87&#x27;, &#x27;119&#x27;,\n",
       "                        &#x27;248&#x27;, &#x27;241&#x27;, &#x27;116&#x27;, &#x27;214&#x27;, &#x27;233&#x27;, &#x27;6&#x27;, &#x27;55&#x27;, &#x27;46&#x27;,\n",
       "                        &#x27;187&#x27;, &#x27;91&#x27;, &#x27;95&#x27;, &#x27;51&#x27;, &#x27;115&#x27;, &#x27;217&#x27;, &#x27;230&#x27;, &#x27;105&#x27;,\n",
       "                        &#x27;170&#x27;, &#x27;172&#x27;, &#x27;179&#x27;, &#x27;70&#x27;, &#x27;210&#x27;, &#x27;216&#x27;, &#x27;178&#x27;, ...])</pre></div></div></div><div class=\"sk-item sk-dashed-wrapped\"><div class=\"sk-label-container\"><div class=\"sk-label sk-toggleable\"><input class=\"sk-toggleable__control sk-hidden--visually\" id=\"sk-estimator-id-7\" type=\"checkbox\" ><label for=\"sk-estimator-id-7\" class=\"sk-toggleable__label sk-toggleable__label-arrow\">featureunion: FeatureUnion</label><div class=\"sk-toggleable__content\"><pre>FeatureUnion(transformer_list=[(&#x27;numeric_features&#x27;,\n",
       "                                Pipeline(steps=[(&#x27;columnselector&#x27;,\n",
       "                                                 ColumnSelector(columns=[&#x27;45&#x27;,\n",
       "                                                                         &#x27;137&#x27;,\n",
       "                                                                         &#x27;22&#x27;,\n",
       "                                                                         &#x27;41&#x27;,\n",
       "                                                                         &#x27;87&#x27;,\n",
       "                                                                         &#x27;119&#x27;,\n",
       "                                                                         &#x27;248&#x27;,\n",
       "                                                                         &#x27;241&#x27;,\n",
       "                                                                         &#x27;116&#x27;,\n",
       "                                                                         &#x27;233&#x27;,\n",
       "                                                                         &#x27;6&#x27;,\n",
       "                                                                         &#x27;55&#x27;,\n",
       "                                                                         &#x27;46&#x27;,\n",
       "                                                                         &#x27;187&#x27;,\n",
       "                                                                         &#x27;91&#x27;,\n",
       "                                                                         &#x27;51&#x27;,\n",
       "                                                                         &#x27;115&#x27;,\n",
       "                                                                         &#x27;217&#x27;,\n",
       "                                                                         &#x27;230&#x27;,\n",
       "                                                                         &#x27;105&#x27;,\n",
       "                                                                         &#x27;170&#x27;,\n",
       "                                                                         &#x27;172&#x27;,\n",
       "                                                                         &#x27;210&#x27;,\n",
       "                                                                         &#x27;178&#x27;,\n",
       "                                                                         &#x27;174&#x27;,\n",
       "                                                                         &#x27;8&#x27;,\n",
       "                                                                         &#x27;164&#x27;,\n",
       "                                                                         &#x27;158&#x27;,\n",
       "                                                                         &#x27;234&#x27;,\n",
       "                                                                         &#x27;108&#x27;, ...])),\n",
       "                                                (&#x27;simpleimputer&#x27;,\n",
       "                                                 SimpleImputer()),\n",
       "                                                (&#x27;standardscaler&#x27;,\n",
       "                                                 StandardScaler...\n",
       "                                                                         &#x27;80&#x27;,\n",
       "                                                                         &#x27;193&#x27;,\n",
       "                                                                         &#x27;17&#x27;,\n",
       "                                                                         &#x27;214&#x27;,\n",
       "                                                                         &#x27;218&#x27;,\n",
       "                                                                         &#x27;197&#x27;,\n",
       "                                                                         &#x27;65&#x27;,\n",
       "                                                                         &#x27;220&#x27;,\n",
       "                                                                         &#x27;201&#x27;,\n",
       "                                                                         &#x27;132&#x27;,\n",
       "                                                                         &#x27;141&#x27;,\n",
       "                                                                         &#x27;155&#x27;,\n",
       "                                                                         &#x27;163&#x27;,\n",
       "                                                                         &#x27;175&#x27;,\n",
       "                                                                         &#x27;177&#x27;,\n",
       "                                                                         &#x27;95&#x27;,\n",
       "                                                                         &#x27;221&#x27;,\n",
       "                                                                         &#x27;252&#x27;,\n",
       "                                                                         &#x27;192&#x27;,\n",
       "                                                                         &#x27;32&#x27;,\n",
       "                                                                         &#x27;179&#x27;,\n",
       "                                                                         &#x27;70&#x27;, ...])),\n",
       "                                                (&#x27;simpleimputer&#x27;,\n",
       "                                                 SimpleImputer(strategy=&#x27;most_frequent&#x27;)),\n",
       "                                                (&#x27;onehotencoder&#x27;,\n",
       "                                                 OneHotEncoder(handle_unknown=&#x27;ignore&#x27;))])),\n",
       "                               (&#x27;boolean_features&#x27;,\n",
       "                                Pipeline(steps=[(&#x27;columnselector&#x27;,\n",
       "                                                 ColumnSelector(columns=[&#x27;not_first_offer&#x27;]))]))])</pre></div></div></div><div class=\"sk-parallel\"><div class=\"sk-parallel-item\"><div class=\"sk-item\"><div class=\"sk-label-container\"><div class=\"sk-label sk-toggleable\"><label>numeric_features</label></div></div><div class=\"sk-serial\"><div class=\"sk-item\"><div class=\"sk-serial\"><div class=\"sk-item\"><div class=\"sk-estimator sk-toggleable\"><input class=\"sk-toggleable__control sk-hidden--visually\" id=\"sk-estimator-id-8\" type=\"checkbox\" ><label for=\"sk-estimator-id-8\" class=\"sk-toggleable__label sk-toggleable__label-arrow\">ColumnSelector</label><div class=\"sk-toggleable__content\"><pre>ColumnSelector(columns=[&#x27;45&#x27;, &#x27;137&#x27;, &#x27;22&#x27;, &#x27;41&#x27;, &#x27;87&#x27;, &#x27;119&#x27;, &#x27;248&#x27;, &#x27;241&#x27;,\n",
       "                        &#x27;116&#x27;, &#x27;233&#x27;, &#x27;6&#x27;, &#x27;55&#x27;, &#x27;46&#x27;, &#x27;187&#x27;, &#x27;91&#x27;, &#x27;51&#x27;, &#x27;115&#x27;,\n",
       "                        &#x27;217&#x27;, &#x27;230&#x27;, &#x27;105&#x27;, &#x27;170&#x27;, &#x27;172&#x27;, &#x27;210&#x27;, &#x27;178&#x27;, &#x27;174&#x27;,\n",
       "                        &#x27;8&#x27;, &#x27;164&#x27;, &#x27;158&#x27;, &#x27;234&#x27;, &#x27;108&#x27;, ...])</pre></div></div></div><div class=\"sk-item\"><div class=\"sk-estimator sk-toggleable\"><input class=\"sk-toggleable__control sk-hidden--visually\" id=\"sk-estimator-id-9\" type=\"checkbox\" ><label for=\"sk-estimator-id-9\" class=\"sk-toggleable__label sk-toggleable__label-arrow\">SimpleImputer</label><div class=\"sk-toggleable__content\"><pre>SimpleImputer()</pre></div></div></div><div class=\"sk-item\"><div class=\"sk-estimator sk-toggleable\"><input class=\"sk-toggleable__control sk-hidden--visually\" id=\"sk-estimator-id-10\" type=\"checkbox\" ><label for=\"sk-estimator-id-10\" class=\"sk-toggleable__label sk-toggleable__label-arrow\">StandardScaler</label><div class=\"sk-toggleable__content\"><pre>StandardScaler()</pre></div></div></div></div></div></div></div></div><div class=\"sk-parallel-item\"><div class=\"sk-item\"><div class=\"sk-label-container\"><div class=\"sk-label sk-toggleable\"><label>categorical_features</label></div></div><div class=\"sk-serial\"><div class=\"sk-item\"><div class=\"sk-serial\"><div class=\"sk-item\"><div class=\"sk-estimator sk-toggleable\"><input class=\"sk-toggleable__control sk-hidden--visually\" id=\"sk-estimator-id-11\" type=\"checkbox\" ><label for=\"sk-estimator-id-11\" class=\"sk-toggleable__label sk-toggleable__label-arrow\">ColumnSelector</label><div class=\"sk-toggleable__content\"><pre>ColumnSelector(columns=[&#x27;24&#x27;, &#x27;30&#x27;, &#x27;199&#x27;, &#x27;195&#x27;, &#x27;29&#x27;, &#x27;23&#x27;, &#x27;31&#x27;, &#x27;57&#x27;, &#x27;80&#x27;,\n",
       "                        &#x27;193&#x27;, &#x27;17&#x27;, &#x27;214&#x27;, &#x27;218&#x27;, &#x27;197&#x27;, &#x27;65&#x27;, &#x27;220&#x27;, &#x27;201&#x27;,\n",
       "                        &#x27;132&#x27;, &#x27;141&#x27;, &#x27;155&#x27;, &#x27;163&#x27;, &#x27;175&#x27;, &#x27;177&#x27;, &#x27;95&#x27;, &#x27;221&#x27;,\n",
       "                        &#x27;252&#x27;, &#x27;192&#x27;, &#x27;32&#x27;, &#x27;179&#x27;, &#x27;70&#x27;, ...])</pre></div></div></div><div class=\"sk-item\"><div class=\"sk-estimator sk-toggleable\"><input class=\"sk-toggleable__control sk-hidden--visually\" id=\"sk-estimator-id-12\" type=\"checkbox\" ><label for=\"sk-estimator-id-12\" class=\"sk-toggleable__label sk-toggleable__label-arrow\">SimpleImputer</label><div class=\"sk-toggleable__content\"><pre>SimpleImputer(strategy=&#x27;most_frequent&#x27;)</pre></div></div></div><div class=\"sk-item\"><div class=\"sk-estimator sk-toggleable\"><input class=\"sk-toggleable__control sk-hidden--visually\" id=\"sk-estimator-id-13\" type=\"checkbox\" ><label for=\"sk-estimator-id-13\" class=\"sk-toggleable__label sk-toggleable__label-arrow\">OneHotEncoder</label><div class=\"sk-toggleable__content\"><pre>OneHotEncoder(handle_unknown=&#x27;ignore&#x27;)</pre></div></div></div></div></div></div></div></div><div class=\"sk-parallel-item\"><div class=\"sk-item\"><div class=\"sk-label-container\"><div class=\"sk-label sk-toggleable\"><label>boolean_features</label></div></div><div class=\"sk-serial\"><div class=\"sk-item\"><div class=\"sk-serial\"><div class=\"sk-item\"><div class=\"sk-estimator sk-toggleable\"><input class=\"sk-toggleable__control sk-hidden--visually\" id=\"sk-estimator-id-14\" type=\"checkbox\" ><label for=\"sk-estimator-id-14\" class=\"sk-toggleable__label sk-toggleable__label-arrow\">ColumnSelector</label><div class=\"sk-toggleable__content\"><pre>ColumnSelector(columns=[&#x27;not_first_offer&#x27;])</pre></div></div></div></div></div></div></div></div></div></div></div></div><div class=\"sk-item\"><div class=\"sk-estimator sk-toggleable\"><input class=\"sk-toggleable__control sk-hidden--visually\" id=\"sk-estimator-id-15\" type=\"checkbox\" ><label for=\"sk-estimator-id-15\" class=\"sk-toggleable__label sk-toggleable__label-arrow\">RandomForestClassifier</label><div class=\"sk-toggleable__content\"><pre>RandomForestClassifier(random_state=9)</pre></div></div></div></div></div></div></div>"
      ],
      "text/plain": [
       "Pipeline(steps=[('pipeline',\n",
       "                 Pipeline(steps=[('columnselector',\n",
       "                                  ColumnSelector(columns=['45', '137',\n",
       "                                                          'not_first_offer',\n",
       "                                                          '22', '41', '87',\n",
       "                                                          '119', '248', '241',\n",
       "                                                          '116', '214', '233',\n",
       "                                                          '6', '55', '46',\n",
       "                                                          '187', '91', '95',\n",
       "                                                          '51', '115', '217',\n",
       "                                                          '230', '105', '170',\n",
       "                                                          '172', '179', '70',\n",
       "                                                          '210', '216', '178', ...])),\n",
       "                                 ('featureunion',\n",
       "                                  FeatureUnion(transformer_list=[('numeric_features',\n",
       "                                                                  Pipeline(s...\n",
       "                                                                                                           '175',\n",
       "                                                                                                           '177',\n",
       "                                                                                                           '95',\n",
       "                                                                                                           '221',\n",
       "                                                                                                           '252',\n",
       "                                                                                                           '192',\n",
       "                                                                                                           '32',\n",
       "                                                                                                           '179',\n",
       "                                                                                                           '70', ...])),\n",
       "                                                                                  ('simpleimputer',\n",
       "                                                                                   SimpleImputer(strategy='most_frequent')),\n",
       "                                                                                  ('onehotencoder',\n",
       "                                                                                   OneHotEncoder(handle_unknown='ignore'))])),\n",
       "                                                                 ('boolean_features',\n",
       "                                                                  Pipeline(steps=[('columnselector',\n",
       "                                                                                   ColumnSelector(columns=['not_first_offer']))]))]))])),\n",
       "                ('randomforestclassifier',\n",
       "                 RandomForestClassifier(random_state=9))])"
      ]
     },
     "execution_count": 70,
     "metadata": {},
     "output_type": "execute_result"
    }
   ],
   "source": [
    "rf_pipe.fit(X_train, y_train)"
   ]
  },
  {
   "cell_type": "code",
   "execution_count": 71,
   "id": "025970ef",
   "metadata": {},
   "outputs": [],
   "source": [
    "preds = rf_pipe.predict(X_test)"
   ]
  },
  {
   "cell_type": "code",
   "execution_count": 72,
   "id": "06ae69ad",
   "metadata": {},
   "outputs": [
    {
     "data": {
      "text/plain": [
       "0.7472968293782207"
      ]
     },
     "execution_count": 72,
     "metadata": {},
     "output_type": "execute_result"
    }
   ],
   "source": [
    "f1_score(y_test, preds, average='macro')"
   ]
  },
  {
   "cell_type": "code",
   "execution_count": 73,
   "id": "753d40e9",
   "metadata": {},
   "outputs": [
    {
     "name": "stdout",
     "output_type": "stream",
     "text": [
      "              precision    recall  f1-score   support\n",
      "\n",
      "         0.0       1.00      0.87      0.93    178557\n",
      "         1.0       0.39      1.00      0.56     15083\n",
      "\n",
      "    accuracy                           0.88    193640\n",
      "   macro avg       0.70      0.93      0.75    193640\n",
      "weighted avg       0.95      0.88      0.90    193640\n",
      "\n"
     ]
    }
   ],
   "source": [
    "print(classification_report(y_test, preds))"
   ]
  },
  {
   "cell_type": "code",
   "execution_count": null,
   "id": "ae7042fb",
   "metadata": {},
   "outputs": [],
   "source": []
  },
  {
   "cell_type": "markdown",
   "id": "0d898af4",
   "metadata": {},
   "source": [
    "- Не плохой прирост, +4% точности F1-macro, это хороший результат."
   ]
  },
  {
   "cell_type": "markdown",
   "id": "60a3ad17",
   "metadata": {},
   "source": [
    "========================================================================================================================"
   ]
  },
  {
   "cell_type": "markdown",
   "id": "5e5fec1f",
   "metadata": {},
   "source": [
    "- Теперь попробуем линейный алгоритм."
   ]
  },
  {
   "cell_type": "code",
   "execution_count": 74,
   "id": "5efe84ca",
   "metadata": {},
   "outputs": [],
   "source": [
    "lg_pipe = make_pipeline(\n",
    "    f_prep_pipeline,\n",
    "    LogisticRegression(random_state=RANDOM_STATE)\n",
    ")"
   ]
  },
  {
   "cell_type": "code",
   "execution_count": 75,
   "id": "a2fa36ce",
   "metadata": {},
   "outputs": [
    {
     "name": "stderr",
     "output_type": "stream",
     "text": [
      "C:\\Users\\user\\AppData\\Roaming\\Python\\Python39\\site-packages\\sklearn\\linear_model\\_logistic.py:444: ConvergenceWarning: lbfgs failed to converge (status=1):\n",
      "STOP: TOTAL NO. of ITERATIONS REACHED LIMIT.\n",
      "\n",
      "Increase the number of iterations (max_iter) or scale the data as shown in:\n",
      "    https://scikit-learn.org/stable/modules/preprocessing.html\n",
      "Please also refer to the documentation for alternative solver options:\n",
      "    https://scikit-learn.org/stable/modules/linear_model.html#logistic-regression\n",
      "  n_iter_i = _check_optimize_result(\n"
     ]
    },
    {
     "data": {
      "text/html": [
       "<style>#sk-container-id-3 {color: black;background-color: white;}#sk-container-id-3 pre{padding: 0;}#sk-container-id-3 div.sk-toggleable {background-color: white;}#sk-container-id-3 label.sk-toggleable__label {cursor: pointer;display: block;width: 100%;margin-bottom: 0;padding: 0.3em;box-sizing: border-box;text-align: center;}#sk-container-id-3 label.sk-toggleable__label-arrow:before {content: \"▸\";float: left;margin-right: 0.25em;color: #696969;}#sk-container-id-3 label.sk-toggleable__label-arrow:hover:before {color: black;}#sk-container-id-3 div.sk-estimator:hover label.sk-toggleable__label-arrow:before {color: black;}#sk-container-id-3 div.sk-toggleable__content {max-height: 0;max-width: 0;overflow: hidden;text-align: left;background-color: #f0f8ff;}#sk-container-id-3 div.sk-toggleable__content pre {margin: 0.2em;color: black;border-radius: 0.25em;background-color: #f0f8ff;}#sk-container-id-3 input.sk-toggleable__control:checked~div.sk-toggleable__content {max-height: 200px;max-width: 100%;overflow: auto;}#sk-container-id-3 input.sk-toggleable__control:checked~label.sk-toggleable__label-arrow:before {content: \"▾\";}#sk-container-id-3 div.sk-estimator input.sk-toggleable__control:checked~label.sk-toggleable__label {background-color: #d4ebff;}#sk-container-id-3 div.sk-label input.sk-toggleable__control:checked~label.sk-toggleable__label {background-color: #d4ebff;}#sk-container-id-3 input.sk-hidden--visually {border: 0;clip: rect(1px 1px 1px 1px);clip: rect(1px, 1px, 1px, 1px);height: 1px;margin: -1px;overflow: hidden;padding: 0;position: absolute;width: 1px;}#sk-container-id-3 div.sk-estimator {font-family: monospace;background-color: #f0f8ff;border: 1px dotted black;border-radius: 0.25em;box-sizing: border-box;margin-bottom: 0.5em;}#sk-container-id-3 div.sk-estimator:hover {background-color: #d4ebff;}#sk-container-id-3 div.sk-parallel-item::after {content: \"\";width: 100%;border-bottom: 1px solid gray;flex-grow: 1;}#sk-container-id-3 div.sk-label:hover label.sk-toggleable__label {background-color: #d4ebff;}#sk-container-id-3 div.sk-serial::before {content: \"\";position: absolute;border-left: 1px solid gray;box-sizing: border-box;top: 0;bottom: 0;left: 50%;z-index: 0;}#sk-container-id-3 div.sk-serial {display: flex;flex-direction: column;align-items: center;background-color: white;padding-right: 0.2em;padding-left: 0.2em;position: relative;}#sk-container-id-3 div.sk-item {position: relative;z-index: 1;}#sk-container-id-3 div.sk-parallel {display: flex;align-items: stretch;justify-content: center;background-color: white;position: relative;}#sk-container-id-3 div.sk-item::before, #sk-container-id-3 div.sk-parallel-item::before {content: \"\";position: absolute;border-left: 1px solid gray;box-sizing: border-box;top: 0;bottom: 0;left: 50%;z-index: -1;}#sk-container-id-3 div.sk-parallel-item {display: flex;flex-direction: column;z-index: 1;position: relative;background-color: white;}#sk-container-id-3 div.sk-parallel-item:first-child::after {align-self: flex-end;width: 50%;}#sk-container-id-3 div.sk-parallel-item:last-child::after {align-self: flex-start;width: 50%;}#sk-container-id-3 div.sk-parallel-item:only-child::after {width: 0;}#sk-container-id-3 div.sk-dashed-wrapped {border: 1px dashed gray;margin: 0 0.4em 0.5em 0.4em;box-sizing: border-box;padding-bottom: 0.4em;background-color: white;}#sk-container-id-3 div.sk-label label {font-family: monospace;font-weight: bold;display: inline-block;line-height: 1.2em;}#sk-container-id-3 div.sk-label-container {text-align: center;}#sk-container-id-3 div.sk-container {/* jupyter's `normalize.less` sets `[hidden] { display: none; }` but bootstrap.min.css set `[hidden] { display: none !important; }` so we also need the `!important` here to be able to override the default hidden behavior on the sphinx rendered scikit-learn.org. See: https://github.com/scikit-learn/scikit-learn/issues/21755 */display: inline-block !important;position: relative;}#sk-container-id-3 div.sk-text-repr-fallback {display: none;}</style><div id=\"sk-container-id-3\" class=\"sk-top-container\"><div class=\"sk-text-repr-fallback\"><pre>Pipeline(steps=[(&#x27;pipeline&#x27;,\n",
       "                 Pipeline(steps=[(&#x27;columnselector&#x27;,\n",
       "                                  ColumnSelector(columns=[&#x27;45&#x27;, &#x27;137&#x27;,\n",
       "                                                          &#x27;not_first_offer&#x27;,\n",
       "                                                          &#x27;22&#x27;, &#x27;41&#x27;, &#x27;87&#x27;,\n",
       "                                                          &#x27;119&#x27;, &#x27;248&#x27;, &#x27;241&#x27;,\n",
       "                                                          &#x27;116&#x27;, &#x27;214&#x27;, &#x27;233&#x27;,\n",
       "                                                          &#x27;6&#x27;, &#x27;55&#x27;, &#x27;46&#x27;,\n",
       "                                                          &#x27;187&#x27;, &#x27;91&#x27;, &#x27;95&#x27;,\n",
       "                                                          &#x27;51&#x27;, &#x27;115&#x27;, &#x27;217&#x27;,\n",
       "                                                          &#x27;230&#x27;, &#x27;105&#x27;, &#x27;170&#x27;,\n",
       "                                                          &#x27;172&#x27;, &#x27;179&#x27;, &#x27;70&#x27;,\n",
       "                                                          &#x27;210&#x27;, &#x27;216&#x27;, &#x27;178&#x27;, ...])),\n",
       "                                 (&#x27;featureunion&#x27;,\n",
       "                                  FeatureUnion(transformer_list=[(&#x27;numeric_features&#x27;,\n",
       "                                                                  Pipeline(s...\n",
       "                                                                                                           &#x27;155&#x27;,\n",
       "                                                                                                           &#x27;163&#x27;,\n",
       "                                                                                                           &#x27;175&#x27;,\n",
       "                                                                                                           &#x27;177&#x27;,\n",
       "                                                                                                           &#x27;95&#x27;,\n",
       "                                                                                                           &#x27;221&#x27;,\n",
       "                                                                                                           &#x27;252&#x27;,\n",
       "                                                                                                           &#x27;192&#x27;,\n",
       "                                                                                                           &#x27;32&#x27;,\n",
       "                                                                                                           &#x27;179&#x27;,\n",
       "                                                                                                           &#x27;70&#x27;, ...])),\n",
       "                                                                                  (&#x27;simpleimputer&#x27;,\n",
       "                                                                                   SimpleImputer(strategy=&#x27;most_frequent&#x27;)),\n",
       "                                                                                  (&#x27;onehotencoder&#x27;,\n",
       "                                                                                   OneHotEncoder(handle_unknown=&#x27;ignore&#x27;))])),\n",
       "                                                                 (&#x27;boolean_features&#x27;,\n",
       "                                                                  Pipeline(steps=[(&#x27;columnselector&#x27;,\n",
       "                                                                                   ColumnSelector(columns=[&#x27;not_first_offer&#x27;]))]))]))])),\n",
       "                (&#x27;logisticregression&#x27;, LogisticRegression(random_state=9))])</pre><b>In a Jupyter environment, please rerun this cell to show the HTML representation or trust the notebook. <br />On GitHub, the HTML representation is unable to render, please try loading this page with nbviewer.org.</b></div><div class=\"sk-container\" hidden><div class=\"sk-item sk-dashed-wrapped\"><div class=\"sk-label-container\"><div class=\"sk-label sk-toggleable\"><input class=\"sk-toggleable__control sk-hidden--visually\" id=\"sk-estimator-id-16\" type=\"checkbox\" ><label for=\"sk-estimator-id-16\" class=\"sk-toggleable__label sk-toggleable__label-arrow\">Pipeline</label><div class=\"sk-toggleable__content\"><pre>Pipeline(steps=[(&#x27;pipeline&#x27;,\n",
       "                 Pipeline(steps=[(&#x27;columnselector&#x27;,\n",
       "                                  ColumnSelector(columns=[&#x27;45&#x27;, &#x27;137&#x27;,\n",
       "                                                          &#x27;not_first_offer&#x27;,\n",
       "                                                          &#x27;22&#x27;, &#x27;41&#x27;, &#x27;87&#x27;,\n",
       "                                                          &#x27;119&#x27;, &#x27;248&#x27;, &#x27;241&#x27;,\n",
       "                                                          &#x27;116&#x27;, &#x27;214&#x27;, &#x27;233&#x27;,\n",
       "                                                          &#x27;6&#x27;, &#x27;55&#x27;, &#x27;46&#x27;,\n",
       "                                                          &#x27;187&#x27;, &#x27;91&#x27;, &#x27;95&#x27;,\n",
       "                                                          &#x27;51&#x27;, &#x27;115&#x27;, &#x27;217&#x27;,\n",
       "                                                          &#x27;230&#x27;, &#x27;105&#x27;, &#x27;170&#x27;,\n",
       "                                                          &#x27;172&#x27;, &#x27;179&#x27;, &#x27;70&#x27;,\n",
       "                                                          &#x27;210&#x27;, &#x27;216&#x27;, &#x27;178&#x27;, ...])),\n",
       "                                 (&#x27;featureunion&#x27;,\n",
       "                                  FeatureUnion(transformer_list=[(&#x27;numeric_features&#x27;,\n",
       "                                                                  Pipeline(s...\n",
       "                                                                                                           &#x27;155&#x27;,\n",
       "                                                                                                           &#x27;163&#x27;,\n",
       "                                                                                                           &#x27;175&#x27;,\n",
       "                                                                                                           &#x27;177&#x27;,\n",
       "                                                                                                           &#x27;95&#x27;,\n",
       "                                                                                                           &#x27;221&#x27;,\n",
       "                                                                                                           &#x27;252&#x27;,\n",
       "                                                                                                           &#x27;192&#x27;,\n",
       "                                                                                                           &#x27;32&#x27;,\n",
       "                                                                                                           &#x27;179&#x27;,\n",
       "                                                                                                           &#x27;70&#x27;, ...])),\n",
       "                                                                                  (&#x27;simpleimputer&#x27;,\n",
       "                                                                                   SimpleImputer(strategy=&#x27;most_frequent&#x27;)),\n",
       "                                                                                  (&#x27;onehotencoder&#x27;,\n",
       "                                                                                   OneHotEncoder(handle_unknown=&#x27;ignore&#x27;))])),\n",
       "                                                                 (&#x27;boolean_features&#x27;,\n",
       "                                                                  Pipeline(steps=[(&#x27;columnselector&#x27;,\n",
       "                                                                                   ColumnSelector(columns=[&#x27;not_first_offer&#x27;]))]))]))])),\n",
       "                (&#x27;logisticregression&#x27;, LogisticRegression(random_state=9))])</pre></div></div></div><div class=\"sk-serial\"><div class=\"sk-item\"><div class=\"sk-label-container\"><div class=\"sk-label sk-toggleable\"><input class=\"sk-toggleable__control sk-hidden--visually\" id=\"sk-estimator-id-17\" type=\"checkbox\" ><label for=\"sk-estimator-id-17\" class=\"sk-toggleable__label sk-toggleable__label-arrow\">pipeline: Pipeline</label><div class=\"sk-toggleable__content\"><pre>Pipeline(steps=[(&#x27;columnselector&#x27;,\n",
       "                 ColumnSelector(columns=[&#x27;45&#x27;, &#x27;137&#x27;, &#x27;not_first_offer&#x27;, &#x27;22&#x27;,\n",
       "                                         &#x27;41&#x27;, &#x27;87&#x27;, &#x27;119&#x27;, &#x27;248&#x27;, &#x27;241&#x27;, &#x27;116&#x27;,\n",
       "                                         &#x27;214&#x27;, &#x27;233&#x27;, &#x27;6&#x27;, &#x27;55&#x27;, &#x27;46&#x27;, &#x27;187&#x27;,\n",
       "                                         &#x27;91&#x27;, &#x27;95&#x27;, &#x27;51&#x27;, &#x27;115&#x27;, &#x27;217&#x27;, &#x27;230&#x27;,\n",
       "                                         &#x27;105&#x27;, &#x27;170&#x27;, &#x27;172&#x27;, &#x27;179&#x27;, &#x27;70&#x27;,\n",
       "                                         &#x27;210&#x27;, &#x27;216&#x27;, &#x27;178&#x27;, ...])),\n",
       "                (&#x27;featureunion&#x27;,\n",
       "                 FeatureUnion(transformer_list=[(&#x27;numeric_features&#x27;,\n",
       "                                                 Pipeline(steps=[(&#x27;columnselector&#x27;,\n",
       "                                                                  Colu...\n",
       "                                                                                          &#x27;193&#x27;,\n",
       "                                                                                          &#x27;17&#x27;,\n",
       "                                                                                          &#x27;214&#x27;,\n",
       "                                                                                          &#x27;218&#x27;,\n",
       "                                                                                          &#x27;197&#x27;,\n",
       "                                                                                          &#x27;65&#x27;,\n",
       "                                                                                          &#x27;220&#x27;,\n",
       "                                                                                          &#x27;201&#x27;,\n",
       "                                                                                          &#x27;132&#x27;,\n",
       "                                                                                          &#x27;141&#x27;,\n",
       "                                                                                          &#x27;155&#x27;,\n",
       "                                                                                          &#x27;163&#x27;,\n",
       "                                                                                          &#x27;175&#x27;,\n",
       "                                                                                          &#x27;177&#x27;,\n",
       "                                                                                          &#x27;95&#x27;,\n",
       "                                                                                          &#x27;221&#x27;,\n",
       "                                                                                          &#x27;252&#x27;,\n",
       "                                                                                          &#x27;192&#x27;,\n",
       "                                                                                          &#x27;32&#x27;,\n",
       "                                                                                          &#x27;179&#x27;,\n",
       "                                                                                          &#x27;70&#x27;, ...])),\n",
       "                                                                 (&#x27;simpleimputer&#x27;,\n",
       "                                                                  SimpleImputer(strategy=&#x27;most_frequent&#x27;)),\n",
       "                                                                 (&#x27;onehotencoder&#x27;,\n",
       "                                                                  OneHotEncoder(handle_unknown=&#x27;ignore&#x27;))])),\n",
       "                                                (&#x27;boolean_features&#x27;,\n",
       "                                                 Pipeline(steps=[(&#x27;columnselector&#x27;,\n",
       "                                                                  ColumnSelector(columns=[&#x27;not_first_offer&#x27;]))]))]))])</pre></div></div></div><div class=\"sk-serial\"><div class=\"sk-item\"><div class=\"sk-estimator sk-toggleable\"><input class=\"sk-toggleable__control sk-hidden--visually\" id=\"sk-estimator-id-18\" type=\"checkbox\" ><label for=\"sk-estimator-id-18\" class=\"sk-toggleable__label sk-toggleable__label-arrow\">ColumnSelector</label><div class=\"sk-toggleable__content\"><pre>ColumnSelector(columns=[&#x27;45&#x27;, &#x27;137&#x27;, &#x27;not_first_offer&#x27;, &#x27;22&#x27;, &#x27;41&#x27;, &#x27;87&#x27;, &#x27;119&#x27;,\n",
       "                        &#x27;248&#x27;, &#x27;241&#x27;, &#x27;116&#x27;, &#x27;214&#x27;, &#x27;233&#x27;, &#x27;6&#x27;, &#x27;55&#x27;, &#x27;46&#x27;,\n",
       "                        &#x27;187&#x27;, &#x27;91&#x27;, &#x27;95&#x27;, &#x27;51&#x27;, &#x27;115&#x27;, &#x27;217&#x27;, &#x27;230&#x27;, &#x27;105&#x27;,\n",
       "                        &#x27;170&#x27;, &#x27;172&#x27;, &#x27;179&#x27;, &#x27;70&#x27;, &#x27;210&#x27;, &#x27;216&#x27;, &#x27;178&#x27;, ...])</pre></div></div></div><div class=\"sk-item sk-dashed-wrapped\"><div class=\"sk-label-container\"><div class=\"sk-label sk-toggleable\"><input class=\"sk-toggleable__control sk-hidden--visually\" id=\"sk-estimator-id-19\" type=\"checkbox\" ><label for=\"sk-estimator-id-19\" class=\"sk-toggleable__label sk-toggleable__label-arrow\">featureunion: FeatureUnion</label><div class=\"sk-toggleable__content\"><pre>FeatureUnion(transformer_list=[(&#x27;numeric_features&#x27;,\n",
       "                                Pipeline(steps=[(&#x27;columnselector&#x27;,\n",
       "                                                 ColumnSelector(columns=[&#x27;45&#x27;,\n",
       "                                                                         &#x27;137&#x27;,\n",
       "                                                                         &#x27;22&#x27;,\n",
       "                                                                         &#x27;41&#x27;,\n",
       "                                                                         &#x27;87&#x27;,\n",
       "                                                                         &#x27;119&#x27;,\n",
       "                                                                         &#x27;248&#x27;,\n",
       "                                                                         &#x27;241&#x27;,\n",
       "                                                                         &#x27;116&#x27;,\n",
       "                                                                         &#x27;233&#x27;,\n",
       "                                                                         &#x27;6&#x27;,\n",
       "                                                                         &#x27;55&#x27;,\n",
       "                                                                         &#x27;46&#x27;,\n",
       "                                                                         &#x27;187&#x27;,\n",
       "                                                                         &#x27;91&#x27;,\n",
       "                                                                         &#x27;51&#x27;,\n",
       "                                                                         &#x27;115&#x27;,\n",
       "                                                                         &#x27;217&#x27;,\n",
       "                                                                         &#x27;230&#x27;,\n",
       "                                                                         &#x27;105&#x27;,\n",
       "                                                                         &#x27;170&#x27;,\n",
       "                                                                         &#x27;172&#x27;,\n",
       "                                                                         &#x27;210&#x27;,\n",
       "                                                                         &#x27;178&#x27;,\n",
       "                                                                         &#x27;174&#x27;,\n",
       "                                                                         &#x27;8&#x27;,\n",
       "                                                                         &#x27;164&#x27;,\n",
       "                                                                         &#x27;158&#x27;,\n",
       "                                                                         &#x27;234&#x27;,\n",
       "                                                                         &#x27;108&#x27;, ...])),\n",
       "                                                (&#x27;simpleimputer&#x27;,\n",
       "                                                 SimpleImputer()),\n",
       "                                                (&#x27;standardscaler&#x27;,\n",
       "                                                 StandardScaler...\n",
       "                                                                         &#x27;80&#x27;,\n",
       "                                                                         &#x27;193&#x27;,\n",
       "                                                                         &#x27;17&#x27;,\n",
       "                                                                         &#x27;214&#x27;,\n",
       "                                                                         &#x27;218&#x27;,\n",
       "                                                                         &#x27;197&#x27;,\n",
       "                                                                         &#x27;65&#x27;,\n",
       "                                                                         &#x27;220&#x27;,\n",
       "                                                                         &#x27;201&#x27;,\n",
       "                                                                         &#x27;132&#x27;,\n",
       "                                                                         &#x27;141&#x27;,\n",
       "                                                                         &#x27;155&#x27;,\n",
       "                                                                         &#x27;163&#x27;,\n",
       "                                                                         &#x27;175&#x27;,\n",
       "                                                                         &#x27;177&#x27;,\n",
       "                                                                         &#x27;95&#x27;,\n",
       "                                                                         &#x27;221&#x27;,\n",
       "                                                                         &#x27;252&#x27;,\n",
       "                                                                         &#x27;192&#x27;,\n",
       "                                                                         &#x27;32&#x27;,\n",
       "                                                                         &#x27;179&#x27;,\n",
       "                                                                         &#x27;70&#x27;, ...])),\n",
       "                                                (&#x27;simpleimputer&#x27;,\n",
       "                                                 SimpleImputer(strategy=&#x27;most_frequent&#x27;)),\n",
       "                                                (&#x27;onehotencoder&#x27;,\n",
       "                                                 OneHotEncoder(handle_unknown=&#x27;ignore&#x27;))])),\n",
       "                               (&#x27;boolean_features&#x27;,\n",
       "                                Pipeline(steps=[(&#x27;columnselector&#x27;,\n",
       "                                                 ColumnSelector(columns=[&#x27;not_first_offer&#x27;]))]))])</pre></div></div></div><div class=\"sk-parallel\"><div class=\"sk-parallel-item\"><div class=\"sk-item\"><div class=\"sk-label-container\"><div class=\"sk-label sk-toggleable\"><label>numeric_features</label></div></div><div class=\"sk-serial\"><div class=\"sk-item\"><div class=\"sk-serial\"><div class=\"sk-item\"><div class=\"sk-estimator sk-toggleable\"><input class=\"sk-toggleable__control sk-hidden--visually\" id=\"sk-estimator-id-20\" type=\"checkbox\" ><label for=\"sk-estimator-id-20\" class=\"sk-toggleable__label sk-toggleable__label-arrow\">ColumnSelector</label><div class=\"sk-toggleable__content\"><pre>ColumnSelector(columns=[&#x27;45&#x27;, &#x27;137&#x27;, &#x27;22&#x27;, &#x27;41&#x27;, &#x27;87&#x27;, &#x27;119&#x27;, &#x27;248&#x27;, &#x27;241&#x27;,\n",
       "                        &#x27;116&#x27;, &#x27;233&#x27;, &#x27;6&#x27;, &#x27;55&#x27;, &#x27;46&#x27;, &#x27;187&#x27;, &#x27;91&#x27;, &#x27;51&#x27;, &#x27;115&#x27;,\n",
       "                        &#x27;217&#x27;, &#x27;230&#x27;, &#x27;105&#x27;, &#x27;170&#x27;, &#x27;172&#x27;, &#x27;210&#x27;, &#x27;178&#x27;, &#x27;174&#x27;,\n",
       "                        &#x27;8&#x27;, &#x27;164&#x27;, &#x27;158&#x27;, &#x27;234&#x27;, &#x27;108&#x27;, ...])</pre></div></div></div><div class=\"sk-item\"><div class=\"sk-estimator sk-toggleable\"><input class=\"sk-toggleable__control sk-hidden--visually\" id=\"sk-estimator-id-21\" type=\"checkbox\" ><label for=\"sk-estimator-id-21\" class=\"sk-toggleable__label sk-toggleable__label-arrow\">SimpleImputer</label><div class=\"sk-toggleable__content\"><pre>SimpleImputer()</pre></div></div></div><div class=\"sk-item\"><div class=\"sk-estimator sk-toggleable\"><input class=\"sk-toggleable__control sk-hidden--visually\" id=\"sk-estimator-id-22\" type=\"checkbox\" ><label for=\"sk-estimator-id-22\" class=\"sk-toggleable__label sk-toggleable__label-arrow\">StandardScaler</label><div class=\"sk-toggleable__content\"><pre>StandardScaler()</pre></div></div></div></div></div></div></div></div><div class=\"sk-parallel-item\"><div class=\"sk-item\"><div class=\"sk-label-container\"><div class=\"sk-label sk-toggleable\"><label>categorical_features</label></div></div><div class=\"sk-serial\"><div class=\"sk-item\"><div class=\"sk-serial\"><div class=\"sk-item\"><div class=\"sk-estimator sk-toggleable\"><input class=\"sk-toggleable__control sk-hidden--visually\" id=\"sk-estimator-id-23\" type=\"checkbox\" ><label for=\"sk-estimator-id-23\" class=\"sk-toggleable__label sk-toggleable__label-arrow\">ColumnSelector</label><div class=\"sk-toggleable__content\"><pre>ColumnSelector(columns=[&#x27;24&#x27;, &#x27;30&#x27;, &#x27;199&#x27;, &#x27;195&#x27;, &#x27;29&#x27;, &#x27;23&#x27;, &#x27;31&#x27;, &#x27;57&#x27;, &#x27;80&#x27;,\n",
       "                        &#x27;193&#x27;, &#x27;17&#x27;, &#x27;214&#x27;, &#x27;218&#x27;, &#x27;197&#x27;, &#x27;65&#x27;, &#x27;220&#x27;, &#x27;201&#x27;,\n",
       "                        &#x27;132&#x27;, &#x27;141&#x27;, &#x27;155&#x27;, &#x27;163&#x27;, &#x27;175&#x27;, &#x27;177&#x27;, &#x27;95&#x27;, &#x27;221&#x27;,\n",
       "                        &#x27;252&#x27;, &#x27;192&#x27;, &#x27;32&#x27;, &#x27;179&#x27;, &#x27;70&#x27;, ...])</pre></div></div></div><div class=\"sk-item\"><div class=\"sk-estimator sk-toggleable\"><input class=\"sk-toggleable__control sk-hidden--visually\" id=\"sk-estimator-id-24\" type=\"checkbox\" ><label for=\"sk-estimator-id-24\" class=\"sk-toggleable__label sk-toggleable__label-arrow\">SimpleImputer</label><div class=\"sk-toggleable__content\"><pre>SimpleImputer(strategy=&#x27;most_frequent&#x27;)</pre></div></div></div><div class=\"sk-item\"><div class=\"sk-estimator sk-toggleable\"><input class=\"sk-toggleable__control sk-hidden--visually\" id=\"sk-estimator-id-25\" type=\"checkbox\" ><label for=\"sk-estimator-id-25\" class=\"sk-toggleable__label sk-toggleable__label-arrow\">OneHotEncoder</label><div class=\"sk-toggleable__content\"><pre>OneHotEncoder(handle_unknown=&#x27;ignore&#x27;)</pre></div></div></div></div></div></div></div></div><div class=\"sk-parallel-item\"><div class=\"sk-item\"><div class=\"sk-label-container\"><div class=\"sk-label sk-toggleable\"><label>boolean_features</label></div></div><div class=\"sk-serial\"><div class=\"sk-item\"><div class=\"sk-serial\"><div class=\"sk-item\"><div class=\"sk-estimator sk-toggleable\"><input class=\"sk-toggleable__control sk-hidden--visually\" id=\"sk-estimator-id-26\" type=\"checkbox\" ><label for=\"sk-estimator-id-26\" class=\"sk-toggleable__label sk-toggleable__label-arrow\">ColumnSelector</label><div class=\"sk-toggleable__content\"><pre>ColumnSelector(columns=[&#x27;not_first_offer&#x27;])</pre></div></div></div></div></div></div></div></div></div></div></div></div><div class=\"sk-item\"><div class=\"sk-estimator sk-toggleable\"><input class=\"sk-toggleable__control sk-hidden--visually\" id=\"sk-estimator-id-27\" type=\"checkbox\" ><label for=\"sk-estimator-id-27\" class=\"sk-toggleable__label sk-toggleable__label-arrow\">LogisticRegression</label><div class=\"sk-toggleable__content\"><pre>LogisticRegression(random_state=9)</pre></div></div></div></div></div></div></div>"
      ],
      "text/plain": [
       "Pipeline(steps=[('pipeline',\n",
       "                 Pipeline(steps=[('columnselector',\n",
       "                                  ColumnSelector(columns=['45', '137',\n",
       "                                                          'not_first_offer',\n",
       "                                                          '22', '41', '87',\n",
       "                                                          '119', '248', '241',\n",
       "                                                          '116', '214', '233',\n",
       "                                                          '6', '55', '46',\n",
       "                                                          '187', '91', '95',\n",
       "                                                          '51', '115', '217',\n",
       "                                                          '230', '105', '170',\n",
       "                                                          '172', '179', '70',\n",
       "                                                          '210', '216', '178', ...])),\n",
       "                                 ('featureunion',\n",
       "                                  FeatureUnion(transformer_list=[('numeric_features',\n",
       "                                                                  Pipeline(s...\n",
       "                                                                                                           '155',\n",
       "                                                                                                           '163',\n",
       "                                                                                                           '175',\n",
       "                                                                                                           '177',\n",
       "                                                                                                           '95',\n",
       "                                                                                                           '221',\n",
       "                                                                                                           '252',\n",
       "                                                                                                           '192',\n",
       "                                                                                                           '32',\n",
       "                                                                                                           '179',\n",
       "                                                                                                           '70', ...])),\n",
       "                                                                                  ('simpleimputer',\n",
       "                                                                                   SimpleImputer(strategy='most_frequent')),\n",
       "                                                                                  ('onehotencoder',\n",
       "                                                                                   OneHotEncoder(handle_unknown='ignore'))])),\n",
       "                                                                 ('boolean_features',\n",
       "                                                                  Pipeline(steps=[('columnselector',\n",
       "                                                                                   ColumnSelector(columns=['not_first_offer']))]))]))])),\n",
       "                ('logisticregression', LogisticRegression(random_state=9))])"
      ]
     },
     "execution_count": 75,
     "metadata": {},
     "output_type": "execute_result"
    }
   ],
   "source": [
    "lg_pipe.fit(X_train, y_train)"
   ]
  },
  {
   "cell_type": "code",
   "execution_count": 76,
   "id": "71a2ea56",
   "metadata": {},
   "outputs": [],
   "source": [
    "preds = lg_pipe.predict(X_test)"
   ]
  },
  {
   "cell_type": "code",
   "execution_count": 77,
   "id": "96121458",
   "metadata": {},
   "outputs": [
    {
     "data": {
      "text/plain": [
       "0.7485851896299329"
      ]
     },
     "execution_count": 77,
     "metadata": {},
     "output_type": "execute_result"
    }
   ],
   "source": [
    "f1_score(y_test, preds, average='macro')"
   ]
  },
  {
   "cell_type": "code",
   "execution_count": 78,
   "id": "4e0030d5",
   "metadata": {},
   "outputs": [
    {
     "name": "stdout",
     "output_type": "stream",
     "text": [
      "              precision    recall  f1-score   support\n",
      "\n",
      "         0.0       1.00      0.87      0.93    178557\n",
      "         1.0       0.40      1.00      0.57     15083\n",
      "\n",
      "    accuracy                           0.88    193640\n",
      "   macro avg       0.70      0.93      0.75    193640\n",
      "weighted avg       0.95      0.88      0.90    193640\n",
      "\n"
     ]
    }
   ],
   "source": [
    "print(classification_report(y_test, preds))"
   ]
  },
  {
   "cell_type": "markdown",
   "id": "e7dcbde1",
   "metadata": {},
   "source": [
    "- Результат очень близкий, при этом скорость на много выше."
   ]
  },
  {
   "cell_type": "markdown",
   "id": "8cf54d78",
   "metadata": {},
   "source": [
    "========================================================================================================================"
   ]
  },
  {
   "cell_type": "markdown",
   "id": "946b133b",
   "metadata": {},
   "source": [
    "- Произведем отбор фичей. Попробуем использовать метод с Лассо регрессией и Взаимной информации. В качестве контрольной модели будем использовать Лог рег, т.к. она хорошо себя показала, и работает довольно быстро."
   ]
  },
  {
   "cell_type": "code",
   "execution_count": 79,
   "id": "cf2fc95d",
   "metadata": {},
   "outputs": [],
   "source": [
    "lg_fs_pipe = make_pipeline(\n",
    "    f_prep_pipeline,\n",
    "    SelectFromModel(LogisticRegression(penalty='l2', random_state=RANDOM_STATE, solver='liblinear'), threshold=1e-5),\n",
    "    LogisticRegression(random_state=RANDOM_STATE)\n",
    ")"
   ]
  },
  {
   "cell_type": "code",
   "execution_count": 80,
   "id": "03edbf6b",
   "metadata": {},
   "outputs": [],
   "source": [
    "params = [\n",
    "    {\"selectfrommodel__max_features\": [None,15, 30,80,120,200,250],\n",
    "     \"selectfrommodel__threshold\": [-np.inf],\n",
    "     \"selectfrommodel__estimator__C\" : [1, 0.5, 0.01, 0.1]\n",
    "    }\n",
    "    \n",
    "]"
   ]
  },
  {
   "cell_type": "markdown",
   "id": "2794eaf4",
   "metadata": {
    "scrolled": true
   },
   "source": [
    "run_grid_search(lg_fs_pipe, X_train, y_train, params, scoring='f1')"
   ]
  },
  {
   "cell_type": "markdown",
   "id": "f661342a",
   "metadata": {},
   "source": [
    "Best f1 score: 0.90\n",
    "\n",
    "Best parameters set found on development set:\n",
    "\n",
    "{'selectfrommodel__estimator__C': 1, 'selectfrommodel__max_features': 5, 'selectfrommodel__threshold': -inf}\n"
   ]
  },
  {
   "cell_type": "markdown",
   "id": "4ca733df",
   "metadata": {},
   "source": [
    "- Удивительно, но даже при 5 фичах качество практически такое же, как и при полном наборе."
   ]
  },
  {
   "cell_type": "markdown",
   "id": "2ed41aa0",
   "metadata": {},
   "source": [
    "========================================================================================================================"
   ]
  },
  {
   "cell_type": "code",
   "execution_count": 81,
   "id": "2c4c0184",
   "metadata": {},
   "outputs": [],
   "source": [
    "lg_fs_pipe_kbest_selector = make_pipeline(\n",
    "    f_prep_pipeline,\n",
    "    GenericUnivariateSelect(score_func=mutual_info_classif, mode='k_best', param=100),\n",
    "    LogisticRegression(random_state=RANDOM_STATE)\n",
    ")\n"
   ]
  },
  {
   "cell_type": "code",
   "execution_count": 82,
   "id": "15c8c0d5",
   "metadata": {},
   "outputs": [],
   "source": [
    "params = [\n",
    "    {'genericunivariateselect__param' : [15, 30,50,70,80,100,120,150,200,250]},\n",
    "    \n",
    "]\n"
   ]
  },
  {
   "cell_type": "raw",
   "id": "3a2bcd59",
   "metadata": {},
   "source": [
    "run_grid_search(lg_fs_pipe_kbest_selector, X_train, y_train, params, scoring='f1')"
   ]
  },
  {
   "cell_type": "markdown",
   "id": "4af36a0c",
   "metadata": {},
   "source": [
    "Best f1 score: 0.90\n",
    "\n",
    "Best parameters set found on development set:\n",
    "\n",
    "{'genericunivariateselect__param': 70}\n"
   ]
  },
  {
   "cell_type": "markdown",
   "id": "3afe9fcf",
   "metadata": {},
   "source": [
    "- Будем использовать: SelectFromModel(LogisticRegression(penalty='l1', random_state=RANDOM_STATE, solver='liblinear'), threshold=1e-5). Т.к. \n"
   ]
  },
  {
   "cell_type": "markdown",
   "id": "91f38abe",
   "metadata": {},
   "source": [
    "=================================================================================================="
   ]
  },
  {
   "cell_type": "code",
   "execution_count": 83,
   "id": "bd3743a3",
   "metadata": {},
   "outputs": [],
   "source": [
    "rf_fs_pipe = make_pipeline(\n",
    "    f_prep_pipeline,\n",
    "    SelectFromModel(LogisticRegression(penalty='l1', random_state=RANDOM_STATE, solver='liblinear'), max_features = 29, threshold = -np.inf),\n",
    "    RandomForestClassifier(random_state=RANDOM_STATE, )\n",
    ")"
   ]
  },
  {
   "cell_type": "code",
   "execution_count": 84,
   "id": "31a3de08",
   "metadata": {},
   "outputs": [],
   "source": [
    "params = [\n",
    "    {'randomforestclassifier__max_features': ['sqrt', 'log2', 2, 5, 8, 10],\n",
    "     'randomforestclassifier__n_estimators' : [50, 100, 200, 300],    \n",
    "    }   \n",
    "]"
   ]
  },
  {
   "cell_type": "raw",
   "id": "20474662",
   "metadata": {},
   "source": [
    "run_grid_search(rf_fs_pipe, X_train, y_train, params, scoring='f1')"
   ]
  },
  {
   "cell_type": "markdown",
   "id": "9fc44393",
   "metadata": {},
   "source": [
    "Best f1 score: 0.90\n",
    "\n",
    "Best parameters set found on development set:\n",
    "\n",
    "{'randomforestclassifier__max_features': 8, 'randomforestclassifier__n_estimators': 300}"
   ]
  },
  {
   "cell_type": "code",
   "execution_count": 85,
   "id": "a35bb6be",
   "metadata": {},
   "outputs": [],
   "source": [
    "rf_fs_pipe = make_pipeline(\n",
    "    f_prep_pipeline,\n",
    "    SelectFromModel(LogisticRegression(penalty='l1', random_state=RANDOM_STATE, solver='liblinear'), max_features = 29, threshold = -np.inf),\n",
    "    RandomForestClassifier(random_state=RANDOM_STATE, max_features = 8, n_estimators = 300)\n",
    ")"
   ]
  },
  {
   "cell_type": "code",
   "execution_count": 86,
   "id": "194c7f1a",
   "metadata": {},
   "outputs": [
    {
     "data": {
      "text/html": [
       "<style>#sk-container-id-4 {color: black;background-color: white;}#sk-container-id-4 pre{padding: 0;}#sk-container-id-4 div.sk-toggleable {background-color: white;}#sk-container-id-4 label.sk-toggleable__label {cursor: pointer;display: block;width: 100%;margin-bottom: 0;padding: 0.3em;box-sizing: border-box;text-align: center;}#sk-container-id-4 label.sk-toggleable__label-arrow:before {content: \"▸\";float: left;margin-right: 0.25em;color: #696969;}#sk-container-id-4 label.sk-toggleable__label-arrow:hover:before {color: black;}#sk-container-id-4 div.sk-estimator:hover label.sk-toggleable__label-arrow:before {color: black;}#sk-container-id-4 div.sk-toggleable__content {max-height: 0;max-width: 0;overflow: hidden;text-align: left;background-color: #f0f8ff;}#sk-container-id-4 div.sk-toggleable__content pre {margin: 0.2em;color: black;border-radius: 0.25em;background-color: #f0f8ff;}#sk-container-id-4 input.sk-toggleable__control:checked~div.sk-toggleable__content {max-height: 200px;max-width: 100%;overflow: auto;}#sk-container-id-4 input.sk-toggleable__control:checked~label.sk-toggleable__label-arrow:before {content: \"▾\";}#sk-container-id-4 div.sk-estimator input.sk-toggleable__control:checked~label.sk-toggleable__label {background-color: #d4ebff;}#sk-container-id-4 div.sk-label input.sk-toggleable__control:checked~label.sk-toggleable__label {background-color: #d4ebff;}#sk-container-id-4 input.sk-hidden--visually {border: 0;clip: rect(1px 1px 1px 1px);clip: rect(1px, 1px, 1px, 1px);height: 1px;margin: -1px;overflow: hidden;padding: 0;position: absolute;width: 1px;}#sk-container-id-4 div.sk-estimator {font-family: monospace;background-color: #f0f8ff;border: 1px dotted black;border-radius: 0.25em;box-sizing: border-box;margin-bottom: 0.5em;}#sk-container-id-4 div.sk-estimator:hover {background-color: #d4ebff;}#sk-container-id-4 div.sk-parallel-item::after {content: \"\";width: 100%;border-bottom: 1px solid gray;flex-grow: 1;}#sk-container-id-4 div.sk-label:hover label.sk-toggleable__label {background-color: #d4ebff;}#sk-container-id-4 div.sk-serial::before {content: \"\";position: absolute;border-left: 1px solid gray;box-sizing: border-box;top: 0;bottom: 0;left: 50%;z-index: 0;}#sk-container-id-4 div.sk-serial {display: flex;flex-direction: column;align-items: center;background-color: white;padding-right: 0.2em;padding-left: 0.2em;position: relative;}#sk-container-id-4 div.sk-item {position: relative;z-index: 1;}#sk-container-id-4 div.sk-parallel {display: flex;align-items: stretch;justify-content: center;background-color: white;position: relative;}#sk-container-id-4 div.sk-item::before, #sk-container-id-4 div.sk-parallel-item::before {content: \"\";position: absolute;border-left: 1px solid gray;box-sizing: border-box;top: 0;bottom: 0;left: 50%;z-index: -1;}#sk-container-id-4 div.sk-parallel-item {display: flex;flex-direction: column;z-index: 1;position: relative;background-color: white;}#sk-container-id-4 div.sk-parallel-item:first-child::after {align-self: flex-end;width: 50%;}#sk-container-id-4 div.sk-parallel-item:last-child::after {align-self: flex-start;width: 50%;}#sk-container-id-4 div.sk-parallel-item:only-child::after {width: 0;}#sk-container-id-4 div.sk-dashed-wrapped {border: 1px dashed gray;margin: 0 0.4em 0.5em 0.4em;box-sizing: border-box;padding-bottom: 0.4em;background-color: white;}#sk-container-id-4 div.sk-label label {font-family: monospace;font-weight: bold;display: inline-block;line-height: 1.2em;}#sk-container-id-4 div.sk-label-container {text-align: center;}#sk-container-id-4 div.sk-container {/* jupyter's `normalize.less` sets `[hidden] { display: none; }` but bootstrap.min.css set `[hidden] { display: none !important; }` so we also need the `!important` here to be able to override the default hidden behavior on the sphinx rendered scikit-learn.org. See: https://github.com/scikit-learn/scikit-learn/issues/21755 */display: inline-block !important;position: relative;}#sk-container-id-4 div.sk-text-repr-fallback {display: none;}</style><div id=\"sk-container-id-4\" class=\"sk-top-container\"><div class=\"sk-text-repr-fallback\"><pre>Pipeline(steps=[(&#x27;pipeline&#x27;,\n",
       "                 Pipeline(steps=[(&#x27;columnselector&#x27;,\n",
       "                                  ColumnSelector(columns=[&#x27;45&#x27;, &#x27;137&#x27;,\n",
       "                                                          &#x27;not_first_offer&#x27;,\n",
       "                                                          &#x27;22&#x27;, &#x27;41&#x27;, &#x27;87&#x27;,\n",
       "                                                          &#x27;119&#x27;, &#x27;248&#x27;, &#x27;241&#x27;,\n",
       "                                                          &#x27;116&#x27;, &#x27;214&#x27;, &#x27;233&#x27;,\n",
       "                                                          &#x27;6&#x27;, &#x27;55&#x27;, &#x27;46&#x27;,\n",
       "                                                          &#x27;187&#x27;, &#x27;91&#x27;, &#x27;95&#x27;,\n",
       "                                                          &#x27;51&#x27;, &#x27;115&#x27;, &#x27;217&#x27;,\n",
       "                                                          &#x27;230&#x27;, &#x27;105&#x27;, &#x27;170&#x27;,\n",
       "                                                          &#x27;172&#x27;, &#x27;179&#x27;, &#x27;70&#x27;,\n",
       "                                                          &#x27;210&#x27;, &#x27;216&#x27;, &#x27;178&#x27;, ...])),\n",
       "                                 (&#x27;featureunion&#x27;,\n",
       "                                  FeatureUnion(transformer_list=[(&#x27;numeric_features&#x27;,\n",
       "                                                                  Pipeline(s...\n",
       "                                                                 (&#x27;boolean_features&#x27;,\n",
       "                                                                  Pipeline(steps=[(&#x27;columnselector&#x27;,\n",
       "                                                                                   ColumnSelector(columns=[&#x27;not_first_offer&#x27;]))]))]))])),\n",
       "                (&#x27;selectfrommodel&#x27;,\n",
       "                 SelectFromModel(estimator=LogisticRegression(penalty=&#x27;l1&#x27;,\n",
       "                                                              random_state=9,\n",
       "                                                              solver=&#x27;liblinear&#x27;),\n",
       "                                 max_features=29, threshold=-inf)),\n",
       "                (&#x27;randomforestclassifier&#x27;,\n",
       "                 RandomForestClassifier(max_features=8, n_estimators=300,\n",
       "                                        random_state=9))])</pre><b>In a Jupyter environment, please rerun this cell to show the HTML representation or trust the notebook. <br />On GitHub, the HTML representation is unable to render, please try loading this page with nbviewer.org.</b></div><div class=\"sk-container\" hidden><div class=\"sk-item sk-dashed-wrapped\"><div class=\"sk-label-container\"><div class=\"sk-label sk-toggleable\"><input class=\"sk-toggleable__control sk-hidden--visually\" id=\"sk-estimator-id-28\" type=\"checkbox\" ><label for=\"sk-estimator-id-28\" class=\"sk-toggleable__label sk-toggleable__label-arrow\">Pipeline</label><div class=\"sk-toggleable__content\"><pre>Pipeline(steps=[(&#x27;pipeline&#x27;,\n",
       "                 Pipeline(steps=[(&#x27;columnselector&#x27;,\n",
       "                                  ColumnSelector(columns=[&#x27;45&#x27;, &#x27;137&#x27;,\n",
       "                                                          &#x27;not_first_offer&#x27;,\n",
       "                                                          &#x27;22&#x27;, &#x27;41&#x27;, &#x27;87&#x27;,\n",
       "                                                          &#x27;119&#x27;, &#x27;248&#x27;, &#x27;241&#x27;,\n",
       "                                                          &#x27;116&#x27;, &#x27;214&#x27;, &#x27;233&#x27;,\n",
       "                                                          &#x27;6&#x27;, &#x27;55&#x27;, &#x27;46&#x27;,\n",
       "                                                          &#x27;187&#x27;, &#x27;91&#x27;, &#x27;95&#x27;,\n",
       "                                                          &#x27;51&#x27;, &#x27;115&#x27;, &#x27;217&#x27;,\n",
       "                                                          &#x27;230&#x27;, &#x27;105&#x27;, &#x27;170&#x27;,\n",
       "                                                          &#x27;172&#x27;, &#x27;179&#x27;, &#x27;70&#x27;,\n",
       "                                                          &#x27;210&#x27;, &#x27;216&#x27;, &#x27;178&#x27;, ...])),\n",
       "                                 (&#x27;featureunion&#x27;,\n",
       "                                  FeatureUnion(transformer_list=[(&#x27;numeric_features&#x27;,\n",
       "                                                                  Pipeline(s...\n",
       "                                                                 (&#x27;boolean_features&#x27;,\n",
       "                                                                  Pipeline(steps=[(&#x27;columnselector&#x27;,\n",
       "                                                                                   ColumnSelector(columns=[&#x27;not_first_offer&#x27;]))]))]))])),\n",
       "                (&#x27;selectfrommodel&#x27;,\n",
       "                 SelectFromModel(estimator=LogisticRegression(penalty=&#x27;l1&#x27;,\n",
       "                                                              random_state=9,\n",
       "                                                              solver=&#x27;liblinear&#x27;),\n",
       "                                 max_features=29, threshold=-inf)),\n",
       "                (&#x27;randomforestclassifier&#x27;,\n",
       "                 RandomForestClassifier(max_features=8, n_estimators=300,\n",
       "                                        random_state=9))])</pre></div></div></div><div class=\"sk-serial\"><div class=\"sk-item\"><div class=\"sk-label-container\"><div class=\"sk-label sk-toggleable\"><input class=\"sk-toggleable__control sk-hidden--visually\" id=\"sk-estimator-id-29\" type=\"checkbox\" ><label for=\"sk-estimator-id-29\" class=\"sk-toggleable__label sk-toggleable__label-arrow\">pipeline: Pipeline</label><div class=\"sk-toggleable__content\"><pre>Pipeline(steps=[(&#x27;columnselector&#x27;,\n",
       "                 ColumnSelector(columns=[&#x27;45&#x27;, &#x27;137&#x27;, &#x27;not_first_offer&#x27;, &#x27;22&#x27;,\n",
       "                                         &#x27;41&#x27;, &#x27;87&#x27;, &#x27;119&#x27;, &#x27;248&#x27;, &#x27;241&#x27;, &#x27;116&#x27;,\n",
       "                                         &#x27;214&#x27;, &#x27;233&#x27;, &#x27;6&#x27;, &#x27;55&#x27;, &#x27;46&#x27;, &#x27;187&#x27;,\n",
       "                                         &#x27;91&#x27;, &#x27;95&#x27;, &#x27;51&#x27;, &#x27;115&#x27;, &#x27;217&#x27;, &#x27;230&#x27;,\n",
       "                                         &#x27;105&#x27;, &#x27;170&#x27;, &#x27;172&#x27;, &#x27;179&#x27;, &#x27;70&#x27;,\n",
       "                                         &#x27;210&#x27;, &#x27;216&#x27;, &#x27;178&#x27;, ...])),\n",
       "                (&#x27;featureunion&#x27;,\n",
       "                 FeatureUnion(transformer_list=[(&#x27;numeric_features&#x27;,\n",
       "                                                 Pipeline(steps=[(&#x27;columnselector&#x27;,\n",
       "                                                                  Colu...\n",
       "                                                                                          &#x27;193&#x27;,\n",
       "                                                                                          &#x27;17&#x27;,\n",
       "                                                                                          &#x27;214&#x27;,\n",
       "                                                                                          &#x27;218&#x27;,\n",
       "                                                                                          &#x27;197&#x27;,\n",
       "                                                                                          &#x27;65&#x27;,\n",
       "                                                                                          &#x27;220&#x27;,\n",
       "                                                                                          &#x27;201&#x27;,\n",
       "                                                                                          &#x27;132&#x27;,\n",
       "                                                                                          &#x27;141&#x27;,\n",
       "                                                                                          &#x27;155&#x27;,\n",
       "                                                                                          &#x27;163&#x27;,\n",
       "                                                                                          &#x27;175&#x27;,\n",
       "                                                                                          &#x27;177&#x27;,\n",
       "                                                                                          &#x27;95&#x27;,\n",
       "                                                                                          &#x27;221&#x27;,\n",
       "                                                                                          &#x27;252&#x27;,\n",
       "                                                                                          &#x27;192&#x27;,\n",
       "                                                                                          &#x27;32&#x27;,\n",
       "                                                                                          &#x27;179&#x27;,\n",
       "                                                                                          &#x27;70&#x27;, ...])),\n",
       "                                                                 (&#x27;simpleimputer&#x27;,\n",
       "                                                                  SimpleImputer(strategy=&#x27;most_frequent&#x27;)),\n",
       "                                                                 (&#x27;onehotencoder&#x27;,\n",
       "                                                                  OneHotEncoder(handle_unknown=&#x27;ignore&#x27;))])),\n",
       "                                                (&#x27;boolean_features&#x27;,\n",
       "                                                 Pipeline(steps=[(&#x27;columnselector&#x27;,\n",
       "                                                                  ColumnSelector(columns=[&#x27;not_first_offer&#x27;]))]))]))])</pre></div></div></div><div class=\"sk-serial\"><div class=\"sk-item\"><div class=\"sk-estimator sk-toggleable\"><input class=\"sk-toggleable__control sk-hidden--visually\" id=\"sk-estimator-id-30\" type=\"checkbox\" ><label for=\"sk-estimator-id-30\" class=\"sk-toggleable__label sk-toggleable__label-arrow\">ColumnSelector</label><div class=\"sk-toggleable__content\"><pre>ColumnSelector(columns=[&#x27;45&#x27;, &#x27;137&#x27;, &#x27;not_first_offer&#x27;, &#x27;22&#x27;, &#x27;41&#x27;, &#x27;87&#x27;, &#x27;119&#x27;,\n",
       "                        &#x27;248&#x27;, &#x27;241&#x27;, &#x27;116&#x27;, &#x27;214&#x27;, &#x27;233&#x27;, &#x27;6&#x27;, &#x27;55&#x27;, &#x27;46&#x27;,\n",
       "                        &#x27;187&#x27;, &#x27;91&#x27;, &#x27;95&#x27;, &#x27;51&#x27;, &#x27;115&#x27;, &#x27;217&#x27;, &#x27;230&#x27;, &#x27;105&#x27;,\n",
       "                        &#x27;170&#x27;, &#x27;172&#x27;, &#x27;179&#x27;, &#x27;70&#x27;, &#x27;210&#x27;, &#x27;216&#x27;, &#x27;178&#x27;, ...])</pre></div></div></div><div class=\"sk-item sk-dashed-wrapped\"><div class=\"sk-label-container\"><div class=\"sk-label sk-toggleable\"><input class=\"sk-toggleable__control sk-hidden--visually\" id=\"sk-estimator-id-31\" type=\"checkbox\" ><label for=\"sk-estimator-id-31\" class=\"sk-toggleable__label sk-toggleable__label-arrow\">featureunion: FeatureUnion</label><div class=\"sk-toggleable__content\"><pre>FeatureUnion(transformer_list=[(&#x27;numeric_features&#x27;,\n",
       "                                Pipeline(steps=[(&#x27;columnselector&#x27;,\n",
       "                                                 ColumnSelector(columns=[&#x27;45&#x27;,\n",
       "                                                                         &#x27;137&#x27;,\n",
       "                                                                         &#x27;22&#x27;,\n",
       "                                                                         &#x27;41&#x27;,\n",
       "                                                                         &#x27;87&#x27;,\n",
       "                                                                         &#x27;119&#x27;,\n",
       "                                                                         &#x27;248&#x27;,\n",
       "                                                                         &#x27;241&#x27;,\n",
       "                                                                         &#x27;116&#x27;,\n",
       "                                                                         &#x27;233&#x27;,\n",
       "                                                                         &#x27;6&#x27;,\n",
       "                                                                         &#x27;55&#x27;,\n",
       "                                                                         &#x27;46&#x27;,\n",
       "                                                                         &#x27;187&#x27;,\n",
       "                                                                         &#x27;91&#x27;,\n",
       "                                                                         &#x27;51&#x27;,\n",
       "                                                                         &#x27;115&#x27;,\n",
       "                                                                         &#x27;217&#x27;,\n",
       "                                                                         &#x27;230&#x27;,\n",
       "                                                                         &#x27;105&#x27;,\n",
       "                                                                         &#x27;170&#x27;,\n",
       "                                                                         &#x27;172&#x27;,\n",
       "                                                                         &#x27;210&#x27;,\n",
       "                                                                         &#x27;178&#x27;,\n",
       "                                                                         &#x27;174&#x27;,\n",
       "                                                                         &#x27;8&#x27;,\n",
       "                                                                         &#x27;164&#x27;,\n",
       "                                                                         &#x27;158&#x27;,\n",
       "                                                                         &#x27;234&#x27;,\n",
       "                                                                         &#x27;108&#x27;, ...])),\n",
       "                                                (&#x27;simpleimputer&#x27;,\n",
       "                                                 SimpleImputer()),\n",
       "                                                (&#x27;standardscaler&#x27;,\n",
       "                                                 StandardScaler...\n",
       "                                                                         &#x27;80&#x27;,\n",
       "                                                                         &#x27;193&#x27;,\n",
       "                                                                         &#x27;17&#x27;,\n",
       "                                                                         &#x27;214&#x27;,\n",
       "                                                                         &#x27;218&#x27;,\n",
       "                                                                         &#x27;197&#x27;,\n",
       "                                                                         &#x27;65&#x27;,\n",
       "                                                                         &#x27;220&#x27;,\n",
       "                                                                         &#x27;201&#x27;,\n",
       "                                                                         &#x27;132&#x27;,\n",
       "                                                                         &#x27;141&#x27;,\n",
       "                                                                         &#x27;155&#x27;,\n",
       "                                                                         &#x27;163&#x27;,\n",
       "                                                                         &#x27;175&#x27;,\n",
       "                                                                         &#x27;177&#x27;,\n",
       "                                                                         &#x27;95&#x27;,\n",
       "                                                                         &#x27;221&#x27;,\n",
       "                                                                         &#x27;252&#x27;,\n",
       "                                                                         &#x27;192&#x27;,\n",
       "                                                                         &#x27;32&#x27;,\n",
       "                                                                         &#x27;179&#x27;,\n",
       "                                                                         &#x27;70&#x27;, ...])),\n",
       "                                                (&#x27;simpleimputer&#x27;,\n",
       "                                                 SimpleImputer(strategy=&#x27;most_frequent&#x27;)),\n",
       "                                                (&#x27;onehotencoder&#x27;,\n",
       "                                                 OneHotEncoder(handle_unknown=&#x27;ignore&#x27;))])),\n",
       "                               (&#x27;boolean_features&#x27;,\n",
       "                                Pipeline(steps=[(&#x27;columnselector&#x27;,\n",
       "                                                 ColumnSelector(columns=[&#x27;not_first_offer&#x27;]))]))])</pre></div></div></div><div class=\"sk-parallel\"><div class=\"sk-parallel-item\"><div class=\"sk-item\"><div class=\"sk-label-container\"><div class=\"sk-label sk-toggleable\"><label>numeric_features</label></div></div><div class=\"sk-serial\"><div class=\"sk-item\"><div class=\"sk-serial\"><div class=\"sk-item\"><div class=\"sk-estimator sk-toggleable\"><input class=\"sk-toggleable__control sk-hidden--visually\" id=\"sk-estimator-id-32\" type=\"checkbox\" ><label for=\"sk-estimator-id-32\" class=\"sk-toggleable__label sk-toggleable__label-arrow\">ColumnSelector</label><div class=\"sk-toggleable__content\"><pre>ColumnSelector(columns=[&#x27;45&#x27;, &#x27;137&#x27;, &#x27;22&#x27;, &#x27;41&#x27;, &#x27;87&#x27;, &#x27;119&#x27;, &#x27;248&#x27;, &#x27;241&#x27;,\n",
       "                        &#x27;116&#x27;, &#x27;233&#x27;, &#x27;6&#x27;, &#x27;55&#x27;, &#x27;46&#x27;, &#x27;187&#x27;, &#x27;91&#x27;, &#x27;51&#x27;, &#x27;115&#x27;,\n",
       "                        &#x27;217&#x27;, &#x27;230&#x27;, &#x27;105&#x27;, &#x27;170&#x27;, &#x27;172&#x27;, &#x27;210&#x27;, &#x27;178&#x27;, &#x27;174&#x27;,\n",
       "                        &#x27;8&#x27;, &#x27;164&#x27;, &#x27;158&#x27;, &#x27;234&#x27;, &#x27;108&#x27;, ...])</pre></div></div></div><div class=\"sk-item\"><div class=\"sk-estimator sk-toggleable\"><input class=\"sk-toggleable__control sk-hidden--visually\" id=\"sk-estimator-id-33\" type=\"checkbox\" ><label for=\"sk-estimator-id-33\" class=\"sk-toggleable__label sk-toggleable__label-arrow\">SimpleImputer</label><div class=\"sk-toggleable__content\"><pre>SimpleImputer()</pre></div></div></div><div class=\"sk-item\"><div class=\"sk-estimator sk-toggleable\"><input class=\"sk-toggleable__control sk-hidden--visually\" id=\"sk-estimator-id-34\" type=\"checkbox\" ><label for=\"sk-estimator-id-34\" class=\"sk-toggleable__label sk-toggleable__label-arrow\">StandardScaler</label><div class=\"sk-toggleable__content\"><pre>StandardScaler()</pre></div></div></div></div></div></div></div></div><div class=\"sk-parallel-item\"><div class=\"sk-item\"><div class=\"sk-label-container\"><div class=\"sk-label sk-toggleable\"><label>categorical_features</label></div></div><div class=\"sk-serial\"><div class=\"sk-item\"><div class=\"sk-serial\"><div class=\"sk-item\"><div class=\"sk-estimator sk-toggleable\"><input class=\"sk-toggleable__control sk-hidden--visually\" id=\"sk-estimator-id-35\" type=\"checkbox\" ><label for=\"sk-estimator-id-35\" class=\"sk-toggleable__label sk-toggleable__label-arrow\">ColumnSelector</label><div class=\"sk-toggleable__content\"><pre>ColumnSelector(columns=[&#x27;24&#x27;, &#x27;30&#x27;, &#x27;199&#x27;, &#x27;195&#x27;, &#x27;29&#x27;, &#x27;23&#x27;, &#x27;31&#x27;, &#x27;57&#x27;, &#x27;80&#x27;,\n",
       "                        &#x27;193&#x27;, &#x27;17&#x27;, &#x27;214&#x27;, &#x27;218&#x27;, &#x27;197&#x27;, &#x27;65&#x27;, &#x27;220&#x27;, &#x27;201&#x27;,\n",
       "                        &#x27;132&#x27;, &#x27;141&#x27;, &#x27;155&#x27;, &#x27;163&#x27;, &#x27;175&#x27;, &#x27;177&#x27;, &#x27;95&#x27;, &#x27;221&#x27;,\n",
       "                        &#x27;252&#x27;, &#x27;192&#x27;, &#x27;32&#x27;, &#x27;179&#x27;, &#x27;70&#x27;, ...])</pre></div></div></div><div class=\"sk-item\"><div class=\"sk-estimator sk-toggleable\"><input class=\"sk-toggleable__control sk-hidden--visually\" id=\"sk-estimator-id-36\" type=\"checkbox\" ><label for=\"sk-estimator-id-36\" class=\"sk-toggleable__label sk-toggleable__label-arrow\">SimpleImputer</label><div class=\"sk-toggleable__content\"><pre>SimpleImputer(strategy=&#x27;most_frequent&#x27;)</pre></div></div></div><div class=\"sk-item\"><div class=\"sk-estimator sk-toggleable\"><input class=\"sk-toggleable__control sk-hidden--visually\" id=\"sk-estimator-id-37\" type=\"checkbox\" ><label for=\"sk-estimator-id-37\" class=\"sk-toggleable__label sk-toggleable__label-arrow\">OneHotEncoder</label><div class=\"sk-toggleable__content\"><pre>OneHotEncoder(handle_unknown=&#x27;ignore&#x27;)</pre></div></div></div></div></div></div></div></div><div class=\"sk-parallel-item\"><div class=\"sk-item\"><div class=\"sk-label-container\"><div class=\"sk-label sk-toggleable\"><label>boolean_features</label></div></div><div class=\"sk-serial\"><div class=\"sk-item\"><div class=\"sk-serial\"><div class=\"sk-item\"><div class=\"sk-estimator sk-toggleable\"><input class=\"sk-toggleable__control sk-hidden--visually\" id=\"sk-estimator-id-38\" type=\"checkbox\" ><label for=\"sk-estimator-id-38\" class=\"sk-toggleable__label sk-toggleable__label-arrow\">ColumnSelector</label><div class=\"sk-toggleable__content\"><pre>ColumnSelector(columns=[&#x27;not_first_offer&#x27;])</pre></div></div></div></div></div></div></div></div></div></div></div></div><div class=\"sk-item sk-dashed-wrapped\"><div class=\"sk-label-container\"><div class=\"sk-label sk-toggleable\"><input class=\"sk-toggleable__control sk-hidden--visually\" id=\"sk-estimator-id-39\" type=\"checkbox\" ><label for=\"sk-estimator-id-39\" class=\"sk-toggleable__label sk-toggleable__label-arrow\">selectfrommodel: SelectFromModel</label><div class=\"sk-toggleable__content\"><pre>SelectFromModel(estimator=LogisticRegression(penalty=&#x27;l1&#x27;, random_state=9,\n",
       "                                             solver=&#x27;liblinear&#x27;),\n",
       "                max_features=29, threshold=-inf)</pre></div></div></div><div class=\"sk-parallel\"><div class=\"sk-parallel-item\"><div class=\"sk-item\"><div class=\"sk-label-container\"><div class=\"sk-label sk-toggleable\"><input class=\"sk-toggleable__control sk-hidden--visually\" id=\"sk-estimator-id-40\" type=\"checkbox\" ><label for=\"sk-estimator-id-40\" class=\"sk-toggleable__label sk-toggleable__label-arrow\">estimator: LogisticRegression</label><div class=\"sk-toggleable__content\"><pre>LogisticRegression(penalty=&#x27;l1&#x27;, random_state=9, solver=&#x27;liblinear&#x27;)</pre></div></div></div><div class=\"sk-serial\"><div class=\"sk-item\"><div class=\"sk-estimator sk-toggleable\"><input class=\"sk-toggleable__control sk-hidden--visually\" id=\"sk-estimator-id-41\" type=\"checkbox\" ><label for=\"sk-estimator-id-41\" class=\"sk-toggleable__label sk-toggleable__label-arrow\">LogisticRegression</label><div class=\"sk-toggleable__content\"><pre>LogisticRegression(penalty=&#x27;l1&#x27;, random_state=9, solver=&#x27;liblinear&#x27;)</pre></div></div></div></div></div></div></div></div><div class=\"sk-item\"><div class=\"sk-estimator sk-toggleable\"><input class=\"sk-toggleable__control sk-hidden--visually\" id=\"sk-estimator-id-42\" type=\"checkbox\" ><label for=\"sk-estimator-id-42\" class=\"sk-toggleable__label sk-toggleable__label-arrow\">RandomForestClassifier</label><div class=\"sk-toggleable__content\"><pre>RandomForestClassifier(max_features=8, n_estimators=300, random_state=9)</pre></div></div></div></div></div></div></div>"
      ],
      "text/plain": [
       "Pipeline(steps=[('pipeline',\n",
       "                 Pipeline(steps=[('columnselector',\n",
       "                                  ColumnSelector(columns=['45', '137',\n",
       "                                                          'not_first_offer',\n",
       "                                                          '22', '41', '87',\n",
       "                                                          '119', '248', '241',\n",
       "                                                          '116', '214', '233',\n",
       "                                                          '6', '55', '46',\n",
       "                                                          '187', '91', '95',\n",
       "                                                          '51', '115', '217',\n",
       "                                                          '230', '105', '170',\n",
       "                                                          '172', '179', '70',\n",
       "                                                          '210', '216', '178', ...])),\n",
       "                                 ('featureunion',\n",
       "                                  FeatureUnion(transformer_list=[('numeric_features',\n",
       "                                                                  Pipeline(s...\n",
       "                                                                 ('boolean_features',\n",
       "                                                                  Pipeline(steps=[('columnselector',\n",
       "                                                                                   ColumnSelector(columns=['not_first_offer']))]))]))])),\n",
       "                ('selectfrommodel',\n",
       "                 SelectFromModel(estimator=LogisticRegression(penalty='l1',\n",
       "                                                              random_state=9,\n",
       "                                                              solver='liblinear'),\n",
       "                                 max_features=29, threshold=-inf)),\n",
       "                ('randomforestclassifier',\n",
       "                 RandomForestClassifier(max_features=8, n_estimators=300,\n",
       "                                        random_state=9))])"
      ]
     },
     "execution_count": 86,
     "metadata": {},
     "output_type": "execute_result"
    }
   ],
   "source": [
    "rf_fs_pipe.fit(X_train, y_train)"
   ]
  },
  {
   "cell_type": "code",
   "execution_count": 87,
   "id": "9ea4a7ed",
   "metadata": {},
   "outputs": [
    {
     "data": {
      "text/plain": [
       "0.8728464899801937"
      ]
     },
     "execution_count": 87,
     "metadata": {},
     "output_type": "execute_result"
    }
   ],
   "source": [
    "preds_train = rf_fs_pipe.predict(X_train)\n",
    "f1_score(y_train, preds_train, average='macro')"
   ]
  },
  {
   "cell_type": "code",
   "execution_count": 88,
   "id": "99cc29ec",
   "metadata": {},
   "outputs": [
    {
     "data": {
      "text/plain": [
       "0.7462046840563894"
      ]
     },
     "execution_count": 88,
     "metadata": {},
     "output_type": "execute_result"
    }
   ],
   "source": [
    "preds_test = rf_fs_pipe.predict(X_test)\n",
    "f1_score(y_test, preds_test, average='macro')"
   ]
  },
  {
   "cell_type": "code",
   "execution_count": 89,
   "id": "f7eb5ae0",
   "metadata": {},
   "outputs": [],
   "source": [
    "preds_proba_train = rf_fs_pipe.predict_proba(X_train)"
   ]
  },
  {
   "cell_type": "code",
   "execution_count": 90,
   "id": "2b50b327",
   "metadata": {},
   "outputs": [],
   "source": [
    "preds_proba_test = rf_fs_pipe.predict_proba(X_test)"
   ]
  },
  {
   "cell_type": "code",
   "execution_count": 91,
   "id": "030720ef",
   "metadata": {},
   "outputs": [
    {
     "name": "stdout",
     "output_type": "stream",
     "text": [
      "Лучшая отсечка : 0.5789473684210527, Метрика F1_macro: 0.8728466235532677\n",
      "================================================================================\n",
      "              precision    recall  f1-score   support\n",
      "\n",
      "         0.0       0.88      0.86      0.87     45094\n",
      "         1.0       0.87      0.88      0.87     45094\n",
      "\n",
      "    accuracy                           0.87     90188\n",
      "   macro avg       0.87      0.87      0.87     90188\n",
      "weighted avg       0.87      0.87      0.87     90188\n",
      "\n"
     ]
    }
   ],
   "source": [
    "treshold_search(y_train, preds_proba_train)"
   ]
  },
  {
   "cell_type": "code",
   "execution_count": 92,
   "id": "ad0f547c",
   "metadata": {},
   "outputs": [
    {
     "name": "stdout",
     "output_type": "stream",
     "text": [
      "Лучшая отсечка : 0.6842105263157894, Метрика F1_macro: 0.7485720857707521\n",
      "================================================================================\n",
      "              precision    recall  f1-score   support\n",
      "\n",
      "         0.0       1.00      0.87      0.93    178557\n",
      "         1.0       0.40      1.00      0.57     15083\n",
      "\n",
      "    accuracy                           0.88    193640\n",
      "   macro avg       0.70      0.93      0.75    193640\n",
      "weighted avg       0.95      0.88      0.90    193640\n",
      "\n"
     ]
    }
   ],
   "source": [
    "treshold_search(y_test, preds_proba_test)"
   ]
  },
  {
   "cell_type": "code",
   "execution_count": null,
   "id": "e70f581c",
   "metadata": {},
   "outputs": [],
   "source": []
  },
  {
   "cell_type": "code",
   "execution_count": null,
   "id": "f5ace14e",
   "metadata": {},
   "outputs": [],
   "source": []
  },
  {
   "cell_type": "markdown",
   "id": "bbde6590",
   "metadata": {},
   "source": [
    "======================================================================================================="
   ]
  },
  {
   "cell_type": "code",
   "execution_count": null,
   "id": "7d39f9b0",
   "metadata": {},
   "outputs": [],
   "source": []
  },
  {
   "cell_type": "code",
   "execution_count": 93,
   "id": "f701d3d5",
   "metadata": {},
   "outputs": [],
   "source": [
    "rf_gu_pipe = make_pipeline(\n",
    "    f_prep_pipeline,\n",
    "    GenericUnivariateSelect(score_func=mutual_info_classif, mode='k_best', param=50),\n",
    "    RandomForestClassifier(random_state=RANDOM_STATE, n_estimators = 300)\n",
    ")"
   ]
  },
  {
   "cell_type": "code",
   "execution_count": 94,
   "id": "7d9ea6be",
   "metadata": {},
   "outputs": [
    {
     "name": "stderr",
     "output_type": "stream",
     "text": [
      "C:\\Users\\user\\AppData\\Roaming\\Python\\Python39\\site-packages\\sklearn\\metrics\\cluster\\_supervised.py:64: UserWarning: Clustering metrics expects discrete values but received continuous values for label, and binary values for target\n",
      "  warnings.warn(msg, UserWarning)\n",
      "C:\\Users\\user\\AppData\\Roaming\\Python\\Python39\\site-packages\\sklearn\\metrics\\cluster\\_supervised.py:64: UserWarning: Clustering metrics expects discrete values but received continuous values for label, and binary values for target\n",
      "  warnings.warn(msg, UserWarning)\n",
      "C:\\Users\\user\\AppData\\Roaming\\Python\\Python39\\site-packages\\sklearn\\metrics\\cluster\\_supervised.py:64: UserWarning: Clustering metrics expects discrete values but received continuous values for label, and binary values for target\n",
      "  warnings.warn(msg, UserWarning)\n",
      "C:\\Users\\user\\AppData\\Roaming\\Python\\Python39\\site-packages\\sklearn\\metrics\\cluster\\_supervised.py:64: UserWarning: Clustering metrics expects discrete values but received continuous values for label, and binary values for target\n",
      "  warnings.warn(msg, UserWarning)\n",
      "C:\\Users\\user\\AppData\\Roaming\\Python\\Python39\\site-packages\\sklearn\\metrics\\cluster\\_supervised.py:64: UserWarning: Clustering metrics expects discrete values but received continuous values for label, and binary values for target\n",
      "  warnings.warn(msg, UserWarning)\n",
      "C:\\Users\\user\\AppData\\Roaming\\Python\\Python39\\site-packages\\sklearn\\metrics\\cluster\\_supervised.py:64: UserWarning: Clustering metrics expects discrete values but received continuous values for label, and binary values for target\n",
      "  warnings.warn(msg, UserWarning)\n",
      "C:\\Users\\user\\AppData\\Roaming\\Python\\Python39\\site-packages\\sklearn\\metrics\\cluster\\_supervised.py:64: UserWarning: Clustering metrics expects discrete values but received continuous values for label, and binary values for target\n",
      "  warnings.warn(msg, UserWarning)\n",
      "C:\\Users\\user\\AppData\\Roaming\\Python\\Python39\\site-packages\\sklearn\\metrics\\cluster\\_supervised.py:64: UserWarning: Clustering metrics expects discrete values but received continuous values for label, and binary values for target\n",
      "  warnings.warn(msg, UserWarning)\n",
      "C:\\Users\\user\\AppData\\Roaming\\Python\\Python39\\site-packages\\sklearn\\metrics\\cluster\\_supervised.py:64: UserWarning: Clustering metrics expects discrete values but received continuous values for label, and binary values for target\n",
      "  warnings.warn(msg, UserWarning)\n",
      "C:\\Users\\user\\AppData\\Roaming\\Python\\Python39\\site-packages\\sklearn\\metrics\\cluster\\_supervised.py:64: UserWarning: Clustering metrics expects discrete values but received continuous values for label, and binary values for target\n",
      "  warnings.warn(msg, UserWarning)\n",
      "C:\\Users\\user\\AppData\\Roaming\\Python\\Python39\\site-packages\\sklearn\\metrics\\cluster\\_supervised.py:64: UserWarning: Clustering metrics expects discrete values but received continuous values for label, and binary values for target\n",
      "  warnings.warn(msg, UserWarning)\n",
      "C:\\Users\\user\\AppData\\Roaming\\Python\\Python39\\site-packages\\sklearn\\metrics\\cluster\\_supervised.py:64: UserWarning: Clustering metrics expects discrete values but received continuous values for label, and binary values for target\n",
      "  warnings.warn(msg, UserWarning)\n",
      "C:\\Users\\user\\AppData\\Roaming\\Python\\Python39\\site-packages\\sklearn\\metrics\\cluster\\_supervised.py:64: UserWarning: Clustering metrics expects discrete values but received continuous values for label, and binary values for target\n",
      "  warnings.warn(msg, UserWarning)\n",
      "C:\\Users\\user\\AppData\\Roaming\\Python\\Python39\\site-packages\\sklearn\\metrics\\cluster\\_supervised.py:64: UserWarning: Clustering metrics expects discrete values but received continuous values for label, and binary values for target\n",
      "  warnings.warn(msg, UserWarning)\n",
      "C:\\Users\\user\\AppData\\Roaming\\Python\\Python39\\site-packages\\sklearn\\metrics\\cluster\\_supervised.py:64: UserWarning: Clustering metrics expects discrete values but received continuous values for label, and binary values for target\n",
      "  warnings.warn(msg, UserWarning)\n",
      "C:\\Users\\user\\AppData\\Roaming\\Python\\Python39\\site-packages\\sklearn\\metrics\\cluster\\_supervised.py:64: UserWarning: Clustering metrics expects discrete values but received continuous values for label, and binary values for target\n",
      "  warnings.warn(msg, UserWarning)\n",
      "C:\\Users\\user\\AppData\\Roaming\\Python\\Python39\\site-packages\\sklearn\\metrics\\cluster\\_supervised.py:64: UserWarning: Clustering metrics expects discrete values but received continuous values for label, and binary values for target\n",
      "  warnings.warn(msg, UserWarning)\n",
      "C:\\Users\\user\\AppData\\Roaming\\Python\\Python39\\site-packages\\sklearn\\metrics\\cluster\\_supervised.py:64: UserWarning: Clustering metrics expects discrete values but received continuous values for label, and binary values for target\n",
      "  warnings.warn(msg, UserWarning)\n",
      "C:\\Users\\user\\AppData\\Roaming\\Python\\Python39\\site-packages\\sklearn\\metrics\\cluster\\_supervised.py:64: UserWarning: Clustering metrics expects discrete values but received continuous values for label, and binary values for target\n",
      "  warnings.warn(msg, UserWarning)\n",
      "C:\\Users\\user\\AppData\\Roaming\\Python\\Python39\\site-packages\\sklearn\\metrics\\cluster\\_supervised.py:64: UserWarning: Clustering metrics expects discrete values but received continuous values for label, and binary values for target\n",
      "  warnings.warn(msg, UserWarning)\n",
      "C:\\Users\\user\\AppData\\Roaming\\Python\\Python39\\site-packages\\sklearn\\metrics\\cluster\\_supervised.py:64: UserWarning: Clustering metrics expects discrete values but received continuous values for label, and binary values for target\n",
      "  warnings.warn(msg, UserWarning)\n",
      "C:\\Users\\user\\AppData\\Roaming\\Python\\Python39\\site-packages\\sklearn\\metrics\\cluster\\_supervised.py:64: UserWarning: Clustering metrics expects discrete values but received continuous values for label, and binary values for target\n",
      "  warnings.warn(msg, UserWarning)\n",
      "C:\\Users\\user\\AppData\\Roaming\\Python\\Python39\\site-packages\\sklearn\\metrics\\cluster\\_supervised.py:64: UserWarning: Clustering metrics expects discrete values but received continuous values for label, and binary values for target\n",
      "  warnings.warn(msg, UserWarning)\n",
      "C:\\Users\\user\\AppData\\Roaming\\Python\\Python39\\site-packages\\sklearn\\metrics\\cluster\\_supervised.py:64: UserWarning: Clustering metrics expects discrete values but received continuous values for label, and binary values for target\n",
      "  warnings.warn(msg, UserWarning)\n",
      "C:\\Users\\user\\AppData\\Roaming\\Python\\Python39\\site-packages\\sklearn\\metrics\\cluster\\_supervised.py:64: UserWarning: Clustering metrics expects discrete values but received continuous values for label, and binary values for target\n",
      "  warnings.warn(msg, UserWarning)\n",
      "C:\\Users\\user\\AppData\\Roaming\\Python\\Python39\\site-packages\\sklearn\\metrics\\cluster\\_supervised.py:64: UserWarning: Clustering metrics expects discrete values but received continuous values for label, and binary values for target\n",
      "  warnings.warn(msg, UserWarning)\n",
      "C:\\Users\\user\\AppData\\Roaming\\Python\\Python39\\site-packages\\sklearn\\metrics\\cluster\\_supervised.py:64: UserWarning: Clustering metrics expects discrete values but received continuous values for label, and binary values for target\n",
      "  warnings.warn(msg, UserWarning)\n",
      "C:\\Users\\user\\AppData\\Roaming\\Python\\Python39\\site-packages\\sklearn\\metrics\\cluster\\_supervised.py:64: UserWarning: Clustering metrics expects discrete values but received continuous values for label, and binary values for target\n",
      "  warnings.warn(msg, UserWarning)\n",
      "C:\\Users\\user\\AppData\\Roaming\\Python\\Python39\\site-packages\\sklearn\\metrics\\cluster\\_supervised.py:64: UserWarning: Clustering metrics expects discrete values but received continuous values for label, and binary values for target\n",
      "  warnings.warn(msg, UserWarning)\n",
      "C:\\Users\\user\\AppData\\Roaming\\Python\\Python39\\site-packages\\sklearn\\metrics\\cluster\\_supervised.py:64: UserWarning: Clustering metrics expects discrete values but received continuous values for label, and binary values for target\n",
      "  warnings.warn(msg, UserWarning)\n",
      "C:\\Users\\user\\AppData\\Roaming\\Python\\Python39\\site-packages\\sklearn\\metrics\\cluster\\_supervised.py:64: UserWarning: Clustering metrics expects discrete values but received continuous values for label, and binary values for target\n",
      "  warnings.warn(msg, UserWarning)\n",
      "C:\\Users\\user\\AppData\\Roaming\\Python\\Python39\\site-packages\\sklearn\\metrics\\cluster\\_supervised.py:64: UserWarning: Clustering metrics expects discrete values but received continuous values for label, and binary values for target\n",
      "  warnings.warn(msg, UserWarning)\n",
      "C:\\Users\\user\\AppData\\Roaming\\Python\\Python39\\site-packages\\sklearn\\metrics\\cluster\\_supervised.py:64: UserWarning: Clustering metrics expects discrete values but received continuous values for label, and binary values for target\n",
      "  warnings.warn(msg, UserWarning)\n",
      "C:\\Users\\user\\AppData\\Roaming\\Python\\Python39\\site-packages\\sklearn\\metrics\\cluster\\_supervised.py:64: UserWarning: Clustering metrics expects discrete values but received continuous values for label, and binary values for target\n",
      "  warnings.warn(msg, UserWarning)\n",
      "C:\\Users\\user\\AppData\\Roaming\\Python\\Python39\\site-packages\\sklearn\\metrics\\cluster\\_supervised.py:64: UserWarning: Clustering metrics expects discrete values but received continuous values for label, and binary values for target\n",
      "  warnings.warn(msg, UserWarning)\n",
      "C:\\Users\\user\\AppData\\Roaming\\Python\\Python39\\site-packages\\sklearn\\metrics\\cluster\\_supervised.py:64: UserWarning: Clustering metrics expects discrete values but received continuous values for label, and binary values for target\n",
      "  warnings.warn(msg, UserWarning)\n",
      "C:\\Users\\user\\AppData\\Roaming\\Python\\Python39\\site-packages\\sklearn\\metrics\\cluster\\_supervised.py:64: UserWarning: Clustering metrics expects discrete values but received continuous values for label, and binary values for target\n",
      "  warnings.warn(msg, UserWarning)\n",
      "C:\\Users\\user\\AppData\\Roaming\\Python\\Python39\\site-packages\\sklearn\\metrics\\cluster\\_supervised.py:64: UserWarning: Clustering metrics expects discrete values but received continuous values for label, and binary values for target\n",
      "  warnings.warn(msg, UserWarning)\n"
     ]
    },
    {
     "name": "stderr",
     "output_type": "stream",
     "text": [
      "C:\\Users\\user\\AppData\\Roaming\\Python\\Python39\\site-packages\\sklearn\\metrics\\cluster\\_supervised.py:64: UserWarning: Clustering metrics expects discrete values but received continuous values for label, and binary values for target\n",
      "  warnings.warn(msg, UserWarning)\n",
      "C:\\Users\\user\\AppData\\Roaming\\Python\\Python39\\site-packages\\sklearn\\metrics\\cluster\\_supervised.py:64: UserWarning: Clustering metrics expects discrete values but received continuous values for label, and binary values for target\n",
      "  warnings.warn(msg, UserWarning)\n",
      "C:\\Users\\user\\AppData\\Roaming\\Python\\Python39\\site-packages\\sklearn\\metrics\\cluster\\_supervised.py:64: UserWarning: Clustering metrics expects discrete values but received continuous values for label, and binary values for target\n",
      "  warnings.warn(msg, UserWarning)\n",
      "C:\\Users\\user\\AppData\\Roaming\\Python\\Python39\\site-packages\\sklearn\\metrics\\cluster\\_supervised.py:64: UserWarning: Clustering metrics expects discrete values but received continuous values for label, and binary values for target\n",
      "  warnings.warn(msg, UserWarning)\n",
      "C:\\Users\\user\\AppData\\Roaming\\Python\\Python39\\site-packages\\sklearn\\metrics\\cluster\\_supervised.py:64: UserWarning: Clustering metrics expects discrete values but received continuous values for label, and binary values for target\n",
      "  warnings.warn(msg, UserWarning)\n",
      "C:\\Users\\user\\AppData\\Roaming\\Python\\Python39\\site-packages\\sklearn\\metrics\\cluster\\_supervised.py:64: UserWarning: Clustering metrics expects discrete values but received continuous values for label, and binary values for target\n",
      "  warnings.warn(msg, UserWarning)\n",
      "C:\\Users\\user\\AppData\\Roaming\\Python\\Python39\\site-packages\\sklearn\\metrics\\cluster\\_supervised.py:64: UserWarning: Clustering metrics expects discrete values but received continuous values for label, and binary values for target\n",
      "  warnings.warn(msg, UserWarning)\n",
      "C:\\Users\\user\\AppData\\Roaming\\Python\\Python39\\site-packages\\sklearn\\metrics\\cluster\\_supervised.py:64: UserWarning: Clustering metrics expects discrete values but received continuous values for label, and binary values for target\n",
      "  warnings.warn(msg, UserWarning)\n",
      "C:\\Users\\user\\AppData\\Roaming\\Python\\Python39\\site-packages\\sklearn\\metrics\\cluster\\_supervised.py:64: UserWarning: Clustering metrics expects discrete values but received continuous values for label, and binary values for target\n",
      "  warnings.warn(msg, UserWarning)\n",
      "C:\\Users\\user\\AppData\\Roaming\\Python\\Python39\\site-packages\\sklearn\\metrics\\cluster\\_supervised.py:64: UserWarning: Clustering metrics expects discrete values but received continuous values for label, and binary values for target\n",
      "  warnings.warn(msg, UserWarning)\n",
      "C:\\Users\\user\\AppData\\Roaming\\Python\\Python39\\site-packages\\sklearn\\metrics\\cluster\\_supervised.py:64: UserWarning: Clustering metrics expects discrete values but received continuous values for label, and binary values for target\n",
      "  warnings.warn(msg, UserWarning)\n",
      "C:\\Users\\user\\AppData\\Roaming\\Python\\Python39\\site-packages\\sklearn\\metrics\\cluster\\_supervised.py:64: UserWarning: Clustering metrics expects discrete values but received continuous values for label, and binary values for target\n",
      "  warnings.warn(msg, UserWarning)\n",
      "C:\\Users\\user\\AppData\\Roaming\\Python\\Python39\\site-packages\\sklearn\\metrics\\cluster\\_supervised.py:64: UserWarning: Clustering metrics expects discrete values but received continuous values for label, and binary values for target\n",
      "  warnings.warn(msg, UserWarning)\n",
      "C:\\Users\\user\\AppData\\Roaming\\Python\\Python39\\site-packages\\sklearn\\metrics\\cluster\\_supervised.py:64: UserWarning: Clustering metrics expects discrete values but received continuous values for label, and binary values for target\n",
      "  warnings.warn(msg, UserWarning)\n",
      "C:\\Users\\user\\AppData\\Roaming\\Python\\Python39\\site-packages\\sklearn\\metrics\\cluster\\_supervised.py:64: UserWarning: Clustering metrics expects discrete values but received continuous values for label, and binary values for target\n",
      "  warnings.warn(msg, UserWarning)\n",
      "C:\\Users\\user\\AppData\\Roaming\\Python\\Python39\\site-packages\\sklearn\\metrics\\cluster\\_supervised.py:64: UserWarning: Clustering metrics expects discrete values but received continuous values for label, and binary values for target\n",
      "  warnings.warn(msg, UserWarning)\n",
      "C:\\Users\\user\\AppData\\Roaming\\Python\\Python39\\site-packages\\sklearn\\metrics\\cluster\\_supervised.py:64: UserWarning: Clustering metrics expects discrete values but received continuous values for label, and binary values for target\n",
      "  warnings.warn(msg, UserWarning)\n",
      "C:\\Users\\user\\AppData\\Roaming\\Python\\Python39\\site-packages\\sklearn\\metrics\\cluster\\_supervised.py:64: UserWarning: Clustering metrics expects discrete values but received continuous values for label, and binary values for target\n",
      "  warnings.warn(msg, UserWarning)\n",
      "C:\\Users\\user\\AppData\\Roaming\\Python\\Python39\\site-packages\\sklearn\\metrics\\cluster\\_supervised.py:64: UserWarning: Clustering metrics expects discrete values but received continuous values for label, and binary values for target\n",
      "  warnings.warn(msg, UserWarning)\n",
      "C:\\Users\\user\\AppData\\Roaming\\Python\\Python39\\site-packages\\sklearn\\metrics\\cluster\\_supervised.py:64: UserWarning: Clustering metrics expects discrete values but received continuous values for label, and binary values for target\n",
      "  warnings.warn(msg, UserWarning)\n",
      "C:\\Users\\user\\AppData\\Roaming\\Python\\Python39\\site-packages\\sklearn\\metrics\\cluster\\_supervised.py:64: UserWarning: Clustering metrics expects discrete values but received continuous values for label, and binary values for target\n",
      "  warnings.warn(msg, UserWarning)\n",
      "C:\\Users\\user\\AppData\\Roaming\\Python\\Python39\\site-packages\\sklearn\\metrics\\cluster\\_supervised.py:64: UserWarning: Clustering metrics expects discrete values but received continuous values for label, and binary values for target\n",
      "  warnings.warn(msg, UserWarning)\n",
      "C:\\Users\\user\\AppData\\Roaming\\Python\\Python39\\site-packages\\sklearn\\metrics\\cluster\\_supervised.py:64: UserWarning: Clustering metrics expects discrete values but received continuous values for label, and binary values for target\n",
      "  warnings.warn(msg, UserWarning)\n",
      "C:\\Users\\user\\AppData\\Roaming\\Python\\Python39\\site-packages\\sklearn\\metrics\\cluster\\_supervised.py:64: UserWarning: Clustering metrics expects discrete values but received continuous values for label, and binary values for target\n",
      "  warnings.warn(msg, UserWarning)\n",
      "C:\\Users\\user\\AppData\\Roaming\\Python\\Python39\\site-packages\\sklearn\\metrics\\cluster\\_supervised.py:64: UserWarning: Clustering metrics expects discrete values but received continuous values for label, and binary values for target\n",
      "  warnings.warn(msg, UserWarning)\n",
      "C:\\Users\\user\\AppData\\Roaming\\Python\\Python39\\site-packages\\sklearn\\metrics\\cluster\\_supervised.py:64: UserWarning: Clustering metrics expects discrete values but received continuous values for label, and binary values for target\n",
      "  warnings.warn(msg, UserWarning)\n",
      "C:\\Users\\user\\AppData\\Roaming\\Python\\Python39\\site-packages\\sklearn\\metrics\\cluster\\_supervised.py:64: UserWarning: Clustering metrics expects discrete values but received continuous values for label, and binary values for target\n",
      "  warnings.warn(msg, UserWarning)\n",
      "C:\\Users\\user\\AppData\\Roaming\\Python\\Python39\\site-packages\\sklearn\\metrics\\cluster\\_supervised.py:64: UserWarning: Clustering metrics expects discrete values but received continuous values for label, and binary values for target\n",
      "  warnings.warn(msg, UserWarning)\n",
      "C:\\Users\\user\\AppData\\Roaming\\Python\\Python39\\site-packages\\sklearn\\metrics\\cluster\\_supervised.py:64: UserWarning: Clustering metrics expects discrete values but received continuous values for label, and binary values for target\n",
      "  warnings.warn(msg, UserWarning)\n",
      "C:\\Users\\user\\AppData\\Roaming\\Python\\Python39\\site-packages\\sklearn\\metrics\\cluster\\_supervised.py:64: UserWarning: Clustering metrics expects discrete values but received continuous values for label, and binary values for target\n",
      "  warnings.warn(msg, UserWarning)\n",
      "C:\\Users\\user\\AppData\\Roaming\\Python\\Python39\\site-packages\\sklearn\\metrics\\cluster\\_supervised.py:64: UserWarning: Clustering metrics expects discrete values but received continuous values for label, and binary values for target\n",
      "  warnings.warn(msg, UserWarning)\n",
      "C:\\Users\\user\\AppData\\Roaming\\Python\\Python39\\site-packages\\sklearn\\metrics\\cluster\\_supervised.py:64: UserWarning: Clustering metrics expects discrete values but received continuous values for label, and binary values for target\n",
      "  warnings.warn(msg, UserWarning)\n",
      "C:\\Users\\user\\AppData\\Roaming\\Python\\Python39\\site-packages\\sklearn\\metrics\\cluster\\_supervised.py:64: UserWarning: Clustering metrics expects discrete values but received continuous values for label, and binary values for target\n",
      "  warnings.warn(msg, UserWarning)\n",
      "C:\\Users\\user\\AppData\\Roaming\\Python\\Python39\\site-packages\\sklearn\\metrics\\cluster\\_supervised.py:64: UserWarning: Clustering metrics expects discrete values but received continuous values for label, and binary values for target\n",
      "  warnings.warn(msg, UserWarning)\n",
      "C:\\Users\\user\\AppData\\Roaming\\Python\\Python39\\site-packages\\sklearn\\metrics\\cluster\\_supervised.py:64: UserWarning: Clustering metrics expects discrete values but received continuous values for label, and binary values for target\n",
      "  warnings.warn(msg, UserWarning)\n",
      "C:\\Users\\user\\AppData\\Roaming\\Python\\Python39\\site-packages\\sklearn\\metrics\\cluster\\_supervised.py:64: UserWarning: Clustering metrics expects discrete values but received continuous values for label, and binary values for target\n",
      "  warnings.warn(msg, UserWarning)\n",
      "C:\\Users\\user\\AppData\\Roaming\\Python\\Python39\\site-packages\\sklearn\\metrics\\cluster\\_supervised.py:64: UserWarning: Clustering metrics expects discrete values but received continuous values for label, and binary values for target\n",
      "  warnings.warn(msg, UserWarning)\n",
      "C:\\Users\\user\\AppData\\Roaming\\Python\\Python39\\site-packages\\sklearn\\metrics\\cluster\\_supervised.py:64: UserWarning: Clustering metrics expects discrete values but received continuous values for label, and binary values for target\n",
      "  warnings.warn(msg, UserWarning)\n",
      "C:\\Users\\user\\AppData\\Roaming\\Python\\Python39\\site-packages\\sklearn\\metrics\\cluster\\_supervised.py:64: UserWarning: Clustering metrics expects discrete values but received continuous values for label, and binary values for target\n",
      "  warnings.warn(msg, UserWarning)\n",
      "C:\\Users\\user\\AppData\\Roaming\\Python\\Python39\\site-packages\\sklearn\\metrics\\cluster\\_supervised.py:64: UserWarning: Clustering metrics expects discrete values but received continuous values for label, and binary values for target\n",
      "  warnings.warn(msg, UserWarning)\n",
      "C:\\Users\\user\\AppData\\Roaming\\Python\\Python39\\site-packages\\sklearn\\metrics\\cluster\\_supervised.py:64: UserWarning: Clustering metrics expects discrete values but received continuous values for label, and binary values for target\n",
      "  warnings.warn(msg, UserWarning)\n"
     ]
    },
    {
     "name": "stderr",
     "output_type": "stream",
     "text": [
      "C:\\Users\\user\\AppData\\Roaming\\Python\\Python39\\site-packages\\sklearn\\metrics\\cluster\\_supervised.py:64: UserWarning: Clustering metrics expects discrete values but received continuous values for label, and binary values for target\n",
      "  warnings.warn(msg, UserWarning)\n",
      "C:\\Users\\user\\AppData\\Roaming\\Python\\Python39\\site-packages\\sklearn\\metrics\\cluster\\_supervised.py:64: UserWarning: Clustering metrics expects discrete values but received continuous values for label, and binary values for target\n",
      "  warnings.warn(msg, UserWarning)\n",
      "C:\\Users\\user\\AppData\\Roaming\\Python\\Python39\\site-packages\\sklearn\\metrics\\cluster\\_supervised.py:64: UserWarning: Clustering metrics expects discrete values but received continuous values for label, and binary values for target\n",
      "  warnings.warn(msg, UserWarning)\n",
      "C:\\Users\\user\\AppData\\Roaming\\Python\\Python39\\site-packages\\sklearn\\metrics\\cluster\\_supervised.py:64: UserWarning: Clustering metrics expects discrete values but received continuous values for label, and binary values for target\n",
      "  warnings.warn(msg, UserWarning)\n",
      "C:\\Users\\user\\AppData\\Roaming\\Python\\Python39\\site-packages\\sklearn\\metrics\\cluster\\_supervised.py:64: UserWarning: Clustering metrics expects discrete values but received continuous values for label, and binary values for target\n",
      "  warnings.warn(msg, UserWarning)\n",
      "C:\\Users\\user\\AppData\\Roaming\\Python\\Python39\\site-packages\\sklearn\\metrics\\cluster\\_supervised.py:64: UserWarning: Clustering metrics expects discrete values but received continuous values for label, and binary values for target\n",
      "  warnings.warn(msg, UserWarning)\n",
      "C:\\Users\\user\\AppData\\Roaming\\Python\\Python39\\site-packages\\sklearn\\metrics\\cluster\\_supervised.py:64: UserWarning: Clustering metrics expects discrete values but received continuous values for label, and binary values for target\n",
      "  warnings.warn(msg, UserWarning)\n",
      "C:\\Users\\user\\AppData\\Roaming\\Python\\Python39\\site-packages\\sklearn\\metrics\\cluster\\_supervised.py:64: UserWarning: Clustering metrics expects discrete values but received continuous values for label, and binary values for target\n",
      "  warnings.warn(msg, UserWarning)\n",
      "C:\\Users\\user\\AppData\\Roaming\\Python\\Python39\\site-packages\\sklearn\\metrics\\cluster\\_supervised.py:64: UserWarning: Clustering metrics expects discrete values but received continuous values for label, and binary values for target\n",
      "  warnings.warn(msg, UserWarning)\n",
      "C:\\Users\\user\\AppData\\Roaming\\Python\\Python39\\site-packages\\sklearn\\metrics\\cluster\\_supervised.py:64: UserWarning: Clustering metrics expects discrete values but received continuous values for label, and binary values for target\n",
      "  warnings.warn(msg, UserWarning)\n",
      "C:\\Users\\user\\AppData\\Roaming\\Python\\Python39\\site-packages\\sklearn\\metrics\\cluster\\_supervised.py:64: UserWarning: Clustering metrics expects discrete values but received continuous values for label, and binary values for target\n",
      "  warnings.warn(msg, UserWarning)\n",
      "C:\\Users\\user\\AppData\\Roaming\\Python\\Python39\\site-packages\\sklearn\\metrics\\cluster\\_supervised.py:64: UserWarning: Clustering metrics expects discrete values but received continuous values for label, and binary values for target\n",
      "  warnings.warn(msg, UserWarning)\n",
      "C:\\Users\\user\\AppData\\Roaming\\Python\\Python39\\site-packages\\sklearn\\metrics\\cluster\\_supervised.py:64: UserWarning: Clustering metrics expects discrete values but received continuous values for label, and binary values for target\n",
      "  warnings.warn(msg, UserWarning)\n",
      "C:\\Users\\user\\AppData\\Roaming\\Python\\Python39\\site-packages\\sklearn\\metrics\\cluster\\_supervised.py:64: UserWarning: Clustering metrics expects discrete values but received continuous values for label, and binary values for target\n",
      "  warnings.warn(msg, UserWarning)\n",
      "C:\\Users\\user\\AppData\\Roaming\\Python\\Python39\\site-packages\\sklearn\\metrics\\cluster\\_supervised.py:64: UserWarning: Clustering metrics expects discrete values but received continuous values for label, and binary values for target\n",
      "  warnings.warn(msg, UserWarning)\n",
      "C:\\Users\\user\\AppData\\Roaming\\Python\\Python39\\site-packages\\sklearn\\metrics\\cluster\\_supervised.py:64: UserWarning: Clustering metrics expects discrete values but received continuous values for label, and binary values for target\n",
      "  warnings.warn(msg, UserWarning)\n",
      "C:\\Users\\user\\AppData\\Roaming\\Python\\Python39\\site-packages\\sklearn\\metrics\\cluster\\_supervised.py:64: UserWarning: Clustering metrics expects discrete values but received continuous values for label, and binary values for target\n",
      "  warnings.warn(msg, UserWarning)\n",
      "C:\\Users\\user\\AppData\\Roaming\\Python\\Python39\\site-packages\\sklearn\\metrics\\cluster\\_supervised.py:64: UserWarning: Clustering metrics expects discrete values but received continuous values for label, and binary values for target\n",
      "  warnings.warn(msg, UserWarning)\n",
      "C:\\Users\\user\\AppData\\Roaming\\Python\\Python39\\site-packages\\sklearn\\metrics\\cluster\\_supervised.py:64: UserWarning: Clustering metrics expects discrete values but received continuous values for label, and binary values for target\n",
      "  warnings.warn(msg, UserWarning)\n",
      "C:\\Users\\user\\AppData\\Roaming\\Python\\Python39\\site-packages\\sklearn\\metrics\\cluster\\_supervised.py:64: UserWarning: Clustering metrics expects discrete values but received continuous values for label, and binary values for target\n",
      "  warnings.warn(msg, UserWarning)\n",
      "C:\\Users\\user\\AppData\\Roaming\\Python\\Python39\\site-packages\\sklearn\\metrics\\cluster\\_supervised.py:64: UserWarning: Clustering metrics expects discrete values but received continuous values for label, and binary values for target\n",
      "  warnings.warn(msg, UserWarning)\n",
      "C:\\Users\\user\\AppData\\Roaming\\Python\\Python39\\site-packages\\sklearn\\metrics\\cluster\\_supervised.py:64: UserWarning: Clustering metrics expects discrete values but received continuous values for label, and binary values for target\n",
      "  warnings.warn(msg, UserWarning)\n",
      "C:\\Users\\user\\AppData\\Roaming\\Python\\Python39\\site-packages\\sklearn\\metrics\\cluster\\_supervised.py:64: UserWarning: Clustering metrics expects discrete values but received continuous values for label, and binary values for target\n",
      "  warnings.warn(msg, UserWarning)\n",
      "C:\\Users\\user\\AppData\\Roaming\\Python\\Python39\\site-packages\\sklearn\\metrics\\cluster\\_supervised.py:64: UserWarning: Clustering metrics expects discrete values but received continuous values for label, and binary values for target\n",
      "  warnings.warn(msg, UserWarning)\n",
      "C:\\Users\\user\\AppData\\Roaming\\Python\\Python39\\site-packages\\sklearn\\metrics\\cluster\\_supervised.py:64: UserWarning: Clustering metrics expects discrete values but received continuous values for label, and binary values for target\n",
      "  warnings.warn(msg, UserWarning)\n",
      "C:\\Users\\user\\AppData\\Roaming\\Python\\Python39\\site-packages\\sklearn\\metrics\\cluster\\_supervised.py:64: UserWarning: Clustering metrics expects discrete values but received continuous values for label, and binary values for target\n",
      "  warnings.warn(msg, UserWarning)\n",
      "C:\\Users\\user\\AppData\\Roaming\\Python\\Python39\\site-packages\\sklearn\\metrics\\cluster\\_supervised.py:64: UserWarning: Clustering metrics expects discrete values but received continuous values for label, and binary values for target\n",
      "  warnings.warn(msg, UserWarning)\n",
      "C:\\Users\\user\\AppData\\Roaming\\Python\\Python39\\site-packages\\sklearn\\metrics\\cluster\\_supervised.py:64: UserWarning: Clustering metrics expects discrete values but received continuous values for label, and binary values for target\n",
      "  warnings.warn(msg, UserWarning)\n",
      "C:\\Users\\user\\AppData\\Roaming\\Python\\Python39\\site-packages\\sklearn\\metrics\\cluster\\_supervised.py:64: UserWarning: Clustering metrics expects discrete values but received continuous values for label, and binary values for target\n",
      "  warnings.warn(msg, UserWarning)\n",
      "C:\\Users\\user\\AppData\\Roaming\\Python\\Python39\\site-packages\\sklearn\\metrics\\cluster\\_supervised.py:64: UserWarning: Clustering metrics expects discrete values but received continuous values for label, and binary values for target\n",
      "  warnings.warn(msg, UserWarning)\n",
      "C:\\Users\\user\\AppData\\Roaming\\Python\\Python39\\site-packages\\sklearn\\metrics\\cluster\\_supervised.py:64: UserWarning: Clustering metrics expects discrete values but received continuous values for label, and binary values for target\n",
      "  warnings.warn(msg, UserWarning)\n",
      "C:\\Users\\user\\AppData\\Roaming\\Python\\Python39\\site-packages\\sklearn\\metrics\\cluster\\_supervised.py:64: UserWarning: Clustering metrics expects discrete values but received continuous values for label, and binary values for target\n",
      "  warnings.warn(msg, UserWarning)\n",
      "C:\\Users\\user\\AppData\\Roaming\\Python\\Python39\\site-packages\\sklearn\\metrics\\cluster\\_supervised.py:64: UserWarning: Clustering metrics expects discrete values but received continuous values for label, and binary values for target\n",
      "  warnings.warn(msg, UserWarning)\n",
      "C:\\Users\\user\\AppData\\Roaming\\Python\\Python39\\site-packages\\sklearn\\metrics\\cluster\\_supervised.py:64: UserWarning: Clustering metrics expects discrete values but received continuous values for label, and binary values for target\n",
      "  warnings.warn(msg, UserWarning)\n",
      "C:\\Users\\user\\AppData\\Roaming\\Python\\Python39\\site-packages\\sklearn\\metrics\\cluster\\_supervised.py:64: UserWarning: Clustering metrics expects discrete values but received continuous values for label, and binary values for target\n",
      "  warnings.warn(msg, UserWarning)\n",
      "C:\\Users\\user\\AppData\\Roaming\\Python\\Python39\\site-packages\\sklearn\\metrics\\cluster\\_supervised.py:64: UserWarning: Clustering metrics expects discrete values but received continuous values for label, and binary values for target\n",
      "  warnings.warn(msg, UserWarning)\n",
      "C:\\Users\\user\\AppData\\Roaming\\Python\\Python39\\site-packages\\sklearn\\metrics\\cluster\\_supervised.py:64: UserWarning: Clustering metrics expects discrete values but received continuous values for label, and binary values for target\n",
      "  warnings.warn(msg, UserWarning)\n",
      "C:\\Users\\user\\AppData\\Roaming\\Python\\Python39\\site-packages\\sklearn\\metrics\\cluster\\_supervised.py:64: UserWarning: Clustering metrics expects discrete values but received continuous values for label, and binary values for target\n",
      "  warnings.warn(msg, UserWarning)\n",
      "C:\\Users\\user\\AppData\\Roaming\\Python\\Python39\\site-packages\\sklearn\\metrics\\cluster\\_supervised.py:64: UserWarning: Clustering metrics expects discrete values but received continuous values for label, and binary values for target\n",
      "  warnings.warn(msg, UserWarning)\n",
      "C:\\Users\\user\\AppData\\Roaming\\Python\\Python39\\site-packages\\sklearn\\metrics\\cluster\\_supervised.py:64: UserWarning: Clustering metrics expects discrete values but received continuous values for label, and binary values for target\n",
      "  warnings.warn(msg, UserWarning)\n"
     ]
    },
    {
     "name": "stderr",
     "output_type": "stream",
     "text": [
      "C:\\Users\\user\\AppData\\Roaming\\Python\\Python39\\site-packages\\sklearn\\metrics\\cluster\\_supervised.py:64: UserWarning: Clustering metrics expects discrete values but received continuous values for label, and binary values for target\n",
      "  warnings.warn(msg, UserWarning)\n",
      "C:\\Users\\user\\AppData\\Roaming\\Python\\Python39\\site-packages\\sklearn\\metrics\\cluster\\_supervised.py:64: UserWarning: Clustering metrics expects discrete values but received continuous values for label, and binary values for target\n",
      "  warnings.warn(msg, UserWarning)\n",
      "C:\\Users\\user\\AppData\\Roaming\\Python\\Python39\\site-packages\\sklearn\\metrics\\cluster\\_supervised.py:64: UserWarning: Clustering metrics expects discrete values but received continuous values for label, and binary values for target\n",
      "  warnings.warn(msg, UserWarning)\n",
      "C:\\Users\\user\\AppData\\Roaming\\Python\\Python39\\site-packages\\sklearn\\metrics\\cluster\\_supervised.py:64: UserWarning: Clustering metrics expects discrete values but received continuous values for label, and binary values for target\n",
      "  warnings.warn(msg, UserWarning)\n",
      "C:\\Users\\user\\AppData\\Roaming\\Python\\Python39\\site-packages\\sklearn\\metrics\\cluster\\_supervised.py:64: UserWarning: Clustering metrics expects discrete values but received continuous values for label, and binary values for target\n",
      "  warnings.warn(msg, UserWarning)\n",
      "C:\\Users\\user\\AppData\\Roaming\\Python\\Python39\\site-packages\\sklearn\\metrics\\cluster\\_supervised.py:64: UserWarning: Clustering metrics expects discrete values but received continuous values for label, and binary values for target\n",
      "  warnings.warn(msg, UserWarning)\n",
      "C:\\Users\\user\\AppData\\Roaming\\Python\\Python39\\site-packages\\sklearn\\metrics\\cluster\\_supervised.py:64: UserWarning: Clustering metrics expects discrete values but received continuous values for label, and binary values for target\n",
      "  warnings.warn(msg, UserWarning)\n",
      "C:\\Users\\user\\AppData\\Roaming\\Python\\Python39\\site-packages\\sklearn\\metrics\\cluster\\_supervised.py:64: UserWarning: Clustering metrics expects discrete values but received continuous values for label, and binary values for target\n",
      "  warnings.warn(msg, UserWarning)\n",
      "C:\\Users\\user\\AppData\\Roaming\\Python\\Python39\\site-packages\\sklearn\\metrics\\cluster\\_supervised.py:64: UserWarning: Clustering metrics expects discrete values but received continuous values for label, and binary values for target\n",
      "  warnings.warn(msg, UserWarning)\n",
      "C:\\Users\\user\\AppData\\Roaming\\Python\\Python39\\site-packages\\sklearn\\metrics\\cluster\\_supervised.py:64: UserWarning: Clustering metrics expects discrete values but received continuous values for label, and binary values for target\n",
      "  warnings.warn(msg, UserWarning)\n",
      "C:\\Users\\user\\AppData\\Roaming\\Python\\Python39\\site-packages\\sklearn\\metrics\\cluster\\_supervised.py:64: UserWarning: Clustering metrics expects discrete values but received continuous values for label, and binary values for target\n",
      "  warnings.warn(msg, UserWarning)\n",
      "C:\\Users\\user\\AppData\\Roaming\\Python\\Python39\\site-packages\\sklearn\\metrics\\cluster\\_supervised.py:64: UserWarning: Clustering metrics expects discrete values but received continuous values for label, and binary values for target\n",
      "  warnings.warn(msg, UserWarning)\n",
      "C:\\Users\\user\\AppData\\Roaming\\Python\\Python39\\site-packages\\sklearn\\metrics\\cluster\\_supervised.py:64: UserWarning: Clustering metrics expects discrete values but received continuous values for label, and binary values for target\n",
      "  warnings.warn(msg, UserWarning)\n",
      "C:\\Users\\user\\AppData\\Roaming\\Python\\Python39\\site-packages\\sklearn\\metrics\\cluster\\_supervised.py:64: UserWarning: Clustering metrics expects discrete values but received continuous values for label, and binary values for target\n",
      "  warnings.warn(msg, UserWarning)\n",
      "C:\\Users\\user\\AppData\\Roaming\\Python\\Python39\\site-packages\\sklearn\\metrics\\cluster\\_supervised.py:64: UserWarning: Clustering metrics expects discrete values but received continuous values for label, and binary values for target\n",
      "  warnings.warn(msg, UserWarning)\n",
      "C:\\Users\\user\\AppData\\Roaming\\Python\\Python39\\site-packages\\sklearn\\metrics\\cluster\\_supervised.py:64: UserWarning: Clustering metrics expects discrete values but received continuous values for label, and binary values for target\n",
      "  warnings.warn(msg, UserWarning)\n",
      "C:\\Users\\user\\AppData\\Roaming\\Python\\Python39\\site-packages\\sklearn\\metrics\\cluster\\_supervised.py:64: UserWarning: Clustering metrics expects discrete values but received continuous values for label, and binary values for target\n",
      "  warnings.warn(msg, UserWarning)\n",
      "C:\\Users\\user\\AppData\\Roaming\\Python\\Python39\\site-packages\\sklearn\\metrics\\cluster\\_supervised.py:64: UserWarning: Clustering metrics expects discrete values but received continuous values for label, and binary values for target\n",
      "  warnings.warn(msg, UserWarning)\n",
      "C:\\Users\\user\\AppData\\Roaming\\Python\\Python39\\site-packages\\sklearn\\metrics\\cluster\\_supervised.py:64: UserWarning: Clustering metrics expects discrete values but received continuous values for label, and binary values for target\n",
      "  warnings.warn(msg, UserWarning)\n",
      "C:\\Users\\user\\AppData\\Roaming\\Python\\Python39\\site-packages\\sklearn\\metrics\\cluster\\_supervised.py:64: UserWarning: Clustering metrics expects discrete values but received continuous values for label, and binary values for target\n",
      "  warnings.warn(msg, UserWarning)\n",
      "C:\\Users\\user\\AppData\\Roaming\\Python\\Python39\\site-packages\\sklearn\\metrics\\cluster\\_supervised.py:64: UserWarning: Clustering metrics expects discrete values but received continuous values for label, and binary values for target\n",
      "  warnings.warn(msg, UserWarning)\n",
      "C:\\Users\\user\\AppData\\Roaming\\Python\\Python39\\site-packages\\sklearn\\metrics\\cluster\\_supervised.py:64: UserWarning: Clustering metrics expects discrete values but received continuous values for label, and binary values for target\n",
      "  warnings.warn(msg, UserWarning)\n",
      "C:\\Users\\user\\AppData\\Roaming\\Python\\Python39\\site-packages\\sklearn\\metrics\\cluster\\_supervised.py:64: UserWarning: Clustering metrics expects discrete values but received continuous values for label, and binary values for target\n",
      "  warnings.warn(msg, UserWarning)\n",
      "C:\\Users\\user\\AppData\\Roaming\\Python\\Python39\\site-packages\\sklearn\\metrics\\cluster\\_supervised.py:64: UserWarning: Clustering metrics expects discrete values but received continuous values for label, and binary values for target\n",
      "  warnings.warn(msg, UserWarning)\n",
      "C:\\Users\\user\\AppData\\Roaming\\Python\\Python39\\site-packages\\sklearn\\metrics\\cluster\\_supervised.py:64: UserWarning: Clustering metrics expects discrete values but received continuous values for label, and binary values for target\n",
      "  warnings.warn(msg, UserWarning)\n",
      "C:\\Users\\user\\AppData\\Roaming\\Python\\Python39\\site-packages\\sklearn\\metrics\\cluster\\_supervised.py:64: UserWarning: Clustering metrics expects discrete values but received continuous values for label, and binary values for target\n",
      "  warnings.warn(msg, UserWarning)\n",
      "C:\\Users\\user\\AppData\\Roaming\\Python\\Python39\\site-packages\\sklearn\\metrics\\cluster\\_supervised.py:64: UserWarning: Clustering metrics expects discrete values but received continuous values for label, and binary values for target\n",
      "  warnings.warn(msg, UserWarning)\n",
      "C:\\Users\\user\\AppData\\Roaming\\Python\\Python39\\site-packages\\sklearn\\metrics\\cluster\\_supervised.py:64: UserWarning: Clustering metrics expects discrete values but received continuous values for label, and binary values for target\n",
      "  warnings.warn(msg, UserWarning)\n",
      "C:\\Users\\user\\AppData\\Roaming\\Python\\Python39\\site-packages\\sklearn\\metrics\\cluster\\_supervised.py:64: UserWarning: Clustering metrics expects discrete values but received continuous values for label, and binary values for target\n",
      "  warnings.warn(msg, UserWarning)\n",
      "C:\\Users\\user\\AppData\\Roaming\\Python\\Python39\\site-packages\\sklearn\\metrics\\cluster\\_supervised.py:64: UserWarning: Clustering metrics expects discrete values but received continuous values for label, and binary values for target\n",
      "  warnings.warn(msg, UserWarning)\n",
      "C:\\Users\\user\\AppData\\Roaming\\Python\\Python39\\site-packages\\sklearn\\metrics\\cluster\\_supervised.py:64: UserWarning: Clustering metrics expects discrete values but received continuous values for label, and binary values for target\n",
      "  warnings.warn(msg, UserWarning)\n",
      "C:\\Users\\user\\AppData\\Roaming\\Python\\Python39\\site-packages\\sklearn\\metrics\\cluster\\_supervised.py:64: UserWarning: Clustering metrics expects discrete values but received continuous values for label, and binary values for target\n",
      "  warnings.warn(msg, UserWarning)\n",
      "C:\\Users\\user\\AppData\\Roaming\\Python\\Python39\\site-packages\\sklearn\\metrics\\cluster\\_supervised.py:64: UserWarning: Clustering metrics expects discrete values but received continuous values for label, and binary values for target\n",
      "  warnings.warn(msg, UserWarning)\n",
      "C:\\Users\\user\\AppData\\Roaming\\Python\\Python39\\site-packages\\sklearn\\metrics\\cluster\\_supervised.py:64: UserWarning: Clustering metrics expects discrete values but received continuous values for label, and binary values for target\n",
      "  warnings.warn(msg, UserWarning)\n",
      "C:\\Users\\user\\AppData\\Roaming\\Python\\Python39\\site-packages\\sklearn\\metrics\\cluster\\_supervised.py:64: UserWarning: Clustering metrics expects discrete values but received continuous values for label, and binary values for target\n",
      "  warnings.warn(msg, UserWarning)\n",
      "C:\\Users\\user\\AppData\\Roaming\\Python\\Python39\\site-packages\\sklearn\\metrics\\cluster\\_supervised.py:64: UserWarning: Clustering metrics expects discrete values but received continuous values for label, and binary values for target\n",
      "  warnings.warn(msg, UserWarning)\n",
      "C:\\Users\\user\\AppData\\Roaming\\Python\\Python39\\site-packages\\sklearn\\metrics\\cluster\\_supervised.py:64: UserWarning: Clustering metrics expects discrete values but received continuous values for label, and binary values for target\n",
      "  warnings.warn(msg, UserWarning)\n",
      "C:\\Users\\user\\AppData\\Roaming\\Python\\Python39\\site-packages\\sklearn\\metrics\\cluster\\_supervised.py:64: UserWarning: Clustering metrics expects discrete values but received continuous values for label, and binary values for target\n",
      "  warnings.warn(msg, UserWarning)\n",
      "C:\\Users\\user\\AppData\\Roaming\\Python\\Python39\\site-packages\\sklearn\\metrics\\cluster\\_supervised.py:64: UserWarning: Clustering metrics expects discrete values but received continuous values for label, and binary values for target\n",
      "  warnings.warn(msg, UserWarning)\n"
     ]
    },
    {
     "name": "stderr",
     "output_type": "stream",
     "text": [
      "C:\\Users\\user\\AppData\\Roaming\\Python\\Python39\\site-packages\\sklearn\\metrics\\cluster\\_supervised.py:64: UserWarning: Clustering metrics expects discrete values but received continuous values for label, and binary values for target\n",
      "  warnings.warn(msg, UserWarning)\n",
      "C:\\Users\\user\\AppData\\Roaming\\Python\\Python39\\site-packages\\sklearn\\metrics\\cluster\\_supervised.py:64: UserWarning: Clustering metrics expects discrete values but received continuous values for label, and binary values for target\n",
      "  warnings.warn(msg, UserWarning)\n",
      "C:\\Users\\user\\AppData\\Roaming\\Python\\Python39\\site-packages\\sklearn\\metrics\\cluster\\_supervised.py:64: UserWarning: Clustering metrics expects discrete values but received continuous values for label, and binary values for target\n",
      "  warnings.warn(msg, UserWarning)\n",
      "C:\\Users\\user\\AppData\\Roaming\\Python\\Python39\\site-packages\\sklearn\\metrics\\cluster\\_supervised.py:64: UserWarning: Clustering metrics expects discrete values but received continuous values for label, and binary values for target\n",
      "  warnings.warn(msg, UserWarning)\n",
      "C:\\Users\\user\\AppData\\Roaming\\Python\\Python39\\site-packages\\sklearn\\metrics\\cluster\\_supervised.py:64: UserWarning: Clustering metrics expects discrete values but received continuous values for label, and binary values for target\n",
      "  warnings.warn(msg, UserWarning)\n",
      "C:\\Users\\user\\AppData\\Roaming\\Python\\Python39\\site-packages\\sklearn\\metrics\\cluster\\_supervised.py:64: UserWarning: Clustering metrics expects discrete values but received continuous values for label, and binary values for target\n",
      "  warnings.warn(msg, UserWarning)\n",
      "C:\\Users\\user\\AppData\\Roaming\\Python\\Python39\\site-packages\\sklearn\\metrics\\cluster\\_supervised.py:64: UserWarning: Clustering metrics expects discrete values but received continuous values for label, and binary values for target\n",
      "  warnings.warn(msg, UserWarning)\n",
      "C:\\Users\\user\\AppData\\Roaming\\Python\\Python39\\site-packages\\sklearn\\metrics\\cluster\\_supervised.py:64: UserWarning: Clustering metrics expects discrete values but received continuous values for label, and binary values for target\n",
      "  warnings.warn(msg, UserWarning)\n",
      "C:\\Users\\user\\AppData\\Roaming\\Python\\Python39\\site-packages\\sklearn\\metrics\\cluster\\_supervised.py:64: UserWarning: Clustering metrics expects discrete values but received continuous values for label, and binary values for target\n",
      "  warnings.warn(msg, UserWarning)\n",
      "C:\\Users\\user\\AppData\\Roaming\\Python\\Python39\\site-packages\\sklearn\\metrics\\cluster\\_supervised.py:64: UserWarning: Clustering metrics expects discrete values but received continuous values for label, and binary values for target\n",
      "  warnings.warn(msg, UserWarning)\n",
      "C:\\Users\\user\\AppData\\Roaming\\Python\\Python39\\site-packages\\sklearn\\metrics\\cluster\\_supervised.py:64: UserWarning: Clustering metrics expects discrete values but received continuous values for label, and binary values for target\n",
      "  warnings.warn(msg, UserWarning)\n",
      "C:\\Users\\user\\AppData\\Roaming\\Python\\Python39\\site-packages\\sklearn\\metrics\\cluster\\_supervised.py:64: UserWarning: Clustering metrics expects discrete values but received continuous values for label, and binary values for target\n",
      "  warnings.warn(msg, UserWarning)\n",
      "C:\\Users\\user\\AppData\\Roaming\\Python\\Python39\\site-packages\\sklearn\\metrics\\cluster\\_supervised.py:64: UserWarning: Clustering metrics expects discrete values but received continuous values for label, and binary values for target\n",
      "  warnings.warn(msg, UserWarning)\n",
      "C:\\Users\\user\\AppData\\Roaming\\Python\\Python39\\site-packages\\sklearn\\metrics\\cluster\\_supervised.py:64: UserWarning: Clustering metrics expects discrete values but received continuous values for label, and binary values for target\n",
      "  warnings.warn(msg, UserWarning)\n",
      "C:\\Users\\user\\AppData\\Roaming\\Python\\Python39\\site-packages\\sklearn\\metrics\\cluster\\_supervised.py:64: UserWarning: Clustering metrics expects discrete values but received continuous values for label, and binary values for target\n",
      "  warnings.warn(msg, UserWarning)\n",
      "C:\\Users\\user\\AppData\\Roaming\\Python\\Python39\\site-packages\\sklearn\\metrics\\cluster\\_supervised.py:64: UserWarning: Clustering metrics expects discrete values but received continuous values for label, and binary values for target\n",
      "  warnings.warn(msg, UserWarning)\n",
      "C:\\Users\\user\\AppData\\Roaming\\Python\\Python39\\site-packages\\sklearn\\metrics\\cluster\\_supervised.py:64: UserWarning: Clustering metrics expects discrete values but received continuous values for label, and binary values for target\n",
      "  warnings.warn(msg, UserWarning)\n",
      "C:\\Users\\user\\AppData\\Roaming\\Python\\Python39\\site-packages\\sklearn\\metrics\\cluster\\_supervised.py:64: UserWarning: Clustering metrics expects discrete values but received continuous values for label, and binary values for target\n",
      "  warnings.warn(msg, UserWarning)\n",
      "C:\\Users\\user\\AppData\\Roaming\\Python\\Python39\\site-packages\\sklearn\\metrics\\cluster\\_supervised.py:64: UserWarning: Clustering metrics expects discrete values but received continuous values for label, and binary values for target\n",
      "  warnings.warn(msg, UserWarning)\n",
      "C:\\Users\\user\\AppData\\Roaming\\Python\\Python39\\site-packages\\sklearn\\metrics\\cluster\\_supervised.py:64: UserWarning: Clustering metrics expects discrete values but received continuous values for label, and binary values for target\n",
      "  warnings.warn(msg, UserWarning)\n",
      "C:\\Users\\user\\AppData\\Roaming\\Python\\Python39\\site-packages\\sklearn\\metrics\\cluster\\_supervised.py:64: UserWarning: Clustering metrics expects discrete values but received continuous values for label, and binary values for target\n",
      "  warnings.warn(msg, UserWarning)\n",
      "C:\\Users\\user\\AppData\\Roaming\\Python\\Python39\\site-packages\\sklearn\\metrics\\cluster\\_supervised.py:64: UserWarning: Clustering metrics expects discrete values but received continuous values for label, and binary values for target\n",
      "  warnings.warn(msg, UserWarning)\n",
      "C:\\Users\\user\\AppData\\Roaming\\Python\\Python39\\site-packages\\sklearn\\metrics\\cluster\\_supervised.py:64: UserWarning: Clustering metrics expects discrete values but received continuous values for label, and binary values for target\n",
      "  warnings.warn(msg, UserWarning)\n",
      "C:\\Users\\user\\AppData\\Roaming\\Python\\Python39\\site-packages\\sklearn\\metrics\\cluster\\_supervised.py:64: UserWarning: Clustering metrics expects discrete values but received continuous values for label, and binary values for target\n",
      "  warnings.warn(msg, UserWarning)\n",
      "C:\\Users\\user\\AppData\\Roaming\\Python\\Python39\\site-packages\\sklearn\\metrics\\cluster\\_supervised.py:64: UserWarning: Clustering metrics expects discrete values but received continuous values for label, and binary values for target\n",
      "  warnings.warn(msg, UserWarning)\n",
      "C:\\Users\\user\\AppData\\Roaming\\Python\\Python39\\site-packages\\sklearn\\metrics\\cluster\\_supervised.py:64: UserWarning: Clustering metrics expects discrete values but received continuous values for label, and binary values for target\n",
      "  warnings.warn(msg, UserWarning)\n",
      "C:\\Users\\user\\AppData\\Roaming\\Python\\Python39\\site-packages\\sklearn\\metrics\\cluster\\_supervised.py:64: UserWarning: Clustering metrics expects discrete values but received continuous values for label, and binary values for target\n",
      "  warnings.warn(msg, UserWarning)\n",
      "C:\\Users\\user\\AppData\\Roaming\\Python\\Python39\\site-packages\\sklearn\\metrics\\cluster\\_supervised.py:64: UserWarning: Clustering metrics expects discrete values but received continuous values for label, and binary values for target\n",
      "  warnings.warn(msg, UserWarning)\n",
      "C:\\Users\\user\\AppData\\Roaming\\Python\\Python39\\site-packages\\sklearn\\metrics\\cluster\\_supervised.py:64: UserWarning: Clustering metrics expects discrete values but received continuous values for label, and binary values for target\n",
      "  warnings.warn(msg, UserWarning)\n",
      "C:\\Users\\user\\AppData\\Roaming\\Python\\Python39\\site-packages\\sklearn\\metrics\\cluster\\_supervised.py:64: UserWarning: Clustering metrics expects discrete values but received continuous values for label, and binary values for target\n",
      "  warnings.warn(msg, UserWarning)\n",
      "C:\\Users\\user\\AppData\\Roaming\\Python\\Python39\\site-packages\\sklearn\\metrics\\cluster\\_supervised.py:64: UserWarning: Clustering metrics expects discrete values but received continuous values for label, and binary values for target\n",
      "  warnings.warn(msg, UserWarning)\n",
      "C:\\Users\\user\\AppData\\Roaming\\Python\\Python39\\site-packages\\sklearn\\metrics\\cluster\\_supervised.py:64: UserWarning: Clustering metrics expects discrete values but received continuous values for label, and binary values for target\n",
      "  warnings.warn(msg, UserWarning)\n",
      "C:\\Users\\user\\AppData\\Roaming\\Python\\Python39\\site-packages\\sklearn\\metrics\\cluster\\_supervised.py:64: UserWarning: Clustering metrics expects discrete values but received continuous values for label, and binary values for target\n",
      "  warnings.warn(msg, UserWarning)\n",
      "C:\\Users\\user\\AppData\\Roaming\\Python\\Python39\\site-packages\\sklearn\\metrics\\cluster\\_supervised.py:64: UserWarning: Clustering metrics expects discrete values but received continuous values for label, and binary values for target\n",
      "  warnings.warn(msg, UserWarning)\n",
      "C:\\Users\\user\\AppData\\Roaming\\Python\\Python39\\site-packages\\sklearn\\metrics\\cluster\\_supervised.py:64: UserWarning: Clustering metrics expects discrete values but received continuous values for label, and binary values for target\n",
      "  warnings.warn(msg, UserWarning)\n"
     ]
    },
    {
     "data": {
      "text/html": [
       "<style>#sk-container-id-5 {color: black;background-color: white;}#sk-container-id-5 pre{padding: 0;}#sk-container-id-5 div.sk-toggleable {background-color: white;}#sk-container-id-5 label.sk-toggleable__label {cursor: pointer;display: block;width: 100%;margin-bottom: 0;padding: 0.3em;box-sizing: border-box;text-align: center;}#sk-container-id-5 label.sk-toggleable__label-arrow:before {content: \"▸\";float: left;margin-right: 0.25em;color: #696969;}#sk-container-id-5 label.sk-toggleable__label-arrow:hover:before {color: black;}#sk-container-id-5 div.sk-estimator:hover label.sk-toggleable__label-arrow:before {color: black;}#sk-container-id-5 div.sk-toggleable__content {max-height: 0;max-width: 0;overflow: hidden;text-align: left;background-color: #f0f8ff;}#sk-container-id-5 div.sk-toggleable__content pre {margin: 0.2em;color: black;border-radius: 0.25em;background-color: #f0f8ff;}#sk-container-id-5 input.sk-toggleable__control:checked~div.sk-toggleable__content {max-height: 200px;max-width: 100%;overflow: auto;}#sk-container-id-5 input.sk-toggleable__control:checked~label.sk-toggleable__label-arrow:before {content: \"▾\";}#sk-container-id-5 div.sk-estimator input.sk-toggleable__control:checked~label.sk-toggleable__label {background-color: #d4ebff;}#sk-container-id-5 div.sk-label input.sk-toggleable__control:checked~label.sk-toggleable__label {background-color: #d4ebff;}#sk-container-id-5 input.sk-hidden--visually {border: 0;clip: rect(1px 1px 1px 1px);clip: rect(1px, 1px, 1px, 1px);height: 1px;margin: -1px;overflow: hidden;padding: 0;position: absolute;width: 1px;}#sk-container-id-5 div.sk-estimator {font-family: monospace;background-color: #f0f8ff;border: 1px dotted black;border-radius: 0.25em;box-sizing: border-box;margin-bottom: 0.5em;}#sk-container-id-5 div.sk-estimator:hover {background-color: #d4ebff;}#sk-container-id-5 div.sk-parallel-item::after {content: \"\";width: 100%;border-bottom: 1px solid gray;flex-grow: 1;}#sk-container-id-5 div.sk-label:hover label.sk-toggleable__label {background-color: #d4ebff;}#sk-container-id-5 div.sk-serial::before {content: \"\";position: absolute;border-left: 1px solid gray;box-sizing: border-box;top: 0;bottom: 0;left: 50%;z-index: 0;}#sk-container-id-5 div.sk-serial {display: flex;flex-direction: column;align-items: center;background-color: white;padding-right: 0.2em;padding-left: 0.2em;position: relative;}#sk-container-id-5 div.sk-item {position: relative;z-index: 1;}#sk-container-id-5 div.sk-parallel {display: flex;align-items: stretch;justify-content: center;background-color: white;position: relative;}#sk-container-id-5 div.sk-item::before, #sk-container-id-5 div.sk-parallel-item::before {content: \"\";position: absolute;border-left: 1px solid gray;box-sizing: border-box;top: 0;bottom: 0;left: 50%;z-index: -1;}#sk-container-id-5 div.sk-parallel-item {display: flex;flex-direction: column;z-index: 1;position: relative;background-color: white;}#sk-container-id-5 div.sk-parallel-item:first-child::after {align-self: flex-end;width: 50%;}#sk-container-id-5 div.sk-parallel-item:last-child::after {align-self: flex-start;width: 50%;}#sk-container-id-5 div.sk-parallel-item:only-child::after {width: 0;}#sk-container-id-5 div.sk-dashed-wrapped {border: 1px dashed gray;margin: 0 0.4em 0.5em 0.4em;box-sizing: border-box;padding-bottom: 0.4em;background-color: white;}#sk-container-id-5 div.sk-label label {font-family: monospace;font-weight: bold;display: inline-block;line-height: 1.2em;}#sk-container-id-5 div.sk-label-container {text-align: center;}#sk-container-id-5 div.sk-container {/* jupyter's `normalize.less` sets `[hidden] { display: none; }` but bootstrap.min.css set `[hidden] { display: none !important; }` so we also need the `!important` here to be able to override the default hidden behavior on the sphinx rendered scikit-learn.org. See: https://github.com/scikit-learn/scikit-learn/issues/21755 */display: inline-block !important;position: relative;}#sk-container-id-5 div.sk-text-repr-fallback {display: none;}</style><div id=\"sk-container-id-5\" class=\"sk-top-container\"><div class=\"sk-text-repr-fallback\"><pre>Pipeline(steps=[(&#x27;pipeline&#x27;,\n",
       "                 Pipeline(steps=[(&#x27;columnselector&#x27;,\n",
       "                                  ColumnSelector(columns=[&#x27;45&#x27;, &#x27;137&#x27;,\n",
       "                                                          &#x27;not_first_offer&#x27;,\n",
       "                                                          &#x27;22&#x27;, &#x27;41&#x27;, &#x27;87&#x27;,\n",
       "                                                          &#x27;119&#x27;, &#x27;248&#x27;, &#x27;241&#x27;,\n",
       "                                                          &#x27;116&#x27;, &#x27;214&#x27;, &#x27;233&#x27;,\n",
       "                                                          &#x27;6&#x27;, &#x27;55&#x27;, &#x27;46&#x27;,\n",
       "                                                          &#x27;187&#x27;, &#x27;91&#x27;, &#x27;95&#x27;,\n",
       "                                                          &#x27;51&#x27;, &#x27;115&#x27;, &#x27;217&#x27;,\n",
       "                                                          &#x27;230&#x27;, &#x27;105&#x27;, &#x27;170&#x27;,\n",
       "                                                          &#x27;172&#x27;, &#x27;179&#x27;, &#x27;70&#x27;,\n",
       "                                                          &#x27;210&#x27;, &#x27;216&#x27;, &#x27;178&#x27;, ...])),\n",
       "                                 (&#x27;featureunion&#x27;,\n",
       "                                  FeatureUnion(transformer_list=[(&#x27;numeric_features&#x27;,\n",
       "                                                                  Pipeline(s...\n",
       "                                                                                   OneHotEncoder(handle_unknown=&#x27;ignore&#x27;))])),\n",
       "                                                                 (&#x27;boolean_features&#x27;,\n",
       "                                                                  Pipeline(steps=[(&#x27;columnselector&#x27;,\n",
       "                                                                                   ColumnSelector(columns=[&#x27;not_first_offer&#x27;]))]))]))])),\n",
       "                (&#x27;genericunivariateselect&#x27;,\n",
       "                 GenericUnivariateSelect(mode=&#x27;k_best&#x27;, param=50,\n",
       "                                         score_func=&lt;function mutual_info_classif at 0x000002A9B4E8E4C0&gt;)),\n",
       "                (&#x27;randomforestclassifier&#x27;,\n",
       "                 RandomForestClassifier(n_estimators=300, random_state=9))])</pre><b>In a Jupyter environment, please rerun this cell to show the HTML representation or trust the notebook. <br />On GitHub, the HTML representation is unable to render, please try loading this page with nbviewer.org.</b></div><div class=\"sk-container\" hidden><div class=\"sk-item sk-dashed-wrapped\"><div class=\"sk-label-container\"><div class=\"sk-label sk-toggleable\"><input class=\"sk-toggleable__control sk-hidden--visually\" id=\"sk-estimator-id-43\" type=\"checkbox\" ><label for=\"sk-estimator-id-43\" class=\"sk-toggleable__label sk-toggleable__label-arrow\">Pipeline</label><div class=\"sk-toggleable__content\"><pre>Pipeline(steps=[(&#x27;pipeline&#x27;,\n",
       "                 Pipeline(steps=[(&#x27;columnselector&#x27;,\n",
       "                                  ColumnSelector(columns=[&#x27;45&#x27;, &#x27;137&#x27;,\n",
       "                                                          &#x27;not_first_offer&#x27;,\n",
       "                                                          &#x27;22&#x27;, &#x27;41&#x27;, &#x27;87&#x27;,\n",
       "                                                          &#x27;119&#x27;, &#x27;248&#x27;, &#x27;241&#x27;,\n",
       "                                                          &#x27;116&#x27;, &#x27;214&#x27;, &#x27;233&#x27;,\n",
       "                                                          &#x27;6&#x27;, &#x27;55&#x27;, &#x27;46&#x27;,\n",
       "                                                          &#x27;187&#x27;, &#x27;91&#x27;, &#x27;95&#x27;,\n",
       "                                                          &#x27;51&#x27;, &#x27;115&#x27;, &#x27;217&#x27;,\n",
       "                                                          &#x27;230&#x27;, &#x27;105&#x27;, &#x27;170&#x27;,\n",
       "                                                          &#x27;172&#x27;, &#x27;179&#x27;, &#x27;70&#x27;,\n",
       "                                                          &#x27;210&#x27;, &#x27;216&#x27;, &#x27;178&#x27;, ...])),\n",
       "                                 (&#x27;featureunion&#x27;,\n",
       "                                  FeatureUnion(transformer_list=[(&#x27;numeric_features&#x27;,\n",
       "                                                                  Pipeline(s...\n",
       "                                                                                   OneHotEncoder(handle_unknown=&#x27;ignore&#x27;))])),\n",
       "                                                                 (&#x27;boolean_features&#x27;,\n",
       "                                                                  Pipeline(steps=[(&#x27;columnselector&#x27;,\n",
       "                                                                                   ColumnSelector(columns=[&#x27;not_first_offer&#x27;]))]))]))])),\n",
       "                (&#x27;genericunivariateselect&#x27;,\n",
       "                 GenericUnivariateSelect(mode=&#x27;k_best&#x27;, param=50,\n",
       "                                         score_func=&lt;function mutual_info_classif at 0x000002A9B4E8E4C0&gt;)),\n",
       "                (&#x27;randomforestclassifier&#x27;,\n",
       "                 RandomForestClassifier(n_estimators=300, random_state=9))])</pre></div></div></div><div class=\"sk-serial\"><div class=\"sk-item\"><div class=\"sk-label-container\"><div class=\"sk-label sk-toggleable\"><input class=\"sk-toggleable__control sk-hidden--visually\" id=\"sk-estimator-id-44\" type=\"checkbox\" ><label for=\"sk-estimator-id-44\" class=\"sk-toggleable__label sk-toggleable__label-arrow\">pipeline: Pipeline</label><div class=\"sk-toggleable__content\"><pre>Pipeline(steps=[(&#x27;columnselector&#x27;,\n",
       "                 ColumnSelector(columns=[&#x27;45&#x27;, &#x27;137&#x27;, &#x27;not_first_offer&#x27;, &#x27;22&#x27;,\n",
       "                                         &#x27;41&#x27;, &#x27;87&#x27;, &#x27;119&#x27;, &#x27;248&#x27;, &#x27;241&#x27;, &#x27;116&#x27;,\n",
       "                                         &#x27;214&#x27;, &#x27;233&#x27;, &#x27;6&#x27;, &#x27;55&#x27;, &#x27;46&#x27;, &#x27;187&#x27;,\n",
       "                                         &#x27;91&#x27;, &#x27;95&#x27;, &#x27;51&#x27;, &#x27;115&#x27;, &#x27;217&#x27;, &#x27;230&#x27;,\n",
       "                                         &#x27;105&#x27;, &#x27;170&#x27;, &#x27;172&#x27;, &#x27;179&#x27;, &#x27;70&#x27;,\n",
       "                                         &#x27;210&#x27;, &#x27;216&#x27;, &#x27;178&#x27;, ...])),\n",
       "                (&#x27;featureunion&#x27;,\n",
       "                 FeatureUnion(transformer_list=[(&#x27;numeric_features&#x27;,\n",
       "                                                 Pipeline(steps=[(&#x27;columnselector&#x27;,\n",
       "                                                                  Colu...\n",
       "                                                                                          &#x27;193&#x27;,\n",
       "                                                                                          &#x27;17&#x27;,\n",
       "                                                                                          &#x27;214&#x27;,\n",
       "                                                                                          &#x27;218&#x27;,\n",
       "                                                                                          &#x27;197&#x27;,\n",
       "                                                                                          &#x27;65&#x27;,\n",
       "                                                                                          &#x27;220&#x27;,\n",
       "                                                                                          &#x27;201&#x27;,\n",
       "                                                                                          &#x27;132&#x27;,\n",
       "                                                                                          &#x27;141&#x27;,\n",
       "                                                                                          &#x27;155&#x27;,\n",
       "                                                                                          &#x27;163&#x27;,\n",
       "                                                                                          &#x27;175&#x27;,\n",
       "                                                                                          &#x27;177&#x27;,\n",
       "                                                                                          &#x27;95&#x27;,\n",
       "                                                                                          &#x27;221&#x27;,\n",
       "                                                                                          &#x27;252&#x27;,\n",
       "                                                                                          &#x27;192&#x27;,\n",
       "                                                                                          &#x27;32&#x27;,\n",
       "                                                                                          &#x27;179&#x27;,\n",
       "                                                                                          &#x27;70&#x27;, ...])),\n",
       "                                                                 (&#x27;simpleimputer&#x27;,\n",
       "                                                                  SimpleImputer(strategy=&#x27;most_frequent&#x27;)),\n",
       "                                                                 (&#x27;onehotencoder&#x27;,\n",
       "                                                                  OneHotEncoder(handle_unknown=&#x27;ignore&#x27;))])),\n",
       "                                                (&#x27;boolean_features&#x27;,\n",
       "                                                 Pipeline(steps=[(&#x27;columnselector&#x27;,\n",
       "                                                                  ColumnSelector(columns=[&#x27;not_first_offer&#x27;]))]))]))])</pre></div></div></div><div class=\"sk-serial\"><div class=\"sk-item\"><div class=\"sk-estimator sk-toggleable\"><input class=\"sk-toggleable__control sk-hidden--visually\" id=\"sk-estimator-id-45\" type=\"checkbox\" ><label for=\"sk-estimator-id-45\" class=\"sk-toggleable__label sk-toggleable__label-arrow\">ColumnSelector</label><div class=\"sk-toggleable__content\"><pre>ColumnSelector(columns=[&#x27;45&#x27;, &#x27;137&#x27;, &#x27;not_first_offer&#x27;, &#x27;22&#x27;, &#x27;41&#x27;, &#x27;87&#x27;, &#x27;119&#x27;,\n",
       "                        &#x27;248&#x27;, &#x27;241&#x27;, &#x27;116&#x27;, &#x27;214&#x27;, &#x27;233&#x27;, &#x27;6&#x27;, &#x27;55&#x27;, &#x27;46&#x27;,\n",
       "                        &#x27;187&#x27;, &#x27;91&#x27;, &#x27;95&#x27;, &#x27;51&#x27;, &#x27;115&#x27;, &#x27;217&#x27;, &#x27;230&#x27;, &#x27;105&#x27;,\n",
       "                        &#x27;170&#x27;, &#x27;172&#x27;, &#x27;179&#x27;, &#x27;70&#x27;, &#x27;210&#x27;, &#x27;216&#x27;, &#x27;178&#x27;, ...])</pre></div></div></div><div class=\"sk-item sk-dashed-wrapped\"><div class=\"sk-label-container\"><div class=\"sk-label sk-toggleable\"><input class=\"sk-toggleable__control sk-hidden--visually\" id=\"sk-estimator-id-46\" type=\"checkbox\" ><label for=\"sk-estimator-id-46\" class=\"sk-toggleable__label sk-toggleable__label-arrow\">featureunion: FeatureUnion</label><div class=\"sk-toggleable__content\"><pre>FeatureUnion(transformer_list=[(&#x27;numeric_features&#x27;,\n",
       "                                Pipeline(steps=[(&#x27;columnselector&#x27;,\n",
       "                                                 ColumnSelector(columns=[&#x27;45&#x27;,\n",
       "                                                                         &#x27;137&#x27;,\n",
       "                                                                         &#x27;22&#x27;,\n",
       "                                                                         &#x27;41&#x27;,\n",
       "                                                                         &#x27;87&#x27;,\n",
       "                                                                         &#x27;119&#x27;,\n",
       "                                                                         &#x27;248&#x27;,\n",
       "                                                                         &#x27;241&#x27;,\n",
       "                                                                         &#x27;116&#x27;,\n",
       "                                                                         &#x27;233&#x27;,\n",
       "                                                                         &#x27;6&#x27;,\n",
       "                                                                         &#x27;55&#x27;,\n",
       "                                                                         &#x27;46&#x27;,\n",
       "                                                                         &#x27;187&#x27;,\n",
       "                                                                         &#x27;91&#x27;,\n",
       "                                                                         &#x27;51&#x27;,\n",
       "                                                                         &#x27;115&#x27;,\n",
       "                                                                         &#x27;217&#x27;,\n",
       "                                                                         &#x27;230&#x27;,\n",
       "                                                                         &#x27;105&#x27;,\n",
       "                                                                         &#x27;170&#x27;,\n",
       "                                                                         &#x27;172&#x27;,\n",
       "                                                                         &#x27;210&#x27;,\n",
       "                                                                         &#x27;178&#x27;,\n",
       "                                                                         &#x27;174&#x27;,\n",
       "                                                                         &#x27;8&#x27;,\n",
       "                                                                         &#x27;164&#x27;,\n",
       "                                                                         &#x27;158&#x27;,\n",
       "                                                                         &#x27;234&#x27;,\n",
       "                                                                         &#x27;108&#x27;, ...])),\n",
       "                                                (&#x27;simpleimputer&#x27;,\n",
       "                                                 SimpleImputer()),\n",
       "                                                (&#x27;standardscaler&#x27;,\n",
       "                                                 StandardScaler...\n",
       "                                                                         &#x27;80&#x27;,\n",
       "                                                                         &#x27;193&#x27;,\n",
       "                                                                         &#x27;17&#x27;,\n",
       "                                                                         &#x27;214&#x27;,\n",
       "                                                                         &#x27;218&#x27;,\n",
       "                                                                         &#x27;197&#x27;,\n",
       "                                                                         &#x27;65&#x27;,\n",
       "                                                                         &#x27;220&#x27;,\n",
       "                                                                         &#x27;201&#x27;,\n",
       "                                                                         &#x27;132&#x27;,\n",
       "                                                                         &#x27;141&#x27;,\n",
       "                                                                         &#x27;155&#x27;,\n",
       "                                                                         &#x27;163&#x27;,\n",
       "                                                                         &#x27;175&#x27;,\n",
       "                                                                         &#x27;177&#x27;,\n",
       "                                                                         &#x27;95&#x27;,\n",
       "                                                                         &#x27;221&#x27;,\n",
       "                                                                         &#x27;252&#x27;,\n",
       "                                                                         &#x27;192&#x27;,\n",
       "                                                                         &#x27;32&#x27;,\n",
       "                                                                         &#x27;179&#x27;,\n",
       "                                                                         &#x27;70&#x27;, ...])),\n",
       "                                                (&#x27;simpleimputer&#x27;,\n",
       "                                                 SimpleImputer(strategy=&#x27;most_frequent&#x27;)),\n",
       "                                                (&#x27;onehotencoder&#x27;,\n",
       "                                                 OneHotEncoder(handle_unknown=&#x27;ignore&#x27;))])),\n",
       "                               (&#x27;boolean_features&#x27;,\n",
       "                                Pipeline(steps=[(&#x27;columnselector&#x27;,\n",
       "                                                 ColumnSelector(columns=[&#x27;not_first_offer&#x27;]))]))])</pre></div></div></div><div class=\"sk-parallel\"><div class=\"sk-parallel-item\"><div class=\"sk-item\"><div class=\"sk-label-container\"><div class=\"sk-label sk-toggleable\"><label>numeric_features</label></div></div><div class=\"sk-serial\"><div class=\"sk-item\"><div class=\"sk-serial\"><div class=\"sk-item\"><div class=\"sk-estimator sk-toggleable\"><input class=\"sk-toggleable__control sk-hidden--visually\" id=\"sk-estimator-id-47\" type=\"checkbox\" ><label for=\"sk-estimator-id-47\" class=\"sk-toggleable__label sk-toggleable__label-arrow\">ColumnSelector</label><div class=\"sk-toggleable__content\"><pre>ColumnSelector(columns=[&#x27;45&#x27;, &#x27;137&#x27;, &#x27;22&#x27;, &#x27;41&#x27;, &#x27;87&#x27;, &#x27;119&#x27;, &#x27;248&#x27;, &#x27;241&#x27;,\n",
       "                        &#x27;116&#x27;, &#x27;233&#x27;, &#x27;6&#x27;, &#x27;55&#x27;, &#x27;46&#x27;, &#x27;187&#x27;, &#x27;91&#x27;, &#x27;51&#x27;, &#x27;115&#x27;,\n",
       "                        &#x27;217&#x27;, &#x27;230&#x27;, &#x27;105&#x27;, &#x27;170&#x27;, &#x27;172&#x27;, &#x27;210&#x27;, &#x27;178&#x27;, &#x27;174&#x27;,\n",
       "                        &#x27;8&#x27;, &#x27;164&#x27;, &#x27;158&#x27;, &#x27;234&#x27;, &#x27;108&#x27;, ...])</pre></div></div></div><div class=\"sk-item\"><div class=\"sk-estimator sk-toggleable\"><input class=\"sk-toggleable__control sk-hidden--visually\" id=\"sk-estimator-id-48\" type=\"checkbox\" ><label for=\"sk-estimator-id-48\" class=\"sk-toggleable__label sk-toggleable__label-arrow\">SimpleImputer</label><div class=\"sk-toggleable__content\"><pre>SimpleImputer()</pre></div></div></div><div class=\"sk-item\"><div class=\"sk-estimator sk-toggleable\"><input class=\"sk-toggleable__control sk-hidden--visually\" id=\"sk-estimator-id-49\" type=\"checkbox\" ><label for=\"sk-estimator-id-49\" class=\"sk-toggleable__label sk-toggleable__label-arrow\">StandardScaler</label><div class=\"sk-toggleable__content\"><pre>StandardScaler()</pre></div></div></div></div></div></div></div></div><div class=\"sk-parallel-item\"><div class=\"sk-item\"><div class=\"sk-label-container\"><div class=\"sk-label sk-toggleable\"><label>categorical_features</label></div></div><div class=\"sk-serial\"><div class=\"sk-item\"><div class=\"sk-serial\"><div class=\"sk-item\"><div class=\"sk-estimator sk-toggleable\"><input class=\"sk-toggleable__control sk-hidden--visually\" id=\"sk-estimator-id-50\" type=\"checkbox\" ><label for=\"sk-estimator-id-50\" class=\"sk-toggleable__label sk-toggleable__label-arrow\">ColumnSelector</label><div class=\"sk-toggleable__content\"><pre>ColumnSelector(columns=[&#x27;24&#x27;, &#x27;30&#x27;, &#x27;199&#x27;, &#x27;195&#x27;, &#x27;29&#x27;, &#x27;23&#x27;, &#x27;31&#x27;, &#x27;57&#x27;, &#x27;80&#x27;,\n",
       "                        &#x27;193&#x27;, &#x27;17&#x27;, &#x27;214&#x27;, &#x27;218&#x27;, &#x27;197&#x27;, &#x27;65&#x27;, &#x27;220&#x27;, &#x27;201&#x27;,\n",
       "                        &#x27;132&#x27;, &#x27;141&#x27;, &#x27;155&#x27;, &#x27;163&#x27;, &#x27;175&#x27;, &#x27;177&#x27;, &#x27;95&#x27;, &#x27;221&#x27;,\n",
       "                        &#x27;252&#x27;, &#x27;192&#x27;, &#x27;32&#x27;, &#x27;179&#x27;, &#x27;70&#x27;, ...])</pre></div></div></div><div class=\"sk-item\"><div class=\"sk-estimator sk-toggleable\"><input class=\"sk-toggleable__control sk-hidden--visually\" id=\"sk-estimator-id-51\" type=\"checkbox\" ><label for=\"sk-estimator-id-51\" class=\"sk-toggleable__label sk-toggleable__label-arrow\">SimpleImputer</label><div class=\"sk-toggleable__content\"><pre>SimpleImputer(strategy=&#x27;most_frequent&#x27;)</pre></div></div></div><div class=\"sk-item\"><div class=\"sk-estimator sk-toggleable\"><input class=\"sk-toggleable__control sk-hidden--visually\" id=\"sk-estimator-id-52\" type=\"checkbox\" ><label for=\"sk-estimator-id-52\" class=\"sk-toggleable__label sk-toggleable__label-arrow\">OneHotEncoder</label><div class=\"sk-toggleable__content\"><pre>OneHotEncoder(handle_unknown=&#x27;ignore&#x27;)</pre></div></div></div></div></div></div></div></div><div class=\"sk-parallel-item\"><div class=\"sk-item\"><div class=\"sk-label-container\"><div class=\"sk-label sk-toggleable\"><label>boolean_features</label></div></div><div class=\"sk-serial\"><div class=\"sk-item\"><div class=\"sk-serial\"><div class=\"sk-item\"><div class=\"sk-estimator sk-toggleable\"><input class=\"sk-toggleable__control sk-hidden--visually\" id=\"sk-estimator-id-53\" type=\"checkbox\" ><label for=\"sk-estimator-id-53\" class=\"sk-toggleable__label sk-toggleable__label-arrow\">ColumnSelector</label><div class=\"sk-toggleable__content\"><pre>ColumnSelector(columns=[&#x27;not_first_offer&#x27;])</pre></div></div></div></div></div></div></div></div></div></div></div></div><div class=\"sk-item\"><div class=\"sk-estimator sk-toggleable\"><input class=\"sk-toggleable__control sk-hidden--visually\" id=\"sk-estimator-id-54\" type=\"checkbox\" ><label for=\"sk-estimator-id-54\" class=\"sk-toggleable__label sk-toggleable__label-arrow\">GenericUnivariateSelect</label><div class=\"sk-toggleable__content\"><pre>GenericUnivariateSelect(mode=&#x27;k_best&#x27;, param=50,\n",
       "                        score_func=&lt;function mutual_info_classif at 0x000002A9B4E8E4C0&gt;)</pre></div></div></div><div class=\"sk-item\"><div class=\"sk-estimator sk-toggleable\"><input class=\"sk-toggleable__control sk-hidden--visually\" id=\"sk-estimator-id-55\" type=\"checkbox\" ><label for=\"sk-estimator-id-55\" class=\"sk-toggleable__label sk-toggleable__label-arrow\">RandomForestClassifier</label><div class=\"sk-toggleable__content\"><pre>RandomForestClassifier(n_estimators=300, random_state=9)</pre></div></div></div></div></div></div></div>"
      ],
      "text/plain": [
       "Pipeline(steps=[('pipeline',\n",
       "                 Pipeline(steps=[('columnselector',\n",
       "                                  ColumnSelector(columns=['45', '137',\n",
       "                                                          'not_first_offer',\n",
       "                                                          '22', '41', '87',\n",
       "                                                          '119', '248', '241',\n",
       "                                                          '116', '214', '233',\n",
       "                                                          '6', '55', '46',\n",
       "                                                          '187', '91', '95',\n",
       "                                                          '51', '115', '217',\n",
       "                                                          '230', '105', '170',\n",
       "                                                          '172', '179', '70',\n",
       "                                                          '210', '216', '178', ...])),\n",
       "                                 ('featureunion',\n",
       "                                  FeatureUnion(transformer_list=[('numeric_features',\n",
       "                                                                  Pipeline(s...\n",
       "                                                                                   OneHotEncoder(handle_unknown='ignore'))])),\n",
       "                                                                 ('boolean_features',\n",
       "                                                                  Pipeline(steps=[('columnselector',\n",
       "                                                                                   ColumnSelector(columns=['not_first_offer']))]))]))])),\n",
       "                ('genericunivariateselect',\n",
       "                 GenericUnivariateSelect(mode='k_best', param=50,\n",
       "                                         score_func=<function mutual_info_classif at 0x000002A9B4E8E4C0>)),\n",
       "                ('randomforestclassifier',\n",
       "                 RandomForestClassifier(n_estimators=300, random_state=9))])"
      ]
     },
     "execution_count": 94,
     "metadata": {},
     "output_type": "execute_result"
    }
   ],
   "source": [
    "rf_gu_pipe.fit(X_train, y_train)"
   ]
  },
  {
   "cell_type": "code",
   "execution_count": 95,
   "id": "1324f161",
   "metadata": {},
   "outputs": [
    {
     "data": {
      "text/plain": [
       "0.9965516466514099"
      ]
     },
     "execution_count": 95,
     "metadata": {},
     "output_type": "execute_result"
    }
   ],
   "source": [
    "preds_train = rf_gu_pipe.predict(X_train)\n",
    "f1_score(y_train, preds_train, average='macro')"
   ]
  },
  {
   "cell_type": "code",
   "execution_count": 96,
   "id": "723cc116",
   "metadata": {},
   "outputs": [
    {
     "data": {
      "text/plain": [
       "0.7466765882626827"
      ]
     },
     "execution_count": 96,
     "metadata": {},
     "output_type": "execute_result"
    }
   ],
   "source": [
    "preds_test = rf_gu_pipe.predict(X_test)\n",
    "f1_score(y_test, preds_test, average='macro')"
   ]
  },
  {
   "cell_type": "code",
   "execution_count": 97,
   "id": "738ab57c",
   "metadata": {},
   "outputs": [],
   "source": [
    "preds_proba_train = rf_gu_pipe.predict_proba(X_train)"
   ]
  },
  {
   "cell_type": "code",
   "execution_count": 98,
   "id": "1185f9ff",
   "metadata": {},
   "outputs": [
    {
     "name": "stdout",
     "output_type": "stream",
     "text": [
      "Лучшая отсечка : 0.5263157894736842, Метрика F1_macro: 0.9965516473127713\n",
      "================================================================================\n",
      "              precision    recall  f1-score   support\n",
      "\n",
      "         0.0       1.00      1.00      1.00     45094\n",
      "         1.0       1.00      1.00      1.00     45094\n",
      "\n",
      "    accuracy                           1.00     90188\n",
      "   macro avg       1.00      1.00      1.00     90188\n",
      "weighted avg       1.00      1.00      1.00     90188\n",
      "\n"
     ]
    }
   ],
   "source": [
    "treshold_search(y_train, preds_proba_train)"
   ]
  },
  {
   "cell_type": "code",
   "execution_count": 99,
   "id": "b4d38bc6",
   "metadata": {},
   "outputs": [],
   "source": [
    "preds_proba_test = rf_gu_pipe.predict_proba(X_test)"
   ]
  },
  {
   "cell_type": "code",
   "execution_count": 100,
   "id": "21ccc6d9",
   "metadata": {},
   "outputs": [
    {
     "name": "stdout",
     "output_type": "stream",
     "text": [
      "Лучшая отсечка : 0.6842105263157894, Метрика F1_macro: 0.7473460860822073\n",
      "================================================================================\n",
      "              precision    recall  f1-score   support\n",
      "\n",
      "         0.0       1.00      0.88      0.93    178557\n",
      "         1.0       0.40      0.97      0.56     15083\n",
      "\n",
      "    accuracy                           0.88    193640\n",
      "   macro avg       0.70      0.92      0.75    193640\n",
      "weighted avg       0.95      0.88      0.90    193640\n",
      "\n"
     ]
    }
   ],
   "source": [
    "treshold_search(y_test, preds_proba_test)"
   ]
  },
  {
   "cell_type": "markdown",
   "id": "d8bde311",
   "metadata": {},
   "source": [
    "================================================================================================================"
   ]
  },
  {
   "cell_type": "code",
   "execution_count": 101,
   "id": "cd381550",
   "metadata": {},
   "outputs": [],
   "source": [
    "xgb_fs_pipe = make_pipeline(\n",
    "    f_prep_pipeline,\n",
    "    SelectFromModel(LogisticRegression(penalty='l1', random_state=RANDOM_STATE, solver='liblinear'), max_features = 29, threshold = -np.inf),\n",
    "    XGBClassifier(random_state=RANDOM_STATE)\n",
    ")"
   ]
  },
  {
   "cell_type": "code",
   "execution_count": 102,
   "id": "53bde978",
   "metadata": {},
   "outputs": [],
   "source": [
    "params = [\n",
    "    {'xgbclassifier__max_depth': [1,2,3,4,5],\n",
    "     'xgbclassifier__n_estimators' : [200, 300, 400],     \n",
    "    }    \n",
    "]"
   ]
  },
  {
   "cell_type": "raw",
   "id": "b1447a5c",
   "metadata": {},
   "source": [
    "run_grid_search(xgb_fs_pipe, X_train, y_train, params, scoring='f1')"
   ]
  },
  {
   "cell_type": "markdown",
   "id": "49b9de5c",
   "metadata": {},
   "source": [
    "Best parameters set found on development set:\n",
    "\n",
    "{'xgbclassifier__max_depth': 2, 'xgbclassifier__n_estimators': 200}"
   ]
  },
  {
   "cell_type": "code",
   "execution_count": 103,
   "id": "ef109075",
   "metadata": {},
   "outputs": [],
   "source": [
    "xgb_fs_pipe = make_pipeline(\n",
    "    f_prep_pipeline,\n",
    "    SelectFromModel(LogisticRegression(penalty='l1', random_state=RANDOM_STATE, solver='liblinear'), max_features = 29, threshold = -np.inf),\n",
    "    XGBClassifier(random_state=RANDOM_STATE, max_depth = 2, n_estimators = 200)\n",
    ")"
   ]
  },
  {
   "cell_type": "code",
   "execution_count": 104,
   "id": "1ad1a357",
   "metadata": {},
   "outputs": [
    {
     "name": "stderr",
     "output_type": "stream",
     "text": [
      "C:\\ProgramData\\Anaconda3\\lib\\site-packages\\xgboost\\sklearn.py:1224: UserWarning: The use of label encoder in XGBClassifier is deprecated and will be removed in a future release. To remove this warning, do the following: 1) Pass option use_label_encoder=False when constructing XGBClassifier object; and 2) Encode your labels (y) as integers starting with 0, i.e. 0, 1, 2, ..., [num_class - 1].\n",
      "  warnings.warn(label_encoder_deprecation_msg, UserWarning)\n"
     ]
    },
    {
     "name": "stdout",
     "output_type": "stream",
     "text": [
      "[14:13:02] WARNING: C:/Users/Administrator/workspace/xgboost-win64_release_1.5.1/src/learner.cc:1115: Starting in XGBoost 1.3.0, the default evaluation metric used with the objective 'binary:logistic' was changed from 'error' to 'logloss'. Explicitly set eval_metric if you'd like to restore the old behavior.\n"
     ]
    },
    {
     "data": {
      "text/html": [
       "<style>#sk-container-id-6 {color: black;background-color: white;}#sk-container-id-6 pre{padding: 0;}#sk-container-id-6 div.sk-toggleable {background-color: white;}#sk-container-id-6 label.sk-toggleable__label {cursor: pointer;display: block;width: 100%;margin-bottom: 0;padding: 0.3em;box-sizing: border-box;text-align: center;}#sk-container-id-6 label.sk-toggleable__label-arrow:before {content: \"▸\";float: left;margin-right: 0.25em;color: #696969;}#sk-container-id-6 label.sk-toggleable__label-arrow:hover:before {color: black;}#sk-container-id-6 div.sk-estimator:hover label.sk-toggleable__label-arrow:before {color: black;}#sk-container-id-6 div.sk-toggleable__content {max-height: 0;max-width: 0;overflow: hidden;text-align: left;background-color: #f0f8ff;}#sk-container-id-6 div.sk-toggleable__content pre {margin: 0.2em;color: black;border-radius: 0.25em;background-color: #f0f8ff;}#sk-container-id-6 input.sk-toggleable__control:checked~div.sk-toggleable__content {max-height: 200px;max-width: 100%;overflow: auto;}#sk-container-id-6 input.sk-toggleable__control:checked~label.sk-toggleable__label-arrow:before {content: \"▾\";}#sk-container-id-6 div.sk-estimator input.sk-toggleable__control:checked~label.sk-toggleable__label {background-color: #d4ebff;}#sk-container-id-6 div.sk-label input.sk-toggleable__control:checked~label.sk-toggleable__label {background-color: #d4ebff;}#sk-container-id-6 input.sk-hidden--visually {border: 0;clip: rect(1px 1px 1px 1px);clip: rect(1px, 1px, 1px, 1px);height: 1px;margin: -1px;overflow: hidden;padding: 0;position: absolute;width: 1px;}#sk-container-id-6 div.sk-estimator {font-family: monospace;background-color: #f0f8ff;border: 1px dotted black;border-radius: 0.25em;box-sizing: border-box;margin-bottom: 0.5em;}#sk-container-id-6 div.sk-estimator:hover {background-color: #d4ebff;}#sk-container-id-6 div.sk-parallel-item::after {content: \"\";width: 100%;border-bottom: 1px solid gray;flex-grow: 1;}#sk-container-id-6 div.sk-label:hover label.sk-toggleable__label {background-color: #d4ebff;}#sk-container-id-6 div.sk-serial::before {content: \"\";position: absolute;border-left: 1px solid gray;box-sizing: border-box;top: 0;bottom: 0;left: 50%;z-index: 0;}#sk-container-id-6 div.sk-serial {display: flex;flex-direction: column;align-items: center;background-color: white;padding-right: 0.2em;padding-left: 0.2em;position: relative;}#sk-container-id-6 div.sk-item {position: relative;z-index: 1;}#sk-container-id-6 div.sk-parallel {display: flex;align-items: stretch;justify-content: center;background-color: white;position: relative;}#sk-container-id-6 div.sk-item::before, #sk-container-id-6 div.sk-parallel-item::before {content: \"\";position: absolute;border-left: 1px solid gray;box-sizing: border-box;top: 0;bottom: 0;left: 50%;z-index: -1;}#sk-container-id-6 div.sk-parallel-item {display: flex;flex-direction: column;z-index: 1;position: relative;background-color: white;}#sk-container-id-6 div.sk-parallel-item:first-child::after {align-self: flex-end;width: 50%;}#sk-container-id-6 div.sk-parallel-item:last-child::after {align-self: flex-start;width: 50%;}#sk-container-id-6 div.sk-parallel-item:only-child::after {width: 0;}#sk-container-id-6 div.sk-dashed-wrapped {border: 1px dashed gray;margin: 0 0.4em 0.5em 0.4em;box-sizing: border-box;padding-bottom: 0.4em;background-color: white;}#sk-container-id-6 div.sk-label label {font-family: monospace;font-weight: bold;display: inline-block;line-height: 1.2em;}#sk-container-id-6 div.sk-label-container {text-align: center;}#sk-container-id-6 div.sk-container {/* jupyter's `normalize.less` sets `[hidden] { display: none; }` but bootstrap.min.css set `[hidden] { display: none !important; }` so we also need the `!important` here to be able to override the default hidden behavior on the sphinx rendered scikit-learn.org. See: https://github.com/scikit-learn/scikit-learn/issues/21755 */display: inline-block !important;position: relative;}#sk-container-id-6 div.sk-text-repr-fallback {display: none;}</style><div id=\"sk-container-id-6\" class=\"sk-top-container\"><div class=\"sk-text-repr-fallback\"><pre>Pipeline(steps=[(&#x27;pipeline&#x27;,\n",
       "                 Pipeline(steps=[(&#x27;columnselector&#x27;,\n",
       "                                  ColumnSelector(columns=[&#x27;45&#x27;, &#x27;137&#x27;,\n",
       "                                                          &#x27;not_first_offer&#x27;,\n",
       "                                                          &#x27;22&#x27;, &#x27;41&#x27;, &#x27;87&#x27;,\n",
       "                                                          &#x27;119&#x27;, &#x27;248&#x27;, &#x27;241&#x27;,\n",
       "                                                          &#x27;116&#x27;, &#x27;214&#x27;, &#x27;233&#x27;,\n",
       "                                                          &#x27;6&#x27;, &#x27;55&#x27;, &#x27;46&#x27;,\n",
       "                                                          &#x27;187&#x27;, &#x27;91&#x27;, &#x27;95&#x27;,\n",
       "                                                          &#x27;51&#x27;, &#x27;115&#x27;, &#x27;217&#x27;,\n",
       "                                                          &#x27;230&#x27;, &#x27;105&#x27;, &#x27;170&#x27;,\n",
       "                                                          &#x27;172&#x27;, &#x27;179&#x27;, &#x27;70&#x27;,\n",
       "                                                          &#x27;210&#x27;, &#x27;216&#x27;, &#x27;178&#x27;, ...])),\n",
       "                                 (&#x27;featureunion&#x27;,\n",
       "                                  FeatureUnion(transformer_list=[(&#x27;numeric_features&#x27;,\n",
       "                                                                  Pipeline(s...\n",
       "                               gamma=0, gpu_id=-1, importance_type=None,\n",
       "                               interaction_constraints=&#x27;&#x27;,\n",
       "                               learning_rate=0.300000012, max_delta_step=0,\n",
       "                               max_depth=2, min_child_weight=1, missing=nan,\n",
       "                               monotone_constraints=&#x27;()&#x27;, n_estimators=200,\n",
       "                               n_jobs=16, num_parallel_tree=1, predictor=&#x27;auto&#x27;,\n",
       "                               random_state=9, reg_alpha=0, reg_lambda=1,\n",
       "                               scale_pos_weight=1, subsample=1,\n",
       "                               tree_method=&#x27;exact&#x27;, validate_parameters=1,\n",
       "                               verbosity=None))])</pre><b>In a Jupyter environment, please rerun this cell to show the HTML representation or trust the notebook. <br />On GitHub, the HTML representation is unable to render, please try loading this page with nbviewer.org.</b></div><div class=\"sk-container\" hidden><div class=\"sk-item sk-dashed-wrapped\"><div class=\"sk-label-container\"><div class=\"sk-label sk-toggleable\"><input class=\"sk-toggleable__control sk-hidden--visually\" id=\"sk-estimator-id-56\" type=\"checkbox\" ><label for=\"sk-estimator-id-56\" class=\"sk-toggleable__label sk-toggleable__label-arrow\">Pipeline</label><div class=\"sk-toggleable__content\"><pre>Pipeline(steps=[(&#x27;pipeline&#x27;,\n",
       "                 Pipeline(steps=[(&#x27;columnselector&#x27;,\n",
       "                                  ColumnSelector(columns=[&#x27;45&#x27;, &#x27;137&#x27;,\n",
       "                                                          &#x27;not_first_offer&#x27;,\n",
       "                                                          &#x27;22&#x27;, &#x27;41&#x27;, &#x27;87&#x27;,\n",
       "                                                          &#x27;119&#x27;, &#x27;248&#x27;, &#x27;241&#x27;,\n",
       "                                                          &#x27;116&#x27;, &#x27;214&#x27;, &#x27;233&#x27;,\n",
       "                                                          &#x27;6&#x27;, &#x27;55&#x27;, &#x27;46&#x27;,\n",
       "                                                          &#x27;187&#x27;, &#x27;91&#x27;, &#x27;95&#x27;,\n",
       "                                                          &#x27;51&#x27;, &#x27;115&#x27;, &#x27;217&#x27;,\n",
       "                                                          &#x27;230&#x27;, &#x27;105&#x27;, &#x27;170&#x27;,\n",
       "                                                          &#x27;172&#x27;, &#x27;179&#x27;, &#x27;70&#x27;,\n",
       "                                                          &#x27;210&#x27;, &#x27;216&#x27;, &#x27;178&#x27;, ...])),\n",
       "                                 (&#x27;featureunion&#x27;,\n",
       "                                  FeatureUnion(transformer_list=[(&#x27;numeric_features&#x27;,\n",
       "                                                                  Pipeline(s...\n",
       "                               gamma=0, gpu_id=-1, importance_type=None,\n",
       "                               interaction_constraints=&#x27;&#x27;,\n",
       "                               learning_rate=0.300000012, max_delta_step=0,\n",
       "                               max_depth=2, min_child_weight=1, missing=nan,\n",
       "                               monotone_constraints=&#x27;()&#x27;, n_estimators=200,\n",
       "                               n_jobs=16, num_parallel_tree=1, predictor=&#x27;auto&#x27;,\n",
       "                               random_state=9, reg_alpha=0, reg_lambda=1,\n",
       "                               scale_pos_weight=1, subsample=1,\n",
       "                               tree_method=&#x27;exact&#x27;, validate_parameters=1,\n",
       "                               verbosity=None))])</pre></div></div></div><div class=\"sk-serial\"><div class=\"sk-item\"><div class=\"sk-label-container\"><div class=\"sk-label sk-toggleable\"><input class=\"sk-toggleable__control sk-hidden--visually\" id=\"sk-estimator-id-57\" type=\"checkbox\" ><label for=\"sk-estimator-id-57\" class=\"sk-toggleable__label sk-toggleable__label-arrow\">pipeline: Pipeline</label><div class=\"sk-toggleable__content\"><pre>Pipeline(steps=[(&#x27;columnselector&#x27;,\n",
       "                 ColumnSelector(columns=[&#x27;45&#x27;, &#x27;137&#x27;, &#x27;not_first_offer&#x27;, &#x27;22&#x27;,\n",
       "                                         &#x27;41&#x27;, &#x27;87&#x27;, &#x27;119&#x27;, &#x27;248&#x27;, &#x27;241&#x27;, &#x27;116&#x27;,\n",
       "                                         &#x27;214&#x27;, &#x27;233&#x27;, &#x27;6&#x27;, &#x27;55&#x27;, &#x27;46&#x27;, &#x27;187&#x27;,\n",
       "                                         &#x27;91&#x27;, &#x27;95&#x27;, &#x27;51&#x27;, &#x27;115&#x27;, &#x27;217&#x27;, &#x27;230&#x27;,\n",
       "                                         &#x27;105&#x27;, &#x27;170&#x27;, &#x27;172&#x27;, &#x27;179&#x27;, &#x27;70&#x27;,\n",
       "                                         &#x27;210&#x27;, &#x27;216&#x27;, &#x27;178&#x27;, ...])),\n",
       "                (&#x27;featureunion&#x27;,\n",
       "                 FeatureUnion(transformer_list=[(&#x27;numeric_features&#x27;,\n",
       "                                                 Pipeline(steps=[(&#x27;columnselector&#x27;,\n",
       "                                                                  Colu...\n",
       "                                                                                          &#x27;193&#x27;,\n",
       "                                                                                          &#x27;17&#x27;,\n",
       "                                                                                          &#x27;214&#x27;,\n",
       "                                                                                          &#x27;218&#x27;,\n",
       "                                                                                          &#x27;197&#x27;,\n",
       "                                                                                          &#x27;65&#x27;,\n",
       "                                                                                          &#x27;220&#x27;,\n",
       "                                                                                          &#x27;201&#x27;,\n",
       "                                                                                          &#x27;132&#x27;,\n",
       "                                                                                          &#x27;141&#x27;,\n",
       "                                                                                          &#x27;155&#x27;,\n",
       "                                                                                          &#x27;163&#x27;,\n",
       "                                                                                          &#x27;175&#x27;,\n",
       "                                                                                          &#x27;177&#x27;,\n",
       "                                                                                          &#x27;95&#x27;,\n",
       "                                                                                          &#x27;221&#x27;,\n",
       "                                                                                          &#x27;252&#x27;,\n",
       "                                                                                          &#x27;192&#x27;,\n",
       "                                                                                          &#x27;32&#x27;,\n",
       "                                                                                          &#x27;179&#x27;,\n",
       "                                                                                          &#x27;70&#x27;, ...])),\n",
       "                                                                 (&#x27;simpleimputer&#x27;,\n",
       "                                                                  SimpleImputer(strategy=&#x27;most_frequent&#x27;)),\n",
       "                                                                 (&#x27;onehotencoder&#x27;,\n",
       "                                                                  OneHotEncoder(handle_unknown=&#x27;ignore&#x27;))])),\n",
       "                                                (&#x27;boolean_features&#x27;,\n",
       "                                                 Pipeline(steps=[(&#x27;columnselector&#x27;,\n",
       "                                                                  ColumnSelector(columns=[&#x27;not_first_offer&#x27;]))]))]))])</pre></div></div></div><div class=\"sk-serial\"><div class=\"sk-item\"><div class=\"sk-estimator sk-toggleable\"><input class=\"sk-toggleable__control sk-hidden--visually\" id=\"sk-estimator-id-58\" type=\"checkbox\" ><label for=\"sk-estimator-id-58\" class=\"sk-toggleable__label sk-toggleable__label-arrow\">ColumnSelector</label><div class=\"sk-toggleable__content\"><pre>ColumnSelector(columns=[&#x27;45&#x27;, &#x27;137&#x27;, &#x27;not_first_offer&#x27;, &#x27;22&#x27;, &#x27;41&#x27;, &#x27;87&#x27;, &#x27;119&#x27;,\n",
       "                        &#x27;248&#x27;, &#x27;241&#x27;, &#x27;116&#x27;, &#x27;214&#x27;, &#x27;233&#x27;, &#x27;6&#x27;, &#x27;55&#x27;, &#x27;46&#x27;,\n",
       "                        &#x27;187&#x27;, &#x27;91&#x27;, &#x27;95&#x27;, &#x27;51&#x27;, &#x27;115&#x27;, &#x27;217&#x27;, &#x27;230&#x27;, &#x27;105&#x27;,\n",
       "                        &#x27;170&#x27;, &#x27;172&#x27;, &#x27;179&#x27;, &#x27;70&#x27;, &#x27;210&#x27;, &#x27;216&#x27;, &#x27;178&#x27;, ...])</pre></div></div></div><div class=\"sk-item sk-dashed-wrapped\"><div class=\"sk-label-container\"><div class=\"sk-label sk-toggleable\"><input class=\"sk-toggleable__control sk-hidden--visually\" id=\"sk-estimator-id-59\" type=\"checkbox\" ><label for=\"sk-estimator-id-59\" class=\"sk-toggleable__label sk-toggleable__label-arrow\">featureunion: FeatureUnion</label><div class=\"sk-toggleable__content\"><pre>FeatureUnion(transformer_list=[(&#x27;numeric_features&#x27;,\n",
       "                                Pipeline(steps=[(&#x27;columnselector&#x27;,\n",
       "                                                 ColumnSelector(columns=[&#x27;45&#x27;,\n",
       "                                                                         &#x27;137&#x27;,\n",
       "                                                                         &#x27;22&#x27;,\n",
       "                                                                         &#x27;41&#x27;,\n",
       "                                                                         &#x27;87&#x27;,\n",
       "                                                                         &#x27;119&#x27;,\n",
       "                                                                         &#x27;248&#x27;,\n",
       "                                                                         &#x27;241&#x27;,\n",
       "                                                                         &#x27;116&#x27;,\n",
       "                                                                         &#x27;233&#x27;,\n",
       "                                                                         &#x27;6&#x27;,\n",
       "                                                                         &#x27;55&#x27;,\n",
       "                                                                         &#x27;46&#x27;,\n",
       "                                                                         &#x27;187&#x27;,\n",
       "                                                                         &#x27;91&#x27;,\n",
       "                                                                         &#x27;51&#x27;,\n",
       "                                                                         &#x27;115&#x27;,\n",
       "                                                                         &#x27;217&#x27;,\n",
       "                                                                         &#x27;230&#x27;,\n",
       "                                                                         &#x27;105&#x27;,\n",
       "                                                                         &#x27;170&#x27;,\n",
       "                                                                         &#x27;172&#x27;,\n",
       "                                                                         &#x27;210&#x27;,\n",
       "                                                                         &#x27;178&#x27;,\n",
       "                                                                         &#x27;174&#x27;,\n",
       "                                                                         &#x27;8&#x27;,\n",
       "                                                                         &#x27;164&#x27;,\n",
       "                                                                         &#x27;158&#x27;,\n",
       "                                                                         &#x27;234&#x27;,\n",
       "                                                                         &#x27;108&#x27;, ...])),\n",
       "                                                (&#x27;simpleimputer&#x27;,\n",
       "                                                 SimpleImputer()),\n",
       "                                                (&#x27;standardscaler&#x27;,\n",
       "                                                 StandardScaler...\n",
       "                                                                         &#x27;80&#x27;,\n",
       "                                                                         &#x27;193&#x27;,\n",
       "                                                                         &#x27;17&#x27;,\n",
       "                                                                         &#x27;214&#x27;,\n",
       "                                                                         &#x27;218&#x27;,\n",
       "                                                                         &#x27;197&#x27;,\n",
       "                                                                         &#x27;65&#x27;,\n",
       "                                                                         &#x27;220&#x27;,\n",
       "                                                                         &#x27;201&#x27;,\n",
       "                                                                         &#x27;132&#x27;,\n",
       "                                                                         &#x27;141&#x27;,\n",
       "                                                                         &#x27;155&#x27;,\n",
       "                                                                         &#x27;163&#x27;,\n",
       "                                                                         &#x27;175&#x27;,\n",
       "                                                                         &#x27;177&#x27;,\n",
       "                                                                         &#x27;95&#x27;,\n",
       "                                                                         &#x27;221&#x27;,\n",
       "                                                                         &#x27;252&#x27;,\n",
       "                                                                         &#x27;192&#x27;,\n",
       "                                                                         &#x27;32&#x27;,\n",
       "                                                                         &#x27;179&#x27;,\n",
       "                                                                         &#x27;70&#x27;, ...])),\n",
       "                                                (&#x27;simpleimputer&#x27;,\n",
       "                                                 SimpleImputer(strategy=&#x27;most_frequent&#x27;)),\n",
       "                                                (&#x27;onehotencoder&#x27;,\n",
       "                                                 OneHotEncoder(handle_unknown=&#x27;ignore&#x27;))])),\n",
       "                               (&#x27;boolean_features&#x27;,\n",
       "                                Pipeline(steps=[(&#x27;columnselector&#x27;,\n",
       "                                                 ColumnSelector(columns=[&#x27;not_first_offer&#x27;]))]))])</pre></div></div></div><div class=\"sk-parallel\"><div class=\"sk-parallel-item\"><div class=\"sk-item\"><div class=\"sk-label-container\"><div class=\"sk-label sk-toggleable\"><label>numeric_features</label></div></div><div class=\"sk-serial\"><div class=\"sk-item\"><div class=\"sk-serial\"><div class=\"sk-item\"><div class=\"sk-estimator sk-toggleable\"><input class=\"sk-toggleable__control sk-hidden--visually\" id=\"sk-estimator-id-60\" type=\"checkbox\" ><label for=\"sk-estimator-id-60\" class=\"sk-toggleable__label sk-toggleable__label-arrow\">ColumnSelector</label><div class=\"sk-toggleable__content\"><pre>ColumnSelector(columns=[&#x27;45&#x27;, &#x27;137&#x27;, &#x27;22&#x27;, &#x27;41&#x27;, &#x27;87&#x27;, &#x27;119&#x27;, &#x27;248&#x27;, &#x27;241&#x27;,\n",
       "                        &#x27;116&#x27;, &#x27;233&#x27;, &#x27;6&#x27;, &#x27;55&#x27;, &#x27;46&#x27;, &#x27;187&#x27;, &#x27;91&#x27;, &#x27;51&#x27;, &#x27;115&#x27;,\n",
       "                        &#x27;217&#x27;, &#x27;230&#x27;, &#x27;105&#x27;, &#x27;170&#x27;, &#x27;172&#x27;, &#x27;210&#x27;, &#x27;178&#x27;, &#x27;174&#x27;,\n",
       "                        &#x27;8&#x27;, &#x27;164&#x27;, &#x27;158&#x27;, &#x27;234&#x27;, &#x27;108&#x27;, ...])</pre></div></div></div><div class=\"sk-item\"><div class=\"sk-estimator sk-toggleable\"><input class=\"sk-toggleable__control sk-hidden--visually\" id=\"sk-estimator-id-61\" type=\"checkbox\" ><label for=\"sk-estimator-id-61\" class=\"sk-toggleable__label sk-toggleable__label-arrow\">SimpleImputer</label><div class=\"sk-toggleable__content\"><pre>SimpleImputer()</pre></div></div></div><div class=\"sk-item\"><div class=\"sk-estimator sk-toggleable\"><input class=\"sk-toggleable__control sk-hidden--visually\" id=\"sk-estimator-id-62\" type=\"checkbox\" ><label for=\"sk-estimator-id-62\" class=\"sk-toggleable__label sk-toggleable__label-arrow\">StandardScaler</label><div class=\"sk-toggleable__content\"><pre>StandardScaler()</pre></div></div></div></div></div></div></div></div><div class=\"sk-parallel-item\"><div class=\"sk-item\"><div class=\"sk-label-container\"><div class=\"sk-label sk-toggleable\"><label>categorical_features</label></div></div><div class=\"sk-serial\"><div class=\"sk-item\"><div class=\"sk-serial\"><div class=\"sk-item\"><div class=\"sk-estimator sk-toggleable\"><input class=\"sk-toggleable__control sk-hidden--visually\" id=\"sk-estimator-id-63\" type=\"checkbox\" ><label for=\"sk-estimator-id-63\" class=\"sk-toggleable__label sk-toggleable__label-arrow\">ColumnSelector</label><div class=\"sk-toggleable__content\"><pre>ColumnSelector(columns=[&#x27;24&#x27;, &#x27;30&#x27;, &#x27;199&#x27;, &#x27;195&#x27;, &#x27;29&#x27;, &#x27;23&#x27;, &#x27;31&#x27;, &#x27;57&#x27;, &#x27;80&#x27;,\n",
       "                        &#x27;193&#x27;, &#x27;17&#x27;, &#x27;214&#x27;, &#x27;218&#x27;, &#x27;197&#x27;, &#x27;65&#x27;, &#x27;220&#x27;, &#x27;201&#x27;,\n",
       "                        &#x27;132&#x27;, &#x27;141&#x27;, &#x27;155&#x27;, &#x27;163&#x27;, &#x27;175&#x27;, &#x27;177&#x27;, &#x27;95&#x27;, &#x27;221&#x27;,\n",
       "                        &#x27;252&#x27;, &#x27;192&#x27;, &#x27;32&#x27;, &#x27;179&#x27;, &#x27;70&#x27;, ...])</pre></div></div></div><div class=\"sk-item\"><div class=\"sk-estimator sk-toggleable\"><input class=\"sk-toggleable__control sk-hidden--visually\" id=\"sk-estimator-id-64\" type=\"checkbox\" ><label for=\"sk-estimator-id-64\" class=\"sk-toggleable__label sk-toggleable__label-arrow\">SimpleImputer</label><div class=\"sk-toggleable__content\"><pre>SimpleImputer(strategy=&#x27;most_frequent&#x27;)</pre></div></div></div><div class=\"sk-item\"><div class=\"sk-estimator sk-toggleable\"><input class=\"sk-toggleable__control sk-hidden--visually\" id=\"sk-estimator-id-65\" type=\"checkbox\" ><label for=\"sk-estimator-id-65\" class=\"sk-toggleable__label sk-toggleable__label-arrow\">OneHotEncoder</label><div class=\"sk-toggleable__content\"><pre>OneHotEncoder(handle_unknown=&#x27;ignore&#x27;)</pre></div></div></div></div></div></div></div></div><div class=\"sk-parallel-item\"><div class=\"sk-item\"><div class=\"sk-label-container\"><div class=\"sk-label sk-toggleable\"><label>boolean_features</label></div></div><div class=\"sk-serial\"><div class=\"sk-item\"><div class=\"sk-serial\"><div class=\"sk-item\"><div class=\"sk-estimator sk-toggleable\"><input class=\"sk-toggleable__control sk-hidden--visually\" id=\"sk-estimator-id-66\" type=\"checkbox\" ><label for=\"sk-estimator-id-66\" class=\"sk-toggleable__label sk-toggleable__label-arrow\">ColumnSelector</label><div class=\"sk-toggleable__content\"><pre>ColumnSelector(columns=[&#x27;not_first_offer&#x27;])</pre></div></div></div></div></div></div></div></div></div></div></div></div><div class=\"sk-item sk-dashed-wrapped\"><div class=\"sk-label-container\"><div class=\"sk-label sk-toggleable\"><input class=\"sk-toggleable__control sk-hidden--visually\" id=\"sk-estimator-id-67\" type=\"checkbox\" ><label for=\"sk-estimator-id-67\" class=\"sk-toggleable__label sk-toggleable__label-arrow\">selectfrommodel: SelectFromModel</label><div class=\"sk-toggleable__content\"><pre>SelectFromModel(estimator=LogisticRegression(penalty=&#x27;l1&#x27;, random_state=9,\n",
       "                                             solver=&#x27;liblinear&#x27;),\n",
       "                max_features=29, threshold=-inf)</pre></div></div></div><div class=\"sk-parallel\"><div class=\"sk-parallel-item\"><div class=\"sk-item\"><div class=\"sk-label-container\"><div class=\"sk-label sk-toggleable\"><input class=\"sk-toggleable__control sk-hidden--visually\" id=\"sk-estimator-id-68\" type=\"checkbox\" ><label for=\"sk-estimator-id-68\" class=\"sk-toggleable__label sk-toggleable__label-arrow\">estimator: LogisticRegression</label><div class=\"sk-toggleable__content\"><pre>LogisticRegression(penalty=&#x27;l1&#x27;, random_state=9, solver=&#x27;liblinear&#x27;)</pre></div></div></div><div class=\"sk-serial\"><div class=\"sk-item\"><div class=\"sk-estimator sk-toggleable\"><input class=\"sk-toggleable__control sk-hidden--visually\" id=\"sk-estimator-id-69\" type=\"checkbox\" ><label for=\"sk-estimator-id-69\" class=\"sk-toggleable__label sk-toggleable__label-arrow\">LogisticRegression</label><div class=\"sk-toggleable__content\"><pre>LogisticRegression(penalty=&#x27;l1&#x27;, random_state=9, solver=&#x27;liblinear&#x27;)</pre></div></div></div></div></div></div></div></div><div class=\"sk-item\"><div class=\"sk-estimator sk-toggleable\"><input class=\"sk-toggleable__control sk-hidden--visually\" id=\"sk-estimator-id-70\" type=\"checkbox\" ><label for=\"sk-estimator-id-70\" class=\"sk-toggleable__label sk-toggleable__label-arrow\">XGBClassifier</label><div class=\"sk-toggleable__content\"><pre>XGBClassifier(base_score=0.5, booster=&#x27;gbtree&#x27;, colsample_bylevel=1,\n",
       "              colsample_bynode=1, colsample_bytree=1, enable_categorical=False,\n",
       "              gamma=0, gpu_id=-1, importance_type=None,\n",
       "              interaction_constraints=&#x27;&#x27;, learning_rate=0.300000012,\n",
       "              max_delta_step=0, max_depth=2, min_child_weight=1, missing=nan,\n",
       "              monotone_constraints=&#x27;()&#x27;, n_estimators=200, n_jobs=16,\n",
       "              num_parallel_tree=1, predictor=&#x27;auto&#x27;, random_state=9,\n",
       "              reg_alpha=0, reg_lambda=1, scale_pos_weight=1, subsample=1,\n",
       "              tree_method=&#x27;exact&#x27;, validate_parameters=1, verbosity=None)</pre></div></div></div></div></div></div></div>"
      ],
      "text/plain": [
       "Pipeline(steps=[('pipeline',\n",
       "                 Pipeline(steps=[('columnselector',\n",
       "                                  ColumnSelector(columns=['45', '137',\n",
       "                                                          'not_first_offer',\n",
       "                                                          '22', '41', '87',\n",
       "                                                          '119', '248', '241',\n",
       "                                                          '116', '214', '233',\n",
       "                                                          '6', '55', '46',\n",
       "                                                          '187', '91', '95',\n",
       "                                                          '51', '115', '217',\n",
       "                                                          '230', '105', '170',\n",
       "                                                          '172', '179', '70',\n",
       "                                                          '210', '216', '178', ...])),\n",
       "                                 ('featureunion',\n",
       "                                  FeatureUnion(transformer_list=[('numeric_features',\n",
       "                                                                  Pipeline(s...\n",
       "                               gamma=0, gpu_id=-1, importance_type=None,\n",
       "                               interaction_constraints='',\n",
       "                               learning_rate=0.300000012, max_delta_step=0,\n",
       "                               max_depth=2, min_child_weight=1, missing=nan,\n",
       "                               monotone_constraints='()', n_estimators=200,\n",
       "                               n_jobs=16, num_parallel_tree=1, predictor='auto',\n",
       "                               random_state=9, reg_alpha=0, reg_lambda=1,\n",
       "                               scale_pos_weight=1, subsample=1,\n",
       "                               tree_method='exact', validate_parameters=1,\n",
       "                               verbosity=None))])"
      ]
     },
     "execution_count": 104,
     "metadata": {},
     "output_type": "execute_result"
    }
   ],
   "source": [
    "xgb_fs_pipe.fit(X_train, y_train)"
   ]
  },
  {
   "cell_type": "code",
   "execution_count": 105,
   "id": "de505cfc",
   "metadata": {},
   "outputs": [
    {
     "data": {
      "text/plain": [
       "0.8725359179835368"
      ]
     },
     "execution_count": 105,
     "metadata": {},
     "output_type": "execute_result"
    }
   ],
   "source": [
    "preds_train = xgb_fs_pipe.predict(X_train)\n",
    "f1_score(y_train, preds_train, average='macro')"
   ]
  },
  {
   "cell_type": "code",
   "execution_count": 106,
   "id": "912212f9",
   "metadata": {},
   "outputs": [
    {
     "data": {
      "text/plain": [
       "0.746436546554974"
      ]
     },
     "execution_count": 106,
     "metadata": {},
     "output_type": "execute_result"
    }
   ],
   "source": [
    "preds_test = xgb_fs_pipe.predict(X_test)\n",
    "f1_score(y_test, preds_test, average='macro')"
   ]
  },
  {
   "cell_type": "code",
   "execution_count": 107,
   "id": "13bc0741",
   "metadata": {},
   "outputs": [],
   "source": [
    "preds_proba_train = xgb_fs_pipe.predict_proba(X_train)"
   ]
  },
  {
   "cell_type": "code",
   "execution_count": 108,
   "id": "e282fea6",
   "metadata": {},
   "outputs": [
    {
     "name": "stdout",
     "output_type": "stream",
     "text": [
      "Лучшая отсечка : 0.5263157894736842, Метрика F1_macro: 0.8725803624629289\n",
      "================================================================================\n",
      "              precision    recall  f1-score   support\n",
      "\n",
      "         0.0       0.88      0.86      0.87     45094\n",
      "         1.0       0.87      0.88      0.87     45094\n",
      "\n",
      "    accuracy                           0.87     90188\n",
      "   macro avg       0.87      0.87      0.87     90188\n",
      "weighted avg       0.87      0.87      0.87     90188\n",
      "\n"
     ]
    }
   ],
   "source": [
    "treshold_search(y_train, preds_proba_train)"
   ]
  },
  {
   "cell_type": "code",
   "execution_count": 109,
   "id": "d5ad016c",
   "metadata": {},
   "outputs": [],
   "source": [
    "preds_proba_test = xgb_fs_pipe.predict_proba(X_test)"
   ]
  },
  {
   "cell_type": "code",
   "execution_count": 110,
   "id": "f934a154",
   "metadata": {},
   "outputs": [
    {
     "name": "stdout",
     "output_type": "stream",
     "text": [
      "Лучшая отсечка : 0.5789473684210527, Метрика F1_macro: 0.7487434903391735\n",
      "================================================================================\n",
      "              precision    recall  f1-score   support\n",
      "\n",
      "         0.0       1.00      0.87      0.93    178557\n",
      "         1.0       0.40      1.00      0.57     15083\n",
      "\n",
      "    accuracy                           0.88    193640\n",
      "   macro avg       0.70      0.93      0.75    193640\n",
      "weighted avg       0.95      0.88      0.90    193640\n",
      "\n"
     ]
    }
   ],
   "source": [
    "treshold_search(y_test, preds_proba_test)"
   ]
  },
  {
   "cell_type": "markdown",
   "id": "b46f9676",
   "metadata": {},
   "source": [
    "================================================================================="
   ]
  },
  {
   "cell_type": "code",
   "execution_count": null,
   "id": "1554eee0",
   "metadata": {},
   "outputs": [],
   "source": []
  },
  {
   "cell_type": "code",
   "execution_count": 137,
   "id": "27df7e6a",
   "metadata": {},
   "outputs": [],
   "source": [
    "lg_fs_pipe = make_pipeline(\n",
    "    f_prep_pipeline,\n",
    "    SelectFromModel(LogisticRegression(penalty='l1', random_state=RANDOM_STATE, solver='liblinear'), max_features = 29),\n",
    "    LogisticRegression(random_state=RANDOM_STATE)\n",
    ")"
   ]
  },
  {
   "cell_type": "code",
   "execution_count": 138,
   "id": "050a3671",
   "metadata": {},
   "outputs": [
    {
     "data": {
      "text/html": [
       "<style>#sk-container-id-10 {color: black;background-color: white;}#sk-container-id-10 pre{padding: 0;}#sk-container-id-10 div.sk-toggleable {background-color: white;}#sk-container-id-10 label.sk-toggleable__label {cursor: pointer;display: block;width: 100%;margin-bottom: 0;padding: 0.3em;box-sizing: border-box;text-align: center;}#sk-container-id-10 label.sk-toggleable__label-arrow:before {content: \"▸\";float: left;margin-right: 0.25em;color: #696969;}#sk-container-id-10 label.sk-toggleable__label-arrow:hover:before {color: black;}#sk-container-id-10 div.sk-estimator:hover label.sk-toggleable__label-arrow:before {color: black;}#sk-container-id-10 div.sk-toggleable__content {max-height: 0;max-width: 0;overflow: hidden;text-align: left;background-color: #f0f8ff;}#sk-container-id-10 div.sk-toggleable__content pre {margin: 0.2em;color: black;border-radius: 0.25em;background-color: #f0f8ff;}#sk-container-id-10 input.sk-toggleable__control:checked~div.sk-toggleable__content {max-height: 200px;max-width: 100%;overflow: auto;}#sk-container-id-10 input.sk-toggleable__control:checked~label.sk-toggleable__label-arrow:before {content: \"▾\";}#sk-container-id-10 div.sk-estimator input.sk-toggleable__control:checked~label.sk-toggleable__label {background-color: #d4ebff;}#sk-container-id-10 div.sk-label input.sk-toggleable__control:checked~label.sk-toggleable__label {background-color: #d4ebff;}#sk-container-id-10 input.sk-hidden--visually {border: 0;clip: rect(1px 1px 1px 1px);clip: rect(1px, 1px, 1px, 1px);height: 1px;margin: -1px;overflow: hidden;padding: 0;position: absolute;width: 1px;}#sk-container-id-10 div.sk-estimator {font-family: monospace;background-color: #f0f8ff;border: 1px dotted black;border-radius: 0.25em;box-sizing: border-box;margin-bottom: 0.5em;}#sk-container-id-10 div.sk-estimator:hover {background-color: #d4ebff;}#sk-container-id-10 div.sk-parallel-item::after {content: \"\";width: 100%;border-bottom: 1px solid gray;flex-grow: 1;}#sk-container-id-10 div.sk-label:hover label.sk-toggleable__label {background-color: #d4ebff;}#sk-container-id-10 div.sk-serial::before {content: \"\";position: absolute;border-left: 1px solid gray;box-sizing: border-box;top: 0;bottom: 0;left: 50%;z-index: 0;}#sk-container-id-10 div.sk-serial {display: flex;flex-direction: column;align-items: center;background-color: white;padding-right: 0.2em;padding-left: 0.2em;position: relative;}#sk-container-id-10 div.sk-item {position: relative;z-index: 1;}#sk-container-id-10 div.sk-parallel {display: flex;align-items: stretch;justify-content: center;background-color: white;position: relative;}#sk-container-id-10 div.sk-item::before, #sk-container-id-10 div.sk-parallel-item::before {content: \"\";position: absolute;border-left: 1px solid gray;box-sizing: border-box;top: 0;bottom: 0;left: 50%;z-index: -1;}#sk-container-id-10 div.sk-parallel-item {display: flex;flex-direction: column;z-index: 1;position: relative;background-color: white;}#sk-container-id-10 div.sk-parallel-item:first-child::after {align-self: flex-end;width: 50%;}#sk-container-id-10 div.sk-parallel-item:last-child::after {align-self: flex-start;width: 50%;}#sk-container-id-10 div.sk-parallel-item:only-child::after {width: 0;}#sk-container-id-10 div.sk-dashed-wrapped {border: 1px dashed gray;margin: 0 0.4em 0.5em 0.4em;box-sizing: border-box;padding-bottom: 0.4em;background-color: white;}#sk-container-id-10 div.sk-label label {font-family: monospace;font-weight: bold;display: inline-block;line-height: 1.2em;}#sk-container-id-10 div.sk-label-container {text-align: center;}#sk-container-id-10 div.sk-container {/* jupyter's `normalize.less` sets `[hidden] { display: none; }` but bootstrap.min.css set `[hidden] { display: none !important; }` so we also need the `!important` here to be able to override the default hidden behavior on the sphinx rendered scikit-learn.org. See: https://github.com/scikit-learn/scikit-learn/issues/21755 */display: inline-block !important;position: relative;}#sk-container-id-10 div.sk-text-repr-fallback {display: none;}</style><div id=\"sk-container-id-10\" class=\"sk-top-container\"><div class=\"sk-text-repr-fallback\"><pre>Pipeline(steps=[(&#x27;pipeline&#x27;,\n",
       "                 Pipeline(steps=[(&#x27;columnselector&#x27;,\n",
       "                                  ColumnSelector(columns=[&#x27;45&#x27;, &#x27;137&#x27;,\n",
       "                                                          &#x27;not_first_offer&#x27;,\n",
       "                                                          &#x27;22&#x27;, &#x27;41&#x27;, &#x27;87&#x27;,\n",
       "                                                          &#x27;119&#x27;, &#x27;248&#x27;, &#x27;241&#x27;,\n",
       "                                                          &#x27;116&#x27;, &#x27;214&#x27;, &#x27;233&#x27;,\n",
       "                                                          &#x27;6&#x27;, &#x27;55&#x27;, &#x27;46&#x27;,\n",
       "                                                          &#x27;187&#x27;, &#x27;91&#x27;, &#x27;95&#x27;,\n",
       "                                                          &#x27;51&#x27;, &#x27;115&#x27;, &#x27;217&#x27;,\n",
       "                                                          &#x27;230&#x27;, &#x27;105&#x27;, &#x27;170&#x27;,\n",
       "                                                          &#x27;172&#x27;, &#x27;179&#x27;, &#x27;70&#x27;,\n",
       "                                                          &#x27;210&#x27;, &#x27;216&#x27;, &#x27;178&#x27;, ...])),\n",
       "                                 (&#x27;featureunion&#x27;,\n",
       "                                  FeatureUnion(transformer_list=[(&#x27;numeric_features&#x27;,\n",
       "                                                                  Pipeline(s...\n",
       "                                                                                   OneHotEncoder(handle_unknown=&#x27;ignore&#x27;))])),\n",
       "                                                                 (&#x27;boolean_features&#x27;,\n",
       "                                                                  Pipeline(steps=[(&#x27;columnselector&#x27;,\n",
       "                                                                                   ColumnSelector(columns=[&#x27;not_first_offer&#x27;]))]))]))])),\n",
       "                (&#x27;selectfrommodel&#x27;,\n",
       "                 SelectFromModel(estimator=LogisticRegression(penalty=&#x27;l1&#x27;,\n",
       "                                                              random_state=9,\n",
       "                                                              solver=&#x27;liblinear&#x27;),\n",
       "                                 max_features=29)),\n",
       "                (&#x27;logisticregression&#x27;,\n",
       "                 LogisticRegression(C=0.1, random_state=9,\n",
       "                                    solver=&#x27;liblinear&#x27;))])</pre><b>In a Jupyter environment, please rerun this cell to show the HTML representation or trust the notebook. <br />On GitHub, the HTML representation is unable to render, please try loading this page with nbviewer.org.</b></div><div class=\"sk-container\" hidden><div class=\"sk-item sk-dashed-wrapped\"><div class=\"sk-label-container\"><div class=\"sk-label sk-toggleable\"><input class=\"sk-toggleable__control sk-hidden--visually\" id=\"sk-estimator-id-116\" type=\"checkbox\" ><label for=\"sk-estimator-id-116\" class=\"sk-toggleable__label sk-toggleable__label-arrow\">Pipeline</label><div class=\"sk-toggleable__content\"><pre>Pipeline(steps=[(&#x27;pipeline&#x27;,\n",
       "                 Pipeline(steps=[(&#x27;columnselector&#x27;,\n",
       "                                  ColumnSelector(columns=[&#x27;45&#x27;, &#x27;137&#x27;,\n",
       "                                                          &#x27;not_first_offer&#x27;,\n",
       "                                                          &#x27;22&#x27;, &#x27;41&#x27;, &#x27;87&#x27;,\n",
       "                                                          &#x27;119&#x27;, &#x27;248&#x27;, &#x27;241&#x27;,\n",
       "                                                          &#x27;116&#x27;, &#x27;214&#x27;, &#x27;233&#x27;,\n",
       "                                                          &#x27;6&#x27;, &#x27;55&#x27;, &#x27;46&#x27;,\n",
       "                                                          &#x27;187&#x27;, &#x27;91&#x27;, &#x27;95&#x27;,\n",
       "                                                          &#x27;51&#x27;, &#x27;115&#x27;, &#x27;217&#x27;,\n",
       "                                                          &#x27;230&#x27;, &#x27;105&#x27;, &#x27;170&#x27;,\n",
       "                                                          &#x27;172&#x27;, &#x27;179&#x27;, &#x27;70&#x27;,\n",
       "                                                          &#x27;210&#x27;, &#x27;216&#x27;, &#x27;178&#x27;, ...])),\n",
       "                                 (&#x27;featureunion&#x27;,\n",
       "                                  FeatureUnion(transformer_list=[(&#x27;numeric_features&#x27;,\n",
       "                                                                  Pipeline(s...\n",
       "                                                                                   OneHotEncoder(handle_unknown=&#x27;ignore&#x27;))])),\n",
       "                                                                 (&#x27;boolean_features&#x27;,\n",
       "                                                                  Pipeline(steps=[(&#x27;columnselector&#x27;,\n",
       "                                                                                   ColumnSelector(columns=[&#x27;not_first_offer&#x27;]))]))]))])),\n",
       "                (&#x27;selectfrommodel&#x27;,\n",
       "                 SelectFromModel(estimator=LogisticRegression(penalty=&#x27;l1&#x27;,\n",
       "                                                              random_state=9,\n",
       "                                                              solver=&#x27;liblinear&#x27;),\n",
       "                                 max_features=29)),\n",
       "                (&#x27;logisticregression&#x27;,\n",
       "                 LogisticRegression(C=0.1, random_state=9,\n",
       "                                    solver=&#x27;liblinear&#x27;))])</pre></div></div></div><div class=\"sk-serial\"><div class=\"sk-item\"><div class=\"sk-label-container\"><div class=\"sk-label sk-toggleable\"><input class=\"sk-toggleable__control sk-hidden--visually\" id=\"sk-estimator-id-117\" type=\"checkbox\" ><label for=\"sk-estimator-id-117\" class=\"sk-toggleable__label sk-toggleable__label-arrow\">pipeline: Pipeline</label><div class=\"sk-toggleable__content\"><pre>Pipeline(steps=[(&#x27;columnselector&#x27;,\n",
       "                 ColumnSelector(columns=[&#x27;45&#x27;, &#x27;137&#x27;, &#x27;not_first_offer&#x27;, &#x27;22&#x27;,\n",
       "                                         &#x27;41&#x27;, &#x27;87&#x27;, &#x27;119&#x27;, &#x27;248&#x27;, &#x27;241&#x27;, &#x27;116&#x27;,\n",
       "                                         &#x27;214&#x27;, &#x27;233&#x27;, &#x27;6&#x27;, &#x27;55&#x27;, &#x27;46&#x27;, &#x27;187&#x27;,\n",
       "                                         &#x27;91&#x27;, &#x27;95&#x27;, &#x27;51&#x27;, &#x27;115&#x27;, &#x27;217&#x27;, &#x27;230&#x27;,\n",
       "                                         &#x27;105&#x27;, &#x27;170&#x27;, &#x27;172&#x27;, &#x27;179&#x27;, &#x27;70&#x27;,\n",
       "                                         &#x27;210&#x27;, &#x27;216&#x27;, &#x27;178&#x27;, ...])),\n",
       "                (&#x27;featureunion&#x27;,\n",
       "                 FeatureUnion(transformer_list=[(&#x27;numeric_features&#x27;,\n",
       "                                                 Pipeline(steps=[(&#x27;columnselector&#x27;,\n",
       "                                                                  Colu...\n",
       "                                                                                          &#x27;193&#x27;,\n",
       "                                                                                          &#x27;17&#x27;,\n",
       "                                                                                          &#x27;214&#x27;,\n",
       "                                                                                          &#x27;218&#x27;,\n",
       "                                                                                          &#x27;197&#x27;,\n",
       "                                                                                          &#x27;65&#x27;,\n",
       "                                                                                          &#x27;220&#x27;,\n",
       "                                                                                          &#x27;201&#x27;,\n",
       "                                                                                          &#x27;132&#x27;,\n",
       "                                                                                          &#x27;141&#x27;,\n",
       "                                                                                          &#x27;155&#x27;,\n",
       "                                                                                          &#x27;163&#x27;,\n",
       "                                                                                          &#x27;175&#x27;,\n",
       "                                                                                          &#x27;177&#x27;,\n",
       "                                                                                          &#x27;95&#x27;,\n",
       "                                                                                          &#x27;221&#x27;,\n",
       "                                                                                          &#x27;252&#x27;,\n",
       "                                                                                          &#x27;192&#x27;,\n",
       "                                                                                          &#x27;32&#x27;,\n",
       "                                                                                          &#x27;179&#x27;,\n",
       "                                                                                          &#x27;70&#x27;, ...])),\n",
       "                                                                 (&#x27;simpleimputer&#x27;,\n",
       "                                                                  SimpleImputer(strategy=&#x27;most_frequent&#x27;)),\n",
       "                                                                 (&#x27;onehotencoder&#x27;,\n",
       "                                                                  OneHotEncoder(handle_unknown=&#x27;ignore&#x27;))])),\n",
       "                                                (&#x27;boolean_features&#x27;,\n",
       "                                                 Pipeline(steps=[(&#x27;columnselector&#x27;,\n",
       "                                                                  ColumnSelector(columns=[&#x27;not_first_offer&#x27;]))]))]))])</pre></div></div></div><div class=\"sk-serial\"><div class=\"sk-item\"><div class=\"sk-estimator sk-toggleable\"><input class=\"sk-toggleable__control sk-hidden--visually\" id=\"sk-estimator-id-118\" type=\"checkbox\" ><label for=\"sk-estimator-id-118\" class=\"sk-toggleable__label sk-toggleable__label-arrow\">ColumnSelector</label><div class=\"sk-toggleable__content\"><pre>ColumnSelector(columns=[&#x27;45&#x27;, &#x27;137&#x27;, &#x27;not_first_offer&#x27;, &#x27;22&#x27;, &#x27;41&#x27;, &#x27;87&#x27;, &#x27;119&#x27;,\n",
       "                        &#x27;248&#x27;, &#x27;241&#x27;, &#x27;116&#x27;, &#x27;214&#x27;, &#x27;233&#x27;, &#x27;6&#x27;, &#x27;55&#x27;, &#x27;46&#x27;,\n",
       "                        &#x27;187&#x27;, &#x27;91&#x27;, &#x27;95&#x27;, &#x27;51&#x27;, &#x27;115&#x27;, &#x27;217&#x27;, &#x27;230&#x27;, &#x27;105&#x27;,\n",
       "                        &#x27;170&#x27;, &#x27;172&#x27;, &#x27;179&#x27;, &#x27;70&#x27;, &#x27;210&#x27;, &#x27;216&#x27;, &#x27;178&#x27;, ...])</pre></div></div></div><div class=\"sk-item sk-dashed-wrapped\"><div class=\"sk-label-container\"><div class=\"sk-label sk-toggleable\"><input class=\"sk-toggleable__control sk-hidden--visually\" id=\"sk-estimator-id-119\" type=\"checkbox\" ><label for=\"sk-estimator-id-119\" class=\"sk-toggleable__label sk-toggleable__label-arrow\">featureunion: FeatureUnion</label><div class=\"sk-toggleable__content\"><pre>FeatureUnion(transformer_list=[(&#x27;numeric_features&#x27;,\n",
       "                                Pipeline(steps=[(&#x27;columnselector&#x27;,\n",
       "                                                 ColumnSelector(columns=[&#x27;45&#x27;,\n",
       "                                                                         &#x27;137&#x27;,\n",
       "                                                                         &#x27;22&#x27;,\n",
       "                                                                         &#x27;41&#x27;,\n",
       "                                                                         &#x27;87&#x27;,\n",
       "                                                                         &#x27;119&#x27;,\n",
       "                                                                         &#x27;248&#x27;,\n",
       "                                                                         &#x27;241&#x27;,\n",
       "                                                                         &#x27;116&#x27;,\n",
       "                                                                         &#x27;233&#x27;,\n",
       "                                                                         &#x27;6&#x27;,\n",
       "                                                                         &#x27;55&#x27;,\n",
       "                                                                         &#x27;46&#x27;,\n",
       "                                                                         &#x27;187&#x27;,\n",
       "                                                                         &#x27;91&#x27;,\n",
       "                                                                         &#x27;51&#x27;,\n",
       "                                                                         &#x27;115&#x27;,\n",
       "                                                                         &#x27;217&#x27;,\n",
       "                                                                         &#x27;230&#x27;,\n",
       "                                                                         &#x27;105&#x27;,\n",
       "                                                                         &#x27;170&#x27;,\n",
       "                                                                         &#x27;172&#x27;,\n",
       "                                                                         &#x27;210&#x27;,\n",
       "                                                                         &#x27;178&#x27;,\n",
       "                                                                         &#x27;174&#x27;,\n",
       "                                                                         &#x27;8&#x27;,\n",
       "                                                                         &#x27;164&#x27;,\n",
       "                                                                         &#x27;158&#x27;,\n",
       "                                                                         &#x27;234&#x27;,\n",
       "                                                                         &#x27;108&#x27;, ...])),\n",
       "                                                (&#x27;simpleimputer&#x27;,\n",
       "                                                 SimpleImputer()),\n",
       "                                                (&#x27;standardscaler&#x27;,\n",
       "                                                 StandardScaler...\n",
       "                                                                         &#x27;80&#x27;,\n",
       "                                                                         &#x27;193&#x27;,\n",
       "                                                                         &#x27;17&#x27;,\n",
       "                                                                         &#x27;214&#x27;,\n",
       "                                                                         &#x27;218&#x27;,\n",
       "                                                                         &#x27;197&#x27;,\n",
       "                                                                         &#x27;65&#x27;,\n",
       "                                                                         &#x27;220&#x27;,\n",
       "                                                                         &#x27;201&#x27;,\n",
       "                                                                         &#x27;132&#x27;,\n",
       "                                                                         &#x27;141&#x27;,\n",
       "                                                                         &#x27;155&#x27;,\n",
       "                                                                         &#x27;163&#x27;,\n",
       "                                                                         &#x27;175&#x27;,\n",
       "                                                                         &#x27;177&#x27;,\n",
       "                                                                         &#x27;95&#x27;,\n",
       "                                                                         &#x27;221&#x27;,\n",
       "                                                                         &#x27;252&#x27;,\n",
       "                                                                         &#x27;192&#x27;,\n",
       "                                                                         &#x27;32&#x27;,\n",
       "                                                                         &#x27;179&#x27;,\n",
       "                                                                         &#x27;70&#x27;, ...])),\n",
       "                                                (&#x27;simpleimputer&#x27;,\n",
       "                                                 SimpleImputer(strategy=&#x27;most_frequent&#x27;)),\n",
       "                                                (&#x27;onehotencoder&#x27;,\n",
       "                                                 OneHotEncoder(handle_unknown=&#x27;ignore&#x27;))])),\n",
       "                               (&#x27;boolean_features&#x27;,\n",
       "                                Pipeline(steps=[(&#x27;columnselector&#x27;,\n",
       "                                                 ColumnSelector(columns=[&#x27;not_first_offer&#x27;]))]))])</pre></div></div></div><div class=\"sk-parallel\"><div class=\"sk-parallel-item\"><div class=\"sk-item\"><div class=\"sk-label-container\"><div class=\"sk-label sk-toggleable\"><label>numeric_features</label></div></div><div class=\"sk-serial\"><div class=\"sk-item\"><div class=\"sk-serial\"><div class=\"sk-item\"><div class=\"sk-estimator sk-toggleable\"><input class=\"sk-toggleable__control sk-hidden--visually\" id=\"sk-estimator-id-120\" type=\"checkbox\" ><label for=\"sk-estimator-id-120\" class=\"sk-toggleable__label sk-toggleable__label-arrow\">ColumnSelector</label><div class=\"sk-toggleable__content\"><pre>ColumnSelector(columns=[&#x27;45&#x27;, &#x27;137&#x27;, &#x27;22&#x27;, &#x27;41&#x27;, &#x27;87&#x27;, &#x27;119&#x27;, &#x27;248&#x27;, &#x27;241&#x27;,\n",
       "                        &#x27;116&#x27;, &#x27;233&#x27;, &#x27;6&#x27;, &#x27;55&#x27;, &#x27;46&#x27;, &#x27;187&#x27;, &#x27;91&#x27;, &#x27;51&#x27;, &#x27;115&#x27;,\n",
       "                        &#x27;217&#x27;, &#x27;230&#x27;, &#x27;105&#x27;, &#x27;170&#x27;, &#x27;172&#x27;, &#x27;210&#x27;, &#x27;178&#x27;, &#x27;174&#x27;,\n",
       "                        &#x27;8&#x27;, &#x27;164&#x27;, &#x27;158&#x27;, &#x27;234&#x27;, &#x27;108&#x27;, ...])</pre></div></div></div><div class=\"sk-item\"><div class=\"sk-estimator sk-toggleable\"><input class=\"sk-toggleable__control sk-hidden--visually\" id=\"sk-estimator-id-121\" type=\"checkbox\" ><label for=\"sk-estimator-id-121\" class=\"sk-toggleable__label sk-toggleable__label-arrow\">SimpleImputer</label><div class=\"sk-toggleable__content\"><pre>SimpleImputer()</pre></div></div></div><div class=\"sk-item\"><div class=\"sk-estimator sk-toggleable\"><input class=\"sk-toggleable__control sk-hidden--visually\" id=\"sk-estimator-id-122\" type=\"checkbox\" ><label for=\"sk-estimator-id-122\" class=\"sk-toggleable__label sk-toggleable__label-arrow\">StandardScaler</label><div class=\"sk-toggleable__content\"><pre>StandardScaler()</pre></div></div></div></div></div></div></div></div><div class=\"sk-parallel-item\"><div class=\"sk-item\"><div class=\"sk-label-container\"><div class=\"sk-label sk-toggleable\"><label>categorical_features</label></div></div><div class=\"sk-serial\"><div class=\"sk-item\"><div class=\"sk-serial\"><div class=\"sk-item\"><div class=\"sk-estimator sk-toggleable\"><input class=\"sk-toggleable__control sk-hidden--visually\" id=\"sk-estimator-id-123\" type=\"checkbox\" ><label for=\"sk-estimator-id-123\" class=\"sk-toggleable__label sk-toggleable__label-arrow\">ColumnSelector</label><div class=\"sk-toggleable__content\"><pre>ColumnSelector(columns=[&#x27;24&#x27;, &#x27;30&#x27;, &#x27;199&#x27;, &#x27;195&#x27;, &#x27;29&#x27;, &#x27;23&#x27;, &#x27;31&#x27;, &#x27;57&#x27;, &#x27;80&#x27;,\n",
       "                        &#x27;193&#x27;, &#x27;17&#x27;, &#x27;214&#x27;, &#x27;218&#x27;, &#x27;197&#x27;, &#x27;65&#x27;, &#x27;220&#x27;, &#x27;201&#x27;,\n",
       "                        &#x27;132&#x27;, &#x27;141&#x27;, &#x27;155&#x27;, &#x27;163&#x27;, &#x27;175&#x27;, &#x27;177&#x27;, &#x27;95&#x27;, &#x27;221&#x27;,\n",
       "                        &#x27;252&#x27;, &#x27;192&#x27;, &#x27;32&#x27;, &#x27;179&#x27;, &#x27;70&#x27;, ...])</pre></div></div></div><div class=\"sk-item\"><div class=\"sk-estimator sk-toggleable\"><input class=\"sk-toggleable__control sk-hidden--visually\" id=\"sk-estimator-id-124\" type=\"checkbox\" ><label for=\"sk-estimator-id-124\" class=\"sk-toggleable__label sk-toggleable__label-arrow\">SimpleImputer</label><div class=\"sk-toggleable__content\"><pre>SimpleImputer(strategy=&#x27;most_frequent&#x27;)</pre></div></div></div><div class=\"sk-item\"><div class=\"sk-estimator sk-toggleable\"><input class=\"sk-toggleable__control sk-hidden--visually\" id=\"sk-estimator-id-125\" type=\"checkbox\" ><label for=\"sk-estimator-id-125\" class=\"sk-toggleable__label sk-toggleable__label-arrow\">OneHotEncoder</label><div class=\"sk-toggleable__content\"><pre>OneHotEncoder(handle_unknown=&#x27;ignore&#x27;)</pre></div></div></div></div></div></div></div></div><div class=\"sk-parallel-item\"><div class=\"sk-item\"><div class=\"sk-label-container\"><div class=\"sk-label sk-toggleable\"><label>boolean_features</label></div></div><div class=\"sk-serial\"><div class=\"sk-item\"><div class=\"sk-serial\"><div class=\"sk-item\"><div class=\"sk-estimator sk-toggleable\"><input class=\"sk-toggleable__control sk-hidden--visually\" id=\"sk-estimator-id-126\" type=\"checkbox\" ><label for=\"sk-estimator-id-126\" class=\"sk-toggleable__label sk-toggleable__label-arrow\">ColumnSelector</label><div class=\"sk-toggleable__content\"><pre>ColumnSelector(columns=[&#x27;not_first_offer&#x27;])</pre></div></div></div></div></div></div></div></div></div></div></div></div><div class=\"sk-item sk-dashed-wrapped\"><div class=\"sk-label-container\"><div class=\"sk-label sk-toggleable\"><input class=\"sk-toggleable__control sk-hidden--visually\" id=\"sk-estimator-id-127\" type=\"checkbox\" ><label for=\"sk-estimator-id-127\" class=\"sk-toggleable__label sk-toggleable__label-arrow\">selectfrommodel: SelectFromModel</label><div class=\"sk-toggleable__content\"><pre>SelectFromModel(estimator=LogisticRegression(penalty=&#x27;l1&#x27;, random_state=9,\n",
       "                                             solver=&#x27;liblinear&#x27;),\n",
       "                max_features=29)</pre></div></div></div><div class=\"sk-parallel\"><div class=\"sk-parallel-item\"><div class=\"sk-item\"><div class=\"sk-label-container\"><div class=\"sk-label sk-toggleable\"><input class=\"sk-toggleable__control sk-hidden--visually\" id=\"sk-estimator-id-128\" type=\"checkbox\" ><label for=\"sk-estimator-id-128\" class=\"sk-toggleable__label sk-toggleable__label-arrow\">estimator: LogisticRegression</label><div class=\"sk-toggleable__content\"><pre>LogisticRegression(penalty=&#x27;l1&#x27;, random_state=9, solver=&#x27;liblinear&#x27;)</pre></div></div></div><div class=\"sk-serial\"><div class=\"sk-item\"><div class=\"sk-estimator sk-toggleable\"><input class=\"sk-toggleable__control sk-hidden--visually\" id=\"sk-estimator-id-129\" type=\"checkbox\" ><label for=\"sk-estimator-id-129\" class=\"sk-toggleable__label sk-toggleable__label-arrow\">LogisticRegression</label><div class=\"sk-toggleable__content\"><pre>LogisticRegression(penalty=&#x27;l1&#x27;, random_state=9, solver=&#x27;liblinear&#x27;)</pre></div></div></div></div></div></div></div></div><div class=\"sk-item\"><div class=\"sk-estimator sk-toggleable\"><input class=\"sk-toggleable__control sk-hidden--visually\" id=\"sk-estimator-id-130\" type=\"checkbox\" ><label for=\"sk-estimator-id-130\" class=\"sk-toggleable__label sk-toggleable__label-arrow\">LogisticRegression</label><div class=\"sk-toggleable__content\"><pre>LogisticRegression(C=0.1, random_state=9, solver=&#x27;liblinear&#x27;)</pre></div></div></div></div></div></div></div>"
      ],
      "text/plain": [
       "Pipeline(steps=[('pipeline',\n",
       "                 Pipeline(steps=[('columnselector',\n",
       "                                  ColumnSelector(columns=['45', '137',\n",
       "                                                          'not_first_offer',\n",
       "                                                          '22', '41', '87',\n",
       "                                                          '119', '248', '241',\n",
       "                                                          '116', '214', '233',\n",
       "                                                          '6', '55', '46',\n",
       "                                                          '187', '91', '95',\n",
       "                                                          '51', '115', '217',\n",
       "                                                          '230', '105', '170',\n",
       "                                                          '172', '179', '70',\n",
       "                                                          '210', '216', '178', ...])),\n",
       "                                 ('featureunion',\n",
       "                                  FeatureUnion(transformer_list=[('numeric_features',\n",
       "                                                                  Pipeline(s...\n",
       "                                                                                   OneHotEncoder(handle_unknown='ignore'))])),\n",
       "                                                                 ('boolean_features',\n",
       "                                                                  Pipeline(steps=[('columnselector',\n",
       "                                                                                   ColumnSelector(columns=['not_first_offer']))]))]))])),\n",
       "                ('selectfrommodel',\n",
       "                 SelectFromModel(estimator=LogisticRegression(penalty='l1',\n",
       "                                                              random_state=9,\n",
       "                                                              solver='liblinear'),\n",
       "                                 max_features=29)),\n",
       "                ('logisticregression',\n",
       "                 LogisticRegression(C=0.1, random_state=9,\n",
       "                                    solver='liblinear'))])"
      ]
     },
     "execution_count": 138,
     "metadata": {},
     "output_type": "execute_result"
    }
   ],
   "source": [
    "lg_fs_pipe.fit(X_train, y_train)"
   ]
  },
  {
   "cell_type": "code",
   "execution_count": 139,
   "id": "460274da",
   "metadata": {},
   "outputs": [
    {
     "data": {
      "text/plain": [
       "0.8724252998477848"
      ]
     },
     "execution_count": 139,
     "metadata": {},
     "output_type": "execute_result"
    }
   ],
   "source": [
    "preds_train = lg_fs_pipe.predict(X_train)\n",
    "f1_score(y_train, preds_train, average='macro')"
   ]
  },
  {
   "cell_type": "code",
   "execution_count": 140,
   "id": "03fe8094",
   "metadata": {},
   "outputs": [
    {
     "data": {
      "text/plain": [
       "0.7488437802436829"
      ]
     },
     "execution_count": 140,
     "metadata": {},
     "output_type": "execute_result"
    }
   ],
   "source": [
    "preds_test = lg_fs_pipe.predict(X_test)\n",
    "f1_score(y_test, preds_test, average='macro')"
   ]
  },
  {
   "cell_type": "code",
   "execution_count": 115,
   "id": "b5e4d8df",
   "metadata": {},
   "outputs": [],
   "source": [
    "preds_proba_train = lg_fs_pipe.predict_proba(X_train)"
   ]
  },
  {
   "cell_type": "code",
   "execution_count": 116,
   "id": "02da7f2f",
   "metadata": {},
   "outputs": [
    {
     "name": "stdout",
     "output_type": "stream",
     "text": [
      "Лучшая отсечка : 0.5, Метрика F1_macro: 0.8724252998477848\n",
      "================================================================================\n",
      "              precision    recall  f1-score   support\n",
      "\n",
      "         0.0       0.88      0.86      0.87     45094\n",
      "         1.0       0.87      0.88      0.87     45094\n",
      "\n",
      "    accuracy                           0.87     90188\n",
      "   macro avg       0.87      0.87      0.87     90188\n",
      "weighted avg       0.87      0.87      0.87     90188\n",
      "\n"
     ]
    }
   ],
   "source": [
    "treshold_search(y_train, preds_proba_train)"
   ]
  },
  {
   "cell_type": "code",
   "execution_count": 117,
   "id": "6bfdf105",
   "metadata": {},
   "outputs": [],
   "source": [
    "preds_proba_test = lg_fs_pipe.predict_proba(X_test)"
   ]
  },
  {
   "cell_type": "code",
   "execution_count": 118,
   "id": "1c149021",
   "metadata": {},
   "outputs": [
    {
     "name": "stdout",
     "output_type": "stream",
     "text": [
      "Лучшая отсечка : 0.631578947368421, Метрика F1_macro: 0.7488556059932425\n",
      "================================================================================\n",
      "              precision    recall  f1-score   support\n",
      "\n",
      "         0.0       1.00      0.87      0.93    178557\n",
      "         1.0       0.40      1.00      0.57     15083\n",
      "\n",
      "    accuracy                           0.88    193640\n",
      "   macro avg       0.70      0.93      0.75    193640\n",
      "weighted avg       0.95      0.88      0.90    193640\n",
      "\n"
     ]
    }
   ],
   "source": [
    "treshold_search(y_test, preds_proba_test)"
   ]
  },
  {
   "cell_type": "code",
   "execution_count": null,
   "id": "be90609d",
   "metadata": {},
   "outputs": [],
   "source": []
  },
  {
   "cell_type": "code",
   "execution_count": null,
   "id": "85142995",
   "metadata": {},
   "outputs": [],
   "source": []
  },
  {
   "cell_type": "code",
   "execution_count": 119,
   "id": "38c70387",
   "metadata": {},
   "outputs": [],
   "source": [
    "lgbm_fs_pipe = make_pipeline(\n",
    "    f_prep_pipeline,\n",
    "    SelectFromModel(LogisticRegression(penalty='l1', random_state=RANDOM_STATE, solver='liblinear'),max_features = 29, threshold=1e-5),\n",
    "    LGBMClassifier(random_state=RANDOM_STATE)\n",
    ")"
   ]
  },
  {
   "cell_type": "code",
   "execution_count": 120,
   "id": "bb9ed105",
   "metadata": {},
   "outputs": [],
   "source": [
    "params = [\n",
    "    {\n",
    "     'lgbmclassifier__n_estimators' : [100, 200, 300]     \n",
    "    } \n",
    "]"
   ]
  },
  {
   "cell_type": "raw",
   "id": "e5ad26ac",
   "metadata": {},
   "source": [
    "run_grid_search(lgbm_fs_pipe, X_train, y_train, params, scoring='f1')"
   ]
  },
  {
   "cell_type": "raw",
   "id": "e517ec17",
   "metadata": {},
   "source": [
    "Best f1 score: 0.90\n",
    "\n",
    "Best parameters set found on development set:\n",
    "\n",
    "{'lgbmclassifier__n_estimators': 200}"
   ]
  },
  {
   "cell_type": "code",
   "execution_count": null,
   "id": "b02a924d",
   "metadata": {},
   "outputs": [],
   "source": []
  },
  {
   "cell_type": "code",
   "execution_count": 121,
   "id": "306009b6",
   "metadata": {},
   "outputs": [],
   "source": [
    "lgbm_fs_pipe = make_pipeline(\n",
    "    f_prep_pipeline,\n",
    "    SelectFromModel(LogisticRegression(penalty='l1', random_state=RANDOM_STATE, solver='liblinear'),max_features = 29, threshold=1e-5),\n",
    "    LGBMClassifier(random_state=RANDOM_STATE, n_estimators = 200)\n",
    ")"
   ]
  },
  {
   "cell_type": "code",
   "execution_count": 122,
   "id": "8d79afba",
   "metadata": {},
   "outputs": [
    {
     "data": {
      "text/html": [
       "<style>#sk-container-id-8 {color: black;background-color: white;}#sk-container-id-8 pre{padding: 0;}#sk-container-id-8 div.sk-toggleable {background-color: white;}#sk-container-id-8 label.sk-toggleable__label {cursor: pointer;display: block;width: 100%;margin-bottom: 0;padding: 0.3em;box-sizing: border-box;text-align: center;}#sk-container-id-8 label.sk-toggleable__label-arrow:before {content: \"▸\";float: left;margin-right: 0.25em;color: #696969;}#sk-container-id-8 label.sk-toggleable__label-arrow:hover:before {color: black;}#sk-container-id-8 div.sk-estimator:hover label.sk-toggleable__label-arrow:before {color: black;}#sk-container-id-8 div.sk-toggleable__content {max-height: 0;max-width: 0;overflow: hidden;text-align: left;background-color: #f0f8ff;}#sk-container-id-8 div.sk-toggleable__content pre {margin: 0.2em;color: black;border-radius: 0.25em;background-color: #f0f8ff;}#sk-container-id-8 input.sk-toggleable__control:checked~div.sk-toggleable__content {max-height: 200px;max-width: 100%;overflow: auto;}#sk-container-id-8 input.sk-toggleable__control:checked~label.sk-toggleable__label-arrow:before {content: \"▾\";}#sk-container-id-8 div.sk-estimator input.sk-toggleable__control:checked~label.sk-toggleable__label {background-color: #d4ebff;}#sk-container-id-8 div.sk-label input.sk-toggleable__control:checked~label.sk-toggleable__label {background-color: #d4ebff;}#sk-container-id-8 input.sk-hidden--visually {border: 0;clip: rect(1px 1px 1px 1px);clip: rect(1px, 1px, 1px, 1px);height: 1px;margin: -1px;overflow: hidden;padding: 0;position: absolute;width: 1px;}#sk-container-id-8 div.sk-estimator {font-family: monospace;background-color: #f0f8ff;border: 1px dotted black;border-radius: 0.25em;box-sizing: border-box;margin-bottom: 0.5em;}#sk-container-id-8 div.sk-estimator:hover {background-color: #d4ebff;}#sk-container-id-8 div.sk-parallel-item::after {content: \"\";width: 100%;border-bottom: 1px solid gray;flex-grow: 1;}#sk-container-id-8 div.sk-label:hover label.sk-toggleable__label {background-color: #d4ebff;}#sk-container-id-8 div.sk-serial::before {content: \"\";position: absolute;border-left: 1px solid gray;box-sizing: border-box;top: 0;bottom: 0;left: 50%;z-index: 0;}#sk-container-id-8 div.sk-serial {display: flex;flex-direction: column;align-items: center;background-color: white;padding-right: 0.2em;padding-left: 0.2em;position: relative;}#sk-container-id-8 div.sk-item {position: relative;z-index: 1;}#sk-container-id-8 div.sk-parallel {display: flex;align-items: stretch;justify-content: center;background-color: white;position: relative;}#sk-container-id-8 div.sk-item::before, #sk-container-id-8 div.sk-parallel-item::before {content: \"\";position: absolute;border-left: 1px solid gray;box-sizing: border-box;top: 0;bottom: 0;left: 50%;z-index: -1;}#sk-container-id-8 div.sk-parallel-item {display: flex;flex-direction: column;z-index: 1;position: relative;background-color: white;}#sk-container-id-8 div.sk-parallel-item:first-child::after {align-self: flex-end;width: 50%;}#sk-container-id-8 div.sk-parallel-item:last-child::after {align-self: flex-start;width: 50%;}#sk-container-id-8 div.sk-parallel-item:only-child::after {width: 0;}#sk-container-id-8 div.sk-dashed-wrapped {border: 1px dashed gray;margin: 0 0.4em 0.5em 0.4em;box-sizing: border-box;padding-bottom: 0.4em;background-color: white;}#sk-container-id-8 div.sk-label label {font-family: monospace;font-weight: bold;display: inline-block;line-height: 1.2em;}#sk-container-id-8 div.sk-label-container {text-align: center;}#sk-container-id-8 div.sk-container {/* jupyter's `normalize.less` sets `[hidden] { display: none; }` but bootstrap.min.css set `[hidden] { display: none !important; }` so we also need the `!important` here to be able to override the default hidden behavior on the sphinx rendered scikit-learn.org. See: https://github.com/scikit-learn/scikit-learn/issues/21755 */display: inline-block !important;position: relative;}#sk-container-id-8 div.sk-text-repr-fallback {display: none;}</style><div id=\"sk-container-id-8\" class=\"sk-top-container\"><div class=\"sk-text-repr-fallback\"><pre>Pipeline(steps=[(&#x27;pipeline&#x27;,\n",
       "                 Pipeline(steps=[(&#x27;columnselector&#x27;,\n",
       "                                  ColumnSelector(columns=[&#x27;45&#x27;, &#x27;137&#x27;,\n",
       "                                                          &#x27;not_first_offer&#x27;,\n",
       "                                                          &#x27;22&#x27;, &#x27;41&#x27;, &#x27;87&#x27;,\n",
       "                                                          &#x27;119&#x27;, &#x27;248&#x27;, &#x27;241&#x27;,\n",
       "                                                          &#x27;116&#x27;, &#x27;214&#x27;, &#x27;233&#x27;,\n",
       "                                                          &#x27;6&#x27;, &#x27;55&#x27;, &#x27;46&#x27;,\n",
       "                                                          &#x27;187&#x27;, &#x27;91&#x27;, &#x27;95&#x27;,\n",
       "                                                          &#x27;51&#x27;, &#x27;115&#x27;, &#x27;217&#x27;,\n",
       "                                                          &#x27;230&#x27;, &#x27;105&#x27;, &#x27;170&#x27;,\n",
       "                                                          &#x27;172&#x27;, &#x27;179&#x27;, &#x27;70&#x27;,\n",
       "                                                          &#x27;210&#x27;, &#x27;216&#x27;, &#x27;178&#x27;, ...])),\n",
       "                                 (&#x27;featureunion&#x27;,\n",
       "                                  FeatureUnion(transformer_list=[(&#x27;numeric_features&#x27;,\n",
       "                                                                  Pipeline(s...\n",
       "                                                                                   OneHotEncoder(handle_unknown=&#x27;ignore&#x27;))])),\n",
       "                                                                 (&#x27;boolean_features&#x27;,\n",
       "                                                                  Pipeline(steps=[(&#x27;columnselector&#x27;,\n",
       "                                                                                   ColumnSelector(columns=[&#x27;not_first_offer&#x27;]))]))]))])),\n",
       "                (&#x27;selectfrommodel&#x27;,\n",
       "                 SelectFromModel(estimator=LogisticRegression(penalty=&#x27;l1&#x27;,\n",
       "                                                              random_state=9,\n",
       "                                                              solver=&#x27;liblinear&#x27;),\n",
       "                                 max_features=29, threshold=1e-05)),\n",
       "                (&#x27;lgbmclassifier&#x27;,\n",
       "                 LGBMClassifier(n_estimators=200, random_state=9))])</pre><b>In a Jupyter environment, please rerun this cell to show the HTML representation or trust the notebook. <br />On GitHub, the HTML representation is unable to render, please try loading this page with nbviewer.org.</b></div><div class=\"sk-container\" hidden><div class=\"sk-item sk-dashed-wrapped\"><div class=\"sk-label-container\"><div class=\"sk-label sk-toggleable\"><input class=\"sk-toggleable__control sk-hidden--visually\" id=\"sk-estimator-id-86\" type=\"checkbox\" ><label for=\"sk-estimator-id-86\" class=\"sk-toggleable__label sk-toggleable__label-arrow\">Pipeline</label><div class=\"sk-toggleable__content\"><pre>Pipeline(steps=[(&#x27;pipeline&#x27;,\n",
       "                 Pipeline(steps=[(&#x27;columnselector&#x27;,\n",
       "                                  ColumnSelector(columns=[&#x27;45&#x27;, &#x27;137&#x27;,\n",
       "                                                          &#x27;not_first_offer&#x27;,\n",
       "                                                          &#x27;22&#x27;, &#x27;41&#x27;, &#x27;87&#x27;,\n",
       "                                                          &#x27;119&#x27;, &#x27;248&#x27;, &#x27;241&#x27;,\n",
       "                                                          &#x27;116&#x27;, &#x27;214&#x27;, &#x27;233&#x27;,\n",
       "                                                          &#x27;6&#x27;, &#x27;55&#x27;, &#x27;46&#x27;,\n",
       "                                                          &#x27;187&#x27;, &#x27;91&#x27;, &#x27;95&#x27;,\n",
       "                                                          &#x27;51&#x27;, &#x27;115&#x27;, &#x27;217&#x27;,\n",
       "                                                          &#x27;230&#x27;, &#x27;105&#x27;, &#x27;170&#x27;,\n",
       "                                                          &#x27;172&#x27;, &#x27;179&#x27;, &#x27;70&#x27;,\n",
       "                                                          &#x27;210&#x27;, &#x27;216&#x27;, &#x27;178&#x27;, ...])),\n",
       "                                 (&#x27;featureunion&#x27;,\n",
       "                                  FeatureUnion(transformer_list=[(&#x27;numeric_features&#x27;,\n",
       "                                                                  Pipeline(s...\n",
       "                                                                                   OneHotEncoder(handle_unknown=&#x27;ignore&#x27;))])),\n",
       "                                                                 (&#x27;boolean_features&#x27;,\n",
       "                                                                  Pipeline(steps=[(&#x27;columnselector&#x27;,\n",
       "                                                                                   ColumnSelector(columns=[&#x27;not_first_offer&#x27;]))]))]))])),\n",
       "                (&#x27;selectfrommodel&#x27;,\n",
       "                 SelectFromModel(estimator=LogisticRegression(penalty=&#x27;l1&#x27;,\n",
       "                                                              random_state=9,\n",
       "                                                              solver=&#x27;liblinear&#x27;),\n",
       "                                 max_features=29, threshold=1e-05)),\n",
       "                (&#x27;lgbmclassifier&#x27;,\n",
       "                 LGBMClassifier(n_estimators=200, random_state=9))])</pre></div></div></div><div class=\"sk-serial\"><div class=\"sk-item\"><div class=\"sk-label-container\"><div class=\"sk-label sk-toggleable\"><input class=\"sk-toggleable__control sk-hidden--visually\" id=\"sk-estimator-id-87\" type=\"checkbox\" ><label for=\"sk-estimator-id-87\" class=\"sk-toggleable__label sk-toggleable__label-arrow\">pipeline: Pipeline</label><div class=\"sk-toggleable__content\"><pre>Pipeline(steps=[(&#x27;columnselector&#x27;,\n",
       "                 ColumnSelector(columns=[&#x27;45&#x27;, &#x27;137&#x27;, &#x27;not_first_offer&#x27;, &#x27;22&#x27;,\n",
       "                                         &#x27;41&#x27;, &#x27;87&#x27;, &#x27;119&#x27;, &#x27;248&#x27;, &#x27;241&#x27;, &#x27;116&#x27;,\n",
       "                                         &#x27;214&#x27;, &#x27;233&#x27;, &#x27;6&#x27;, &#x27;55&#x27;, &#x27;46&#x27;, &#x27;187&#x27;,\n",
       "                                         &#x27;91&#x27;, &#x27;95&#x27;, &#x27;51&#x27;, &#x27;115&#x27;, &#x27;217&#x27;, &#x27;230&#x27;,\n",
       "                                         &#x27;105&#x27;, &#x27;170&#x27;, &#x27;172&#x27;, &#x27;179&#x27;, &#x27;70&#x27;,\n",
       "                                         &#x27;210&#x27;, &#x27;216&#x27;, &#x27;178&#x27;, ...])),\n",
       "                (&#x27;featureunion&#x27;,\n",
       "                 FeatureUnion(transformer_list=[(&#x27;numeric_features&#x27;,\n",
       "                                                 Pipeline(steps=[(&#x27;columnselector&#x27;,\n",
       "                                                                  Colu...\n",
       "                                                                                          &#x27;193&#x27;,\n",
       "                                                                                          &#x27;17&#x27;,\n",
       "                                                                                          &#x27;214&#x27;,\n",
       "                                                                                          &#x27;218&#x27;,\n",
       "                                                                                          &#x27;197&#x27;,\n",
       "                                                                                          &#x27;65&#x27;,\n",
       "                                                                                          &#x27;220&#x27;,\n",
       "                                                                                          &#x27;201&#x27;,\n",
       "                                                                                          &#x27;132&#x27;,\n",
       "                                                                                          &#x27;141&#x27;,\n",
       "                                                                                          &#x27;155&#x27;,\n",
       "                                                                                          &#x27;163&#x27;,\n",
       "                                                                                          &#x27;175&#x27;,\n",
       "                                                                                          &#x27;177&#x27;,\n",
       "                                                                                          &#x27;95&#x27;,\n",
       "                                                                                          &#x27;221&#x27;,\n",
       "                                                                                          &#x27;252&#x27;,\n",
       "                                                                                          &#x27;192&#x27;,\n",
       "                                                                                          &#x27;32&#x27;,\n",
       "                                                                                          &#x27;179&#x27;,\n",
       "                                                                                          &#x27;70&#x27;, ...])),\n",
       "                                                                 (&#x27;simpleimputer&#x27;,\n",
       "                                                                  SimpleImputer(strategy=&#x27;most_frequent&#x27;)),\n",
       "                                                                 (&#x27;onehotencoder&#x27;,\n",
       "                                                                  OneHotEncoder(handle_unknown=&#x27;ignore&#x27;))])),\n",
       "                                                (&#x27;boolean_features&#x27;,\n",
       "                                                 Pipeline(steps=[(&#x27;columnselector&#x27;,\n",
       "                                                                  ColumnSelector(columns=[&#x27;not_first_offer&#x27;]))]))]))])</pre></div></div></div><div class=\"sk-serial\"><div class=\"sk-item\"><div class=\"sk-estimator sk-toggleable\"><input class=\"sk-toggleable__control sk-hidden--visually\" id=\"sk-estimator-id-88\" type=\"checkbox\" ><label for=\"sk-estimator-id-88\" class=\"sk-toggleable__label sk-toggleable__label-arrow\">ColumnSelector</label><div class=\"sk-toggleable__content\"><pre>ColumnSelector(columns=[&#x27;45&#x27;, &#x27;137&#x27;, &#x27;not_first_offer&#x27;, &#x27;22&#x27;, &#x27;41&#x27;, &#x27;87&#x27;, &#x27;119&#x27;,\n",
       "                        &#x27;248&#x27;, &#x27;241&#x27;, &#x27;116&#x27;, &#x27;214&#x27;, &#x27;233&#x27;, &#x27;6&#x27;, &#x27;55&#x27;, &#x27;46&#x27;,\n",
       "                        &#x27;187&#x27;, &#x27;91&#x27;, &#x27;95&#x27;, &#x27;51&#x27;, &#x27;115&#x27;, &#x27;217&#x27;, &#x27;230&#x27;, &#x27;105&#x27;,\n",
       "                        &#x27;170&#x27;, &#x27;172&#x27;, &#x27;179&#x27;, &#x27;70&#x27;, &#x27;210&#x27;, &#x27;216&#x27;, &#x27;178&#x27;, ...])</pre></div></div></div><div class=\"sk-item sk-dashed-wrapped\"><div class=\"sk-label-container\"><div class=\"sk-label sk-toggleable\"><input class=\"sk-toggleable__control sk-hidden--visually\" id=\"sk-estimator-id-89\" type=\"checkbox\" ><label for=\"sk-estimator-id-89\" class=\"sk-toggleable__label sk-toggleable__label-arrow\">featureunion: FeatureUnion</label><div class=\"sk-toggleable__content\"><pre>FeatureUnion(transformer_list=[(&#x27;numeric_features&#x27;,\n",
       "                                Pipeline(steps=[(&#x27;columnselector&#x27;,\n",
       "                                                 ColumnSelector(columns=[&#x27;45&#x27;,\n",
       "                                                                         &#x27;137&#x27;,\n",
       "                                                                         &#x27;22&#x27;,\n",
       "                                                                         &#x27;41&#x27;,\n",
       "                                                                         &#x27;87&#x27;,\n",
       "                                                                         &#x27;119&#x27;,\n",
       "                                                                         &#x27;248&#x27;,\n",
       "                                                                         &#x27;241&#x27;,\n",
       "                                                                         &#x27;116&#x27;,\n",
       "                                                                         &#x27;233&#x27;,\n",
       "                                                                         &#x27;6&#x27;,\n",
       "                                                                         &#x27;55&#x27;,\n",
       "                                                                         &#x27;46&#x27;,\n",
       "                                                                         &#x27;187&#x27;,\n",
       "                                                                         &#x27;91&#x27;,\n",
       "                                                                         &#x27;51&#x27;,\n",
       "                                                                         &#x27;115&#x27;,\n",
       "                                                                         &#x27;217&#x27;,\n",
       "                                                                         &#x27;230&#x27;,\n",
       "                                                                         &#x27;105&#x27;,\n",
       "                                                                         &#x27;170&#x27;,\n",
       "                                                                         &#x27;172&#x27;,\n",
       "                                                                         &#x27;210&#x27;,\n",
       "                                                                         &#x27;178&#x27;,\n",
       "                                                                         &#x27;174&#x27;,\n",
       "                                                                         &#x27;8&#x27;,\n",
       "                                                                         &#x27;164&#x27;,\n",
       "                                                                         &#x27;158&#x27;,\n",
       "                                                                         &#x27;234&#x27;,\n",
       "                                                                         &#x27;108&#x27;, ...])),\n",
       "                                                (&#x27;simpleimputer&#x27;,\n",
       "                                                 SimpleImputer()),\n",
       "                                                (&#x27;standardscaler&#x27;,\n",
       "                                                 StandardScaler...\n",
       "                                                                         &#x27;80&#x27;,\n",
       "                                                                         &#x27;193&#x27;,\n",
       "                                                                         &#x27;17&#x27;,\n",
       "                                                                         &#x27;214&#x27;,\n",
       "                                                                         &#x27;218&#x27;,\n",
       "                                                                         &#x27;197&#x27;,\n",
       "                                                                         &#x27;65&#x27;,\n",
       "                                                                         &#x27;220&#x27;,\n",
       "                                                                         &#x27;201&#x27;,\n",
       "                                                                         &#x27;132&#x27;,\n",
       "                                                                         &#x27;141&#x27;,\n",
       "                                                                         &#x27;155&#x27;,\n",
       "                                                                         &#x27;163&#x27;,\n",
       "                                                                         &#x27;175&#x27;,\n",
       "                                                                         &#x27;177&#x27;,\n",
       "                                                                         &#x27;95&#x27;,\n",
       "                                                                         &#x27;221&#x27;,\n",
       "                                                                         &#x27;252&#x27;,\n",
       "                                                                         &#x27;192&#x27;,\n",
       "                                                                         &#x27;32&#x27;,\n",
       "                                                                         &#x27;179&#x27;,\n",
       "                                                                         &#x27;70&#x27;, ...])),\n",
       "                                                (&#x27;simpleimputer&#x27;,\n",
       "                                                 SimpleImputer(strategy=&#x27;most_frequent&#x27;)),\n",
       "                                                (&#x27;onehotencoder&#x27;,\n",
       "                                                 OneHotEncoder(handle_unknown=&#x27;ignore&#x27;))])),\n",
       "                               (&#x27;boolean_features&#x27;,\n",
       "                                Pipeline(steps=[(&#x27;columnselector&#x27;,\n",
       "                                                 ColumnSelector(columns=[&#x27;not_first_offer&#x27;]))]))])</pre></div></div></div><div class=\"sk-parallel\"><div class=\"sk-parallel-item\"><div class=\"sk-item\"><div class=\"sk-label-container\"><div class=\"sk-label sk-toggleable\"><label>numeric_features</label></div></div><div class=\"sk-serial\"><div class=\"sk-item\"><div class=\"sk-serial\"><div class=\"sk-item\"><div class=\"sk-estimator sk-toggleable\"><input class=\"sk-toggleable__control sk-hidden--visually\" id=\"sk-estimator-id-90\" type=\"checkbox\" ><label for=\"sk-estimator-id-90\" class=\"sk-toggleable__label sk-toggleable__label-arrow\">ColumnSelector</label><div class=\"sk-toggleable__content\"><pre>ColumnSelector(columns=[&#x27;45&#x27;, &#x27;137&#x27;, &#x27;22&#x27;, &#x27;41&#x27;, &#x27;87&#x27;, &#x27;119&#x27;, &#x27;248&#x27;, &#x27;241&#x27;,\n",
       "                        &#x27;116&#x27;, &#x27;233&#x27;, &#x27;6&#x27;, &#x27;55&#x27;, &#x27;46&#x27;, &#x27;187&#x27;, &#x27;91&#x27;, &#x27;51&#x27;, &#x27;115&#x27;,\n",
       "                        &#x27;217&#x27;, &#x27;230&#x27;, &#x27;105&#x27;, &#x27;170&#x27;, &#x27;172&#x27;, &#x27;210&#x27;, &#x27;178&#x27;, &#x27;174&#x27;,\n",
       "                        &#x27;8&#x27;, &#x27;164&#x27;, &#x27;158&#x27;, &#x27;234&#x27;, &#x27;108&#x27;, ...])</pre></div></div></div><div class=\"sk-item\"><div class=\"sk-estimator sk-toggleable\"><input class=\"sk-toggleable__control sk-hidden--visually\" id=\"sk-estimator-id-91\" type=\"checkbox\" ><label for=\"sk-estimator-id-91\" class=\"sk-toggleable__label sk-toggleable__label-arrow\">SimpleImputer</label><div class=\"sk-toggleable__content\"><pre>SimpleImputer()</pre></div></div></div><div class=\"sk-item\"><div class=\"sk-estimator sk-toggleable\"><input class=\"sk-toggleable__control sk-hidden--visually\" id=\"sk-estimator-id-92\" type=\"checkbox\" ><label for=\"sk-estimator-id-92\" class=\"sk-toggleable__label sk-toggleable__label-arrow\">StandardScaler</label><div class=\"sk-toggleable__content\"><pre>StandardScaler()</pre></div></div></div></div></div></div></div></div><div class=\"sk-parallel-item\"><div class=\"sk-item\"><div class=\"sk-label-container\"><div class=\"sk-label sk-toggleable\"><label>categorical_features</label></div></div><div class=\"sk-serial\"><div class=\"sk-item\"><div class=\"sk-serial\"><div class=\"sk-item\"><div class=\"sk-estimator sk-toggleable\"><input class=\"sk-toggleable__control sk-hidden--visually\" id=\"sk-estimator-id-93\" type=\"checkbox\" ><label for=\"sk-estimator-id-93\" class=\"sk-toggleable__label sk-toggleable__label-arrow\">ColumnSelector</label><div class=\"sk-toggleable__content\"><pre>ColumnSelector(columns=[&#x27;24&#x27;, &#x27;30&#x27;, &#x27;199&#x27;, &#x27;195&#x27;, &#x27;29&#x27;, &#x27;23&#x27;, &#x27;31&#x27;, &#x27;57&#x27;, &#x27;80&#x27;,\n",
       "                        &#x27;193&#x27;, &#x27;17&#x27;, &#x27;214&#x27;, &#x27;218&#x27;, &#x27;197&#x27;, &#x27;65&#x27;, &#x27;220&#x27;, &#x27;201&#x27;,\n",
       "                        &#x27;132&#x27;, &#x27;141&#x27;, &#x27;155&#x27;, &#x27;163&#x27;, &#x27;175&#x27;, &#x27;177&#x27;, &#x27;95&#x27;, &#x27;221&#x27;,\n",
       "                        &#x27;252&#x27;, &#x27;192&#x27;, &#x27;32&#x27;, &#x27;179&#x27;, &#x27;70&#x27;, ...])</pre></div></div></div><div class=\"sk-item\"><div class=\"sk-estimator sk-toggleable\"><input class=\"sk-toggleable__control sk-hidden--visually\" id=\"sk-estimator-id-94\" type=\"checkbox\" ><label for=\"sk-estimator-id-94\" class=\"sk-toggleable__label sk-toggleable__label-arrow\">SimpleImputer</label><div class=\"sk-toggleable__content\"><pre>SimpleImputer(strategy=&#x27;most_frequent&#x27;)</pre></div></div></div><div class=\"sk-item\"><div class=\"sk-estimator sk-toggleable\"><input class=\"sk-toggleable__control sk-hidden--visually\" id=\"sk-estimator-id-95\" type=\"checkbox\" ><label for=\"sk-estimator-id-95\" class=\"sk-toggleable__label sk-toggleable__label-arrow\">OneHotEncoder</label><div class=\"sk-toggleable__content\"><pre>OneHotEncoder(handle_unknown=&#x27;ignore&#x27;)</pre></div></div></div></div></div></div></div></div><div class=\"sk-parallel-item\"><div class=\"sk-item\"><div class=\"sk-label-container\"><div class=\"sk-label sk-toggleable\"><label>boolean_features</label></div></div><div class=\"sk-serial\"><div class=\"sk-item\"><div class=\"sk-serial\"><div class=\"sk-item\"><div class=\"sk-estimator sk-toggleable\"><input class=\"sk-toggleable__control sk-hidden--visually\" id=\"sk-estimator-id-96\" type=\"checkbox\" ><label for=\"sk-estimator-id-96\" class=\"sk-toggleable__label sk-toggleable__label-arrow\">ColumnSelector</label><div class=\"sk-toggleable__content\"><pre>ColumnSelector(columns=[&#x27;not_first_offer&#x27;])</pre></div></div></div></div></div></div></div></div></div></div></div></div><div class=\"sk-item sk-dashed-wrapped\"><div class=\"sk-label-container\"><div class=\"sk-label sk-toggleable\"><input class=\"sk-toggleable__control sk-hidden--visually\" id=\"sk-estimator-id-97\" type=\"checkbox\" ><label for=\"sk-estimator-id-97\" class=\"sk-toggleable__label sk-toggleable__label-arrow\">selectfrommodel: SelectFromModel</label><div class=\"sk-toggleable__content\"><pre>SelectFromModel(estimator=LogisticRegression(penalty=&#x27;l1&#x27;, random_state=9,\n",
       "                                             solver=&#x27;liblinear&#x27;),\n",
       "                max_features=29, threshold=1e-05)</pre></div></div></div><div class=\"sk-parallel\"><div class=\"sk-parallel-item\"><div class=\"sk-item\"><div class=\"sk-label-container\"><div class=\"sk-label sk-toggleable\"><input class=\"sk-toggleable__control sk-hidden--visually\" id=\"sk-estimator-id-98\" type=\"checkbox\" ><label for=\"sk-estimator-id-98\" class=\"sk-toggleable__label sk-toggleable__label-arrow\">estimator: LogisticRegression</label><div class=\"sk-toggleable__content\"><pre>LogisticRegression(penalty=&#x27;l1&#x27;, random_state=9, solver=&#x27;liblinear&#x27;)</pre></div></div></div><div class=\"sk-serial\"><div class=\"sk-item\"><div class=\"sk-estimator sk-toggleable\"><input class=\"sk-toggleable__control sk-hidden--visually\" id=\"sk-estimator-id-99\" type=\"checkbox\" ><label for=\"sk-estimator-id-99\" class=\"sk-toggleable__label sk-toggleable__label-arrow\">LogisticRegression</label><div class=\"sk-toggleable__content\"><pre>LogisticRegression(penalty=&#x27;l1&#x27;, random_state=9, solver=&#x27;liblinear&#x27;)</pre></div></div></div></div></div></div></div></div><div class=\"sk-item\"><div class=\"sk-estimator sk-toggleable\"><input class=\"sk-toggleable__control sk-hidden--visually\" id=\"sk-estimator-id-100\" type=\"checkbox\" ><label for=\"sk-estimator-id-100\" class=\"sk-toggleable__label sk-toggleable__label-arrow\">LGBMClassifier</label><div class=\"sk-toggleable__content\"><pre>LGBMClassifier(n_estimators=200, random_state=9)</pre></div></div></div></div></div></div></div>"
      ],
      "text/plain": [
       "Pipeline(steps=[('pipeline',\n",
       "                 Pipeline(steps=[('columnselector',\n",
       "                                  ColumnSelector(columns=['45', '137',\n",
       "                                                          'not_first_offer',\n",
       "                                                          '22', '41', '87',\n",
       "                                                          '119', '248', '241',\n",
       "                                                          '116', '214', '233',\n",
       "                                                          '6', '55', '46',\n",
       "                                                          '187', '91', '95',\n",
       "                                                          '51', '115', '217',\n",
       "                                                          '230', '105', '170',\n",
       "                                                          '172', '179', '70',\n",
       "                                                          '210', '216', '178', ...])),\n",
       "                                 ('featureunion',\n",
       "                                  FeatureUnion(transformer_list=[('numeric_features',\n",
       "                                                                  Pipeline(s...\n",
       "                                                                                   OneHotEncoder(handle_unknown='ignore'))])),\n",
       "                                                                 ('boolean_features',\n",
       "                                                                  Pipeline(steps=[('columnselector',\n",
       "                                                                                   ColumnSelector(columns=['not_first_offer']))]))]))])),\n",
       "                ('selectfrommodel',\n",
       "                 SelectFromModel(estimator=LogisticRegression(penalty='l1',\n",
       "                                                              random_state=9,\n",
       "                                                              solver='liblinear'),\n",
       "                                 max_features=29, threshold=1e-05)),\n",
       "                ('lgbmclassifier',\n",
       "                 LGBMClassifier(n_estimators=200, random_state=9))])"
      ]
     },
     "execution_count": 122,
     "metadata": {},
     "output_type": "execute_result"
    }
   ],
   "source": [
    "lgbm_fs_pipe.fit(X_train, y_train)"
   ]
  },
  {
   "cell_type": "code",
   "execution_count": 123,
   "id": "b59d86a6",
   "metadata": {},
   "outputs": [
    {
     "data": {
      "text/plain": [
       "0.8726023142003296"
      ]
     },
     "execution_count": 123,
     "metadata": {},
     "output_type": "execute_result"
    }
   ],
   "source": [
    "preds_train = lgbm_fs_pipe.predict(X_train)\n",
    "f1_score(y_train, preds_train, average='macro')"
   ]
  },
  {
   "cell_type": "code",
   "execution_count": 124,
   "id": "619daa43",
   "metadata": {},
   "outputs": [
    {
     "data": {
      "text/plain": [
       "0.746413771369073"
      ]
     },
     "execution_count": 124,
     "metadata": {},
     "output_type": "execute_result"
    }
   ],
   "source": [
    "preds_test = lgbm_fs_pipe.predict(X_test)\n",
    "f1_score(y_test, preds_test, average='macro')"
   ]
  },
  {
   "cell_type": "code",
   "execution_count": 125,
   "id": "3bd00a90",
   "metadata": {},
   "outputs": [],
   "source": [
    "preds_proba_train = lgbm_fs_pipe.predict_proba(X_train)"
   ]
  },
  {
   "cell_type": "code",
   "execution_count": 126,
   "id": "8b7076a4",
   "metadata": {},
   "outputs": [
    {
     "name": "stdout",
     "output_type": "stream",
     "text": [
      "Лучшая отсечка : 0.5789473684210527, Метрика F1_macro: 0.8726245368866256\n",
      "================================================================================\n",
      "              precision    recall  f1-score   support\n",
      "\n",
      "         0.0       0.88      0.86      0.87     45094\n",
      "         1.0       0.87      0.88      0.87     45094\n",
      "\n",
      "    accuracy                           0.87     90188\n",
      "   macro avg       0.87      0.87      0.87     90188\n",
      "weighted avg       0.87      0.87      0.87     90188\n",
      "\n"
     ]
    }
   ],
   "source": [
    "treshold_search(y_train, preds_proba_train)"
   ]
  },
  {
   "cell_type": "code",
   "execution_count": 127,
   "id": "ef33a00c",
   "metadata": {},
   "outputs": [],
   "source": [
    "preds_proba_test = lgbm_fs_pipe.predict_proba(X_test)"
   ]
  },
  {
   "cell_type": "code",
   "execution_count": 128,
   "id": "0b99c5fd",
   "metadata": {},
   "outputs": [
    {
     "name": "stdout",
     "output_type": "stream",
     "text": [
      "Лучшая отсечка : 0.631578947368421, Метрика F1_macro: 0.7487116724895408\n",
      "================================================================================\n",
      "              precision    recall  f1-score   support\n",
      "\n",
      "         0.0       1.00      0.87      0.93    178557\n",
      "         1.0       0.40      1.00      0.57     15083\n",
      "\n",
      "    accuracy                           0.88    193640\n",
      "   macro avg       0.70      0.93      0.75    193640\n",
      "weighted avg       0.95      0.88      0.90    193640\n",
      "\n"
     ]
    }
   ],
   "source": [
    "treshold_search(y_test, preds_proba_test)"
   ]
  },
  {
   "cell_type": "code",
   "execution_count": null,
   "id": "2bd07789",
   "metadata": {},
   "outputs": [],
   "source": []
  },
  {
   "cell_type": "markdown",
   "id": "4eb15daf",
   "metadata": {},
   "source": [
    "================================================================================================="
   ]
  },
  {
   "cell_type": "code",
   "execution_count": 129,
   "id": "1ae25be5",
   "metadata": {},
   "outputs": [],
   "source": [
    "lg_fs_pipe = make_pipeline(\n",
    "    f_prep_pipeline,\n",
    "    SelectFromModel(LogisticRegression(penalty='l2', random_state=RANDOM_STATE, solver='liblinear', C = 0.1), max_features = 15),\n",
    "    LogisticRegression(random_state=RANDOM_STATE)\n",
    ")"
   ]
  },
  {
   "cell_type": "code",
   "execution_count": 130,
   "id": "9763c63c",
   "metadata": {},
   "outputs": [
    {
     "data": {
      "text/html": [
       "<style>#sk-container-id-9 {color: black;background-color: white;}#sk-container-id-9 pre{padding: 0;}#sk-container-id-9 div.sk-toggleable {background-color: white;}#sk-container-id-9 label.sk-toggleable__label {cursor: pointer;display: block;width: 100%;margin-bottom: 0;padding: 0.3em;box-sizing: border-box;text-align: center;}#sk-container-id-9 label.sk-toggleable__label-arrow:before {content: \"▸\";float: left;margin-right: 0.25em;color: #696969;}#sk-container-id-9 label.sk-toggleable__label-arrow:hover:before {color: black;}#sk-container-id-9 div.sk-estimator:hover label.sk-toggleable__label-arrow:before {color: black;}#sk-container-id-9 div.sk-toggleable__content {max-height: 0;max-width: 0;overflow: hidden;text-align: left;background-color: #f0f8ff;}#sk-container-id-9 div.sk-toggleable__content pre {margin: 0.2em;color: black;border-radius: 0.25em;background-color: #f0f8ff;}#sk-container-id-9 input.sk-toggleable__control:checked~div.sk-toggleable__content {max-height: 200px;max-width: 100%;overflow: auto;}#sk-container-id-9 input.sk-toggleable__control:checked~label.sk-toggleable__label-arrow:before {content: \"▾\";}#sk-container-id-9 div.sk-estimator input.sk-toggleable__control:checked~label.sk-toggleable__label {background-color: #d4ebff;}#sk-container-id-9 div.sk-label input.sk-toggleable__control:checked~label.sk-toggleable__label {background-color: #d4ebff;}#sk-container-id-9 input.sk-hidden--visually {border: 0;clip: rect(1px 1px 1px 1px);clip: rect(1px, 1px, 1px, 1px);height: 1px;margin: -1px;overflow: hidden;padding: 0;position: absolute;width: 1px;}#sk-container-id-9 div.sk-estimator {font-family: monospace;background-color: #f0f8ff;border: 1px dotted black;border-radius: 0.25em;box-sizing: border-box;margin-bottom: 0.5em;}#sk-container-id-9 div.sk-estimator:hover {background-color: #d4ebff;}#sk-container-id-9 div.sk-parallel-item::after {content: \"\";width: 100%;border-bottom: 1px solid gray;flex-grow: 1;}#sk-container-id-9 div.sk-label:hover label.sk-toggleable__label {background-color: #d4ebff;}#sk-container-id-9 div.sk-serial::before {content: \"\";position: absolute;border-left: 1px solid gray;box-sizing: border-box;top: 0;bottom: 0;left: 50%;z-index: 0;}#sk-container-id-9 div.sk-serial {display: flex;flex-direction: column;align-items: center;background-color: white;padding-right: 0.2em;padding-left: 0.2em;position: relative;}#sk-container-id-9 div.sk-item {position: relative;z-index: 1;}#sk-container-id-9 div.sk-parallel {display: flex;align-items: stretch;justify-content: center;background-color: white;position: relative;}#sk-container-id-9 div.sk-item::before, #sk-container-id-9 div.sk-parallel-item::before {content: \"\";position: absolute;border-left: 1px solid gray;box-sizing: border-box;top: 0;bottom: 0;left: 50%;z-index: -1;}#sk-container-id-9 div.sk-parallel-item {display: flex;flex-direction: column;z-index: 1;position: relative;background-color: white;}#sk-container-id-9 div.sk-parallel-item:first-child::after {align-self: flex-end;width: 50%;}#sk-container-id-9 div.sk-parallel-item:last-child::after {align-self: flex-start;width: 50%;}#sk-container-id-9 div.sk-parallel-item:only-child::after {width: 0;}#sk-container-id-9 div.sk-dashed-wrapped {border: 1px dashed gray;margin: 0 0.4em 0.5em 0.4em;box-sizing: border-box;padding-bottom: 0.4em;background-color: white;}#sk-container-id-9 div.sk-label label {font-family: monospace;font-weight: bold;display: inline-block;line-height: 1.2em;}#sk-container-id-9 div.sk-label-container {text-align: center;}#sk-container-id-9 div.sk-container {/* jupyter's `normalize.less` sets `[hidden] { display: none; }` but bootstrap.min.css set `[hidden] { display: none !important; }` so we also need the `!important` here to be able to override the default hidden behavior on the sphinx rendered scikit-learn.org. See: https://github.com/scikit-learn/scikit-learn/issues/21755 */display: inline-block !important;position: relative;}#sk-container-id-9 div.sk-text-repr-fallback {display: none;}</style><div id=\"sk-container-id-9\" class=\"sk-top-container\"><div class=\"sk-text-repr-fallback\"><pre>Pipeline(steps=[(&#x27;pipeline&#x27;,\n",
       "                 Pipeline(steps=[(&#x27;columnselector&#x27;,\n",
       "                                  ColumnSelector(columns=[&#x27;45&#x27;, &#x27;137&#x27;,\n",
       "                                                          &#x27;not_first_offer&#x27;,\n",
       "                                                          &#x27;22&#x27;, &#x27;41&#x27;, &#x27;87&#x27;,\n",
       "                                                          &#x27;119&#x27;, &#x27;248&#x27;, &#x27;241&#x27;,\n",
       "                                                          &#x27;116&#x27;, &#x27;214&#x27;, &#x27;233&#x27;,\n",
       "                                                          &#x27;6&#x27;, &#x27;55&#x27;, &#x27;46&#x27;,\n",
       "                                                          &#x27;187&#x27;, &#x27;91&#x27;, &#x27;95&#x27;,\n",
       "                                                          &#x27;51&#x27;, &#x27;115&#x27;, &#x27;217&#x27;,\n",
       "                                                          &#x27;230&#x27;, &#x27;105&#x27;, &#x27;170&#x27;,\n",
       "                                                          &#x27;172&#x27;, &#x27;179&#x27;, &#x27;70&#x27;,\n",
       "                                                          &#x27;210&#x27;, &#x27;216&#x27;, &#x27;178&#x27;, ...])),\n",
       "                                 (&#x27;featureunion&#x27;,\n",
       "                                  FeatureUnion(transformer_list=[(&#x27;numeric_features&#x27;,\n",
       "                                                                  Pipeline(s...\n",
       "                                                                                  (&#x27;onehotencoder&#x27;,\n",
       "                                                                                   OneHotEncoder(handle_unknown=&#x27;ignore&#x27;))])),\n",
       "                                                                 (&#x27;boolean_features&#x27;,\n",
       "                                                                  Pipeline(steps=[(&#x27;columnselector&#x27;,\n",
       "                                                                                   ColumnSelector(columns=[&#x27;not_first_offer&#x27;]))]))]))])),\n",
       "                (&#x27;selectfrommodel&#x27;,\n",
       "                 SelectFromModel(estimator=LogisticRegression(C=0.1,\n",
       "                                                              random_state=9,\n",
       "                                                              solver=&#x27;liblinear&#x27;),\n",
       "                                 max_features=15)),\n",
       "                (&#x27;logisticregression&#x27;, LogisticRegression(random_state=9))])</pre><b>In a Jupyter environment, please rerun this cell to show the HTML representation or trust the notebook. <br />On GitHub, the HTML representation is unable to render, please try loading this page with nbviewer.org.</b></div><div class=\"sk-container\" hidden><div class=\"sk-item sk-dashed-wrapped\"><div class=\"sk-label-container\"><div class=\"sk-label sk-toggleable\"><input class=\"sk-toggleable__control sk-hidden--visually\" id=\"sk-estimator-id-101\" type=\"checkbox\" ><label for=\"sk-estimator-id-101\" class=\"sk-toggleable__label sk-toggleable__label-arrow\">Pipeline</label><div class=\"sk-toggleable__content\"><pre>Pipeline(steps=[(&#x27;pipeline&#x27;,\n",
       "                 Pipeline(steps=[(&#x27;columnselector&#x27;,\n",
       "                                  ColumnSelector(columns=[&#x27;45&#x27;, &#x27;137&#x27;,\n",
       "                                                          &#x27;not_first_offer&#x27;,\n",
       "                                                          &#x27;22&#x27;, &#x27;41&#x27;, &#x27;87&#x27;,\n",
       "                                                          &#x27;119&#x27;, &#x27;248&#x27;, &#x27;241&#x27;,\n",
       "                                                          &#x27;116&#x27;, &#x27;214&#x27;, &#x27;233&#x27;,\n",
       "                                                          &#x27;6&#x27;, &#x27;55&#x27;, &#x27;46&#x27;,\n",
       "                                                          &#x27;187&#x27;, &#x27;91&#x27;, &#x27;95&#x27;,\n",
       "                                                          &#x27;51&#x27;, &#x27;115&#x27;, &#x27;217&#x27;,\n",
       "                                                          &#x27;230&#x27;, &#x27;105&#x27;, &#x27;170&#x27;,\n",
       "                                                          &#x27;172&#x27;, &#x27;179&#x27;, &#x27;70&#x27;,\n",
       "                                                          &#x27;210&#x27;, &#x27;216&#x27;, &#x27;178&#x27;, ...])),\n",
       "                                 (&#x27;featureunion&#x27;,\n",
       "                                  FeatureUnion(transformer_list=[(&#x27;numeric_features&#x27;,\n",
       "                                                                  Pipeline(s...\n",
       "                                                                                  (&#x27;onehotencoder&#x27;,\n",
       "                                                                                   OneHotEncoder(handle_unknown=&#x27;ignore&#x27;))])),\n",
       "                                                                 (&#x27;boolean_features&#x27;,\n",
       "                                                                  Pipeline(steps=[(&#x27;columnselector&#x27;,\n",
       "                                                                                   ColumnSelector(columns=[&#x27;not_first_offer&#x27;]))]))]))])),\n",
       "                (&#x27;selectfrommodel&#x27;,\n",
       "                 SelectFromModel(estimator=LogisticRegression(C=0.1,\n",
       "                                                              random_state=9,\n",
       "                                                              solver=&#x27;liblinear&#x27;),\n",
       "                                 max_features=15)),\n",
       "                (&#x27;logisticregression&#x27;, LogisticRegression(random_state=9))])</pre></div></div></div><div class=\"sk-serial\"><div class=\"sk-item\"><div class=\"sk-label-container\"><div class=\"sk-label sk-toggleable\"><input class=\"sk-toggleable__control sk-hidden--visually\" id=\"sk-estimator-id-102\" type=\"checkbox\" ><label for=\"sk-estimator-id-102\" class=\"sk-toggleable__label sk-toggleable__label-arrow\">pipeline: Pipeline</label><div class=\"sk-toggleable__content\"><pre>Pipeline(steps=[(&#x27;columnselector&#x27;,\n",
       "                 ColumnSelector(columns=[&#x27;45&#x27;, &#x27;137&#x27;, &#x27;not_first_offer&#x27;, &#x27;22&#x27;,\n",
       "                                         &#x27;41&#x27;, &#x27;87&#x27;, &#x27;119&#x27;, &#x27;248&#x27;, &#x27;241&#x27;, &#x27;116&#x27;,\n",
       "                                         &#x27;214&#x27;, &#x27;233&#x27;, &#x27;6&#x27;, &#x27;55&#x27;, &#x27;46&#x27;, &#x27;187&#x27;,\n",
       "                                         &#x27;91&#x27;, &#x27;95&#x27;, &#x27;51&#x27;, &#x27;115&#x27;, &#x27;217&#x27;, &#x27;230&#x27;,\n",
       "                                         &#x27;105&#x27;, &#x27;170&#x27;, &#x27;172&#x27;, &#x27;179&#x27;, &#x27;70&#x27;,\n",
       "                                         &#x27;210&#x27;, &#x27;216&#x27;, &#x27;178&#x27;, ...])),\n",
       "                (&#x27;featureunion&#x27;,\n",
       "                 FeatureUnion(transformer_list=[(&#x27;numeric_features&#x27;,\n",
       "                                                 Pipeline(steps=[(&#x27;columnselector&#x27;,\n",
       "                                                                  Colu...\n",
       "                                                                                          &#x27;193&#x27;,\n",
       "                                                                                          &#x27;17&#x27;,\n",
       "                                                                                          &#x27;214&#x27;,\n",
       "                                                                                          &#x27;218&#x27;,\n",
       "                                                                                          &#x27;197&#x27;,\n",
       "                                                                                          &#x27;65&#x27;,\n",
       "                                                                                          &#x27;220&#x27;,\n",
       "                                                                                          &#x27;201&#x27;,\n",
       "                                                                                          &#x27;132&#x27;,\n",
       "                                                                                          &#x27;141&#x27;,\n",
       "                                                                                          &#x27;155&#x27;,\n",
       "                                                                                          &#x27;163&#x27;,\n",
       "                                                                                          &#x27;175&#x27;,\n",
       "                                                                                          &#x27;177&#x27;,\n",
       "                                                                                          &#x27;95&#x27;,\n",
       "                                                                                          &#x27;221&#x27;,\n",
       "                                                                                          &#x27;252&#x27;,\n",
       "                                                                                          &#x27;192&#x27;,\n",
       "                                                                                          &#x27;32&#x27;,\n",
       "                                                                                          &#x27;179&#x27;,\n",
       "                                                                                          &#x27;70&#x27;, ...])),\n",
       "                                                                 (&#x27;simpleimputer&#x27;,\n",
       "                                                                  SimpleImputer(strategy=&#x27;most_frequent&#x27;)),\n",
       "                                                                 (&#x27;onehotencoder&#x27;,\n",
       "                                                                  OneHotEncoder(handle_unknown=&#x27;ignore&#x27;))])),\n",
       "                                                (&#x27;boolean_features&#x27;,\n",
       "                                                 Pipeline(steps=[(&#x27;columnselector&#x27;,\n",
       "                                                                  ColumnSelector(columns=[&#x27;not_first_offer&#x27;]))]))]))])</pre></div></div></div><div class=\"sk-serial\"><div class=\"sk-item\"><div class=\"sk-estimator sk-toggleable\"><input class=\"sk-toggleable__control sk-hidden--visually\" id=\"sk-estimator-id-103\" type=\"checkbox\" ><label for=\"sk-estimator-id-103\" class=\"sk-toggleable__label sk-toggleable__label-arrow\">ColumnSelector</label><div class=\"sk-toggleable__content\"><pre>ColumnSelector(columns=[&#x27;45&#x27;, &#x27;137&#x27;, &#x27;not_first_offer&#x27;, &#x27;22&#x27;, &#x27;41&#x27;, &#x27;87&#x27;, &#x27;119&#x27;,\n",
       "                        &#x27;248&#x27;, &#x27;241&#x27;, &#x27;116&#x27;, &#x27;214&#x27;, &#x27;233&#x27;, &#x27;6&#x27;, &#x27;55&#x27;, &#x27;46&#x27;,\n",
       "                        &#x27;187&#x27;, &#x27;91&#x27;, &#x27;95&#x27;, &#x27;51&#x27;, &#x27;115&#x27;, &#x27;217&#x27;, &#x27;230&#x27;, &#x27;105&#x27;,\n",
       "                        &#x27;170&#x27;, &#x27;172&#x27;, &#x27;179&#x27;, &#x27;70&#x27;, &#x27;210&#x27;, &#x27;216&#x27;, &#x27;178&#x27;, ...])</pre></div></div></div><div class=\"sk-item sk-dashed-wrapped\"><div class=\"sk-label-container\"><div class=\"sk-label sk-toggleable\"><input class=\"sk-toggleable__control sk-hidden--visually\" id=\"sk-estimator-id-104\" type=\"checkbox\" ><label for=\"sk-estimator-id-104\" class=\"sk-toggleable__label sk-toggleable__label-arrow\">featureunion: FeatureUnion</label><div class=\"sk-toggleable__content\"><pre>FeatureUnion(transformer_list=[(&#x27;numeric_features&#x27;,\n",
       "                                Pipeline(steps=[(&#x27;columnselector&#x27;,\n",
       "                                                 ColumnSelector(columns=[&#x27;45&#x27;,\n",
       "                                                                         &#x27;137&#x27;,\n",
       "                                                                         &#x27;22&#x27;,\n",
       "                                                                         &#x27;41&#x27;,\n",
       "                                                                         &#x27;87&#x27;,\n",
       "                                                                         &#x27;119&#x27;,\n",
       "                                                                         &#x27;248&#x27;,\n",
       "                                                                         &#x27;241&#x27;,\n",
       "                                                                         &#x27;116&#x27;,\n",
       "                                                                         &#x27;233&#x27;,\n",
       "                                                                         &#x27;6&#x27;,\n",
       "                                                                         &#x27;55&#x27;,\n",
       "                                                                         &#x27;46&#x27;,\n",
       "                                                                         &#x27;187&#x27;,\n",
       "                                                                         &#x27;91&#x27;,\n",
       "                                                                         &#x27;51&#x27;,\n",
       "                                                                         &#x27;115&#x27;,\n",
       "                                                                         &#x27;217&#x27;,\n",
       "                                                                         &#x27;230&#x27;,\n",
       "                                                                         &#x27;105&#x27;,\n",
       "                                                                         &#x27;170&#x27;,\n",
       "                                                                         &#x27;172&#x27;,\n",
       "                                                                         &#x27;210&#x27;,\n",
       "                                                                         &#x27;178&#x27;,\n",
       "                                                                         &#x27;174&#x27;,\n",
       "                                                                         &#x27;8&#x27;,\n",
       "                                                                         &#x27;164&#x27;,\n",
       "                                                                         &#x27;158&#x27;,\n",
       "                                                                         &#x27;234&#x27;,\n",
       "                                                                         &#x27;108&#x27;, ...])),\n",
       "                                                (&#x27;simpleimputer&#x27;,\n",
       "                                                 SimpleImputer()),\n",
       "                                                (&#x27;standardscaler&#x27;,\n",
       "                                                 StandardScaler...\n",
       "                                                                         &#x27;80&#x27;,\n",
       "                                                                         &#x27;193&#x27;,\n",
       "                                                                         &#x27;17&#x27;,\n",
       "                                                                         &#x27;214&#x27;,\n",
       "                                                                         &#x27;218&#x27;,\n",
       "                                                                         &#x27;197&#x27;,\n",
       "                                                                         &#x27;65&#x27;,\n",
       "                                                                         &#x27;220&#x27;,\n",
       "                                                                         &#x27;201&#x27;,\n",
       "                                                                         &#x27;132&#x27;,\n",
       "                                                                         &#x27;141&#x27;,\n",
       "                                                                         &#x27;155&#x27;,\n",
       "                                                                         &#x27;163&#x27;,\n",
       "                                                                         &#x27;175&#x27;,\n",
       "                                                                         &#x27;177&#x27;,\n",
       "                                                                         &#x27;95&#x27;,\n",
       "                                                                         &#x27;221&#x27;,\n",
       "                                                                         &#x27;252&#x27;,\n",
       "                                                                         &#x27;192&#x27;,\n",
       "                                                                         &#x27;32&#x27;,\n",
       "                                                                         &#x27;179&#x27;,\n",
       "                                                                         &#x27;70&#x27;, ...])),\n",
       "                                                (&#x27;simpleimputer&#x27;,\n",
       "                                                 SimpleImputer(strategy=&#x27;most_frequent&#x27;)),\n",
       "                                                (&#x27;onehotencoder&#x27;,\n",
       "                                                 OneHotEncoder(handle_unknown=&#x27;ignore&#x27;))])),\n",
       "                               (&#x27;boolean_features&#x27;,\n",
       "                                Pipeline(steps=[(&#x27;columnselector&#x27;,\n",
       "                                                 ColumnSelector(columns=[&#x27;not_first_offer&#x27;]))]))])</pre></div></div></div><div class=\"sk-parallel\"><div class=\"sk-parallel-item\"><div class=\"sk-item\"><div class=\"sk-label-container\"><div class=\"sk-label sk-toggleable\"><label>numeric_features</label></div></div><div class=\"sk-serial\"><div class=\"sk-item\"><div class=\"sk-serial\"><div class=\"sk-item\"><div class=\"sk-estimator sk-toggleable\"><input class=\"sk-toggleable__control sk-hidden--visually\" id=\"sk-estimator-id-105\" type=\"checkbox\" ><label for=\"sk-estimator-id-105\" class=\"sk-toggleable__label sk-toggleable__label-arrow\">ColumnSelector</label><div class=\"sk-toggleable__content\"><pre>ColumnSelector(columns=[&#x27;45&#x27;, &#x27;137&#x27;, &#x27;22&#x27;, &#x27;41&#x27;, &#x27;87&#x27;, &#x27;119&#x27;, &#x27;248&#x27;, &#x27;241&#x27;,\n",
       "                        &#x27;116&#x27;, &#x27;233&#x27;, &#x27;6&#x27;, &#x27;55&#x27;, &#x27;46&#x27;, &#x27;187&#x27;, &#x27;91&#x27;, &#x27;51&#x27;, &#x27;115&#x27;,\n",
       "                        &#x27;217&#x27;, &#x27;230&#x27;, &#x27;105&#x27;, &#x27;170&#x27;, &#x27;172&#x27;, &#x27;210&#x27;, &#x27;178&#x27;, &#x27;174&#x27;,\n",
       "                        &#x27;8&#x27;, &#x27;164&#x27;, &#x27;158&#x27;, &#x27;234&#x27;, &#x27;108&#x27;, ...])</pre></div></div></div><div class=\"sk-item\"><div class=\"sk-estimator sk-toggleable\"><input class=\"sk-toggleable__control sk-hidden--visually\" id=\"sk-estimator-id-106\" type=\"checkbox\" ><label for=\"sk-estimator-id-106\" class=\"sk-toggleable__label sk-toggleable__label-arrow\">SimpleImputer</label><div class=\"sk-toggleable__content\"><pre>SimpleImputer()</pre></div></div></div><div class=\"sk-item\"><div class=\"sk-estimator sk-toggleable\"><input class=\"sk-toggleable__control sk-hidden--visually\" id=\"sk-estimator-id-107\" type=\"checkbox\" ><label for=\"sk-estimator-id-107\" class=\"sk-toggleable__label sk-toggleable__label-arrow\">StandardScaler</label><div class=\"sk-toggleable__content\"><pre>StandardScaler()</pre></div></div></div></div></div></div></div></div><div class=\"sk-parallel-item\"><div class=\"sk-item\"><div class=\"sk-label-container\"><div class=\"sk-label sk-toggleable\"><label>categorical_features</label></div></div><div class=\"sk-serial\"><div class=\"sk-item\"><div class=\"sk-serial\"><div class=\"sk-item\"><div class=\"sk-estimator sk-toggleable\"><input class=\"sk-toggleable__control sk-hidden--visually\" id=\"sk-estimator-id-108\" type=\"checkbox\" ><label for=\"sk-estimator-id-108\" class=\"sk-toggleable__label sk-toggleable__label-arrow\">ColumnSelector</label><div class=\"sk-toggleable__content\"><pre>ColumnSelector(columns=[&#x27;24&#x27;, &#x27;30&#x27;, &#x27;199&#x27;, &#x27;195&#x27;, &#x27;29&#x27;, &#x27;23&#x27;, &#x27;31&#x27;, &#x27;57&#x27;, &#x27;80&#x27;,\n",
       "                        &#x27;193&#x27;, &#x27;17&#x27;, &#x27;214&#x27;, &#x27;218&#x27;, &#x27;197&#x27;, &#x27;65&#x27;, &#x27;220&#x27;, &#x27;201&#x27;,\n",
       "                        &#x27;132&#x27;, &#x27;141&#x27;, &#x27;155&#x27;, &#x27;163&#x27;, &#x27;175&#x27;, &#x27;177&#x27;, &#x27;95&#x27;, &#x27;221&#x27;,\n",
       "                        &#x27;252&#x27;, &#x27;192&#x27;, &#x27;32&#x27;, &#x27;179&#x27;, &#x27;70&#x27;, ...])</pre></div></div></div><div class=\"sk-item\"><div class=\"sk-estimator sk-toggleable\"><input class=\"sk-toggleable__control sk-hidden--visually\" id=\"sk-estimator-id-109\" type=\"checkbox\" ><label for=\"sk-estimator-id-109\" class=\"sk-toggleable__label sk-toggleable__label-arrow\">SimpleImputer</label><div class=\"sk-toggleable__content\"><pre>SimpleImputer(strategy=&#x27;most_frequent&#x27;)</pre></div></div></div><div class=\"sk-item\"><div class=\"sk-estimator sk-toggleable\"><input class=\"sk-toggleable__control sk-hidden--visually\" id=\"sk-estimator-id-110\" type=\"checkbox\" ><label for=\"sk-estimator-id-110\" class=\"sk-toggleable__label sk-toggleable__label-arrow\">OneHotEncoder</label><div class=\"sk-toggleable__content\"><pre>OneHotEncoder(handle_unknown=&#x27;ignore&#x27;)</pre></div></div></div></div></div></div></div></div><div class=\"sk-parallel-item\"><div class=\"sk-item\"><div class=\"sk-label-container\"><div class=\"sk-label sk-toggleable\"><label>boolean_features</label></div></div><div class=\"sk-serial\"><div class=\"sk-item\"><div class=\"sk-serial\"><div class=\"sk-item\"><div class=\"sk-estimator sk-toggleable\"><input class=\"sk-toggleable__control sk-hidden--visually\" id=\"sk-estimator-id-111\" type=\"checkbox\" ><label for=\"sk-estimator-id-111\" class=\"sk-toggleable__label sk-toggleable__label-arrow\">ColumnSelector</label><div class=\"sk-toggleable__content\"><pre>ColumnSelector(columns=[&#x27;not_first_offer&#x27;])</pre></div></div></div></div></div></div></div></div></div></div></div></div><div class=\"sk-item sk-dashed-wrapped\"><div class=\"sk-label-container\"><div class=\"sk-label sk-toggleable\"><input class=\"sk-toggleable__control sk-hidden--visually\" id=\"sk-estimator-id-112\" type=\"checkbox\" ><label for=\"sk-estimator-id-112\" class=\"sk-toggleable__label sk-toggleable__label-arrow\">selectfrommodel: SelectFromModel</label><div class=\"sk-toggleable__content\"><pre>SelectFromModel(estimator=LogisticRegression(C=0.1, random_state=9,\n",
       "                                             solver=&#x27;liblinear&#x27;),\n",
       "                max_features=15)</pre></div></div></div><div class=\"sk-parallel\"><div class=\"sk-parallel-item\"><div class=\"sk-item\"><div class=\"sk-label-container\"><div class=\"sk-label sk-toggleable\"><input class=\"sk-toggleable__control sk-hidden--visually\" id=\"sk-estimator-id-113\" type=\"checkbox\" ><label for=\"sk-estimator-id-113\" class=\"sk-toggleable__label sk-toggleable__label-arrow\">estimator: LogisticRegression</label><div class=\"sk-toggleable__content\"><pre>LogisticRegression(C=0.1, random_state=9, solver=&#x27;liblinear&#x27;)</pre></div></div></div><div class=\"sk-serial\"><div class=\"sk-item\"><div class=\"sk-estimator sk-toggleable\"><input class=\"sk-toggleable__control sk-hidden--visually\" id=\"sk-estimator-id-114\" type=\"checkbox\" ><label for=\"sk-estimator-id-114\" class=\"sk-toggleable__label sk-toggleable__label-arrow\">LogisticRegression</label><div class=\"sk-toggleable__content\"><pre>LogisticRegression(C=0.1, random_state=9, solver=&#x27;liblinear&#x27;)</pre></div></div></div></div></div></div></div></div><div class=\"sk-item\"><div class=\"sk-estimator sk-toggleable\"><input class=\"sk-toggleable__control sk-hidden--visually\" id=\"sk-estimator-id-115\" type=\"checkbox\" ><label for=\"sk-estimator-id-115\" class=\"sk-toggleable__label sk-toggleable__label-arrow\">LogisticRegression</label><div class=\"sk-toggleable__content\"><pre>LogisticRegression(random_state=9)</pre></div></div></div></div></div></div></div>"
      ],
      "text/plain": [
       "Pipeline(steps=[('pipeline',\n",
       "                 Pipeline(steps=[('columnselector',\n",
       "                                  ColumnSelector(columns=['45', '137',\n",
       "                                                          'not_first_offer',\n",
       "                                                          '22', '41', '87',\n",
       "                                                          '119', '248', '241',\n",
       "                                                          '116', '214', '233',\n",
       "                                                          '6', '55', '46',\n",
       "                                                          '187', '91', '95',\n",
       "                                                          '51', '115', '217',\n",
       "                                                          '230', '105', '170',\n",
       "                                                          '172', '179', '70',\n",
       "                                                          '210', '216', '178', ...])),\n",
       "                                 ('featureunion',\n",
       "                                  FeatureUnion(transformer_list=[('numeric_features',\n",
       "                                                                  Pipeline(s...\n",
       "                                                                                  ('onehotencoder',\n",
       "                                                                                   OneHotEncoder(handle_unknown='ignore'))])),\n",
       "                                                                 ('boolean_features',\n",
       "                                                                  Pipeline(steps=[('columnselector',\n",
       "                                                                                   ColumnSelector(columns=['not_first_offer']))]))]))])),\n",
       "                ('selectfrommodel',\n",
       "                 SelectFromModel(estimator=LogisticRegression(C=0.1,\n",
       "                                                              random_state=9,\n",
       "                                                              solver='liblinear'),\n",
       "                                 max_features=15)),\n",
       "                ('logisticregression', LogisticRegression(random_state=9))])"
      ]
     },
     "execution_count": 130,
     "metadata": {},
     "output_type": "execute_result"
    }
   ],
   "source": [
    "lg_fs_pipe.fit(X_train, y_train)"
   ]
  },
  {
   "cell_type": "code",
   "execution_count": 131,
   "id": "e4cd4c8f",
   "metadata": {},
   "outputs": [
    {
     "data": {
      "text/plain": [
       "0.8724252998477848"
      ]
     },
     "execution_count": 131,
     "metadata": {},
     "output_type": "execute_result"
    }
   ],
   "source": [
    "preds_train = lg_fs_pipe.predict(X_train)\n",
    "f1_score(y_train, preds_train, average='macro')"
   ]
  },
  {
   "cell_type": "code",
   "execution_count": 132,
   "id": "2fc0aeb9",
   "metadata": {},
   "outputs": [
    {
     "data": {
      "text/plain": [
       "0.7488437802436829"
      ]
     },
     "execution_count": 132,
     "metadata": {},
     "output_type": "execute_result"
    }
   ],
   "source": [
    "preds_test = lg_fs_pipe.predict(X_test)\n",
    "f1_score(y_test, preds_test, average='macro')"
   ]
  },
  {
   "cell_type": "code",
   "execution_count": 133,
   "id": "698fb32a",
   "metadata": {},
   "outputs": [],
   "source": [
    "preds_proba_train = lg_fs_pipe.predict_proba(X_train)"
   ]
  },
  {
   "cell_type": "code",
   "execution_count": 134,
   "id": "d6a7121c",
   "metadata": {},
   "outputs": [
    {
     "name": "stdout",
     "output_type": "stream",
     "text": [
      "Лучшая отсечка : 0.5, Метрика F1_macro: 0.8724252998477848\n",
      "================================================================================\n",
      "              precision    recall  f1-score   support\n",
      "\n",
      "         0.0       0.88      0.86      0.87     45094\n",
      "         1.0       0.87      0.88      0.87     45094\n",
      "\n",
      "    accuracy                           0.87     90188\n",
      "   macro avg       0.87      0.87      0.87     90188\n",
      "weighted avg       0.87      0.87      0.87     90188\n",
      "\n"
     ]
    }
   ],
   "source": [
    "treshold_search(y_train, preds_proba_train)"
   ]
  },
  {
   "cell_type": "code",
   "execution_count": 135,
   "id": "2ef41ebf",
   "metadata": {},
   "outputs": [],
   "source": [
    "preds_proba_test = lg_fs_pipe.predict_proba(X_test)"
   ]
  },
  {
   "cell_type": "code",
   "execution_count": 136,
   "id": "c462abfa",
   "metadata": {},
   "outputs": [
    {
     "name": "stdout",
     "output_type": "stream",
     "text": [
      "Лучшая отсечка : 0.5, Метрика F1_macro: 0.7488437802436829\n",
      "================================================================================\n",
      "              precision    recall  f1-score   support\n",
      "\n",
      "         0.0       1.00      0.87      0.93    178557\n",
      "         1.0       0.40      1.00      0.57     15083\n",
      "\n",
      "    accuracy                           0.88    193640\n",
      "   macro avg       0.70      0.93      0.75    193640\n",
      "weighted avg       0.95      0.88      0.90    193640\n",
      "\n"
     ]
    }
   ],
   "source": [
    "treshold_search(y_test, preds_proba_test)"
   ]
  },
  {
   "cell_type": "markdown",
   "id": "b3c06de3",
   "metadata": {},
   "source": [
    "### Итог"
   ]
  },
  {
   "cell_type": "markdown",
   "id": "72f7513c",
   "metadata": {},
   "source": [
    "Принял решение взять простую линейную модель, с отбором признаков методом l1 регуляризации.\n"
   ]
  },
  {
   "cell_type": "raw",
   "id": "da3482e6",
   "metadata": {},
   "source": [
    "lg_fs_pipe = make_pipeline(\n",
    "    f_prep_pipeline,\n",
    "    SelectFromModel(LogisticRegression(penalty='l1', random_state=RANDOM_STATE, solver='liblinear'), max_features = 29),\n",
    "    LogisticRegression(random_state=RANDOM_STATE)\n",
    ")"
   ]
  },
  {
   "cell_type": "markdown",
   "id": "b3d54799",
   "metadata": {},
   "source": [
    "Если сравнивать по weighted avg метрике (т.к. на тесте мы на трейне делали балансировку, а на тесте нет), то модель не склонна переобучиваться. При этом качество более сложных модели практически одинаково, а иногда и немного хуже, в то время, как ЛогРег работает быстрее прочих."
   ]
  },
  {
   "cell_type": "markdown",
   "id": "aab33af1",
   "metadata": {},
   "source": [
    "Лучшая отсечка по вероятности : 0.632, Метрика F1_macro: 0.749 на тестовой выборке."
   ]
  },
  {
   "cell_type": "code",
   "execution_count": null,
   "id": "be0fb523",
   "metadata": {},
   "outputs": [],
   "source": []
  }
 ],
 "metadata": {
  "kernelspec": {
   "display_name": "Python 3 (ipykernel)",
   "language": "python",
   "name": "python3"
  },
  "language_info": {
   "codemirror_mode": {
    "name": "ipython",
    "version": 3
   },
   "file_extension": ".py",
   "mimetype": "text/x-python",
   "name": "python",
   "nbconvert_exporter": "python",
   "pygments_lexer": "ipython3",
   "version": "3.9.7"
  }
 },
 "nbformat": 4,
 "nbformat_minor": 5
}
