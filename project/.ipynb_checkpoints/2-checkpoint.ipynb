{
 "cells": [
  {
   "cell_type": "code",
   "execution_count": null,
   "id": "8d91e5a1",
   "metadata": {},
   "outputs": [],
   "source": [
    "import pandas as pd\n",
    "import numpy as np\n",
    "import matplotlib.pyplot as plt\n",
    "import seaborn as sns\n",
    "import dask.dataframe as dd\n",
    "\n",
    "from sklearn.model_selection import train_test_split\n",
    "from sklearn.model_selection import GridSearchCV\n",
    "from sklearn.ensemble import RandomForestClassifier\n",
    "from sklearn.linear_model import LogisticRegression\n",
    "from xgboost import XGBClassifier\n",
    "from lightgbm import LGBMClassifier\n",
    "\n",
    "from sklearn.pipeline import Pipeline, make_pipeline, FeatureUnion\n",
    "from sklearn.preprocessing import StandardScaler, OneHotEncoder\n",
    "from sklearn.base import BaseEstimator, TransformerMixin\n",
    "from sklearn.impute import SimpleImputer\n",
    "\n",
    "from sklearn.metrics import recall_score, precision_score, roc_auc_score, accuracy_score, f1_score, precision_recall_curve, classification_report\n",
    "\n",
    "from sklearn.feature_selection import SelectFromModel, GenericUnivariateSelect, mutual_info_classif"
   ]
  },
  {
   "cell_type": "code",
   "execution_count": null,
   "id": "e5a5fff9",
   "metadata": {},
   "outputs": [],
   "source": [
    "TRAIN_DATA = 'data/data_train.csv'\n",
    "TEST_DATA = 'data/data_train.csv'\n",
    "FEATURES_DATA = 'data/features.csv'\n",
    "RANDOM_STATE = 9"
   ]
  },
  {
   "cell_type": "code",
   "execution_count": null,
   "id": "3cf5445d",
   "metadata": {},
   "outputs": [],
   "source": [
    "def undersample_df_by_target(df, target_name):\n",
    "\n",
    "    num_0 = len(df[df[target_name]==0])\n",
    "    num_1 = len(df[df[target_name]==1])\n",
    "    undersampled_data = pd.concat([df[df[target_name]==0].sample(num_1), df[df[target_name]==1]])\n",
    "    \n",
    "    return undersampled_data"
   ]
  },
  {
   "cell_type": "code",
   "execution_count": null,
   "id": "a6cff823",
   "metadata": {},
   "outputs": [],
   "source": [
    "def run_grid_search(estimator, X, y, params_grid, scoring='f1'):\n",
    "    gsc = GridSearchCV(estimator, params_grid, scoring=scoring, cv=3, n_jobs=-1)\n",
    "\n",
    "    gsc.fit(X, y)\n",
    "    print(\"Best %s score: %.2f\" % (scoring, gsc.best_score_))\n",
    "    print()\n",
    "    print(\"Best parameters set found on development set:\")\n",
    "    print()\n",
    "    print(gsc.best_params_)\n",
    "    print()\n",
    "    print(\"Grid scores on development set:\")\n",
    "    print()\n",
    "\n",
    "    for i, params in enumerate(gsc.cv_results_['params']):\n",
    "        print(\"%0.3f (+/-%0.03f) for %r\"\n",
    "              % (gsc.cv_results_['mean_test_score'][i], gsc.cv_results_['std_test_score'][i] * 2, params))\n",
    "\n",
    "    print()\n",
    "    \n",
    "    return gsc"
   ]
  },
  {
   "cell_type": "code",
   "execution_count": null,
   "id": "8730f323",
   "metadata": {},
   "outputs": [],
   "source": [
    "def treshold_search(y_true, y_pred):\n",
    "    top = [0.5, f1_score(y_true, y_pred[: , 1] > 0.5, average='macro')]\n",
    "    for treshold in np.linspace(0, 1, 20):         \n",
    "        fscore = f1_score(y_true, y_pred[: , 1] > treshold, average='macro')\n",
    "        if fscore > top[1]:\n",
    "            top[0] = treshold\n",
    "            top[1] = fscore\n",
    "    print(f'Лучшая отсечка : {top[0]}, Метрика F1_macro: {top[1]}')\n",
    "    print(\"=\" * 80)\n",
    "    print(classification_report(y_true, y_pred[:, 1] > top[0]))"
   ]
  },
  {
   "cell_type": "code",
   "execution_count": null,
   "id": "60c4b5f1",
   "metadata": {},
   "outputs": [],
   "source": [
    "def preprocess_data_train(prep_data_df, FEATURES_DATA):\n",
    "    prep_data_df['buy_time'] = pd.to_datetime(prep_data_df['buy_time'], unit='s')\n",
    "    prep_data_df = prep_data_df.drop('Unnamed: 0', axis=1)\n",
    "    prep_data_df['monthday'] = prep_data_df['buy_time'].dt.day\n",
    "    prep_data_df = prep_data_df.sort_values('buy_time')\n",
    "    prep_data_df['not_first_offer'] = prep_data_df.duplicated('id').astype(int)\n",
    "    \n",
    "    features_data_df = dd.read_csv(FEATURES_DATA, sep='\\t')\n",
    "    features_data_df = features_data_df.drop('Unnamed: 0', axis=1)\n",
    "    train_list_index = list(prep_data_df['id'].unique())\n",
    "    features_data_df = features_data_df.loc[features_data_df['id'].isin(train_list_index)].compute()\n",
    "    features_data_df['buy_time'] = pd.to_datetime(features_data_df['buy_time'], unit='s')\n",
    "    features_data_df = features_data_df.sort_values(by=\"buy_time\")\n",
    "    \n",
    "    result_data = pd.merge_asof(prep_data_df, features_data_df, on='buy_time', by='id', direction='nearest')\n",
    "    \n",
    "    result_data.drop(['id', 'buy_time'], axis=1, inplace=True)\n",
    "    result_data.drop_duplicates(inplace=True)\n",
    "    \n",
    "    return result_data, train_list_index"
   ]
  },
  {
   "cell_type": "code",
   "execution_count": null,
   "id": "db1cf203",
   "metadata": {},
   "outputs": [],
   "source": [
    "def preprocess_data_test(prep_data_df, FEATURES_DATA, train_list_index):\n",
    "    prep_data_df['buy_time'] = pd.to_datetime(prep_data_df['buy_time'], unit='s')\n",
    "    prep_data_df = prep_data_df.drop('Unnamed: 0', axis=1)\n",
    "    prep_data_df['monthday'] = prep_data_df['buy_time'].dt.day\n",
    "    prep_data_df = prep_data_df.sort_values('buy_time')\n",
    "    prep_data_df['not_first_offer'] = (prep_data_df['id'].isin(train_list_index)).astype(int)\n",
    "    \n",
    "    features_data_df = dd.read_csv(FEATURES_DATA, sep='\\t')\n",
    "    features_data_df = features_data_df.drop('Unnamed: 0', axis=1)\n",
    "    test_list_index = list(prep_data_df['id'].unique())\n",
    "    features_data_df = features_data_df.loc[features_data_df['id'].isin(test_list_index)].compute()\n",
    "    features_data_df['buy_time'] = pd.to_datetime(features_data_df['buy_time'], unit='s')\n",
    "    features_data_df = features_data_df.sort_values(by=\"buy_time\")\n",
    "    \n",
    "    result_data = pd.merge_asof(prep_data_df, features_data_df, on='buy_time', by='id', direction='nearest')\n",
    "    \n",
    "    result_data.drop(['id', 'buy_time'], axis=1, inplace=True)\n",
    "    result_data.sort_index(inplace=True)\n",
    "    \n",
    "    return result_data"
   ]
  },
  {
   "cell_type": "code",
   "execution_count": null,
   "id": "e1e74707",
   "metadata": {},
   "outputs": [],
   "source": [
    "def select_type_cols(merged_data):\n",
    "    \n",
    "    X_nunique = merged_data.apply(lambda x: x.nunique(dropna=False))\n",
    "    f_all = set(X_nunique.index.tolist())\n",
    "    f_const = set(X_nunique[X_nunique == 1].index.tolist())\n",
    "    f_categorical = set(X_nunique[X_nunique <= 30].index.tolist())\n",
    "    f_numeric = (merged_data.fillna(0).astype(int).sum() - merged_data.fillna(0).sum()).abs()\n",
    "    f_numeric = set(f_numeric[f_numeric > 0].index.tolist())\n",
    "    f_binary = set(merged_data.loc[:, f_all].columns[(\n",
    "                      (merged_data.loc[:, f_all].max() == 1) & \\\n",
    "                      (merged_data.loc[:, f_all].min() == 0) & \\\n",
    "                      (merged_data.loc[:, f_all].isnull().sum() == 0))])\n",
    "    f_categorical = f_categorical - f_const - f_binary\n",
    "    f_numeric = f_numeric - f_categorical - f_const\n",
    "    \n",
    "    assert(X_nunique.shape[0] == len(f_const) + len(f_binary) + len(f_numeric) + len(f_categorical))\n",
    "    \n",
    "    f_all = list(f_binary | f_categorical | f_numeric)\n",
    "    f_binary, f_categorical, f_numeric = list(f_binary), list(f_categorical), list(f_numeric)\n",
    "    \n",
    "    return f_all, f_binary, f_categorical, f_numeric\n",
    "\n",
    "\n",
    "    "
   ]
  },
  {
   "cell_type": "code",
   "execution_count": null,
   "id": "5912341f",
   "metadata": {},
   "outputs": [],
   "source": []
  },
  {
   "cell_type": "code",
   "execution_count": null,
   "id": "3b579766",
   "metadata": {},
   "outputs": [],
   "source": [
    "train_df = pd.read_csv(TRAIN_DATA)"
   ]
  },
  {
   "cell_type": "code",
   "execution_count": null,
   "id": "ecfab90c",
   "metadata": {},
   "outputs": [],
   "source": [
    "train_df.head(2)"
   ]
  },
  {
   "cell_type": "markdown",
   "id": "6a8245a9",
   "metadata": {},
   "source": [
    "##### Сперва достанем данные из временной метки, и посмотрим распределение целевого признака в разрезе остальных признаков."
   ]
  },
  {
   "cell_type": "code",
   "execution_count": null,
   "id": "765689e5",
   "metadata": {},
   "outputs": [],
   "source": [
    "train_df = train_df.drop('Unnamed: 0', axis=1)"
   ]
  },
  {
   "cell_type": "code",
   "execution_count": null,
   "id": "133f1694",
   "metadata": {},
   "outputs": [],
   "source": [
    "train_df['buy_time'] = pd.to_datetime(train_df['buy_time'], unit='s') "
   ]
  },
  {
   "cell_type": "code",
   "execution_count": null,
   "id": "b077c6a4",
   "metadata": {},
   "outputs": [],
   "source": [
    "train_df['monthday'] = train_df['buy_time'].dt.day\n",
    "train_df['month'] = train_df['buy_time'].dt.month"
   ]
  },
  {
   "cell_type": "markdown",
   "id": "7ea511f8",
   "metadata": {},
   "source": [
    "- В процессе выяснил, что все звонки были в воскресенье в 21 час. По этому нет смысла добавлять день недели и время звонка. (А жаль, мне кажется было бы полезно)"
   ]
  },
  {
   "cell_type": "code",
   "execution_count": null,
   "id": "027f2e17",
   "metadata": {},
   "outputs": [],
   "source": [
    "train_df.head(2)"
   ]
  },
  {
   "cell_type": "code",
   "execution_count": null,
   "id": "ee315923",
   "metadata": {},
   "outputs": [],
   "source": [
    "train_df = train_df.sort_values('buy_time')"
   ]
  },
  {
   "cell_type": "code",
   "execution_count": null,
   "id": "b9ba623f",
   "metadata": {},
   "outputs": [],
   "source": [
    "train_df['not_first_offer'] = train_df.duplicated('id').astype(int)"
   ]
  },
  {
   "cell_type": "markdown",
   "id": "aa4d9b9b",
   "metadata": {},
   "source": [
    "- Выделим пользователей, которым делали предложения больше 1 раза."
   ]
  },
  {
   "cell_type": "markdown",
   "id": "a86f9c66",
   "metadata": {},
   "source": [
    "##### Целевая переменная"
   ]
  },
  {
   "cell_type": "code",
   "execution_count": null,
   "id": "1446cf32",
   "metadata": {},
   "outputs": [],
   "source": [
    "plt.figure(figsize=(8, 5))\n",
    "\n",
    "sns.countplot(x='target', data=train_df)\n",
    "\n",
    "plt.title('Target variable distribution')\n",
    "plt.show()"
   ]
  },
  {
   "cell_type": "markdown",
   "id": "075ce26e",
   "metadata": {},
   "source": [
    "- Таргет имеет сильный дисбаланс"
   ]
  },
  {
   "cell_type": "code",
   "execution_count": null,
   "id": "e4714587",
   "metadata": {},
   "outputs": [],
   "source": [
    "plt.figure(figsize=(10, 8))\n",
    "\n",
    "sns.countplot(x=\"vas_id\", hue='target', data=train_df)\n",
    "plt.title('vas_id grouped by target variable')\n",
    "plt.legend(title='Target', loc='upper right')\n",
    "\n",
    "plt.show()"
   ]
  },
  {
   "cell_type": "markdown",
   "id": "2d7dc668",
   "metadata": {},
   "source": [
    "- Видим, что на услугу \"6\" положительный отклик, относительно отрицательного, на много выше остальных. Также \"4\" услуга имеет больший спрос. "
   ]
  },
  {
   "cell_type": "code",
   "execution_count": null,
   "id": "c2889627",
   "metadata": {},
   "outputs": [],
   "source": [
    "plt.figure(figsize=(10, 8))\n",
    "\n",
    "sns.countplot(x=\"monthday\", hue='target', data=train_df)\n",
    "plt.title('monthday grouped by target variable')\n",
    "plt.legend(title='Target', loc='upper right')\n",
    "\n",
    "plt.show()"
   ]
  },
  {
   "cell_type": "markdown",
   "id": "e584b17d",
   "metadata": {},
   "source": [
    "- Наблюдается сильный прекос отклика в положительную сторону в середине месяца, может это период зарплаты, когда люди более лояльны к новым покупкам. Ну и в целом видно, что в это время пик предложений, видимо маркетинг тоже пришел к выводу, что лучше звонить в эти дни. "
   ]
  },
  {
   "cell_type": "code",
   "execution_count": null,
   "id": "0b3722f7",
   "metadata": {},
   "outputs": [],
   "source": [
    "plt.figure(figsize=(10, 8))\n",
    "\n",
    "sns.countplot(x=\"not_first_offer\", hue='target', data=train_df)\n",
    "plt.title('not_first_offer grouped by target variable')\n",
    "plt.legend(title='Target', loc='upper right')\n",
    "\n",
    "plt.show()"
   ]
  },
  {
   "cell_type": "markdown",
   "id": "643fd780",
   "metadata": {},
   "source": [
    "- Интересно, что те, кому звонили не в первый раз, имеют явный перекос в сторону положительного отклика. "
   ]
  },
  {
   "cell_type": "code",
   "execution_count": null,
   "id": "20755650",
   "metadata": {},
   "outputs": [],
   "source": [
    "plt.figure(figsize=(10, 8))\n",
    "\n",
    "sns.countplot(x=\"month\", hue='target', data=train_df)\n",
    "plt.title('month grouped by target variable')\n",
    "plt.legend(title='Target', loc='upper right')\n",
    "\n",
    "plt.show()"
   ]
  },
  {
   "cell_type": "markdown",
   "id": "f82828df",
   "metadata": {},
   "source": [
    "- Видно, что в Ноябре \\ Декабре имеется явное увеличение положительных откликов. В декабре большое количество предложений, возможно предлагали новогоднюю акцию или старались закрыть план за год."
   ]
  },
  {
   "cell_type": "code",
   "execution_count": null,
   "id": "7c62e4eb",
   "metadata": {},
   "outputs": [],
   "source": [
    "sample = train_df.loc[(train_df['not_first_offer'] == 1) & (train_df['monthday'].isin([16, 17, 18, 19, 20]))]"
   ]
  },
  {
   "cell_type": "code",
   "execution_count": null,
   "id": "e3afc34e",
   "metadata": {},
   "outputs": [],
   "source": [
    "sample['target'].value_counts(normalize=True)"
   ]
  },
  {
   "cell_type": "code",
   "execution_count": null,
   "id": "56f5856d",
   "metadata": {
    "scrolled": true
   },
   "outputs": [],
   "source": [
    "plt.figure(figsize=(10, 8))\n",
    "\n",
    "sns.countplot(x=\"vas_id\", hue='target', data=sample)\n",
    "plt.title('vas_id grouped by target variable')\n",
    "plt.legend(title='Target', loc='upper right')\n",
    "\n",
    "plt.show()"
   ]
  },
  {
   "cell_type": "markdown",
   "id": "891ee251",
   "metadata": {},
   "source": [
    "##### Из приведенных выше данных, могу сделать бейзлайн рекомендации \"Всегда нужно звонить повторно, звонить стоит в середине месяца\". При этом не чаще раза в месяц, и предлагать разные услуги. Даже без дополнительных описательных характеристик пользователя, мы видим, что вероятность положительного отклика на любую услугу в этих рамках много выше. "
   ]
  },
  {
   "cell_type": "markdown",
   "id": "079e5df7",
   "metadata": {},
   "source": [
    "#### Посмотрим описательные характеристики"
   ]
  },
  {
   "cell_type": "code",
   "execution_count": null,
   "id": "3f25e432",
   "metadata": {},
   "outputs": [],
   "source": [
    "features_df = dd.read_csv(FEATURES_DATA, sep='\\t')"
   ]
  },
  {
   "cell_type": "code",
   "execution_count": null,
   "id": "a6ea15b3",
   "metadata": {},
   "outputs": [],
   "source": [
    "features_df.head()"
   ]
  },
  {
   "cell_type": "code",
   "execution_count": null,
   "id": "94ca0b85",
   "metadata": {},
   "outputs": [],
   "source": [
    "features_df = features_df.drop('Unnamed: 0', axis=1)"
   ]
  },
  {
   "cell_type": "markdown",
   "id": "f5654642",
   "metadata": {},
   "source": [
    "- Чтобы смерджить описательные фичи, возьмем из них только те id, которые есть в трейн датасете."
   ]
  },
  {
   "cell_type": "code",
   "execution_count": null,
   "id": "12abb751",
   "metadata": {},
   "outputs": [],
   "source": []
  },
  {
   "cell_type": "code",
   "execution_count": null,
   "id": "147af80f",
   "metadata": {},
   "outputs": [],
   "source": []
  },
  {
   "cell_type": "code",
   "execution_count": null,
   "id": "2f491b33",
   "metadata": {},
   "outputs": [],
   "source": [
    "train_list_index = list(train_df['id'].unique())"
   ]
  },
  {
   "cell_type": "code",
   "execution_count": null,
   "id": "b57156eb",
   "metadata": {},
   "outputs": [],
   "source": [
    "features_df = features_df.loc[features_df['id'].isin(train_list_index)].compute()"
   ]
  },
  {
   "cell_type": "markdown",
   "id": "0075373c",
   "metadata": {},
   "source": [
    "- Т.к. имеются дубликаты ИД в описательном датасете, подразумевается, что со временем предпочтения менялись берем ближайшую по времени информацию. Если данных не будет, будет nan который мы обработаем в пайплайне заполнив на какую-нибудь статистику."
   ]
  },
  {
   "cell_type": "code",
   "execution_count": null,
   "id": "9ae06585",
   "metadata": {},
   "outputs": [],
   "source": [
    "features_df['buy_time'] = pd.to_datetime(features_df['buy_time'], unit='s')"
   ]
  },
  {
   "cell_type": "code",
   "execution_count": null,
   "id": "06cdda27",
   "metadata": {},
   "outputs": [],
   "source": [
    "features_df = features_df.sort_values(by=\"buy_time\")"
   ]
  },
  {
   "cell_type": "code",
   "execution_count": null,
   "id": "e58b5bed",
   "metadata": {},
   "outputs": [],
   "source": [
    "train_data = pd.merge_asof(train_df, features_df, on='buy_time', by='id', direction='nearest')"
   ]
  },
  {
   "cell_type": "markdown",
   "id": "2e2fdeb5",
   "metadata": {},
   "source": [
    "- Проверим, совпадают ли значения"
   ]
  },
  {
   "cell_type": "code",
   "execution_count": null,
   "id": "55ab9fd8",
   "metadata": {},
   "outputs": [],
   "source": [
    "import random\n",
    "\n",
    "rid = random.choice(train_list_index)\n",
    "print(rid)\n",
    "features_df.loc[features_df['id'] == rid]\n"
   ]
  },
  {
   "cell_type": "code",
   "execution_count": null,
   "id": "ae1d6c5a",
   "metadata": {},
   "outputs": [],
   "source": [
    "train_data.loc[train_data['id'] == rid]"
   ]
  },
  {
   "cell_type": "code",
   "execution_count": null,
   "id": "baa9e82a",
   "metadata": {},
   "outputs": [],
   "source": []
  },
  {
   "cell_type": "code",
   "execution_count": null,
   "id": "37b7f4b1",
   "metadata": {},
   "outputs": [],
   "source": [
    "train_data.drop(['id', 'buy_time', 'month'], axis=1, inplace=True)"
   ]
  },
  {
   "cell_type": "code",
   "execution_count": null,
   "id": "29f8ba74",
   "metadata": {},
   "outputs": [],
   "source": [
    "print(\"ID уникален? \", train_data.index.is_unique)\n",
    "print(\"Есть ли дубли в строках?\", train_data.duplicated().sum())\n",
    "print(\"Сколько процент признаков могут принимать null-значениями? %d%%\" % float((train_data.isnull().sum() > 0).sum()/train_data.shape[1]*100))"
   ]
  },
  {
   "cell_type": "code",
   "execution_count": null,
   "id": "9269e042",
   "metadata": {},
   "outputs": [],
   "source": [
    "train_data.drop_duplicates(inplace=True)"
   ]
  },
  {
   "cell_type": "code",
   "execution_count": null,
   "id": "5e1abec9",
   "metadata": {},
   "outputs": [],
   "source": [
    "train_data['target'].value_counts()"
   ]
  },
  {
   "cell_type": "code",
   "execution_count": null,
   "id": "b90e5a8a",
   "metadata": {},
   "outputs": [],
   "source": []
  },
  {
   "cell_type": "markdown",
   "id": "055c1dbd",
   "metadata": {},
   "source": [
    "- Посмотрим на корреляцию между целевой и остальными признаками. "
   ]
  },
  {
   "cell_type": "code",
   "execution_count": null,
   "id": "98b64c94",
   "metadata": {},
   "outputs": [],
   "source": [
    "corr_matrix = train_data.corr()[['target']]"
   ]
  },
  {
   "cell_type": "code",
   "execution_count": null,
   "id": "aa4bebdb",
   "metadata": {},
   "outputs": [],
   "source": [
    "corr_matrix.loc[abs(corr_matrix['target']) > 0.3].shape[0] - 1"
   ]
  },
  {
   "cell_type": "code",
   "execution_count": null,
   "id": "1bde0782",
   "metadata": {},
   "outputs": [],
   "source": [
    "corr_matrix.loc[abs(corr_matrix['target']) > 0.2].shape[0] - 1"
   ]
  },
  {
   "cell_type": "code",
   "execution_count": null,
   "id": "567a85f0",
   "metadata": {},
   "outputs": [],
   "source": [
    "corr_matrix.loc[abs(corr_matrix['target']) > 0.1].shape[0] - 1"
   ]
  },
  {
   "cell_type": "code",
   "execution_count": null,
   "id": "a92b4aff",
   "metadata": {},
   "outputs": [],
   "source": [
    "corr_matrix.loc[abs(corr_matrix['target']) > 0.05].shape[0] - 1"
   ]
  },
  {
   "cell_type": "code",
   "execution_count": null,
   "id": "f631c748",
   "metadata": {},
   "outputs": [],
   "source": [
    "corr_matrix.loc[abs(corr_matrix['target']) > 0.01].shape[0] - 1"
   ]
  },
  {
   "cell_type": "code",
   "execution_count": null,
   "id": "77a1b5fd",
   "metadata": {},
   "outputs": [],
   "source": [
    "corr_matrix.loc[abs(corr_matrix['target']) > 0.001]"
   ]
  },
  {
   "cell_type": "markdown",
   "id": "c0ed60cd",
   "metadata": {},
   "source": [
    " - Очень слабая корреляция. Либо связь не линейная, либо просто признаки бесполезные."
   ]
  },
  {
   "cell_type": "code",
   "execution_count": null,
   "id": "b29230d8",
   "metadata": {},
   "outputs": [],
   "source": []
  },
  {
   "cell_type": "markdown",
   "id": "f57f829d",
   "metadata": {},
   "source": [
    "### Подготовим данные, разобьем на трейн\\тест по времени."
   ]
  },
  {
   "cell_type": "code",
   "execution_count": null,
   "id": "0cec6573",
   "metadata": {},
   "outputs": [],
   "source": [
    "train_df = pd.read_csv(TRAIN_DATA)"
   ]
  },
  {
   "cell_type": "markdown",
   "id": "39b67fe3",
   "metadata": {},
   "source": [
    "- Разделим на трейн\\тест. Берем половину последнего месяца."
   ]
  },
  {
   "cell_type": "code",
   "execution_count": null,
   "id": "cd1b7490",
   "metadata": {},
   "outputs": [],
   "source": [
    "train_df['buy_time'] = pd.to_datetime(train_df['buy_time'], unit='s')"
   ]
  },
  {
   "cell_type": "code",
   "execution_count": null,
   "id": "dd96debf",
   "metadata": {},
   "outputs": [],
   "source": [
    "new_train_df = train_df.loc[~((train_df['buy_time'].dt.month == 12) & (train_df['buy_time'].dt.day > 10))]"
   ]
  },
  {
   "cell_type": "code",
   "execution_count": null,
   "id": "40c4e078",
   "metadata": {},
   "outputs": [],
   "source": [
    "valid_df = train_df.loc[((train_df['buy_time'].dt.month == 12) & (train_df['buy_time'].dt.day > 10))]"
   ]
  },
  {
   "cell_type": "markdown",
   "id": "4bb747da",
   "metadata": {},
   "source": [
    "- Сделаем балансировку андерсемплингом так как данных много"
   ]
  },
  {
   "cell_type": "code",
   "execution_count": null,
   "id": "5ab23960",
   "metadata": {},
   "outputs": [],
   "source": [
    "X_train = undersample_df_by_target(new_train_df, 'target')"
   ]
  },
  {
   "cell_type": "code",
   "execution_count": null,
   "id": "97bb0fce",
   "metadata": {},
   "outputs": [],
   "source": [
    "X_train, true_offers_ids = preprocess_data_train(X_train, FEATURES_DATA)"
   ]
  },
  {
   "cell_type": "code",
   "execution_count": null,
   "id": "99d4fbbd",
   "metadata": {},
   "outputs": [],
   "source": [
    "y_train = X_train['target']"
   ]
  },
  {
   "cell_type": "code",
   "execution_count": null,
   "id": "1a26175b",
   "metadata": {},
   "outputs": [],
   "source": [
    "X_train = X_train.drop('target', axis = 1)"
   ]
  },
  {
   "cell_type": "code",
   "execution_count": null,
   "id": "f2305aa9",
   "metadata": {},
   "outputs": [],
   "source": [
    "y_train.value_counts()"
   ]
  },
  {
   "cell_type": "code",
   "execution_count": null,
   "id": "ce773f40",
   "metadata": {},
   "outputs": [],
   "source": []
  },
  {
   "cell_type": "code",
   "execution_count": null,
   "id": "6426feed",
   "metadata": {},
   "outputs": [],
   "source": [
    "valid_df = preprocess_data_test(valid_df, FEATURES_DATA, true_offers_ids)"
   ]
  },
  {
   "cell_type": "code",
   "execution_count": null,
   "id": "88d83adb",
   "metadata": {},
   "outputs": [],
   "source": [
    "y_test = valid_df['target']"
   ]
  },
  {
   "cell_type": "code",
   "execution_count": null,
   "id": "17fee4d8",
   "metadata": {},
   "outputs": [],
   "source": [
    "X_test = valid_df.drop('target', axis = 1)"
   ]
  },
  {
   "cell_type": "code",
   "execution_count": null,
   "id": "ee1fc517",
   "metadata": {},
   "outputs": [],
   "source": [
    "y_test.value_counts()"
   ]
  },
  {
   "cell_type": "code",
   "execution_count": null,
   "id": "97b3fd4e",
   "metadata": {},
   "outputs": [],
   "source": []
  },
  {
   "cell_type": "markdown",
   "id": "596c13a5",
   "metadata": {},
   "source": [
    "- И так, для начала сделаем Бейзлайн, оценив, что мы можем получить."
   ]
  },
  {
   "cell_type": "code",
   "execution_count": null,
   "id": "6f5f03cf",
   "metadata": {},
   "outputs": [],
   "source": [
    "class ColumnSelector(BaseEstimator, TransformerMixin):\n",
    "    def __init__(self, columns):\n",
    "        self.columns = columns\n",
    "\n",
    "    def fit(self, X, y=None):\n",
    "        return self\n",
    "    \n",
    "    def transform(self, X):\n",
    "        assert isinstance(X, pd.DataFrame)\n",
    "\n",
    "        try:\n",
    "            return X[self.columns]\n",
    "        except KeyError:\n",
    "            cols_error = list(set(self.columns) - set(X.columns))\n",
    "            raise KeyError(\"DataFrame не содердит следующие колонки: %s\" % cols_error)"
   ]
  },
  {
   "cell_type": "code",
   "execution_count": null,
   "id": "d17c4216",
   "metadata": {},
   "outputs": [],
   "source": [
    "rf = RandomForestClassifier()"
   ]
  },
  {
   "cell_type": "code",
   "execution_count": null,
   "id": "fe56c071",
   "metadata": {},
   "outputs": [],
   "source": [
    "step_imputer = SimpleImputer(strategy=\"mean\")"
   ]
  },
  {
   "cell_type": "code",
   "execution_count": null,
   "id": "7223d827",
   "metadata": {},
   "outputs": [],
   "source": [
    "baseline = Pipeline([\n",
    "    ('imuter', step_imputer),\n",
    "    ('model', rf)\n",
    "])"
   ]
  },
  {
   "cell_type": "code",
   "execution_count": null,
   "id": "4f28f04b",
   "metadata": {},
   "outputs": [],
   "source": [
    "baseline.fit(X_train, y_train)"
   ]
  },
  {
   "cell_type": "code",
   "execution_count": null,
   "id": "d38bbcaf",
   "metadata": {},
   "outputs": [],
   "source": [
    "preds = baseline.predict(X_test)"
   ]
  },
  {
   "cell_type": "code",
   "execution_count": null,
   "id": "71742a0c",
   "metadata": {},
   "outputs": [],
   "source": [
    "f1_score(y_test, preds, average='macro')"
   ]
  },
  {
   "cell_type": "code",
   "execution_count": null,
   "id": "6dc3d82a",
   "metadata": {},
   "outputs": [],
   "source": [
    "print(classification_report(y_test, preds))"
   ]
  },
  {
   "cell_type": "markdown",
   "id": "8a6f6610",
   "metadata": {},
   "source": [
    "- Весьма не плохой результат для использования данных \"как есть\", F-Score=0.872, F1-macro 0.67"
   ]
  },
  {
   "cell_type": "markdown",
   "id": "dedda60b",
   "metadata": {},
   "source": [
    "==========================================================================================================="
   ]
  },
  {
   "cell_type": "markdown",
   "id": "06266610",
   "metadata": {},
   "source": [
    "#### Попробуем глянуть, что за фичи мы имеем."
   ]
  },
  {
   "cell_type": "code",
   "execution_count": null,
   "id": "347e60a1",
   "metadata": {},
   "outputs": [],
   "source": []
  },
  {
   "cell_type": "markdown",
   "id": "badac509",
   "metadata": {},
   "source": [
    "- И так, соберем списки признаков"
   ]
  },
  {
   "cell_type": "code",
   "execution_count": null,
   "id": "9dac1c91",
   "metadata": {},
   "outputs": [],
   "source": [
    "f_all, f_binary, f_categorical, f_numeric = select_type_cols(X_train)"
   ]
  },
  {
   "cell_type": "markdown",
   "id": "e16ae897",
   "metadata": {},
   "source": [
    "- Создадим пайплайн для препроцессинга. В нем мы стандартизируем вещественные признаки, что бы попробовать использовать линейную модель, и и сделаем OHE категориальных признаков. Также добавим шаги по автозаполнению пропусков.  "
   ]
  },
  {
   "cell_type": "code",
   "execution_count": null,
   "id": "4eb39d4e",
   "metadata": {},
   "outputs": [],
   "source": [
    "f_prep_pipeline = make_pipeline(\n",
    "    ColumnSelector(columns=f_all),\n",
    "    FeatureUnion(transformer_list=[\n",
    "        (\"numeric_features\", make_pipeline(\n",
    "            ColumnSelector(f_numeric),\n",
    "            SimpleImputer(strategy=\"mean\"),\n",
    "            StandardScaler()\n",
    "        )),\n",
    "        (\"categorical_features\", make_pipeline(\n",
    "            ColumnSelector(f_categorical),\n",
    "            SimpleImputer(strategy=\"most_frequent\"),\n",
    "            OneHotEncoder(handle_unknown='ignore')\n",
    "        )),\n",
    "        (\"boolean_features\", make_pipeline(\n",
    "            ColumnSelector(f_binary),\n",
    "        ))\n",
    "    ])\n",
    ")"
   ]
  },
  {
   "cell_type": "markdown",
   "id": "8ccfc212",
   "metadata": {},
   "source": [
    "- Попробуем наш бейзлайн на новых фичах. По сути для Леса изменилось только кодирование кат.фич."
   ]
  },
  {
   "cell_type": "code",
   "execution_count": null,
   "id": "f1000481",
   "metadata": {},
   "outputs": [],
   "source": [
    "rf_pipe = make_pipeline(\n",
    "    f_prep_pipeline,\n",
    "    RandomForestClassifier(random_state=RANDOM_STATE)\n",
    ")"
   ]
  },
  {
   "cell_type": "code",
   "execution_count": null,
   "id": "04e1b349",
   "metadata": {},
   "outputs": [],
   "source": [
    "rf_pipe.fit(X_train, y_train)"
   ]
  },
  {
   "cell_type": "code",
   "execution_count": null,
   "id": "025970ef",
   "metadata": {},
   "outputs": [],
   "source": [
    "preds = rf_pipe.predict(X_test)"
   ]
  },
  {
   "cell_type": "code",
   "execution_count": null,
   "id": "06ae69ad",
   "metadata": {},
   "outputs": [],
   "source": [
    "f1_score(y_test, preds, average='macro')"
   ]
  },
  {
   "cell_type": "code",
   "execution_count": null,
   "id": "753d40e9",
   "metadata": {},
   "outputs": [],
   "source": [
    "print(classification_report(y_test, preds))"
   ]
  },
  {
   "cell_type": "code",
   "execution_count": null,
   "id": "ae7042fb",
   "metadata": {},
   "outputs": [],
   "source": []
  },
  {
   "cell_type": "markdown",
   "id": "0d898af4",
   "metadata": {},
   "source": [
    "- Не плохой прирост, +4% точности F1-macro, это хороший результат."
   ]
  },
  {
   "cell_type": "markdown",
   "id": "60a3ad17",
   "metadata": {},
   "source": [
    "========================================================================================================================"
   ]
  },
  {
   "cell_type": "markdown",
   "id": "5e5fec1f",
   "metadata": {},
   "source": [
    "- Теперь попробуем линейный алгоритм."
   ]
  },
  {
   "cell_type": "code",
   "execution_count": null,
   "id": "5efe84ca",
   "metadata": {},
   "outputs": [],
   "source": [
    "lg_pipe = make_pipeline(\n",
    "    f_prep_pipeline,\n",
    "    LogisticRegression(random_state=RANDOM_STATE)\n",
    ")"
   ]
  },
  {
   "cell_type": "code",
   "execution_count": null,
   "id": "a2fa36ce",
   "metadata": {},
   "outputs": [],
   "source": [
    "lg_pipe.fit(X_train, y_train)"
   ]
  },
  {
   "cell_type": "code",
   "execution_count": null,
   "id": "71a2ea56",
   "metadata": {},
   "outputs": [],
   "source": [
    "preds = lg_pipe.predict(X_test)"
   ]
  },
  {
   "cell_type": "code",
   "execution_count": null,
   "id": "96121458",
   "metadata": {},
   "outputs": [],
   "source": [
    "f1_score(y_test, preds, average='macro')"
   ]
  },
  {
   "cell_type": "code",
   "execution_count": null,
   "id": "4e0030d5",
   "metadata": {},
   "outputs": [],
   "source": [
    "print(classification_report(y_test, preds))"
   ]
  },
  {
   "cell_type": "markdown",
   "id": "e7dcbde1",
   "metadata": {},
   "source": [
    "- Результат очень близкий, при этом скорость на много выше."
   ]
  },
  {
   "cell_type": "markdown",
   "id": "8cf54d78",
   "metadata": {},
   "source": [
    "========================================================================================================================"
   ]
  },
  {
   "cell_type": "markdown",
   "id": "946b133b",
   "metadata": {},
   "source": [
    "- Произведем отбор фичей. Попробуем использовать метод с Лассо регрессией и Взаимной информации. В качестве контрольной модели будем использовать Лог рег, т.к. она хорошо себя показала, и работает довольно быстро."
   ]
  },
  {
   "cell_type": "code",
   "execution_count": null,
   "id": "cf2fc95d",
   "metadata": {},
   "outputs": [],
   "source": [
    "lg_fs_pipe = make_pipeline(\n",
    "    f_prep_pipeline,\n",
    "    SelectFromModel(LogisticRegression(penalty='l2', random_state=RANDOM_STATE, solver='liblinear'), threshold=1e-5),\n",
    "    LogisticRegression(random_state=RANDOM_STATE)\n",
    ")"
   ]
  },
  {
   "cell_type": "code",
   "execution_count": null,
   "id": "03edbf6b",
   "metadata": {},
   "outputs": [],
   "source": [
    "params = [\n",
    "    {\"selectfrommodel__max_features\": [None,15, 30,80,120,200,250],\n",
    "     \"selectfrommodel__threshold\": [-np.inf],\n",
    "     \"selectfrommodel__estimator__C\" : [1, 0.5, 0.01, 0.1]\n",
    "    }\n",
    "    \n",
    "]"
   ]
  },
  {
   "cell_type": "markdown",
   "id": "2794eaf4",
   "metadata": {
    "scrolled": true
   },
   "source": [
    "run_grid_search(lg_fs_pipe, X_train, y_train, params, scoring='f1')"
   ]
  },
  {
   "cell_type": "markdown",
   "id": "f661342a",
   "metadata": {},
   "source": [
    "Best f1 score: 0.90\n",
    "\n",
    "Best parameters set found on development set:\n",
    "\n",
    "{'selectfrommodel__estimator__C': 1, 'selectfrommodel__max_features': 5, 'selectfrommodel__threshold': -inf}\n"
   ]
  },
  {
   "cell_type": "markdown",
   "id": "4ca733df",
   "metadata": {},
   "source": [
    "- Удивительно, но даже при 5 фичах качество практически такое же, как и при полном наборе."
   ]
  },
  {
   "cell_type": "markdown",
   "id": "2ed41aa0",
   "metadata": {},
   "source": [
    "========================================================================================================================"
   ]
  },
  {
   "cell_type": "code",
   "execution_count": null,
   "id": "2c4c0184",
   "metadata": {},
   "outputs": [],
   "source": [
    "lg_fs_pipe_kbest_selector = make_pipeline(\n",
    "    f_prep_pipeline,\n",
    "    GenericUnivariateSelect(score_func=mutual_info_classif, mode='k_best', param=100),\n",
    "    LogisticRegression(random_state=RANDOM_STATE)\n",
    ")\n"
   ]
  },
  {
   "cell_type": "code",
   "execution_count": null,
   "id": "15c8c0d5",
   "metadata": {},
   "outputs": [],
   "source": [
    "params = [\n",
    "    {'genericunivariateselect__param' : [15, 30,50,70,80,100,120,150,200,250]},\n",
    "    \n",
    "]\n"
   ]
  },
  {
   "cell_type": "raw",
   "id": "3a2bcd59",
   "metadata": {},
   "source": [
    "run_grid_search(lg_fs_pipe_kbest_selector, X_train, y_train, params, scoring='f1')"
   ]
  },
  {
   "cell_type": "markdown",
   "id": "4af36a0c",
   "metadata": {},
   "source": [
    "Best f1 score: 0.90\n",
    "\n",
    "Best parameters set found on development set:\n",
    "\n",
    "{'genericunivariateselect__param': 70}\n"
   ]
  },
  {
   "cell_type": "markdown",
   "id": "3afe9fcf",
   "metadata": {},
   "source": [
    "- Будем использовать: SelectFromModel(LogisticRegression(penalty='l1', random_state=RANDOM_STATE, solver='liblinear'), threshold=1e-5). Т.к. \n"
   ]
  },
  {
   "cell_type": "markdown",
   "id": "91f38abe",
   "metadata": {},
   "source": [
    "=================================================================================================="
   ]
  },
  {
   "cell_type": "code",
   "execution_count": null,
   "id": "bd3743a3",
   "metadata": {},
   "outputs": [],
   "source": [
    "rf_fs_pipe = make_pipeline(\n",
    "    f_prep_pipeline,\n",
    "    SelectFromModel(LogisticRegression(penalty='l1', random_state=RANDOM_STATE, solver='liblinear'), max_features = 29, threshold = -np.inf),\n",
    "    RandomForestClassifier(random_state=RANDOM_STATE, )\n",
    ")"
   ]
  },
  {
   "cell_type": "code",
   "execution_count": null,
   "id": "31a3de08",
   "metadata": {},
   "outputs": [],
   "source": [
    "params = [\n",
    "    {'randomforestclassifier__max_features': ['sqrt', 'log2', 2, 5, 8, 10],\n",
    "     'randomforestclassifier__n_estimators' : [50, 100, 200, 300],    \n",
    "    }   \n",
    "]"
   ]
  },
  {
   "cell_type": "raw",
   "id": "20474662",
   "metadata": {},
   "source": [
    "run_grid_search(rf_fs_pipe, X_train, y_train, params, scoring='f1')"
   ]
  },
  {
   "cell_type": "markdown",
   "id": "9fc44393",
   "metadata": {},
   "source": [
    "Best f1 score: 0.90\n",
    "\n",
    "Best parameters set found on development set:\n",
    "\n",
    "{'randomforestclassifier__max_features': 8, 'randomforestclassifier__n_estimators': 300}"
   ]
  },
  {
   "cell_type": "code",
   "execution_count": null,
   "id": "a35bb6be",
   "metadata": {},
   "outputs": [],
   "source": [
    "rf_fs_pipe = make_pipeline(\n",
    "    f_prep_pipeline,\n",
    "    SelectFromModel(LogisticRegression(penalty='l1', random_state=RANDOM_STATE, solver='liblinear'), max_features = 29, threshold = -np.inf),\n",
    "    RandomForestClassifier(random_state=RANDOM_STATE, max_features = 8, n_estimators = 300)\n",
    ")"
   ]
  },
  {
   "cell_type": "code",
   "execution_count": null,
   "id": "194c7f1a",
   "metadata": {},
   "outputs": [],
   "source": [
    "rf_fs_pipe.fit(X_train, y_train)"
   ]
  },
  {
   "cell_type": "code",
   "execution_count": null,
   "id": "9ea4a7ed",
   "metadata": {},
   "outputs": [],
   "source": [
    "preds_train = rf_fs_pipe.predict(X_train)\n",
    "f1_score(y_train, preds_train, average='macro')"
   ]
  },
  {
   "cell_type": "code",
   "execution_count": null,
   "id": "99cc29ec",
   "metadata": {},
   "outputs": [],
   "source": [
    "preds_test = rf_fs_pipe.predict(X_test)\n",
    "f1_score(y_test, preds_test, average='macro')"
   ]
  },
  {
   "cell_type": "code",
   "execution_count": null,
   "id": "f7eb5ae0",
   "metadata": {},
   "outputs": [],
   "source": [
    "preds_proba_train = rf_fs_pipe.predict_proba(X_train)"
   ]
  },
  {
   "cell_type": "code",
   "execution_count": null,
   "id": "2b50b327",
   "metadata": {},
   "outputs": [],
   "source": [
    "preds_proba_test = rf_fs_pipe.predict_proba(X_test)"
   ]
  },
  {
   "cell_type": "code",
   "execution_count": null,
   "id": "030720ef",
   "metadata": {},
   "outputs": [],
   "source": [
    "treshold_search(y_train, preds_proba_train)"
   ]
  },
  {
   "cell_type": "code",
   "execution_count": null,
   "id": "ad0f547c",
   "metadata": {},
   "outputs": [],
   "source": [
    "treshold_search(y_test, preds_proba_test)"
   ]
  },
  {
   "cell_type": "code",
   "execution_count": null,
   "id": "e70f581c",
   "metadata": {},
   "outputs": [],
   "source": []
  },
  {
   "cell_type": "code",
   "execution_count": null,
   "id": "f5ace14e",
   "metadata": {},
   "outputs": [],
   "source": []
  },
  {
   "cell_type": "markdown",
   "id": "bbde6590",
   "metadata": {},
   "source": [
    "======================================================================================================="
   ]
  },
  {
   "cell_type": "code",
   "execution_count": null,
   "id": "7d39f9b0",
   "metadata": {},
   "outputs": [],
   "source": []
  },
  {
   "cell_type": "code",
   "execution_count": null,
   "id": "f701d3d5",
   "metadata": {},
   "outputs": [],
   "source": [
    "rf_gu_pipe = make_pipeline(\n",
    "    f_prep_pipeline,\n",
    "    GenericUnivariateSelect(score_func=mutual_info_classif, mode='k_best', param=50),\n",
    "    RandomForestClassifier(random_state=RANDOM_STATE, n_estimators = 300)\n",
    ")"
   ]
  },
  {
   "cell_type": "code",
   "execution_count": null,
   "id": "7d9ea6be",
   "metadata": {},
   "outputs": [],
   "source": [
    "rf_gu_pipe.fit(X_train, y_train)"
   ]
  },
  {
   "cell_type": "code",
   "execution_count": null,
   "id": "1324f161",
   "metadata": {},
   "outputs": [],
   "source": [
    "preds_train = rf_gu_pipe.predict(X_train)\n",
    "f1_score(y_train, preds_train, average='macro')"
   ]
  },
  {
   "cell_type": "code",
   "execution_count": null,
   "id": "723cc116",
   "metadata": {},
   "outputs": [],
   "source": [
    "preds_test = rf_gu_pipe.predict(X_test)\n",
    "f1_score(y_test, preds_test, average='macro')"
   ]
  },
  {
   "cell_type": "code",
   "execution_count": null,
   "id": "738ab57c",
   "metadata": {},
   "outputs": [],
   "source": [
    "preds_proba_train = rf_gu_pipe.predict_proba(X_train)"
   ]
  },
  {
   "cell_type": "code",
   "execution_count": null,
   "id": "1185f9ff",
   "metadata": {},
   "outputs": [],
   "source": [
    "treshold_search(y_train, preds_proba_train)"
   ]
  },
  {
   "cell_type": "code",
   "execution_count": null,
   "id": "b4d38bc6",
   "metadata": {},
   "outputs": [],
   "source": [
    "preds_proba_test = rf_gu_pipe.predict_proba(X_test)"
   ]
  },
  {
   "cell_type": "code",
   "execution_count": null,
   "id": "21ccc6d9",
   "metadata": {},
   "outputs": [],
   "source": [
    "treshold_search(y_test, preds_proba_test)"
   ]
  },
  {
   "cell_type": "markdown",
   "id": "d8bde311",
   "metadata": {},
   "source": [
    "================================================================================================================"
   ]
  },
  {
   "cell_type": "code",
   "execution_count": null,
   "id": "cd381550",
   "metadata": {},
   "outputs": [],
   "source": [
    "xgb_fs_pipe = make_pipeline(\n",
    "    f_prep_pipeline,\n",
    "    SelectFromModel(LogisticRegression(penalty='l1', random_state=RANDOM_STATE, solver='liblinear'), max_features = 29, threshold = -np.inf),\n",
    "    XGBClassifier(random_state=RANDOM_STATE)\n",
    ")"
   ]
  },
  {
   "cell_type": "code",
   "execution_count": null,
   "id": "53bde978",
   "metadata": {},
   "outputs": [],
   "source": [
    "params = [\n",
    "    {'xgbclassifier__max_depth': [1,2,3,4,5],\n",
    "     'xgbclassifier__n_estimators' : [200, 300, 400],     \n",
    "    }    \n",
    "]"
   ]
  },
  {
   "cell_type": "raw",
   "id": "b1447a5c",
   "metadata": {},
   "source": [
    "run_grid_search(xgb_fs_pipe, X_train, y_train, params, scoring='f1')"
   ]
  },
  {
   "cell_type": "markdown",
   "id": "49b9de5c",
   "metadata": {},
   "source": [
    "Best parameters set found on development set:\n",
    "\n",
    "{'xgbclassifier__max_depth': 2, 'xgbclassifier__n_estimators': 200}"
   ]
  },
  {
   "cell_type": "code",
   "execution_count": null,
   "id": "ef109075",
   "metadata": {},
   "outputs": [],
   "source": [
    "xgb_fs_pipe = make_pipeline(\n",
    "    f_prep_pipeline,\n",
    "    SelectFromModel(LogisticRegression(penalty='l1', random_state=RANDOM_STATE, solver='liblinear'), max_features = 29, threshold = -np.inf),\n",
    "    XGBClassifier(random_state=RANDOM_STATE, max_depth = 2, n_estimators = 200)\n",
    ")"
   ]
  },
  {
   "cell_type": "code",
   "execution_count": null,
   "id": "1ad1a357",
   "metadata": {},
   "outputs": [],
   "source": [
    "xgb_fs_pipe.fit(X_train, y_train)"
   ]
  },
  {
   "cell_type": "code",
   "execution_count": null,
   "id": "de505cfc",
   "metadata": {},
   "outputs": [],
   "source": [
    "preds_train = xgb_fs_pipe.predict(X_train)\n",
    "f1_score(y_train, preds_train, average='macro')"
   ]
  },
  {
   "cell_type": "code",
   "execution_count": null,
   "id": "912212f9",
   "metadata": {},
   "outputs": [],
   "source": [
    "preds_test = xgb_fs_pipe.predict(X_test)\n",
    "f1_score(y_test, preds_test, average='macro')"
   ]
  },
  {
   "cell_type": "code",
   "execution_count": null,
   "id": "13bc0741",
   "metadata": {},
   "outputs": [],
   "source": [
    "preds_proba_train = xgb_fs_pipe.predict_proba(X_train)"
   ]
  },
  {
   "cell_type": "code",
   "execution_count": null,
   "id": "e282fea6",
   "metadata": {},
   "outputs": [],
   "source": [
    "treshold_search(y_train, preds_proba_train)"
   ]
  },
  {
   "cell_type": "code",
   "execution_count": null,
   "id": "d5ad016c",
   "metadata": {},
   "outputs": [],
   "source": [
    "preds_proba_test = xgb_fs_pipe.predict_proba(X_test)"
   ]
  },
  {
   "cell_type": "code",
   "execution_count": null,
   "id": "f934a154",
   "metadata": {},
   "outputs": [],
   "source": [
    "treshold_search(y_test, preds_proba_test)"
   ]
  },
  {
   "cell_type": "markdown",
   "id": "b46f9676",
   "metadata": {},
   "source": [
    "================================================================================="
   ]
  },
  {
   "cell_type": "code",
   "execution_count": null,
   "id": "1554eee0",
   "metadata": {},
   "outputs": [],
   "source": []
  },
  {
   "cell_type": "code",
   "execution_count": null,
   "id": "27df7e6a",
   "metadata": {},
   "outputs": [],
   "source": [
    "lg_fs_pipe = make_pipeline(\n",
    "    f_prep_pipeline,\n",
    "    SelectFromModel(LogisticRegression(penalty='l1', random_state=RANDOM_STATE, solver='liblinear'), max_features = 29),\n",
    "    LogisticRegression(random_state=RANDOM_STATE)\n",
    ")"
   ]
  },
  {
   "cell_type": "code",
   "execution_count": null,
   "id": "050a3671",
   "metadata": {},
   "outputs": [],
   "source": [
    "lg_fs_pipe.fit(X_train, y_train)"
   ]
  },
  {
   "cell_type": "code",
   "execution_count": null,
   "id": "460274da",
   "metadata": {},
   "outputs": [],
   "source": [
    "preds_train = lg_fs_pipe.predict(X_train)\n",
    "f1_score(y_train, preds_train, average='macro')"
   ]
  },
  {
   "cell_type": "code",
   "execution_count": null,
   "id": "03fe8094",
   "metadata": {},
   "outputs": [],
   "source": [
    "preds_test = lg_fs_pipe.predict(X_test)\n",
    "f1_score(y_test, preds_test, average='macro')"
   ]
  },
  {
   "cell_type": "code",
   "execution_count": null,
   "id": "b5e4d8df",
   "metadata": {},
   "outputs": [],
   "source": [
    "preds_proba_train = lg_fs_pipe.predict_proba(X_train)"
   ]
  },
  {
   "cell_type": "code",
   "execution_count": null,
   "id": "02da7f2f",
   "metadata": {},
   "outputs": [],
   "source": [
    "treshold_search(y_train, preds_proba_train)"
   ]
  },
  {
   "cell_type": "code",
   "execution_count": null,
   "id": "6bfdf105",
   "metadata": {},
   "outputs": [],
   "source": [
    "preds_proba_test = lg_fs_pipe.predict_proba(X_test)"
   ]
  },
  {
   "cell_type": "code",
   "execution_count": null,
   "id": "1c149021",
   "metadata": {},
   "outputs": [],
   "source": [
    "treshold_search(y_test, preds_proba_test)"
   ]
  },
  {
   "cell_type": "code",
   "execution_count": null,
   "id": "be90609d",
   "metadata": {},
   "outputs": [],
   "source": []
  },
  {
   "cell_type": "code",
   "execution_count": null,
   "id": "85142995",
   "metadata": {},
   "outputs": [],
   "source": []
  },
  {
   "cell_type": "code",
   "execution_count": null,
   "id": "38c70387",
   "metadata": {},
   "outputs": [],
   "source": [
    "lgbm_fs_pipe = make_pipeline(\n",
    "    f_prep_pipeline,\n",
    "    SelectFromModel(LogisticRegression(penalty='l1', random_state=RANDOM_STATE, solver='liblinear'),max_features = 29, threshold=1e-5),\n",
    "    LGBMClassifier(random_state=RANDOM_STATE)\n",
    ")"
   ]
  },
  {
   "cell_type": "code",
   "execution_count": null,
   "id": "bb9ed105",
   "metadata": {},
   "outputs": [],
   "source": [
    "params = [\n",
    "    {\n",
    "     'lgbmclassifier__n_estimators' : [100, 200, 300]     \n",
    "    } \n",
    "]"
   ]
  },
  {
   "cell_type": "raw",
   "id": "e5ad26ac",
   "metadata": {},
   "source": [
    "run_grid_search(lgbm_fs_pipe, X_train, y_train, params, scoring='f1')"
   ]
  },
  {
   "cell_type": "raw",
   "id": "e517ec17",
   "metadata": {},
   "source": [
    "Best f1 score: 0.90\n",
    "\n",
    "Best parameters set found on development set:\n",
    "\n",
    "{'lgbmclassifier__n_estimators': 200}"
   ]
  },
  {
   "cell_type": "code",
   "execution_count": null,
   "id": "b02a924d",
   "metadata": {},
   "outputs": [],
   "source": []
  },
  {
   "cell_type": "code",
   "execution_count": null,
   "id": "306009b6",
   "metadata": {},
   "outputs": [],
   "source": [
    "lgbm_fs_pipe = make_pipeline(\n",
    "    f_prep_pipeline,\n",
    "    SelectFromModel(LogisticRegression(penalty='l1', random_state=RANDOM_STATE, solver='liblinear'),max_features = 29, threshold=1e-5),\n",
    "    LGBMClassifier(random_state=RANDOM_STATE, n_estimators = 200)\n",
    ")"
   ]
  },
  {
   "cell_type": "code",
   "execution_count": null,
   "id": "8d79afba",
   "metadata": {},
   "outputs": [],
   "source": [
    "lgbm_fs_pipe.fit(X_train, y_train)"
   ]
  },
  {
   "cell_type": "code",
   "execution_count": null,
   "id": "b59d86a6",
   "metadata": {},
   "outputs": [],
   "source": [
    "preds_train = lgbm_fs_pipe.predict(X_train)\n",
    "f1_score(y_train, preds_train, average='macro')"
   ]
  },
  {
   "cell_type": "code",
   "execution_count": null,
   "id": "619daa43",
   "metadata": {},
   "outputs": [],
   "source": [
    "preds_test = lgbm_fs_pipe.predict(X_test)\n",
    "f1_score(y_test, preds_test, average='macro')"
   ]
  },
  {
   "cell_type": "code",
   "execution_count": null,
   "id": "3bd00a90",
   "metadata": {},
   "outputs": [],
   "source": [
    "preds_proba_train = lgbm_fs_pipe.predict_proba(X_train)"
   ]
  },
  {
   "cell_type": "code",
   "execution_count": null,
   "id": "8b7076a4",
   "metadata": {},
   "outputs": [],
   "source": [
    "treshold_search(y_train, preds_proba_train)"
   ]
  },
  {
   "cell_type": "code",
   "execution_count": null,
   "id": "ef33a00c",
   "metadata": {},
   "outputs": [],
   "source": [
    "preds_proba_test = lgbm_fs_pipe.predict_proba(X_test)"
   ]
  },
  {
   "cell_type": "code",
   "execution_count": null,
   "id": "0b99c5fd",
   "metadata": {},
   "outputs": [],
   "source": [
    "treshold_search(y_test, preds_proba_test)"
   ]
  },
  {
   "cell_type": "code",
   "execution_count": null,
   "id": "2bd07789",
   "metadata": {},
   "outputs": [],
   "source": []
  },
  {
   "cell_type": "markdown",
   "id": "4eb15daf",
   "metadata": {},
   "source": [
    "================================================================================================="
   ]
  },
  {
   "cell_type": "code",
   "execution_count": null,
   "id": "1ae25be5",
   "metadata": {},
   "outputs": [],
   "source": [
    "lg_fs_pipe = make_pipeline(\n",
    "    f_prep_pipeline,\n",
    "    SelectFromModel(LogisticRegression(penalty='l2', random_state=RANDOM_STATE, solver='liblinear', C = 0.1), max_features = 15),\n",
    "    LogisticRegression(random_state=RANDOM_STATE)\n",
    ")"
   ]
  },
  {
   "cell_type": "code",
   "execution_count": null,
   "id": "9763c63c",
   "metadata": {},
   "outputs": [],
   "source": [
    "lg_fs_pipe.fit(X_train, y_train)"
   ]
  },
  {
   "cell_type": "code",
   "execution_count": null,
   "id": "e4cd4c8f",
   "metadata": {},
   "outputs": [],
   "source": [
    "preds_train = lg_fs_pipe.predict(X_train)\n",
    "f1_score(y_train, preds_train, average='macro')"
   ]
  },
  {
   "cell_type": "code",
   "execution_count": null,
   "id": "2fc0aeb9",
   "metadata": {},
   "outputs": [],
   "source": [
    "preds_test = lg_fs_pipe.predict(X_test)\n",
    "f1_score(y_test, preds_test, average='macro')"
   ]
  },
  {
   "cell_type": "code",
   "execution_count": null,
   "id": "698fb32a",
   "metadata": {},
   "outputs": [],
   "source": [
    "preds_proba_train = lg_fs_pipe.predict_proba(X_train)"
   ]
  },
  {
   "cell_type": "code",
   "execution_count": null,
   "id": "d6a7121c",
   "metadata": {},
   "outputs": [],
   "source": [
    "treshold_search(y_train, preds_proba_train)"
   ]
  },
  {
   "cell_type": "code",
   "execution_count": null,
   "id": "2ef41ebf",
   "metadata": {},
   "outputs": [],
   "source": [
    "preds_proba_test = lg_fs_pipe.predict_proba(X_test)"
   ]
  },
  {
   "cell_type": "code",
   "execution_count": null,
   "id": "c462abfa",
   "metadata": {},
   "outputs": [],
   "source": [
    "treshold_search(y_test, preds_proba_test)"
   ]
  },
  {
   "cell_type": "code",
   "execution_count": null,
   "id": "4da24d39",
   "metadata": {},
   "outputs": [],
   "source": []
  }
 ],
 "metadata": {
  "kernelspec": {
   "display_name": "Python 3 (ipykernel)",
   "language": "python",
   "name": "python3"
  },
  "language_info": {
   "codemirror_mode": {
    "name": "ipython",
    "version": 3
   },
   "file_extension": ".py",
   "mimetype": "text/x-python",
   "name": "python",
   "nbconvert_exporter": "python",
   "pygments_lexer": "ipython3",
   "version": "3.9.7"
  }
 },
 "nbformat": 4,
 "nbformat_minor": 5
}
