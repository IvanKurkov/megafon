{
 "cells": [
  {
   "cell_type": "code",
   "execution_count": 1,
   "id": "f1eccaee",
   "metadata": {},
   "outputs": [],
   "source": [
    "import pandas as pd\n",
    "import numpy as np\n",
    "\n",
    "import dask.dataframe as dd\n",
    "from sklearn.linear_model import LogisticRegression\n",
    "\n",
    "from sklearn.pipeline import Pipeline, make_pipeline, FeatureUnion\n",
    "from sklearn.preprocessing import StandardScaler, OneHotEncoder\n",
    "from sklearn.base import BaseEstimator, TransformerMixin\n",
    "from sklearn.impute import SimpleImputer\n",
    "\n",
    "from sklearn.metrics import f1_score, classification_report\n",
    "from sklearn.feature_selection import SelectFromModel\n",
    "\n",
    "import pickle"
   ]
  },
  {
   "cell_type": "code",
   "execution_count": 2,
   "id": "fd2599c7",
   "metadata": {},
   "outputs": [],
   "source": [
    "from until import ColumnSelector, undersample_df_by_target, run_grid_search, treshold_search, preprocess_data_train, preprocess_data_test, select_type_cols\n"
   ]
  },
  {
   "cell_type": "code",
   "execution_count": 3,
   "id": "d0917664",
   "metadata": {},
   "outputs": [],
   "source": [
    "TRAIN_DATA = 'data/data_train.csv'\n",
    "FEATURES_DATA = 'data/features.csv'\n",
    "RANDOM_STATE = 9"
   ]
  },
  {
   "cell_type": "markdown",
   "id": "b57d98b1",
   "metadata": {},
   "source": [
    "### Подготовка данных"
   ]
  },
  {
   "cell_type": "code",
   "execution_count": 4,
   "id": "e1c383b8",
   "metadata": {},
   "outputs": [],
   "source": [
    "train_df = pd.read_csv(TRAIN_DATA)"
   ]
  },
  {
   "cell_type": "code",
   "execution_count": 5,
   "id": "abd16fbf",
   "metadata": {},
   "outputs": [],
   "source": [
    "train_df['buy_time'] = pd.to_datetime(train_df['buy_time'], unit='s')"
   ]
  },
  {
   "cell_type": "code",
   "execution_count": 6,
   "id": "ead60b28",
   "metadata": {},
   "outputs": [],
   "source": [
    "X_train = undersample_df_by_target(train_df, 'target')"
   ]
  },
  {
   "cell_type": "code",
   "execution_count": 7,
   "id": "5988d550",
   "metadata": {},
   "outputs": [],
   "source": [
    "X_train, true_offers_ids = preprocess_data_train(X_train, FEATURES_DATA)"
   ]
  },
  {
   "cell_type": "code",
   "execution_count": 8,
   "id": "5151b564",
   "metadata": {},
   "outputs": [],
   "source": [
    "with open(\"data/offer_mark.txt\", \"w\") as file:\n",
    "    print(*true_offers_ids, file=file, sep=\"\\n\")"
   ]
  },
  {
   "cell_type": "code",
   "execution_count": 9,
   "id": "57a6f300",
   "metadata": {},
   "outputs": [],
   "source": [
    "y_train = X_train['target']"
   ]
  },
  {
   "cell_type": "code",
   "execution_count": 10,
   "id": "86275b49",
   "metadata": {},
   "outputs": [],
   "source": [
    "X_train = X_train.drop('target', axis = 1)"
   ]
  },
  {
   "cell_type": "code",
   "execution_count": 11,
   "id": "2c313d3b",
   "metadata": {},
   "outputs": [
    {
     "ename": "AssertionError",
     "evalue": "",
     "output_type": "error",
     "traceback": [
      "\u001b[1;31m---------------------------------------------------------------------------\u001b[0m",
      "\u001b[1;31mAssertionError\u001b[0m                            Traceback (most recent call last)",
      "\u001b[1;32m~\\AppData\\Local\\Temp/ipykernel_2532/3772579474.py\u001b[0m in \u001b[0;36m<module>\u001b[1;34m\u001b[0m\n\u001b[1;32m----> 1\u001b[1;33m \u001b[0mf_all\u001b[0m\u001b[1;33m,\u001b[0m \u001b[0mf_binary\u001b[0m\u001b[1;33m,\u001b[0m \u001b[0mf_categorical\u001b[0m\u001b[1;33m,\u001b[0m \u001b[0mf_numeric\u001b[0m \u001b[1;33m=\u001b[0m \u001b[0mselect_type_cols\u001b[0m\u001b[1;33m(\u001b[0m\u001b[0mX_train\u001b[0m\u001b[1;33m)\u001b[0m\u001b[1;33m\u001b[0m\u001b[1;33m\u001b[0m\u001b[0m\n\u001b[0m",
      "\u001b[1;32m~\\Git\\megafon\\project\\until.py\u001b[0m in \u001b[0;36mselect_type_cols\u001b[1;34m(merged_data)\u001b[0m\n\u001b[0;32m    118\u001b[0m     \u001b[0mf_numeric\u001b[0m \u001b[1;33m=\u001b[0m \u001b[0mf_numeric\u001b[0m \u001b[1;33m-\u001b[0m \u001b[0mf_categorical\u001b[0m \u001b[1;33m-\u001b[0m \u001b[0mf_const\u001b[0m\u001b[1;33m\u001b[0m\u001b[1;33m\u001b[0m\u001b[0m\n\u001b[0;32m    119\u001b[0m \u001b[1;33m\u001b[0m\u001b[0m\n\u001b[1;32m--> 120\u001b[1;33m     \u001b[1;32massert\u001b[0m \u001b[1;33m(\u001b[0m\u001b[0mX_nunique\u001b[0m\u001b[1;33m.\u001b[0m\u001b[0mshape\u001b[0m\u001b[1;33m[\u001b[0m\u001b[1;36m0\u001b[0m\u001b[1;33m]\u001b[0m \u001b[1;33m==\u001b[0m \u001b[0mlen\u001b[0m\u001b[1;33m(\u001b[0m\u001b[0mf_const\u001b[0m\u001b[1;33m)\u001b[0m \u001b[1;33m+\u001b[0m \u001b[0mlen\u001b[0m\u001b[1;33m(\u001b[0m\u001b[0mf_binary\u001b[0m\u001b[1;33m)\u001b[0m \u001b[1;33m+\u001b[0m \u001b[0mlen\u001b[0m\u001b[1;33m(\u001b[0m\u001b[0mf_numeric\u001b[0m\u001b[1;33m)\u001b[0m \u001b[1;33m+\u001b[0m \u001b[0mlen\u001b[0m\u001b[1;33m(\u001b[0m\u001b[0mf_categorical\u001b[0m\u001b[1;33m)\u001b[0m\u001b[1;33m)\u001b[0m\u001b[1;33m\u001b[0m\u001b[1;33m\u001b[0m\u001b[0m\n\u001b[0m\u001b[0;32m    121\u001b[0m \u001b[1;33m\u001b[0m\u001b[0m\n\u001b[0;32m    122\u001b[0m     \u001b[0mf_all\u001b[0m \u001b[1;33m=\u001b[0m \u001b[0mlist\u001b[0m\u001b[1;33m(\u001b[0m\u001b[0mf_binary\u001b[0m \u001b[1;33m|\u001b[0m \u001b[0mf_categorical\u001b[0m \u001b[1;33m|\u001b[0m \u001b[0mf_numeric\u001b[0m\u001b[1;33m)\u001b[0m\u001b[1;33m\u001b[0m\u001b[1;33m\u001b[0m\u001b[0m\n",
      "\u001b[1;31mAssertionError\u001b[0m: "
     ]
    }
   ],
   "source": [
    "f_all, f_binary, f_categorical, f_numeric = select_type_cols(X_train)"
   ]
  },
  {
   "cell_type": "code",
   "execution_count": null,
   "id": "25e240fc",
   "metadata": {},
   "outputs": [],
   "source": []
  },
  {
   "cell_type": "markdown",
   "id": "21a80034",
   "metadata": {},
   "source": [
    "### Обучение Модели"
   ]
  },
  {
   "cell_type": "code",
   "execution_count": 27,
   "id": "3e6e6e78",
   "metadata": {},
   "outputs": [],
   "source": [
    "f_prep_pipeline = make_pipeline(\n",
    "    ColumnSelector(columns=f_all),\n",
    "    FeatureUnion(transformer_list=[\n",
    "        (\"numeric_features\", make_pipeline(\n",
    "            ColumnSelector(f_numeric),\n",
    "            SimpleImputer(strategy=\"mean\"),\n",
    "            StandardScaler()\n",
    "        )),\n",
    "        (\"categorical_features\", make_pipeline(\n",
    "            ColumnSelector(f_categorical),\n",
    "            SimpleImputer(strategy=\"most_frequent\"),\n",
    "            OneHotEncoder(handle_unknown='ignore')\n",
    "        )),\n",
    "        (\"boolean_features\", make_pipeline(\n",
    "            ColumnSelector(f_binary),\n",
    "        ))\n",
    "    ])\n",
    ")"
   ]
  },
  {
   "cell_type": "code",
   "execution_count": 28,
   "id": "7c43509a",
   "metadata": {},
   "outputs": [],
   "source": [
    "lg_fs_pipe = make_pipeline(\n",
    "    f_prep_pipeline,\n",
    "    SelectFromModel(LogisticRegression(penalty='l1', random_state=RANDOM_STATE, solver='liblinear'), max_features = 29),\n",
    "    LogisticRegression(random_state=RANDOM_STATE)\n",
    ")"
   ]
  },
  {
   "cell_type": "code",
   "execution_count": 29,
   "id": "fa2526c4",
   "metadata": {},
   "outputs": [
    {
     "name": "stderr",
     "output_type": "stream",
     "text": [
      "C:\\Users\\user\\AppData\\Roaming\\Python\\Python39\\site-packages\\sklearn\\linear_model\\_logistic.py:444: ConvergenceWarning: lbfgs failed to converge (status=1):\n",
      "STOP: TOTAL NO. of ITERATIONS REACHED LIMIT.\n",
      "\n",
      "Increase the number of iterations (max_iter) or scale the data as shown in:\n",
      "    https://scikit-learn.org/stable/modules/preprocessing.html\n",
      "Please also refer to the documentation for alternative solver options:\n",
      "    https://scikit-learn.org/stable/modules/linear_model.html#logistic-regression\n",
      "  n_iter_i = _check_optimize_result(\n"
     ]
    },
    {
     "data": {
      "text/html": [
       "<style>#sk-container-id-1 {color: black;background-color: white;}#sk-container-id-1 pre{padding: 0;}#sk-container-id-1 div.sk-toggleable {background-color: white;}#sk-container-id-1 label.sk-toggleable__label {cursor: pointer;display: block;width: 100%;margin-bottom: 0;padding: 0.3em;box-sizing: border-box;text-align: center;}#sk-container-id-1 label.sk-toggleable__label-arrow:before {content: \"▸\";float: left;margin-right: 0.25em;color: #696969;}#sk-container-id-1 label.sk-toggleable__label-arrow:hover:before {color: black;}#sk-container-id-1 div.sk-estimator:hover label.sk-toggleable__label-arrow:before {color: black;}#sk-container-id-1 div.sk-toggleable__content {max-height: 0;max-width: 0;overflow: hidden;text-align: left;background-color: #f0f8ff;}#sk-container-id-1 div.sk-toggleable__content pre {margin: 0.2em;color: black;border-radius: 0.25em;background-color: #f0f8ff;}#sk-container-id-1 input.sk-toggleable__control:checked~div.sk-toggleable__content {max-height: 200px;max-width: 100%;overflow: auto;}#sk-container-id-1 input.sk-toggleable__control:checked~label.sk-toggleable__label-arrow:before {content: \"▾\";}#sk-container-id-1 div.sk-estimator input.sk-toggleable__control:checked~label.sk-toggleable__label {background-color: #d4ebff;}#sk-container-id-1 div.sk-label input.sk-toggleable__control:checked~label.sk-toggleable__label {background-color: #d4ebff;}#sk-container-id-1 input.sk-hidden--visually {border: 0;clip: rect(1px 1px 1px 1px);clip: rect(1px, 1px, 1px, 1px);height: 1px;margin: -1px;overflow: hidden;padding: 0;position: absolute;width: 1px;}#sk-container-id-1 div.sk-estimator {font-family: monospace;background-color: #f0f8ff;border: 1px dotted black;border-radius: 0.25em;box-sizing: border-box;margin-bottom: 0.5em;}#sk-container-id-1 div.sk-estimator:hover {background-color: #d4ebff;}#sk-container-id-1 div.sk-parallel-item::after {content: \"\";width: 100%;border-bottom: 1px solid gray;flex-grow: 1;}#sk-container-id-1 div.sk-label:hover label.sk-toggleable__label {background-color: #d4ebff;}#sk-container-id-1 div.sk-serial::before {content: \"\";position: absolute;border-left: 1px solid gray;box-sizing: border-box;top: 0;bottom: 0;left: 50%;z-index: 0;}#sk-container-id-1 div.sk-serial {display: flex;flex-direction: column;align-items: center;background-color: white;padding-right: 0.2em;padding-left: 0.2em;position: relative;}#sk-container-id-1 div.sk-item {position: relative;z-index: 1;}#sk-container-id-1 div.sk-parallel {display: flex;align-items: stretch;justify-content: center;background-color: white;position: relative;}#sk-container-id-1 div.sk-item::before, #sk-container-id-1 div.sk-parallel-item::before {content: \"\";position: absolute;border-left: 1px solid gray;box-sizing: border-box;top: 0;bottom: 0;left: 50%;z-index: -1;}#sk-container-id-1 div.sk-parallel-item {display: flex;flex-direction: column;z-index: 1;position: relative;background-color: white;}#sk-container-id-1 div.sk-parallel-item:first-child::after {align-self: flex-end;width: 50%;}#sk-container-id-1 div.sk-parallel-item:last-child::after {align-self: flex-start;width: 50%;}#sk-container-id-1 div.sk-parallel-item:only-child::after {width: 0;}#sk-container-id-1 div.sk-dashed-wrapped {border: 1px dashed gray;margin: 0 0.4em 0.5em 0.4em;box-sizing: border-box;padding-bottom: 0.4em;background-color: white;}#sk-container-id-1 div.sk-label label {font-family: monospace;font-weight: bold;display: inline-block;line-height: 1.2em;}#sk-container-id-1 div.sk-label-container {text-align: center;}#sk-container-id-1 div.sk-container {/* jupyter's `normalize.less` sets `[hidden] { display: none; }` but bootstrap.min.css set `[hidden] { display: none !important; }` so we also need the `!important` here to be able to override the default hidden behavior on the sphinx rendered scikit-learn.org. See: https://github.com/scikit-learn/scikit-learn/issues/21755 */display: inline-block !important;position: relative;}#sk-container-id-1 div.sk-text-repr-fallback {display: none;}</style><div id=\"sk-container-id-1\" class=\"sk-top-container\"><div class=\"sk-text-repr-fallback\"><pre>Pipeline(steps=[(&#x27;pipeline&#x27;,\n",
       "                 Pipeline(steps=[(&#x27;columnselector&#x27;,\n",
       "                                  ColumnSelector(columns=[&#x27;125&#x27;, &#x27;14&#x27;, &#x27;58&#x27;,\n",
       "                                                          &#x27;60&#x27;, &#x27;165&#x27;, &#x27;42&#x27;,\n",
       "                                                          &#x27;64&#x27;, &#x27;211&#x27;, &#x27;10&#x27;,\n",
       "                                                          &#x27;248&#x27;, &#x27;50&#x27;, &#x27;219&#x27;,\n",
       "                                                          &#x27;245&#x27;, &#x27;246&#x27;, &#x27;240&#x27;,\n",
       "                                                          &#x27;28&#x27;, &#x27;161&#x27;, &#x27;3&#x27;,\n",
       "                                                          &#x27;209&#x27;, &#x27;70&#x27;, &#x27;206&#x27;,\n",
       "                                                          &#x27;67&#x27;, &#x27;45&#x27;, &#x27;82&#x27;,\n",
       "                                                          &#x27;19&#x27;, &#x27;37&#x27;, &#x27;18&#x27;,\n",
       "                                                          &#x27;68&#x27;, &#x27;105&#x27;, &#x27;0&#x27;, ...])),\n",
       "                                 (&#x27;featureunion&#x27;,\n",
       "                                  FeatureUnion(transformer_list=[(&#x27;numeric_features&#x27;,\n",
       "                                                                  Pipeline(steps=[(&#x27;columnselect...\n",
       "                                                                                  (&#x27;onehotencoder&#x27;,\n",
       "                                                                                   OneHotEncoder(handle_unknown=&#x27;ignore&#x27;))])),\n",
       "                                                                 (&#x27;boolean_features&#x27;,\n",
       "                                                                  Pipeline(steps=[(&#x27;columnselector&#x27;,\n",
       "                                                                                   ColumnSelector(columns=[&#x27;not_first_offer&#x27;]))]))]))])),\n",
       "                (&#x27;selectfrommodel&#x27;,\n",
       "                 SelectFromModel(estimator=LogisticRegression(penalty=&#x27;l1&#x27;,\n",
       "                                                              random_state=9,\n",
       "                                                              solver=&#x27;liblinear&#x27;),\n",
       "                                 max_features=29)),\n",
       "                (&#x27;logisticregression&#x27;, LogisticRegression(random_state=9))])</pre><b>In a Jupyter environment, please rerun this cell to show the HTML representation or trust the notebook. <br />On GitHub, the HTML representation is unable to render, please try loading this page with nbviewer.org.</b></div><div class=\"sk-container\" hidden><div class=\"sk-item sk-dashed-wrapped\"><div class=\"sk-label-container\"><div class=\"sk-label sk-toggleable\"><input class=\"sk-toggleable__control sk-hidden--visually\" id=\"sk-estimator-id-1\" type=\"checkbox\" ><label for=\"sk-estimator-id-1\" class=\"sk-toggleable__label sk-toggleable__label-arrow\">Pipeline</label><div class=\"sk-toggleable__content\"><pre>Pipeline(steps=[(&#x27;pipeline&#x27;,\n",
       "                 Pipeline(steps=[(&#x27;columnselector&#x27;,\n",
       "                                  ColumnSelector(columns=[&#x27;125&#x27;, &#x27;14&#x27;, &#x27;58&#x27;,\n",
       "                                                          &#x27;60&#x27;, &#x27;165&#x27;, &#x27;42&#x27;,\n",
       "                                                          &#x27;64&#x27;, &#x27;211&#x27;, &#x27;10&#x27;,\n",
       "                                                          &#x27;248&#x27;, &#x27;50&#x27;, &#x27;219&#x27;,\n",
       "                                                          &#x27;245&#x27;, &#x27;246&#x27;, &#x27;240&#x27;,\n",
       "                                                          &#x27;28&#x27;, &#x27;161&#x27;, &#x27;3&#x27;,\n",
       "                                                          &#x27;209&#x27;, &#x27;70&#x27;, &#x27;206&#x27;,\n",
       "                                                          &#x27;67&#x27;, &#x27;45&#x27;, &#x27;82&#x27;,\n",
       "                                                          &#x27;19&#x27;, &#x27;37&#x27;, &#x27;18&#x27;,\n",
       "                                                          &#x27;68&#x27;, &#x27;105&#x27;, &#x27;0&#x27;, ...])),\n",
       "                                 (&#x27;featureunion&#x27;,\n",
       "                                  FeatureUnion(transformer_list=[(&#x27;numeric_features&#x27;,\n",
       "                                                                  Pipeline(steps=[(&#x27;columnselect...\n",
       "                                                                                  (&#x27;onehotencoder&#x27;,\n",
       "                                                                                   OneHotEncoder(handle_unknown=&#x27;ignore&#x27;))])),\n",
       "                                                                 (&#x27;boolean_features&#x27;,\n",
       "                                                                  Pipeline(steps=[(&#x27;columnselector&#x27;,\n",
       "                                                                                   ColumnSelector(columns=[&#x27;not_first_offer&#x27;]))]))]))])),\n",
       "                (&#x27;selectfrommodel&#x27;,\n",
       "                 SelectFromModel(estimator=LogisticRegression(penalty=&#x27;l1&#x27;,\n",
       "                                                              random_state=9,\n",
       "                                                              solver=&#x27;liblinear&#x27;),\n",
       "                                 max_features=29)),\n",
       "                (&#x27;logisticregression&#x27;, LogisticRegression(random_state=9))])</pre></div></div></div><div class=\"sk-serial\"><div class=\"sk-item\"><div class=\"sk-label-container\"><div class=\"sk-label sk-toggleable\"><input class=\"sk-toggleable__control sk-hidden--visually\" id=\"sk-estimator-id-2\" type=\"checkbox\" ><label for=\"sk-estimator-id-2\" class=\"sk-toggleable__label sk-toggleable__label-arrow\">pipeline: Pipeline</label><div class=\"sk-toggleable__content\"><pre>Pipeline(steps=[(&#x27;columnselector&#x27;,\n",
       "                 ColumnSelector(columns=[&#x27;125&#x27;, &#x27;14&#x27;, &#x27;58&#x27;, &#x27;60&#x27;, &#x27;165&#x27;, &#x27;42&#x27;,\n",
       "                                         &#x27;64&#x27;, &#x27;211&#x27;, &#x27;10&#x27;, &#x27;248&#x27;, &#x27;50&#x27;, &#x27;219&#x27;,\n",
       "                                         &#x27;245&#x27;, &#x27;246&#x27;, &#x27;240&#x27;, &#x27;28&#x27;, &#x27;161&#x27;, &#x27;3&#x27;,\n",
       "                                         &#x27;209&#x27;, &#x27;70&#x27;, &#x27;206&#x27;, &#x27;67&#x27;, &#x27;45&#x27;, &#x27;82&#x27;,\n",
       "                                         &#x27;19&#x27;, &#x27;37&#x27;, &#x27;18&#x27;, &#x27;68&#x27;, &#x27;105&#x27;, &#x27;0&#x27;, ...])),\n",
       "                (&#x27;featureunion&#x27;,\n",
       "                 FeatureUnion(transformer_list=[(&#x27;numeric_features&#x27;,\n",
       "                                                 Pipeline(steps=[(&#x27;columnselector&#x27;,\n",
       "                                                                  ColumnSelector(columns=[...\n",
       "                                                                                          &#x27;65&#x27;,\n",
       "                                                                                          &#x27;142&#x27;,\n",
       "                                                                                          &#x27;214&#x27;,\n",
       "                                                                                          &#x27;15&#x27;,\n",
       "                                                                                          &#x27;195&#x27;,\n",
       "                                                                                          &#x27;69&#x27;,\n",
       "                                                                                          &#x27;196&#x27;,\n",
       "                                                                                          &#x27;199&#x27;,\n",
       "                                                                                          &#x27;252&#x27;,\n",
       "                                                                                          &#x27;28&#x27;,\n",
       "                                                                                          &#x27;29&#x27;,\n",
       "                                                                                          &#x27;84&#x27;,\n",
       "                                                                                          &#x27;216&#x27;,\n",
       "                                                                                          &#x27;70&#x27;,\n",
       "                                                                                          &#x27;206&#x27;,\n",
       "                                                                                          &#x27;133&#x27;,\n",
       "                                                                                          &#x27;132&#x27;,\n",
       "                                                                                          &#x27;141&#x27;,\n",
       "                                                                                          &#x27;197&#x27;,\n",
       "                                                                                          &#x27;193&#x27;,\n",
       "                                                                                          &#x27;194&#x27;, ...])),\n",
       "                                                                 (&#x27;simpleimputer&#x27;,\n",
       "                                                                  SimpleImputer(strategy=&#x27;most_frequent&#x27;)),\n",
       "                                                                 (&#x27;onehotencoder&#x27;,\n",
       "                                                                  OneHotEncoder(handle_unknown=&#x27;ignore&#x27;))])),\n",
       "                                                (&#x27;boolean_features&#x27;,\n",
       "                                                 Pipeline(steps=[(&#x27;columnselector&#x27;,\n",
       "                                                                  ColumnSelector(columns=[&#x27;not_first_offer&#x27;]))]))]))])</pre></div></div></div><div class=\"sk-serial\"><div class=\"sk-item\"><div class=\"sk-estimator sk-toggleable\"><input class=\"sk-toggleable__control sk-hidden--visually\" id=\"sk-estimator-id-3\" type=\"checkbox\" ><label for=\"sk-estimator-id-3\" class=\"sk-toggleable__label sk-toggleable__label-arrow\">ColumnSelector</label><div class=\"sk-toggleable__content\"><pre>ColumnSelector(columns=[&#x27;125&#x27;, &#x27;14&#x27;, &#x27;58&#x27;, &#x27;60&#x27;, &#x27;165&#x27;, &#x27;42&#x27;, &#x27;64&#x27;, &#x27;211&#x27;, &#x27;10&#x27;,\n",
       "                        &#x27;248&#x27;, &#x27;50&#x27;, &#x27;219&#x27;, &#x27;245&#x27;, &#x27;246&#x27;, &#x27;240&#x27;, &#x27;28&#x27;, &#x27;161&#x27;,\n",
       "                        &#x27;3&#x27;, &#x27;209&#x27;, &#x27;70&#x27;, &#x27;206&#x27;, &#x27;67&#x27;, &#x27;45&#x27;, &#x27;82&#x27;, &#x27;19&#x27;, &#x27;37&#x27;,\n",
       "                        &#x27;18&#x27;, &#x27;68&#x27;, &#x27;105&#x27;, &#x27;0&#x27;, ...])</pre></div></div></div><div class=\"sk-item sk-dashed-wrapped\"><div class=\"sk-label-container\"><div class=\"sk-label sk-toggleable\"><input class=\"sk-toggleable__control sk-hidden--visually\" id=\"sk-estimator-id-4\" type=\"checkbox\" ><label for=\"sk-estimator-id-4\" class=\"sk-toggleable__label sk-toggleable__label-arrow\">featureunion: FeatureUnion</label><div class=\"sk-toggleable__content\"><pre>FeatureUnion(transformer_list=[(&#x27;numeric_features&#x27;,\n",
       "                                Pipeline(steps=[(&#x27;columnselector&#x27;,\n",
       "                                                 ColumnSelector(columns=[&#x27;125&#x27;,\n",
       "                                                                         &#x27;14&#x27;,\n",
       "                                                                         &#x27;58&#x27;,\n",
       "                                                                         &#x27;60&#x27;,\n",
       "                                                                         &#x27;165&#x27;,\n",
       "                                                                         &#x27;42&#x27;,\n",
       "                                                                         &#x27;64&#x27;,\n",
       "                                                                         &#x27;211&#x27;,\n",
       "                                                                         &#x27;10&#x27;,\n",
       "                                                                         &#x27;248&#x27;,\n",
       "                                                                         &#x27;50&#x27;,\n",
       "                                                                         &#x27;219&#x27;,\n",
       "                                                                         &#x27;245&#x27;,\n",
       "                                                                         &#x27;246&#x27;,\n",
       "                                                                         &#x27;240&#x27;,\n",
       "                                                                         &#x27;161&#x27;,\n",
       "                                                                         &#x27;3&#x27;,\n",
       "                                                                         &#x27;209&#x27;,\n",
       "                                                                         &#x27;67&#x27;,\n",
       "                                                                         &#x27;45&#x27;,\n",
       "                                                                         &#x27;82&#x27;,\n",
       "                                                                         &#x27;19&#x27;,\n",
       "                                                                         &#x27;37&#x27;,\n",
       "                                                                         &#x27;18&#x27;,\n",
       "                                                                         &#x27;68&#x27;,\n",
       "                                                                         &#x27;105&#x27;,\n",
       "                                                                         &#x27;0&#x27;,\n",
       "                                                                         &#x27;175&#x27;,\n",
       "                                                                         &#x27;247&#x27;,\n",
       "                                                                         &#x27;59&#x27;, ...])),\n",
       "                                                (&#x27;simpleimputer&#x27;,\n",
       "                                                 SimpleImputer()),\n",
       "                                                (&#x27;standardscaler&#x27;,\n",
       "                                                 StandardScaler())])),...\n",
       "                                                                         &#x27;24&#x27;,\n",
       "                                                                         &#x27;65&#x27;,\n",
       "                                                                         &#x27;142&#x27;,\n",
       "                                                                         &#x27;214&#x27;,\n",
       "                                                                         &#x27;15&#x27;,\n",
       "                                                                         &#x27;195&#x27;,\n",
       "                                                                         &#x27;69&#x27;,\n",
       "                                                                         &#x27;196&#x27;,\n",
       "                                                                         &#x27;199&#x27;,\n",
       "                                                                         &#x27;252&#x27;,\n",
       "                                                                         &#x27;28&#x27;,\n",
       "                                                                         &#x27;29&#x27;,\n",
       "                                                                         &#x27;84&#x27;,\n",
       "                                                                         &#x27;216&#x27;,\n",
       "                                                                         &#x27;70&#x27;,\n",
       "                                                                         &#x27;206&#x27;,\n",
       "                                                                         &#x27;133&#x27;,\n",
       "                                                                         &#x27;132&#x27;,\n",
       "                                                                         &#x27;141&#x27;,\n",
       "                                                                         &#x27;197&#x27;,\n",
       "                                                                         &#x27;193&#x27;,\n",
       "                                                                         &#x27;194&#x27;, ...])),\n",
       "                                                (&#x27;simpleimputer&#x27;,\n",
       "                                                 SimpleImputer(strategy=&#x27;most_frequent&#x27;)),\n",
       "                                                (&#x27;onehotencoder&#x27;,\n",
       "                                                 OneHotEncoder(handle_unknown=&#x27;ignore&#x27;))])),\n",
       "                               (&#x27;boolean_features&#x27;,\n",
       "                                Pipeline(steps=[(&#x27;columnselector&#x27;,\n",
       "                                                 ColumnSelector(columns=[&#x27;not_first_offer&#x27;]))]))])</pre></div></div></div><div class=\"sk-parallel\"><div class=\"sk-parallel-item\"><div class=\"sk-item\"><div class=\"sk-label-container\"><div class=\"sk-label sk-toggleable\"><label>numeric_features</label></div></div><div class=\"sk-serial\"><div class=\"sk-item\"><div class=\"sk-serial\"><div class=\"sk-item\"><div class=\"sk-estimator sk-toggleable\"><input class=\"sk-toggleable__control sk-hidden--visually\" id=\"sk-estimator-id-5\" type=\"checkbox\" ><label for=\"sk-estimator-id-5\" class=\"sk-toggleable__label sk-toggleable__label-arrow\">ColumnSelector</label><div class=\"sk-toggleable__content\"><pre>ColumnSelector(columns=[&#x27;125&#x27;, &#x27;14&#x27;, &#x27;58&#x27;, &#x27;60&#x27;, &#x27;165&#x27;, &#x27;42&#x27;, &#x27;64&#x27;, &#x27;211&#x27;, &#x27;10&#x27;,\n",
       "                        &#x27;248&#x27;, &#x27;50&#x27;, &#x27;219&#x27;, &#x27;245&#x27;, &#x27;246&#x27;, &#x27;240&#x27;, &#x27;161&#x27;, &#x27;3&#x27;,\n",
       "                        &#x27;209&#x27;, &#x27;67&#x27;, &#x27;45&#x27;, &#x27;82&#x27;, &#x27;19&#x27;, &#x27;37&#x27;, &#x27;18&#x27;, &#x27;68&#x27;, &#x27;105&#x27;,\n",
       "                        &#x27;0&#x27;, &#x27;175&#x27;, &#x27;247&#x27;, &#x27;59&#x27;, ...])</pre></div></div></div><div class=\"sk-item\"><div class=\"sk-estimator sk-toggleable\"><input class=\"sk-toggleable__control sk-hidden--visually\" id=\"sk-estimator-id-6\" type=\"checkbox\" ><label for=\"sk-estimator-id-6\" class=\"sk-toggleable__label sk-toggleable__label-arrow\">SimpleImputer</label><div class=\"sk-toggleable__content\"><pre>SimpleImputer()</pre></div></div></div><div class=\"sk-item\"><div class=\"sk-estimator sk-toggleable\"><input class=\"sk-toggleable__control sk-hidden--visually\" id=\"sk-estimator-id-7\" type=\"checkbox\" ><label for=\"sk-estimator-id-7\" class=\"sk-toggleable__label sk-toggleable__label-arrow\">StandardScaler</label><div class=\"sk-toggleable__content\"><pre>StandardScaler()</pre></div></div></div></div></div></div></div></div><div class=\"sk-parallel-item\"><div class=\"sk-item\"><div class=\"sk-label-container\"><div class=\"sk-label sk-toggleable\"><label>categorical_features</label></div></div><div class=\"sk-serial\"><div class=\"sk-item\"><div class=\"sk-serial\"><div class=\"sk-item\"><div class=\"sk-estimator sk-toggleable\"><input class=\"sk-toggleable__control sk-hidden--visually\" id=\"sk-estimator-id-8\" type=\"checkbox\" ><label for=\"sk-estimator-id-8\" class=\"sk-toggleable__label sk-toggleable__label-arrow\">ColumnSelector</label><div class=\"sk-toggleable__content\"><pre>ColumnSelector(columns=[&#x27;179&#x27;, &#x27;200&#x27;, &#x27;17&#x27;, &#x27;204&#x27;, &#x27;35&#x27;, &#x27;198&#x27;, &#x27;205&#x27;, &#x27;154&#x27;,\n",
       "                        &#x27;24&#x27;, &#x27;65&#x27;, &#x27;142&#x27;, &#x27;214&#x27;, &#x27;15&#x27;, &#x27;195&#x27;, &#x27;69&#x27;, &#x27;196&#x27;,\n",
       "                        &#x27;199&#x27;, &#x27;252&#x27;, &#x27;28&#x27;, &#x27;29&#x27;, &#x27;84&#x27;, &#x27;216&#x27;, &#x27;70&#x27;, &#x27;206&#x27;,\n",
       "                        &#x27;133&#x27;, &#x27;132&#x27;, &#x27;141&#x27;, &#x27;197&#x27;, &#x27;193&#x27;, &#x27;194&#x27;, ...])</pre></div></div></div><div class=\"sk-item\"><div class=\"sk-estimator sk-toggleable\"><input class=\"sk-toggleable__control sk-hidden--visually\" id=\"sk-estimator-id-9\" type=\"checkbox\" ><label for=\"sk-estimator-id-9\" class=\"sk-toggleable__label sk-toggleable__label-arrow\">SimpleImputer</label><div class=\"sk-toggleable__content\"><pre>SimpleImputer(strategy=&#x27;most_frequent&#x27;)</pre></div></div></div><div class=\"sk-item\"><div class=\"sk-estimator sk-toggleable\"><input class=\"sk-toggleable__control sk-hidden--visually\" id=\"sk-estimator-id-10\" type=\"checkbox\" ><label for=\"sk-estimator-id-10\" class=\"sk-toggleable__label sk-toggleable__label-arrow\">OneHotEncoder</label><div class=\"sk-toggleable__content\"><pre>OneHotEncoder(handle_unknown=&#x27;ignore&#x27;)</pre></div></div></div></div></div></div></div></div><div class=\"sk-parallel-item\"><div class=\"sk-item\"><div class=\"sk-label-container\"><div class=\"sk-label sk-toggleable\"><label>boolean_features</label></div></div><div class=\"sk-serial\"><div class=\"sk-item\"><div class=\"sk-serial\"><div class=\"sk-item\"><div class=\"sk-estimator sk-toggleable\"><input class=\"sk-toggleable__control sk-hidden--visually\" id=\"sk-estimator-id-11\" type=\"checkbox\" ><label for=\"sk-estimator-id-11\" class=\"sk-toggleable__label sk-toggleable__label-arrow\">ColumnSelector</label><div class=\"sk-toggleable__content\"><pre>ColumnSelector(columns=[&#x27;not_first_offer&#x27;])</pre></div></div></div></div></div></div></div></div></div></div></div></div><div class=\"sk-item sk-dashed-wrapped\"><div class=\"sk-label-container\"><div class=\"sk-label sk-toggleable\"><input class=\"sk-toggleable__control sk-hidden--visually\" id=\"sk-estimator-id-12\" type=\"checkbox\" ><label for=\"sk-estimator-id-12\" class=\"sk-toggleable__label sk-toggleable__label-arrow\">selectfrommodel: SelectFromModel</label><div class=\"sk-toggleable__content\"><pre>SelectFromModel(estimator=LogisticRegression(penalty=&#x27;l1&#x27;, random_state=9,\n",
       "                                             solver=&#x27;liblinear&#x27;),\n",
       "                max_features=29)</pre></div></div></div><div class=\"sk-parallel\"><div class=\"sk-parallel-item\"><div class=\"sk-item\"><div class=\"sk-label-container\"><div class=\"sk-label sk-toggleable\"><input class=\"sk-toggleable__control sk-hidden--visually\" id=\"sk-estimator-id-13\" type=\"checkbox\" ><label for=\"sk-estimator-id-13\" class=\"sk-toggleable__label sk-toggleable__label-arrow\">estimator: LogisticRegression</label><div class=\"sk-toggleable__content\"><pre>LogisticRegression(penalty=&#x27;l1&#x27;, random_state=9, solver=&#x27;liblinear&#x27;)</pre></div></div></div><div class=\"sk-serial\"><div class=\"sk-item\"><div class=\"sk-estimator sk-toggleable\"><input class=\"sk-toggleable__control sk-hidden--visually\" id=\"sk-estimator-id-14\" type=\"checkbox\" ><label for=\"sk-estimator-id-14\" class=\"sk-toggleable__label sk-toggleable__label-arrow\">LogisticRegression</label><div class=\"sk-toggleable__content\"><pre>LogisticRegression(penalty=&#x27;l1&#x27;, random_state=9, solver=&#x27;liblinear&#x27;)</pre></div></div></div></div></div></div></div></div><div class=\"sk-item\"><div class=\"sk-estimator sk-toggleable\"><input class=\"sk-toggleable__control sk-hidden--visually\" id=\"sk-estimator-id-15\" type=\"checkbox\" ><label for=\"sk-estimator-id-15\" class=\"sk-toggleable__label sk-toggleable__label-arrow\">LogisticRegression</label><div class=\"sk-toggleable__content\"><pre>LogisticRegression(random_state=9)</pre></div></div></div></div></div></div></div>"
      ],
      "text/plain": [
       "Pipeline(steps=[('pipeline',\n",
       "                 Pipeline(steps=[('columnselector',\n",
       "                                  ColumnSelector(columns=['125', '14', '58',\n",
       "                                                          '60', '165', '42',\n",
       "                                                          '64', '211', '10',\n",
       "                                                          '248', '50', '219',\n",
       "                                                          '245', '246', '240',\n",
       "                                                          '28', '161', '3',\n",
       "                                                          '209', '70', '206',\n",
       "                                                          '67', '45', '82',\n",
       "                                                          '19', '37', '18',\n",
       "                                                          '68', '105', '0', ...])),\n",
       "                                 ('featureunion',\n",
       "                                  FeatureUnion(transformer_list=[('numeric_features',\n",
       "                                                                  Pipeline(steps=[('columnselect...\n",
       "                                                                                  ('onehotencoder',\n",
       "                                                                                   OneHotEncoder(handle_unknown='ignore'))])),\n",
       "                                                                 ('boolean_features',\n",
       "                                                                  Pipeline(steps=[('columnselector',\n",
       "                                                                                   ColumnSelector(columns=['not_first_offer']))]))]))])),\n",
       "                ('selectfrommodel',\n",
       "                 SelectFromModel(estimator=LogisticRegression(penalty='l1',\n",
       "                                                              random_state=9,\n",
       "                                                              solver='liblinear'),\n",
       "                                 max_features=29)),\n",
       "                ('logisticregression', LogisticRegression(random_state=9))])"
      ]
     },
     "execution_count": 29,
     "metadata": {},
     "output_type": "execute_result"
    }
   ],
   "source": [
    "lg_fs_pipe.fit(X_train, y_train)"
   ]
  },
  {
   "cell_type": "code",
   "execution_count": 32,
   "id": "8007548b",
   "metadata": {},
   "outputs": [],
   "source": [
    "with open('data/lg_fs_model.pickle', 'wb') as f:\n",
    "    pickle.dump(lg_fs_pipe, f, protocol=pickle.HIGHEST_PROTOCOL)"
   ]
  },
  {
   "cell_type": "code",
   "execution_count": null,
   "id": "3692ff50",
   "metadata": {},
   "outputs": [],
   "source": []
  }
 ],
 "metadata": {
  "kernelspec": {
   "display_name": "Python 3 (ipykernel)",
   "language": "python",
   "name": "python3"
  },
  "language_info": {
   "codemirror_mode": {
    "name": "ipython",
    "version": 3
   },
   "file_extension": ".py",
   "mimetype": "text/x-python",
   "name": "python",
   "nbconvert_exporter": "python",
   "pygments_lexer": "ipython3",
   "version": "3.9.7"
  }
 },
 "nbformat": 4,
 "nbformat_minor": 5
}
