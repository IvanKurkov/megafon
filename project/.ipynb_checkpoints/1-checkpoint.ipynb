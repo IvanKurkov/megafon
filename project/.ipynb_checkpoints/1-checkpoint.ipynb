{
 "cells": [
  {
   "cell_type": "code",
   "execution_count": 302,
   "id": "cf8b6416",
   "metadata": {},
   "outputs": [],
   "source": [
    "import pandas as pd\n",
    "import numpy as np\n",
    "import matplotlib.pyplot as plt\n",
    "import seaborn as sns"
   ]
  },
  {
   "cell_type": "code",
   "execution_count": 303,
   "id": "f98853f7",
   "metadata": {},
   "outputs": [],
   "source": [
    "TRAIN_DATA = 'data/data_train.csv'\n",
    "TEST_DATA = 'data/data_train.csv'"
   ]
  },
  {
   "cell_type": "code",
   "execution_count": 304,
   "id": "f90204ae",
   "metadata": {},
   "outputs": [],
   "source": [
    "train_df = pd.read_csv(TRAIN_DATA)"
   ]
  },
  {
   "cell_type": "code",
   "execution_count": 305,
   "id": "a5c4b466",
   "metadata": {},
   "outputs": [
    {
     "data": {
      "text/html": [
       "<div>\n",
       "<style scoped>\n",
       "    .dataframe tbody tr th:only-of-type {\n",
       "        vertical-align: middle;\n",
       "    }\n",
       "\n",
       "    .dataframe tbody tr th {\n",
       "        vertical-align: top;\n",
       "    }\n",
       "\n",
       "    .dataframe thead th {\n",
       "        text-align: right;\n",
       "    }\n",
       "</style>\n",
       "<table border=\"1\" class=\"dataframe\">\n",
       "  <thead>\n",
       "    <tr style=\"text-align: right;\">\n",
       "      <th></th>\n",
       "      <th>Unnamed: 0</th>\n",
       "      <th>id</th>\n",
       "      <th>vas_id</th>\n",
       "      <th>buy_time</th>\n",
       "      <th>target</th>\n",
       "    </tr>\n",
       "  </thead>\n",
       "  <tbody>\n",
       "    <tr>\n",
       "      <th>0</th>\n",
       "      <td>0</td>\n",
       "      <td>540968</td>\n",
       "      <td>8.0</td>\n",
       "      <td>1537131600</td>\n",
       "      <td>0.0</td>\n",
       "    </tr>\n",
       "    <tr>\n",
       "      <th>1</th>\n",
       "      <td>1</td>\n",
       "      <td>1454121</td>\n",
       "      <td>4.0</td>\n",
       "      <td>1531688400</td>\n",
       "      <td>0.0</td>\n",
       "    </tr>\n",
       "  </tbody>\n",
       "</table>\n",
       "</div>"
      ],
      "text/plain": [
       "   Unnamed: 0       id  vas_id    buy_time  target\n",
       "0           0   540968     8.0  1537131600     0.0\n",
       "1           1  1454121     4.0  1531688400     0.0"
      ]
     },
     "execution_count": 305,
     "metadata": {},
     "output_type": "execute_result"
    }
   ],
   "source": [
    "train_df.head(2)"
   ]
  },
  {
   "cell_type": "markdown",
   "id": "8d79d4ae",
   "metadata": {},
   "source": [
    "##### Сперва достанем данные из временной метки, и посмотрим распределение целевого признака в разрезе остальных признаков."
   ]
  },
  {
   "cell_type": "code",
   "execution_count": 306,
   "id": "a2f96785",
   "metadata": {},
   "outputs": [],
   "source": [
    "train_df = train_df.drop('Unnamed: 0', axis=1)"
   ]
  },
  {
   "cell_type": "code",
   "execution_count": 307,
   "id": "e0bb82a8",
   "metadata": {},
   "outputs": [],
   "source": [
    "train_df['buy_time'] = pd.to_datetime(train_df['buy_time'], unit='s') "
   ]
  },
  {
   "cell_type": "code",
   "execution_count": 308,
   "id": "7eb6eb82",
   "metadata": {},
   "outputs": [],
   "source": [
    "train_df['monthday'] = train_df['buy_time'].dt.day\n",
    "train_df['month'] = train_df['buy_time'].dt.month"
   ]
  },
  {
   "cell_type": "markdown",
   "id": "0c6931a1",
   "metadata": {},
   "source": [
    "- В процессе выяснил, что все звонки были в воскресенье в 21 час. По этому нет смысла добавлять день недели и время звонка. (А жаль, мне кажется было бы полезно)"
   ]
  },
  {
   "cell_type": "code",
   "execution_count": 309,
   "id": "36170ef4",
   "metadata": {},
   "outputs": [
    {
     "data": {
      "text/html": [
       "<div>\n",
       "<style scoped>\n",
       "    .dataframe tbody tr th:only-of-type {\n",
       "        vertical-align: middle;\n",
       "    }\n",
       "\n",
       "    .dataframe tbody tr th {\n",
       "        vertical-align: top;\n",
       "    }\n",
       "\n",
       "    .dataframe thead th {\n",
       "        text-align: right;\n",
       "    }\n",
       "</style>\n",
       "<table border=\"1\" class=\"dataframe\">\n",
       "  <thead>\n",
       "    <tr style=\"text-align: right;\">\n",
       "      <th></th>\n",
       "      <th>id</th>\n",
       "      <th>vas_id</th>\n",
       "      <th>buy_time</th>\n",
       "      <th>target</th>\n",
       "      <th>monthday</th>\n",
       "      <th>month</th>\n",
       "    </tr>\n",
       "  </thead>\n",
       "  <tbody>\n",
       "    <tr>\n",
       "      <th>0</th>\n",
       "      <td>540968</td>\n",
       "      <td>8.0</td>\n",
       "      <td>2018-09-16 21:00:00</td>\n",
       "      <td>0.0</td>\n",
       "      <td>16</td>\n",
       "      <td>9</td>\n",
       "    </tr>\n",
       "    <tr>\n",
       "      <th>1</th>\n",
       "      <td>1454121</td>\n",
       "      <td>4.0</td>\n",
       "      <td>2018-07-15 21:00:00</td>\n",
       "      <td>0.0</td>\n",
       "      <td>15</td>\n",
       "      <td>7</td>\n",
       "    </tr>\n",
       "  </tbody>\n",
       "</table>\n",
       "</div>"
      ],
      "text/plain": [
       "        id  vas_id            buy_time  target  monthday  month\n",
       "0   540968     8.0 2018-09-16 21:00:00     0.0        16      9\n",
       "1  1454121     4.0 2018-07-15 21:00:00     0.0        15      7"
      ]
     },
     "execution_count": 309,
     "metadata": {},
     "output_type": "execute_result"
    }
   ],
   "source": [
    "train_df.head(2)"
   ]
  },
  {
   "cell_type": "code",
   "execution_count": 310,
   "id": "629e4a65",
   "metadata": {},
   "outputs": [],
   "source": [
    "train_df = train_df.sort_values('buy_time')"
   ]
  },
  {
   "cell_type": "code",
   "execution_count": 311,
   "id": "faccd25d",
   "metadata": {},
   "outputs": [],
   "source": [
    "train_df['not_first_offer'] = train_df.duplicated('id').astype(int)"
   ]
  },
  {
   "cell_type": "markdown",
   "id": "623d324b",
   "metadata": {},
   "source": [
    "- Выделим пользователей, которым делали предложения больше 1 раза."
   ]
  },
  {
   "cell_type": "markdown",
   "id": "a26c2d63",
   "metadata": {},
   "source": [
    "##### Целевая переменная"
   ]
  },
  {
   "cell_type": "code",
   "execution_count": 312,
   "id": "8f38f3d9",
   "metadata": {},
   "outputs": [
    {
     "data": {
      "image/png": "[encoded data removed]",
      "text/plain": [
       "<Figure size 576x360 with 1 Axes>"
      ]
     },
     "metadata": {
      "needs_background": "light"
     },
     "output_type": "display_data"
    }
   ],
   "source": [
    "plt.figure(figsize=(8, 5))\n",
    "\n",
    "sns.countplot(x='target', data=train_df)\n",
    "\n",
    "plt.title('Target variable distribution')\n",
    "plt.show()"
   ]
  },
  {
   "cell_type": "markdown",
   "id": "5bed8654",
   "metadata": {},
   "source": [
    "- Таргет имеет сильный дисбаланс"
   ]
  },
  {
   "cell_type": "code",
   "execution_count": 313,
   "id": "68c0f2de",
   "metadata": {},
   "outputs": [
    {
     "data": {
      "image/png": "[encoded data removed]",
      "text/plain": [
       "<Figure size 720x576 with 1 Axes>"
      ]
     },
     "metadata": {
      "needs_background": "light"
     },
     "output_type": "display_data"
    }
   ],
   "source": [
    "plt.figure(figsize=(10, 8))\n",
    "\n",
    "sns.countplot(x=\"vas_id\", hue='target', data=train_df)\n",
    "plt.title('vas_id grouped by target variable')\n",
    "plt.legend(title='Target', loc='upper right')\n",
    "\n",
    "plt.show()"
   ]
  },
  {
   "cell_type": "markdown",
   "id": "68fd45cc",
   "metadata": {},
   "source": [
    "- Видим, что на услугу \"6\" положительный отклик на много выше остальных. Также \"4\" услуга имеет больший спрос. "
   ]
  },
  {
   "cell_type": "code",
   "execution_count": 314,
   "id": "1e9f06fc",
   "metadata": {},
   "outputs": [
    {
     "data": {
      "image/png": "[encoded data removed]",
      "text/plain": [
       "<Figure size 720x576 with 1 Axes>"
      ]
     },
     "metadata": {
      "needs_background": "light"
     },
     "output_type": "display_data"
    }
   ],
   "source": [
    "plt.figure(figsize=(10, 8))\n",
    "\n",
    "sns.countplot(x=\"monthday\", hue='target', data=train_df)\n",
    "plt.title('monthday grouped by target variable')\n",
    "plt.legend(title='Target', loc='upper right')\n",
    "\n",
    "plt.show()"
   ]
  },
  {
   "cell_type": "markdown",
   "id": "099f6f5f",
   "metadata": {},
   "source": [
    "- Наблюдается сильный прекос отклика в положительную сторону в середине месяца, может это период зарплаты, когда люди более лояльны к новым покупкам. Ну и в целом видно, что в это время пик предложений, видимо маркетинг тоже пришел к выводу, что лучше звонить в эти дни. "
   ]
  },
  {
   "cell_type": "code",
   "execution_count": 315,
   "id": "ca37ad9a",
   "metadata": {},
   "outputs": [
    {
     "data": {
      "image/png": "[encoded data removed]",
      "text/plain": [
       "<Figure size 720x576 with 1 Axes>"
      ]
     },
     "metadata": {
      "needs_background": "light"
     },
     "output_type": "display_data"
    }
   ],
   "source": [
    "plt.figure(figsize=(10, 8))\n",
    "\n",
    "sns.countplot(x=\"not_first_offer\", hue='target', data=train_df)\n",
    "plt.title('not_first_offer grouped by target variable')\n",
    "plt.legend(title='Target', loc='upper right')\n",
    "\n",
    "plt.show()"
   ]
  },
  {
   "cell_type": "markdown",
   "id": "92af6eb3",
   "metadata": {},
   "source": [
    "- Интересно, что те, кому звонили не в первый раз, имеют явный перекос в сторону положительного отклика. "
   ]
  },
  {
   "cell_type": "code",
   "execution_count": 316,
   "id": "dd12f2b8",
   "metadata": {},
   "outputs": [
    {
     "data": {
      "image/png": "[encoded data removed]",
      "text/plain": [
       "<Figure size 720x576 with 1 Axes>"
      ]
     },
     "metadata": {
      "needs_background": "light"
     },
     "output_type": "display_data"
    }
   ],
   "source": [
    "plt.figure(figsize=(10, 8))\n",
    "\n",
    "sns.countplot(x=\"month\", hue='target', data=train_df)\n",
    "plt.title('month grouped by target variable')\n",
    "plt.legend(title='Target', loc='upper right')\n",
    "\n",
    "plt.show()"
   ]
  },
  {
   "cell_type": "markdown",
   "id": "a6da1624",
   "metadata": {},
   "source": [
    "- Видно, что в Ноябре \\ Декабре имеется явное увеличение положительных откликов. В декабре большое количество предложений, возможно предлагали новогоднюю акцию или старались закрыть план за год."
   ]
  },
  {
   "cell_type": "code",
   "execution_count": 317,
   "id": "a2d974f1",
   "metadata": {},
   "outputs": [],
   "source": [
    "sample = train_df.loc[(train_df['not_first_offer'] == 1) & (train_df['monthday'].isin([16, 17, 18, 19, 20]))]"
   ]
  },
  {
   "cell_type": "code",
   "execution_count": 318,
   "id": "831a3442",
   "metadata": {},
   "outputs": [
    {
     "data": {
      "image/png": "[encoded data removed]",
      "text/plain": [
       "<Figure size 720x576 with 1 Axes>"
      ]
     },
     "metadata": {
      "needs_background": "light"
     },
     "output_type": "display_data"
    }
   ],
   "source": [
    "plt.figure(figsize=(10, 8))\n",
    "\n",
    "sns.countplot(x=\"vas_id\", hue='target', data=sample)\n",
    "plt.title('vas_id grouped by target variable')\n",
    "plt.legend(title='Target', loc='upper right')\n",
    "\n",
    "plt.show()"
   ]
  },
  {
   "cell_type": "markdown",
   "id": "bdd3d625",
   "metadata": {},
   "source": [
    "#### Из приведенных выше данных, могу сделать бейзлайн рекомендации \"Всегда нужно звонить повторно, звонить стоит в середине месяца\". При этом не чаще раза в месяц, и предлагать разные услуги. Даже без дополнительных описательных характеристик пользователя, мы видим, что вероятность положительного отклика на любую услугу в этих рамках много выше. "
   ]
  },
  {
   "cell_type": "code",
   "execution_count": 319,
   "id": "28fb97e6",
   "metadata": {},
   "outputs": [],
   "source": [
    "train_df['сounts'] = train_df.groupby(['id'])['vas_id'].transform('count')"
   ]
  },
  {
   "cell_type": "code",
   "execution_count": null,
   "id": "f3a37c68",
   "metadata": {},
   "outputs": [],
   "source": []
  }
 ],
 "metadata": {
  "kernelspec": {
   "display_name": "Python 3",
   "language": "python",
   "name": "python3"
  },
  "language_info": {
   "codemirror_mode": {
    "name": "ipython",
    "version": 3
   },
   "file_extension": ".py",
   "mimetype": "text/x-python",
   "name": "python",
   "nbconvert_exporter": "python",
   "pygments_lexer": "ipython3",
   "version": "3.8.8"
  }
 },
 "nbformat": 4,
 "nbformat_minor": 5
}
