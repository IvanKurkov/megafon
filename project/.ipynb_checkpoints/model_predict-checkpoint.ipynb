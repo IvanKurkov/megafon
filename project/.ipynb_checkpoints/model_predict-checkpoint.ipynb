{
 "cells": [
  {
   "cell_type": "code",
   "execution_count": null,
   "id": "04c9e783",
   "metadata": {},
   "outputs": [],
   "source": [
    "with open(\"offer_mark.txt\", \"r\") as file:\n",
    "    lines = file.readlines()\n",
    "    lines = [int(line.rstrip()) for line in lines]"
   ]
  }
 ],
 "metadata": {
  "kernelspec": {
   "display_name": "Python 3 (ipykernel)",
   "language": "python",
   "name": "python3"
  },
  "language_info": {
   "codemirror_mode": {
    "name": "ipython",
    "version": 3
   },
   "file_extension": ".py",
   "mimetype": "text/x-python",
   "name": "python",
   "nbconvert_exporter": "python",
   "pygments_lexer": "ipython3",
   "version": "3.9.7"
  }
 },
 "nbformat": 4,
 "nbformat_minor": 5
}
