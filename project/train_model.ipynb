{
 "cells": [
  {
   "cell_type": "code",
   "execution_count": 11,
   "id": "f1eccaee",
   "metadata": {},
   "outputs": [],
   "source": [
    "import pandas as pd\n",
    "import numpy as np\n",
    "\n",
    "import dask.dataframe as dd\n",
    "from sklearn.ensemble import RandomForestClassifier\n",
    "from sklearn.linear_model import LogisticRegression\n",
    "\n",
    "from sklearn.pipeline import Pipeline, make_pipeline, FeatureUnion\n",
    "from sklearn.preprocessing import StandardScaler, OneHotEncoder\n",
    "from sklearn.base import BaseEstimator, TransformerMixin\n",
    "from sklearn.impute import SimpleImputer\n",
    "\n",
    "from sklearn.metrics import f1_score, classification_report\n",
    "from sklearn.feature_selection import SelectFromModel\n",
    "\n",
    "import pickle"
   ]
  },
  {
   "cell_type": "code",
   "execution_count": 2,
   "id": "fd2599c7",
   "metadata": {},
   "outputs": [],
   "source": [
    "from until import undersample_df_by_target, run_grid_search, treshold_search, preprocess_data_train, preprocess_data_test, select_type_cols\n"
   ]
  },
  {
   "cell_type": "code",
   "execution_count": 3,
   "id": "d0917664",
   "metadata": {},
   "outputs": [],
   "source": [
    "TRAIN_DATA = 'data/data_train.csv'\n",
    "FEATURES_DATA = 'data/features.csv'\n",
    "RANDOM_STATE = 9"
   ]
  },
  {
   "cell_type": "markdown",
   "id": "b57d98b1",
   "metadata": {},
   "source": [
    "### Подготовка данных"
   ]
  },
  {
   "cell_type": "code",
   "execution_count": 4,
   "id": "e1c383b8",
   "metadata": {},
   "outputs": [],
   "source": [
    "train_df = pd.read_csv(TRAIN_DATA)"
   ]
  },
  {
   "cell_type": "code",
   "execution_count": 5,
   "id": "abd16fbf",
   "metadata": {},
   "outputs": [],
   "source": [
    "train_df['buy_time'] = pd.to_datetime(train_df['buy_time'], unit='s')"
   ]
  },
  {
   "cell_type": "code",
   "execution_count": 6,
   "id": "ead60b28",
   "metadata": {},
   "outputs": [],
   "source": [
    "X_train = undersample_df_by_target(train_df, 'target')"
   ]
  },
  {
   "cell_type": "code",
   "execution_count": 7,
   "id": "5988d550",
   "metadata": {},
   "outputs": [],
   "source": [
    "X_train, true_offers_ids = preprocess_data_train(X_train, FEATURES_DATA)"
   ]
  },
  {
   "cell_type": "code",
   "execution_count": 14,
   "id": "5151b564",
   "metadata": {},
   "outputs": [],
   "source": [
    "with open(\"o.txt\", \"w\") as file:\n",
    "    print(*true_offers_ids, file=file, sep=\"\\n\")"
   ]
  },
  {
   "cell_type": "code",
   "execution_count": 8,
   "id": "57a6f300",
   "metadata": {},
   "outputs": [],
   "source": [
    "y_train = X_train['target']"
   ]
  },
  {
   "cell_type": "code",
   "execution_count": 10,
   "id": "86275b49",
   "metadata": {},
   "outputs": [],
   "source": [
    "X_train = X_train.drop('target', axis = 1)"
   ]
  },
  {
   "cell_type": "code",
   "execution_count": null,
   "id": "fd2f9e5f",
   "metadata": {},
   "outputs": [],
   "source": []
  },
  {
   "cell_type": "code",
   "execution_count": 20,
   "id": "3e6e6e78",
   "metadata": {},
   "outputs": [],
   "source": [
    "with open(\"файл.txt\", \"r\") as file:\n",
    "    lines = file.readlines()\n",
    "    lines = [int(line.rstrip()) for line in lines]"
   ]
  }
 ],
 "metadata": {
  "kernelspec": {
   "display_name": "Python 3 (ipykernel)",
   "language": "python",
   "name": "python3"
  },
  "language_info": {
   "codemirror_mode": {
    "name": "ipython",
    "version": 3
   },
   "file_extension": ".py",
   "mimetype": "text/x-python",
   "name": "python",
   "nbconvert_exporter": "python",
   "pygments_lexer": "ipython3",
   "version": "3.9.7"
  }
 },
 "nbformat": 4,
 "nbformat_minor": 5
}
