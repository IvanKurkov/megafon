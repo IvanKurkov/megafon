{
 "cells": [
  {
   "cell_type": "code",
   "execution_count": 21,
   "id": "283f46c6",
   "metadata": {},
   "outputs": [],
   "source": [
    "import pandas as pd\n",
    "import numpy as np\n",
    "\n",
    "import dask.dataframe as dd\n",
    "from sklearn.linear_model import LogisticRegression\n",
    "\n",
    "from sklearn.pipeline import Pipeline, make_pipeline, FeatureUnion\n",
    "from sklearn.preprocessing import StandardScaler, OneHotEncoder\n",
    "from sklearn.base import BaseEstimator, TransformerMixin\n",
    "from sklearn.impute import SimpleImputer\n",
    "\n",
    "from sklearn.metrics import f1_score, classification_report\n",
    "from sklearn.feature_selection import SelectFromModel\n",
    "\n",
    "import pickle\n",
    "\n",
    "from until import ColumnSelector, undersample_df_by_target, run_grid_search, treshold_search, preprocess_data_train, preprocess_data_test, select_type_cols"
   ]
  },
  {
   "cell_type": "code",
   "execution_count": 22,
   "id": "e917604a",
   "metadata": {},
   "outputs": [],
   "source": [
    "FEATURES_DATA = 'data/features.csv'\n",
    "RANDOM_STATE = 9\n",
    "TEST_DATA = 'data/data_test.csv'\n",
    "ANSWERS = 'data/answers_test.csv'"
   ]
  },
  {
   "cell_type": "markdown",
   "id": "ffe00e35",
   "metadata": {},
   "source": [
    "### Предобработка данных"
   ]
  },
  {
   "cell_type": "code",
   "execution_count": 23,
   "id": "31cf4137",
   "metadata": {},
   "outputs": [],
   "source": [
    "test_df = pd.read_csv(TEST_DATA)"
   ]
  },
  {
   "cell_type": "code",
   "execution_count": 24,
   "id": "04c9e783",
   "metadata": {},
   "outputs": [],
   "source": [
    "with open(\"data\\offer_mark.txt\", \"r\") as file:\n",
    "    offer_mark = file.readlines()\n",
    "    offer_mark = [int(line.rstrip()) for line in offer_mark]"
   ]
  },
  {
   "cell_type": "code",
   "execution_count": 25,
   "id": "1f6a283e",
   "metadata": {},
   "outputs": [],
   "source": [
    "X_test = preprocess_data_test(test_df, FEATURES_DATA, offer_mark)"
   ]
  },
  {
   "cell_type": "markdown",
   "id": "ed49deeb",
   "metadata": {},
   "source": [
    "### Загружаем модель и делаем предсказания"
   ]
  },
  {
   "cell_type": "code",
   "execution_count": 26,
   "id": "4f37dec1",
   "metadata": {},
   "outputs": [],
   "source": [
    "with open('data/lg_fs_model.pickle', 'rb') as f:\n",
    "    lg_fs_model =  pickle.load(f)"
   ]
  },
  {
   "cell_type": "code",
   "execution_count": 27,
   "id": "d40afef8",
   "metadata": {},
   "outputs": [],
   "source": [
    "predict = lg_fs_model.predict_proba(X_test)"
   ]
  },
  {
   "cell_type": "code",
   "execution_count": 28,
   "id": "c3425ad9",
   "metadata": {},
   "outputs": [],
   "source": [
    "predict = predict[:,1]"
   ]
  },
  {
   "cell_type": "code",
   "execution_count": 39,
   "id": "481d41f4",
   "metadata": {},
   "outputs": [],
   "source": [
    "answers_test = pd.read_csv(TEST_DATA, index_col=0)"
   ]
  },
  {
   "cell_type": "code",
   "execution_count": 40,
   "id": "96a4ae5d",
   "metadata": {},
   "outputs": [],
   "source": [
    "answers_test['target'] = predict"
   ]
  },
  {
   "cell_type": "code",
   "execution_count": 35,
   "id": "9bd99691",
   "metadata": {},
   "outputs": [],
   "source": [
    "answers_test.to_csv(ANSWERS)"
   ]
  },
  {
   "cell_type": "code",
   "execution_count": 38,
   "id": "cae7982b",
   "metadata": {},
   "outputs": [
    {
     "data": {
      "text/html": [
       "<div>\n",
       "<style scoped>\n",
       "    .dataframe tbody tr th:only-of-type {\n",
       "        vertical-align: middle;\n",
       "    }\n",
       "\n",
       "    .dataframe tbody tr th {\n",
       "        vertical-align: top;\n",
       "    }\n",
       "\n",
       "    .dataframe thead th {\n",
       "        text-align: right;\n",
       "    }\n",
       "</style>\n",
       "<table border=\"1\" class=\"dataframe\">\n",
       "  <thead>\n",
       "    <tr style=\"text-align: right;\">\n",
       "      <th></th>\n",
       "      <th>id</th>\n",
       "      <th>vas_id</th>\n",
       "      <th>buy_time</th>\n",
       "      <th>target</th>\n",
       "    </tr>\n",
       "  </thead>\n",
       "  <tbody>\n",
       "    <tr>\n",
       "      <th>0</th>\n",
       "      <td>3130519</td>\n",
       "      <td>2.0</td>\n",
       "      <td>1548018000</td>\n",
       "      <td>0.115556</td>\n",
       "    </tr>\n",
       "    <tr>\n",
       "      <th>1</th>\n",
       "      <td>2000860</td>\n",
       "      <td>4.0</td>\n",
       "      <td>1548018000</td>\n",
       "      <td>0.799371</td>\n",
       "    </tr>\n",
       "    <tr>\n",
       "      <th>2</th>\n",
       "      <td>1099444</td>\n",
       "      <td>2.0</td>\n",
       "      <td>1546808400</td>\n",
       "      <td>0.115556</td>\n",
       "    </tr>\n",
       "    <tr>\n",
       "      <th>3</th>\n",
       "      <td>1343255</td>\n",
       "      <td>5.0</td>\n",
       "      <td>1547413200</td>\n",
       "      <td>0.093513</td>\n",
       "    </tr>\n",
       "    <tr>\n",
       "      <th>4</th>\n",
       "      <td>1277040</td>\n",
       "      <td>2.0</td>\n",
       "      <td>1546808400</td>\n",
       "      <td>0.115556</td>\n",
       "    </tr>\n",
       "    <tr>\n",
       "      <th>...</th>\n",
       "      <td>...</td>\n",
       "      <td>...</td>\n",
       "      <td>...</td>\n",
       "      <td>...</td>\n",
       "    </tr>\n",
       "    <tr>\n",
       "      <th>71226</th>\n",
       "      <td>2502453</td>\n",
       "      <td>5.0</td>\n",
       "      <td>1548018000</td>\n",
       "      <td>0.093513</td>\n",
       "    </tr>\n",
       "    <tr>\n",
       "      <th>71227</th>\n",
       "      <td>1693213</td>\n",
       "      <td>2.0</td>\n",
       "      <td>1548018000</td>\n",
       "      <td>0.115556</td>\n",
       "    </tr>\n",
       "    <tr>\n",
       "      <th>71228</th>\n",
       "      <td>1891350</td>\n",
       "      <td>2.0</td>\n",
       "      <td>1548018000</td>\n",
       "      <td>0.115556</td>\n",
       "    </tr>\n",
       "    <tr>\n",
       "      <th>71229</th>\n",
       "      <td>2437172</td>\n",
       "      <td>2.0</td>\n",
       "      <td>1548018000</td>\n",
       "      <td>0.115556</td>\n",
       "    </tr>\n",
       "    <tr>\n",
       "      <th>71230</th>\n",
       "      <td>988236</td>\n",
       "      <td>2.0</td>\n",
       "      <td>1548018000</td>\n",
       "      <td>0.115556</td>\n",
       "    </tr>\n",
       "  </tbody>\n",
       "</table>\n",
       "<p>71231 rows × 4 columns</p>\n",
       "</div>"
      ],
      "text/plain": [
       "            id  vas_id    buy_time    target\n",
       "0      3130519     2.0  1548018000  0.115556\n",
       "1      2000860     4.0  1548018000  0.799371\n",
       "2      1099444     2.0  1546808400  0.115556\n",
       "3      1343255     5.0  1547413200  0.093513\n",
       "4      1277040     2.0  1546808400  0.115556\n",
       "...        ...     ...         ...       ...\n",
       "71226  2502453     5.0  1548018000  0.093513\n",
       "71227  1693213     2.0  1548018000  0.115556\n",
       "71228  1891350     2.0  1548018000  0.115556\n",
       "71229  2437172     2.0  1548018000  0.115556\n",
       "71230   988236     2.0  1548018000  0.115556\n",
       "\n",
       "[71231 rows x 4 columns]"
      ]
     },
     "execution_count": 38,
     "metadata": {},
     "output_type": "execute_result"
    }
   ],
   "source": [
    "pd.read_csv(ANSWERS, index_col=0)"
   ]
  },
  {
   "cell_type": "code",
   "execution_count": null,
   "id": "33d02436",
   "metadata": {},
   "outputs": [],
   "source": []
  }
 ],
 "metadata": {
  "kernelspec": {
   "display_name": "Python 3 (ipykernel)",
   "language": "python",
   "name": "python3"
  },
  "language_info": {
   "codemirror_mode": {
    "name": "ipython",
    "version": 3
   },
   "file_extension": ".py",
   "mimetype": "text/x-python",
   "name": "python",
   "nbconvert_exporter": "python",
   "pygments_lexer": "ipython3",
   "version": "3.9.7"
  }
 },
 "nbformat": 4,
 "nbformat_minor": 5
}
